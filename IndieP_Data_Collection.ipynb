{
 "cells": [
  {
   "cell_type": "markdown",
   "metadata": {},
   "source": [
    "# IndieP: Predicting the Success of Indie Games on Steam"
   ]
  },
  {
   "cell_type": "markdown",
   "metadata": {},
   "source": [
    "If you haven't been to a video game convention such as PAX before, let me paint a picture for you... indie mega booth, with 10 games chosen as the PAX 10, the indie games of the year that have been designated the \"best\" of the year by some committee. But what is \"best\"? What factors go into determining which of the thousand games released each year will succeed, which will be remembered for years to come and which will fade away?"
   ]
  },
  {
   "cell_type": "markdown",
   "metadata": {},
   "source": [
    "In this project, I will create a dataset of all of the games in the \"Indie\" genre of the Steam store, and investigate the factors (or features) that lead to a successful indie game."
   ]
  },
  {
   "cell_type": "markdown",
   "metadata": {},
   "source": [
    "## 1. Data Collection"
   ]
  },
  {
   "cell_type": "markdown",
   "metadata": {},
   "source": [
    "The goal is to create a data set that includes details for every indie game available on Steam. I'm interested in gaining insight into what features have the greatest effect on the success of a game, and using this information to predict what new games will be successful.  \n",
    "\n",
    "...API, etc ... steamfront python wrapper\n"
   ]
  },
  {
   "cell_type": "markdown",
   "metadata": {},
   "source": [
    "### 1.1 Gathering Initial Data from Steam Store"
   ]
  },
  {
   "cell_type": "markdown",
   "metadata": {},
   "source": [
    "While the genre tags of each Steam game are accessible through Steamfront, the Steam API only provides a list of *all* available apps and no way to filter through them efficiently. A few alternative user-made APIs offer a wider variety of API features and could be filtered by genre, but as they are user-maintained and not always online, I chose to avoid these alternatives for this initial step and make sure our data comes directly from the main source (though we will use one user-made API, SteamSpy, later to collect data on estimated game sales/popularity since as far as I know there's no other way to get this information). Rather than make an API request for every single app (~70,000 requests) and check if it fits our genre, it will be more efficient to scrape a list of Indie games from Steam's online store: \n",
    "\n",
    "https://store.steampowered.com/search/?sort_by=Name_ASC&tags=492&category1=998\n",
    "\n",
    "Here, I've filtered Steam's full game list to include only apps with the tag \"indie,\" further narrowed the list down to include only games (excluding other software, downloadable content, demos, and soundtracks), and sorted the list alphabetically. There's a total of 27,271 results at the time of writing this.\n",
    "\n",
    "I've learned to love (and hate) [BeautifulSoup](https://pypi.org/project/beautifulsoup4/) for all my prior web scraping projects, but for this project I've chosen to use the simpler and elegant [Scrapy](https://scrapy.org/) which will have a much easier time crawling through the 1,085 pages of results while also providing more flexibility since Steam updates their store frequently (plus, I've never used it and I like trying new things!). The ability to easily control a rate limiter for Scrapy is also a plus, since I want to ensure that the scraper remains well-behaved.\n",
    "\n",
    "For the initial data collection, I scraped the following features for each game, as they are universal, easy to understand, and all accessible without needing to follow additional links (thus increasing the number of requests):\n",
    "* AppID: \n",
    "* Url:\n",
    "* Title:\n",
    "* Release Date:\n",
    "* Price:\n",
    "\n",
    "When I initially gathered this data, I only collected the Title, Release Date, and Price - but quickly discovered that there's no guarantee that these three features would be unique and there could easily be multiple games with the same title. The AppID, however, is a unique identifier and will be used to distinguish between data points throughout."
   ]
  },
  {
   "cell_type": "code",
   "execution_count": 166,
   "metadata": {},
   "outputs": [],
   "source": [
    "import csv\n",
    "import json\n",
    "import time \n",
    "import os\n",
    "\n",
    "import pandas as pd\n",
    "import requests\n",
    "import numpy as np\n",
    "\n",
    "pd.set_option(\"max_columns\", 100)"
   ]
  },
  {
   "cell_type": "markdown",
   "metadata": {},
   "source": [
    "To start, let's load in the basic data we gathered into a Pandas dataframe - for now, all we really need here is the AppIDs, but we'll load in everything to begin. We'll use the rest of the columns later when we're cleaning up the full dataset, in the case of apps that had unsuccessful API calls."
   ]
  },
  {
   "cell_type": "code",
   "execution_count": 107,
   "metadata": {},
   "outputs": [],
   "source": [
    "def get_scrape_data(f):\n",
    "    ''' Load in json data that we previously collected to extract a list of appIDs for all Indie games '''\n",
    "    \n",
    "    data = pd.read_json(f)\n",
    "    return data"
   ]
  },
  {
   "cell_type": "code",
   "execution_count": 121,
   "metadata": {},
   "outputs": [],
   "source": [
    "scrapy_data = get_scrape_data('./steam-scrapy/steam_scrape/output/indie_all_final.json')"
   ]
  },
  {
   "cell_type": "code",
   "execution_count": 122,
   "metadata": {},
   "outputs": [
    {
     "data": {
      "text/html": [
       "<div>\n",
       "<style scoped>\n",
       "    .dataframe tbody tr th:only-of-type {\n",
       "        vertical-align: middle;\n",
       "    }\n",
       "\n",
       "    .dataframe tbody tr th {\n",
       "        vertical-align: top;\n",
       "    }\n",
       "\n",
       "    .dataframe thead th {\n",
       "        text-align: right;\n",
       "    }\n",
       "</style>\n",
       "<table border=\"1\" class=\"dataframe\">\n",
       "  <thead>\n",
       "    <tr style=\"text-align: right;\">\n",
       "      <th></th>\n",
       "      <th>appid</th>\n",
       "      <th>price</th>\n",
       "      <th>release_date</th>\n",
       "      <th>title</th>\n",
       "      <th>url</th>\n",
       "    </tr>\n",
       "  </thead>\n",
       "  <tbody>\n",
       "    <tr>\n",
       "      <th>0</th>\n",
       "      <td>1034230</td>\n",
       "      <td></td>\n",
       "      <td>Mar 17, 2019</td>\n",
       "      <td>***</td>\n",
       "      <td>https://store.steampowered.com/app/1034230/_/?...</td>\n",
       "    </tr>\n",
       "    <tr>\n",
       "      <th>1</th>\n",
       "      <td>603750</td>\n",
       "      <td>$2.99</td>\n",
       "      <td>Mar 10, 2017</td>\n",
       "      <td>- Arcane Raise -</td>\n",
       "      <td>https://store.steampowered.com/app/603750/_Arc...</td>\n",
       "    </tr>\n",
       "    <tr>\n",
       "      <th>2</th>\n",
       "      <td>729370</td>\n",
       "      <td>$14.99</td>\n",
       "      <td>Jan 23, 2019</td>\n",
       "      <td>-KLAUS-</td>\n",
       "      <td>https://store.steampowered.com/app/729370/KLAU...</td>\n",
       "    </tr>\n",
       "    <tr>\n",
       "      <th>3</th>\n",
       "      <td>638510</td>\n",
       "      <td></td>\n",
       "      <td>2019</td>\n",
       "      <td>.Age</td>\n",
       "      <td>https://store.steampowered.com/app/638510/Age/...</td>\n",
       "    </tr>\n",
       "    <tr>\n",
       "      <th>4</th>\n",
       "      <td>1091520</td>\n",
       "      <td>$0.99</td>\n",
       "      <td>Sep 9, 2019</td>\n",
       "      <td>鸿门一宴(Malicious Dinner)</td>\n",
       "      <td>https://store.steampowered.com/app/1091520/Mal...</td>\n",
       "    </tr>\n",
       "  </tbody>\n",
       "</table>\n",
       "</div>"
      ],
      "text/plain": [
       "     appid   price  release_date                   title  \\\n",
       "0  1034230          Mar 17, 2019                     ***   \n",
       "1   603750   $2.99  Mar 10, 2017        - Arcane Raise -   \n",
       "2   729370  $14.99  Jan 23, 2019                 -KLAUS-   \n",
       "3   638510                  2019                    .Age   \n",
       "4  1091520   $0.99   Sep 9, 2019  鸿门一宴(Malicious Dinner)   \n",
       "\n",
       "                                                 url  \n",
       "0  https://store.steampowered.com/app/1034230/_/?...  \n",
       "1  https://store.steampowered.com/app/603750/_Arc...  \n",
       "2  https://store.steampowered.com/app/729370/KLAU...  \n",
       "3  https://store.steampowered.com/app/638510/Age/...  \n",
       "4  https://store.steampowered.com/app/1091520/Mal...  "
      ]
     },
     "execution_count": 122,
     "metadata": {},
     "output_type": "execute_result"
    }
   ],
   "source": [
    "scrapy_data.head()"
   ]
  },
  {
   "cell_type": "markdown",
   "metadata": {},
   "source": [
    "Right off the bat, we can see that some of the titles are questionable, so we'll need to later dig in to the data to ensure that everything we include in our dataset would be considered a game (no demos/soundtracks/videos/etc - we filtered these out initially but you never know what crept through). We can also see that not all of the release dates have the full day, month, and year, and that not all games have prices (of course some are free to play). We'll keep everything as is until we have all of the data collected, and then later work on cleaning it up into a nice dataset."
   ]
  },
  {
   "cell_type": "code",
   "execution_count": 110,
   "metadata": {},
   "outputs": [],
   "source": [
    "applist=data['appid']"
   ]
  },
  {
   "cell_type": "code",
   "execution_count": 111,
   "metadata": {},
   "outputs": [
    {
     "data": {
      "text/plain": [
       "0    1034230\n",
       "1     603750\n",
       "2     729370\n",
       "3     638510\n",
       "4    1091520\n",
       "Name: appid, dtype: object"
      ]
     },
     "execution_count": 111,
     "metadata": {},
     "output_type": "execute_result"
    }
   ],
   "source": [
    "applist.head()"
   ]
  },
  {
   "cell_type": "code",
   "execution_count": 112,
   "metadata": {},
   "outputs": [
    {
     "data": {
      "text/plain": [
       "count       22758\n",
       "unique      22753\n",
       "top       1155470\n",
       "freq            2\n",
       "Name: appid, dtype: object"
      ]
     },
     "execution_count": 112,
     "metadata": {},
     "output_type": "execute_result"
    }
   ],
   "source": [
    "applist.describe()"
   ]
  },
  {
   "cell_type": "markdown",
   "metadata": {},
   "source": [
    "For some reason, it looks likes there are a few duplicates in the applist, which is suprising because the AppID should be a unique identifier. Let's look under the hood to see if we can figure out why:"
   ]
  },
  {
   "cell_type": "code",
   "execution_count": 113,
   "metadata": {},
   "outputs": [
    {
     "data": {
      "text/html": [
       "<div>\n",
       "<style scoped>\n",
       "    .dataframe tbody tr th:only-of-type {\n",
       "        vertical-align: middle;\n",
       "    }\n",
       "\n",
       "    .dataframe tbody tr th {\n",
       "        vertical-align: top;\n",
       "    }\n",
       "\n",
       "    .dataframe thead th {\n",
       "        text-align: right;\n",
       "    }\n",
       "</style>\n",
       "<table border=\"1\" class=\"dataframe\">\n",
       "  <thead>\n",
       "    <tr style=\"text-align: right;\">\n",
       "      <th></th>\n",
       "      <th>appid</th>\n",
       "      <th>price</th>\n",
       "      <th>release_date</th>\n",
       "      <th>title</th>\n",
       "      <th>url</th>\n",
       "    </tr>\n",
       "  </thead>\n",
       "  <tbody>\n",
       "    <tr>\n",
       "      <th>4612</th>\n",
       "      <td>230820</td>\n",
       "      <td>$24.99</td>\n",
       "      <td>May 28, 2013</td>\n",
       "      <td>The Night of the Rabbit Premium Edition</td>\n",
       "      <td>https://store.steampowered.com/sub/28005/?snr=...</td>\n",
       "    </tr>\n",
       "    <tr>\n",
       "      <th>12707</th>\n",
       "      <td>430280</td>\n",
       "      <td>$4.99</td>\n",
       "      <td>Dec 21, 2015</td>\n",
       "      <td>Nature Defenders</td>\n",
       "      <td>https://store.steampowered.com/app/430280/Natu...</td>\n",
       "    </tr>\n",
       "    <tr>\n",
       "      <th>12782</th>\n",
       "      <td>1155470</td>\n",
       "      <td>Free</td>\n",
       "      <td>Oct 7, 2019</td>\n",
       "      <td>Mythic Ocean: Prologue</td>\n",
       "      <td>https://store.steampowered.com/app/1155470/Myt...</td>\n",
       "    </tr>\n",
       "    <tr>\n",
       "      <th>12833</th>\n",
       "      <td>434260</td>\n",
       "      <td>$0.99</td>\n",
       "      <td>Feb 15, 2016</td>\n",
       "      <td>My Name is Mayo</td>\n",
       "      <td>https://store.steampowered.com/app/434260/My_N...</td>\n",
       "    </tr>\n",
       "    <tr>\n",
       "      <th>15982</th>\n",
       "      <td>557260</td>\n",
       "      <td>Free to Play</td>\n",
       "      <td>Jan 16, 2017</td>\n",
       "      <td>iREC</td>\n",
       "      <td>https://store.steampowered.com/app/557260/iREC...</td>\n",
       "    </tr>\n",
       "  </tbody>\n",
       "</table>\n",
       "</div>"
      ],
      "text/plain": [
       "         appid         price  release_date  \\\n",
       "4612    230820        $24.99  May 28, 2013   \n",
       "12707   430280         $4.99  Dec 21, 2015   \n",
       "12782  1155470          Free   Oct 7, 2019   \n",
       "12833   434260         $0.99  Feb 15, 2016   \n",
       "15982   557260  Free to Play  Jan 16, 2017   \n",
       "\n",
       "                                         title  \\\n",
       "4612   The Night of the Rabbit Premium Edition   \n",
       "12707                         Nature Defenders   \n",
       "12782                   Mythic Ocean: Prologue   \n",
       "12833                          My Name is Mayo   \n",
       "15982                                     iREC   \n",
       "\n",
       "                                                     url  \n",
       "4612   https://store.steampowered.com/sub/28005/?snr=...  \n",
       "12707  https://store.steampowered.com/app/430280/Natu...  \n",
       "12782  https://store.steampowered.com/app/1155470/Myt...  \n",
       "12833  https://store.steampowered.com/app/434260/My_N...  \n",
       "15982  https://store.steampowered.com/app/557260/iREC...  "
      ]
     },
     "execution_count": 113,
     "metadata": {},
     "output_type": "execute_result"
    }
   ],
   "source": [
    "data[data.duplicated(subset='appid')]"
   ]
  },
  {
   "cell_type": "markdown",
   "metadata": {},
   "source": [
    "We can see that, for some reason, these 5 AppIDs have been included more than once. Before just deleting the duplicates, we want to make sure that the full rows are duplicated, not just the AppID:"
   ]
  },
  {
   "cell_type": "code",
   "execution_count": 114,
   "metadata": {},
   "outputs": [
    {
     "data": {
      "text/html": [
       "<div>\n",
       "<style scoped>\n",
       "    .dataframe tbody tr th:only-of-type {\n",
       "        vertical-align: middle;\n",
       "    }\n",
       "\n",
       "    .dataframe tbody tr th {\n",
       "        vertical-align: top;\n",
       "    }\n",
       "\n",
       "    .dataframe thead th {\n",
       "        text-align: right;\n",
       "    }\n",
       "</style>\n",
       "<table border=\"1\" class=\"dataframe\">\n",
       "  <thead>\n",
       "    <tr style=\"text-align: right;\">\n",
       "      <th></th>\n",
       "      <th>appid</th>\n",
       "      <th>price</th>\n",
       "      <th>release_date</th>\n",
       "      <th>title</th>\n",
       "      <th>url</th>\n",
       "    </tr>\n",
       "  </thead>\n",
       "  <tbody>\n",
       "    <tr>\n",
       "      <th>4611</th>\n",
       "      <td>230820</td>\n",
       "      <td></td>\n",
       "      <td>May 28, 2013</td>\n",
       "      <td>The Night of the Rabbit</td>\n",
       "      <td>https://store.steampowered.com/app/230820/The_...</td>\n",
       "    </tr>\n",
       "    <tr>\n",
       "      <th>4612</th>\n",
       "      <td>230820</td>\n",
       "      <td>$24.99</td>\n",
       "      <td>May 28, 2013</td>\n",
       "      <td>The Night of the Rabbit Premium Edition</td>\n",
       "      <td>https://store.steampowered.com/sub/28005/?snr=...</td>\n",
       "    </tr>\n",
       "  </tbody>\n",
       "</table>\n",
       "</div>"
      ],
      "text/plain": [
       "       appid   price  release_date                                    title  \\\n",
       "4611  230820          May 28, 2013                  The Night of the Rabbit   \n",
       "4612  230820  $24.99  May 28, 2013  The Night of the Rabbit Premium Edition   \n",
       "\n",
       "                                                    url  \n",
       "4611  https://store.steampowered.com/app/230820/The_...  \n",
       "4612  https://store.steampowered.com/sub/28005/?snr=...  "
      ]
     },
     "execution_count": 114,
     "metadata": {},
     "output_type": "execute_result"
    }
   ],
   "source": [
    "data.loc[data['appid'] == '230820']"
   ]
  },
  {
   "cell_type": "code",
   "execution_count": 115,
   "metadata": {},
   "outputs": [
    {
     "data": {
      "text/html": [
       "<div>\n",
       "<style scoped>\n",
       "    .dataframe tbody tr th:only-of-type {\n",
       "        vertical-align: middle;\n",
       "    }\n",
       "\n",
       "    .dataframe tbody tr th {\n",
       "        vertical-align: top;\n",
       "    }\n",
       "\n",
       "    .dataframe thead th {\n",
       "        text-align: right;\n",
       "    }\n",
       "</style>\n",
       "<table border=\"1\" class=\"dataframe\">\n",
       "  <thead>\n",
       "    <tr style=\"text-align: right;\">\n",
       "      <th></th>\n",
       "      <th>appid</th>\n",
       "      <th>price</th>\n",
       "      <th>release_date</th>\n",
       "      <th>title</th>\n",
       "      <th>url</th>\n",
       "    </tr>\n",
       "  </thead>\n",
       "  <tbody>\n",
       "    <tr>\n",
       "      <th>12658</th>\n",
       "      <td>430280</td>\n",
       "      <td>$4.99</td>\n",
       "      <td>Dec 21, 2015</td>\n",
       "      <td>Nature Defenders</td>\n",
       "      <td>https://store.steampowered.com/app/430280/Natu...</td>\n",
       "    </tr>\n",
       "    <tr>\n",
       "      <th>12707</th>\n",
       "      <td>430280</td>\n",
       "      <td>$4.99</td>\n",
       "      <td>Dec 21, 2015</td>\n",
       "      <td>Nature Defenders</td>\n",
       "      <td>https://store.steampowered.com/app/430280/Natu...</td>\n",
       "    </tr>\n",
       "  </tbody>\n",
       "</table>\n",
       "</div>"
      ],
      "text/plain": [
       "        appid  price  release_date             title  \\\n",
       "12658  430280  $4.99  Dec 21, 2015  Nature Defenders   \n",
       "12707  430280  $4.99  Dec 21, 2015  Nature Defenders   \n",
       "\n",
       "                                                     url  \n",
       "12658  https://store.steampowered.com/app/430280/Natu...  \n",
       "12707  https://store.steampowered.com/app/430280/Natu...  "
      ]
     },
     "execution_count": 115,
     "metadata": {},
     "output_type": "execute_result"
    }
   ],
   "source": [
    "data.loc[data['appid'] == '430280']"
   ]
  },
  {
   "cell_type": "code",
   "execution_count": 116,
   "metadata": {},
   "outputs": [
    {
     "data": {
      "text/html": [
       "<div>\n",
       "<style scoped>\n",
       "    .dataframe tbody tr th:only-of-type {\n",
       "        vertical-align: middle;\n",
       "    }\n",
       "\n",
       "    .dataframe tbody tr th {\n",
       "        vertical-align: top;\n",
       "    }\n",
       "\n",
       "    .dataframe thead th {\n",
       "        text-align: right;\n",
       "    }\n",
       "</style>\n",
       "<table border=\"1\" class=\"dataframe\">\n",
       "  <thead>\n",
       "    <tr style=\"text-align: right;\">\n",
       "      <th></th>\n",
       "      <th>appid</th>\n",
       "      <th>price</th>\n",
       "      <th>release_date</th>\n",
       "      <th>title</th>\n",
       "      <th>url</th>\n",
       "    </tr>\n",
       "  </thead>\n",
       "  <tbody>\n",
       "    <tr>\n",
       "      <th>12727</th>\n",
       "      <td>1155470</td>\n",
       "      <td>Free</td>\n",
       "      <td>Oct 7, 2019</td>\n",
       "      <td>Mythic Ocean: Prologue</td>\n",
       "      <td>https://store.steampowered.com/app/1155470/Myt...</td>\n",
       "    </tr>\n",
       "    <tr>\n",
       "      <th>12782</th>\n",
       "      <td>1155470</td>\n",
       "      <td>Free</td>\n",
       "      <td>Oct 7, 2019</td>\n",
       "      <td>Mythic Ocean: Prologue</td>\n",
       "      <td>https://store.steampowered.com/app/1155470/Myt...</td>\n",
       "    </tr>\n",
       "  </tbody>\n",
       "</table>\n",
       "</div>"
      ],
      "text/plain": [
       "         appid price release_date                   title  \\\n",
       "12727  1155470  Free  Oct 7, 2019  Mythic Ocean: Prologue   \n",
       "12782  1155470  Free  Oct 7, 2019  Mythic Ocean: Prologue   \n",
       "\n",
       "                                                     url  \n",
       "12727  https://store.steampowered.com/app/1155470/Myt...  \n",
       "12782  https://store.steampowered.com/app/1155470/Myt...  "
      ]
     },
     "execution_count": 116,
     "metadata": {},
     "output_type": "execute_result"
    }
   ],
   "source": [
    "data.loc[data['appid'] == '1155470']"
   ]
  },
  {
   "cell_type": "markdown",
   "metadata": {},
   "source": [
    "So, it looks like in the first case, both the original and premium versions of the game are given the same AppID - this could be something important to keep in mind for later, but since we'll be making API calls based on a specific AppID, it doesn't make sense to keep the duplicates in our list since you can't have two different request responses from the same API call for an AppID - presumably, info on both versions (or at least that multiple versions exist) will be encoded into the same request, but we'll want to check this later. Regardless, the remaining four duplicates seem to just have printed twice, so we can go ahead and delete them."
   ]
  },
  {
   "cell_type": "code",
   "execution_count": 222,
   "metadata": {},
   "outputs": [],
   "source": [
    "data = data.drop_duplicates(subset='appid')"
   ]
  },
  {
   "cell_type": "markdown",
   "metadata": {},
   "source": [
    "Before we finish and write our applist to file, there's one other caveat from the scraped data: it turns out (after a handful of confusing error messages from the Steam API later on...) that in the cases where the game includes some DLC packages, soundtracks or other media, the AppID that was scraped from the store was actually a string of concatenated AppIDs for the main game as well as the other media. For example, you can see the first 5 instances of this below, but there's actually quite a few of these! In all cases, the first AppID listed is the game, and those following it are additional media. Since we only want the games and aren't interested in the DLC or soundtracks (in fact, we'll later collect just a \"yes or no\" answer as to whether the game has DLC, etc), we want to keep only part of these strings up until the first comma (we'll likely use this technique again later in the project for creating new features out of existing ones). Then, we'll want to check for duplicates again."
   ]
  },
  {
   "cell_type": "code",
   "execution_count": 241,
   "metadata": {},
   "outputs": [
    {
     "name": "stdout",
     "output_type": "stream",
     "text": [
      "258090,262141,262142,262230,262300\n",
      "220820,220822\n",
      "92300,92302,92303\n",
      "15500,15520\n",
      "273700,259830\n"
     ]
    }
   ],
   "source": [
    "stop = 5\n",
    "c = 0\n",
    "for index, row in data.iterrows():\n",
    "    if ',' in row['appid'] and c<stop:\n",
    "        print(row['appid'])\n",
    "        c+=1\n",
    "    "
   ]
  },
  {
   "cell_type": "code",
   "execution_count": 256,
   "metadata": {},
   "outputs": [],
   "source": [
    "data['appid']=data['appid'].str.split(',', n=1, expand=True)"
   ]
  },
  {
   "cell_type": "code",
   "execution_count": 270,
   "metadata": {},
   "outputs": [],
   "source": [
    "applist=data['appid']"
   ]
  },
  {
   "cell_type": "code",
   "execution_count": 271,
   "metadata": {},
   "outputs": [
    {
     "data": {
      "text/plain": [
       "count      22754\n",
       "unique     22695\n",
       "top       209190\n",
       "freq           4\n",
       "Name: appid, dtype: object"
      ]
     },
     "execution_count": 271,
     "metadata": {},
     "output_type": "execute_result"
    }
   ],
   "source": [
    "applist.describe()"
   ]
  },
  {
   "cell_type": "code",
   "execution_count": 276,
   "metadata": {},
   "outputs": [],
   "source": [
    "applist = applist.drop_duplicates()"
   ]
  },
  {
   "cell_type": "code",
   "execution_count": 277,
   "metadata": {},
   "outputs": [
    {
     "data": {
      "text/plain": [
       "count      22695\n",
       "unique     22695\n",
       "top       601320\n",
       "freq           1\n",
       "Name: appid, dtype: object"
      ]
     },
     "execution_count": 277,
     "metadata": {},
     "output_type": "execute_result"
    }
   ],
   "source": [
    "applist.describe()"
   ]
  },
  {
   "cell_type": "markdown",
   "metadata": {},
   "source": [
    "Now, we have a dataset of AppIDs with no duplicates and no concatenated strings that will throw errors upon API requrests. We'll now write the data to file for safe keeping, take this list of apps to the Steam Store API, and start filling in our dataset."
   ]
  },
  {
   "cell_type": "code",
   "execution_count": 279,
   "metadata": {},
   "outputs": [],
   "source": [
    "applist.to_csv('applist.csv')"
   ]
  },
  {
   "cell_type": "markdown",
   "metadata": {},
   "source": [
    "## 1.2 Using Steam Store API to Get Game Data"
   ]
  },
  {
   "cell_type": "markdown",
   "metadata": {},
   "source": [
    "Now that we have a list of AppIDs for all of the Indie games on Steam, we can use the Steam API to obtain as much information as we can about each app. We start with some functions to make and parse through API requests, and take a look at the Steam API data that's returned for one appID before iterating through our whole list."
   ]
  },
  {
   "cell_type": "code",
   "execution_count": 123,
   "metadata": {},
   "outputs": [],
   "source": [
    "def get_api_request(url, parameters=None):\n",
    "\n",
    "    try:\n",
    "        response = requests.get(url=url, params=parameters)\n",
    "    except SSLError as err:\n",
    "        print('SSL Error:', err)\n",
    "        \n",
    "        for i in range(5, 0, -1):\n",
    "            print('Waiting... ({})'.format(i))\n",
    "            time.sleep(1)\n",
    "        print('Retrying...')\n",
    "        \n",
    "        # recusively try again if errored\n",
    "        return get_api_request(url, parameters)\n",
    "    \n",
    "    if response:\n",
    "        return response.json()\n",
    "    else:\n",
    "        # If there's no response it usually means too many requests in a given time \n",
    "        print('No response, waiting 10 seconds...')\n",
    "        time.sleep(10)\n",
    "        print('Retrying...')\n",
    "        return get_api_request(url, parameters)"
   ]
  },
  {
   "cell_type": "code",
   "execution_count": 124,
   "metadata": {},
   "outputs": [],
   "source": [
    "def parse_steam_request(appid):\n",
    "    '''Makes a request to the Steam Store API and returns all data for a given AppID.\n",
    "    \n",
    "    Returns : data in json format\n",
    "    '''\n",
    "    \n",
    "    url = \"http://store.steampowered.com/api/appdetails/\"\n",
    "    param = {\"appids\": appid}\n",
    "    \n",
    "    data = get_api_request(url, parameters=param)\n",
    "    \n",
    "    json_app_data = data[str(appid)]\n",
    "    \n",
    "    if json_app_data['success']:\n",
    "        data = json_app_data['data']\n",
    "    else:\n",
    "        data = {'steam_appid': appid}\n",
    "        \n",
    "    return data"
   ]
  },
  {
   "cell_type": "markdown",
   "metadata": {},
   "source": [
    "Pick an arbitrary appID to make sure the API call to Steam works, and see what kind of data we're getting."
   ]
  },
  {
   "cell_type": "code",
   "execution_count": 125,
   "metadata": {},
   "outputs": [],
   "source": [
    "test_data=parse_steam_request(1091520)"
   ]
  },
  {
   "cell_type": "code",
   "execution_count": 126,
   "metadata": {},
   "outputs": [
    {
     "data": {
      "text/plain": [
       "dict_keys(['type', 'name', 'steam_appid', 'required_age', 'is_free', 'detailed_description', 'about_the_game', 'short_description', 'supported_languages', 'header_image', 'website', 'pc_requirements', 'mac_requirements', 'linux_requirements', 'developers', 'publishers', 'price_overview', 'packages', 'package_groups', 'platforms', 'categories', 'genres', 'screenshots', 'movies', 'achievements', 'release_date', 'support_info', 'background', 'content_descriptors'])"
      ]
     },
     "execution_count": 126,
     "metadata": {},
     "output_type": "execute_result"
    }
   ],
   "source": [
    "test_data.keys()"
   ]
  },
  {
   "cell_type": "markdown",
   "metadata": {},
   "source": [
    "And we can take a peak at the full data for one game (trying not to think too much about this particular game I picked with questionable content but no age restrictions...I guess this is an indication of the full scope of Indie games we're going to find...)"
   ]
  },
  {
   "cell_type": "code",
   "execution_count": 127,
   "metadata": {},
   "outputs": [
    {
     "data": {
      "text/plain": [
       "{'type': 'game',\n",
       " 'name': '鸿门一宴(Malicious Dinner)',\n",
       " 'steam_appid': 1091520,\n",
       " 'required_age': 0,\n",
       " 'is_free': False,\n",
       " 'detailed_description': 'Malicious Dinner is an AVG indie game I made <strong>(not a Gal or sexual game)</strong> after work. It\\'s aslo my 1st diy game. Ur choices will drive the entire plot. Pls do it wisely. Different choices will have influence on ur quality, popularity, game difficulty and results. <br><img src=\"https://steamcdn-a.akamaihd.net/steam/apps/1091520/extras/games.jpg?t=1572422069\" ><br>Including 1 bonus egg, 4 casual games, 5 careers, 6 results and 100+ hidden items. This is only 1st chapter of the story. Will optimize, update and add 4 more chapters of DLC later.<h2 class=\"bb_tag\"><strong>【Chapter 1】</strong></h2><img src=\"https://steamcdn-a.akamaihd.net/steam/apps/1091520/extras/故事-动画_1-000.png?t=1572422069\" ><br>Now U play a school girl who is invited to a volunteer-reward active, only to find it\\'s actually a mailcious dinner. How to survive from it?<br>When u r toasted, drink or reject?<br>When u r framed, stay or hide?<br>When u r harassed, hesitate or refuse?<br>When u r abused, keep quiet or resist?<h2 class=\"bb_tag\"><strong>【Addition】</strong></h2><img src=\"https://steamcdn-a.akamaihd.net/steam/apps/1091520/extras/中en.png?t=1572422069\" ><br>★click the top left button of start menu can switch Chinese/English language.<br><a href=\"https://store.steampowered.com/app/1099400/_Evkworld/\" target=\"_blank\" rel=\"noreferrer\"  id=\"dynamiclink_0\" >https://store.steampowered.com/app/1099400/_Evkworld/</a><br>★It\\'s a game made by Evkworld game engine ↑↑↑<br>★E-mail <a href=\"mailto:me（youdian14@yeah.net）\">me（youdian14@yeah.net）</a> or leave a comment if u have any idea. Please do NOT do advertising / result spoiling / flaming or abusing in review. THX!',\n",
       " 'about_the_game': 'Malicious Dinner is an AVG indie game I made <strong>(not a Gal or sexual game)</strong> after work. It\\'s aslo my 1st diy game. Ur choices will drive the entire plot. Pls do it wisely. Different choices will have influence on ur quality, popularity, game difficulty and results. <br><img src=\"https://steamcdn-a.akamaihd.net/steam/apps/1091520/extras/games.jpg?t=1572422069\" ><br>Including 1 bonus egg, 4 casual games, 5 careers, 6 results and 100+ hidden items. This is only 1st chapter of the story. Will optimize, update and add 4 more chapters of DLC later.<h2 class=\"bb_tag\"><strong>【Chapter 1】</strong></h2><img src=\"https://steamcdn-a.akamaihd.net/steam/apps/1091520/extras/故事-动画_1-000.png?t=1572422069\" ><br>Now U play a school girl who is invited to a volunteer-reward active, only to find it\\'s actually a mailcious dinner. How to survive from it?<br>When u r toasted, drink or reject?<br>When u r framed, stay or hide?<br>When u r harassed, hesitate or refuse?<br>When u r abused, keep quiet or resist?<h2 class=\"bb_tag\"><strong>【Addition】</strong></h2><img src=\"https://steamcdn-a.akamaihd.net/steam/apps/1091520/extras/中en.png?t=1572422069\" ><br>★click the top left button of start menu can switch Chinese/English language.<br><a href=\"https://store.steampowered.com/app/1099400/_Evkworld/\" target=\"_blank\" rel=\"noreferrer\"  id=\"dynamiclink_1\" >https://store.steampowered.com/app/1099400/_Evkworld/</a><br>★It\\'s a game made by Evkworld game engine ↑↑↑<br>★E-mail <a href=\"mailto:me（youdian14@yeah.net）\">me（youdian14@yeah.net）</a> or leave a comment if u have any idea. Please do NOT do advertising / result spoiling / flaming or abusing in review. THX!',\n",
       " 'short_description': \"A girl student was invited to a volunteer-reward activem, only to find it's actually a mailcious dinner. How to survive from a it?\",\n",
       " 'supported_languages': 'English<strong>*</strong>, Simplified Chinese<strong>*</strong><br><strong>*</strong>languages with full audio support',\n",
       " 'header_image': 'https://steamcdn-a.akamaihd.net/steam/apps/1091520/header.jpg?t=1572422069',\n",
       " 'website': None,\n",
       " 'pc_requirements': {'minimum': '<strong>Minimum:</strong><br><ul class=\"bb_ul\"><li>Requires a 64-bit processor and operating system<br></li><li><strong>OS:</strong> Windows 7<br></li><li><strong>Processor:</strong> Intel Core2 Duo 2.4GHz or equivalent<br></li><li><strong>Memory:</strong> 512 MB RAM<br></li><li><strong>Graphics:</strong> Intel HD Graphics 5000 or better<br></li><li><strong>Storage:</strong> 256 MB available space</li></ul>',\n",
       "  'recommended': '<strong>Recommended:</strong><br><ul class=\"bb_ul\"><li>Requires a 64-bit processor and operating system<br></li><li><strong>OS:</strong> Windows 10<br></li><li><strong>Processor:</strong> Intel Core2 Duo 2.4GHz or equivalent<br></li><li><strong>Memory:</strong> 1 GB RAM<br></li><li><strong>Graphics:</strong> Intel HD Graphics 5000 or better<br></li><li><strong>Storage:</strong> 512 MB available space</li></ul>'},\n",
       " 'mac_requirements': {'minimum': '<strong>Minimum:</strong><br><ul class=\"bb_ul\"><li>Requires a 64-bit processor and operating system</li></ul>',\n",
       "  'recommended': '<strong>Recommended:</strong><br><ul class=\"bb_ul\"><li>Requires a 64-bit processor and operating system</li></ul>'},\n",
       " 'linux_requirements': {'minimum': '<strong>Minimum:</strong><br><ul class=\"bb_ul\"><li>Requires a 64-bit processor and operating system</li></ul>',\n",
       "  'recommended': '<strong>Recommended:</strong><br><ul class=\"bb_ul\"><li>Requires a 64-bit processor and operating system</li></ul>'},\n",
       " 'developers': ['有点意思'],\n",
       " 'publishers': ['有点意思'],\n",
       " 'price_overview': {'currency': 'USD',\n",
       "  'initial': 99,\n",
       "  'final': 99,\n",
       "  'discount_percent': 0,\n",
       "  'initial_formatted': '',\n",
       "  'final_formatted': '$0.99'},\n",
       " 'packages': [367659],\n",
       " 'package_groups': [{'name': 'default',\n",
       "   'title': 'Buy 鸿门一宴(Malicious Dinner)',\n",
       "   'description': '',\n",
       "   'selection_text': 'Select a purchase option',\n",
       "   'save_text': '',\n",
       "   'display_type': 0,\n",
       "   'is_recurring_subscription': 'false',\n",
       "   'subs': [{'packageid': 367659,\n",
       "     'percent_savings_text': '',\n",
       "     'percent_savings': 0,\n",
       "     'option_text': '鸿门一宴(Malicious Dinner)-1st - $0.99',\n",
       "     'option_description': '',\n",
       "     'can_get_free_license': '0',\n",
       "     'is_free_license': False,\n",
       "     'price_in_cents_with_discount': 99}]}],\n",
       " 'platforms': {'windows': True, 'mac': False, 'linux': False},\n",
       " 'categories': [{'id': 2, 'description': 'Single-player'}],\n",
       " 'genres': [{'id': '4', 'description': 'Casual'},\n",
       "  {'id': '23', 'description': 'Indie'},\n",
       "  {'id': '3', 'description': 'RPG'},\n",
       "  {'id': '2', 'description': 'Strategy'}],\n",
       " 'screenshots': [{'id': 0,\n",
       "   'path_thumbnail': 'https://steamcdn-a.akamaihd.net/steam/apps/1091520/ss_b5c4181cdffe2eb643164005e50f16b500b2c0aa.600x338.jpg?t=1572422069',\n",
       "   'path_full': 'https://steamcdn-a.akamaihd.net/steam/apps/1091520/ss_b5c4181cdffe2eb643164005e50f16b500b2c0aa.1920x1080.jpg?t=1572422069'},\n",
       "  {'id': 1,\n",
       "   'path_thumbnail': 'https://steamcdn-a.akamaihd.net/steam/apps/1091520/ss_71e9bf8f8ffc80c449e27757b46969f337e8abad.600x338.jpg?t=1572422069',\n",
       "   'path_full': 'https://steamcdn-a.akamaihd.net/steam/apps/1091520/ss_71e9bf8f8ffc80c449e27757b46969f337e8abad.1920x1080.jpg?t=1572422069'},\n",
       "  {'id': 2,\n",
       "   'path_thumbnail': 'https://steamcdn-a.akamaihd.net/steam/apps/1091520/ss_0295f5a6d5e2bfea704e611dba28e4184d5cd91d.600x338.jpg?t=1572422069',\n",
       "   'path_full': 'https://steamcdn-a.akamaihd.net/steam/apps/1091520/ss_0295f5a6d5e2bfea704e611dba28e4184d5cd91d.1920x1080.jpg?t=1572422069'},\n",
       "  {'id': 3,\n",
       "   'path_thumbnail': 'https://steamcdn-a.akamaihd.net/steam/apps/1091520/ss_8fbd7000a2181949cc905911ab730b1835ae9f7d.600x338.jpg?t=1572422069',\n",
       "   'path_full': 'https://steamcdn-a.akamaihd.net/steam/apps/1091520/ss_8fbd7000a2181949cc905911ab730b1835ae9f7d.1920x1080.jpg?t=1572422069'},\n",
       "  {'id': 4,\n",
       "   'path_thumbnail': 'https://steamcdn-a.akamaihd.net/steam/apps/1091520/ss_b0afb73513a1d886fdf7d2dfe3e78624a59af940.600x338.jpg?t=1572422069',\n",
       "   'path_full': 'https://steamcdn-a.akamaihd.net/steam/apps/1091520/ss_b0afb73513a1d886fdf7d2dfe3e78624a59af940.1920x1080.jpg?t=1572422069'},\n",
       "  {'id': 5,\n",
       "   'path_thumbnail': 'https://steamcdn-a.akamaihd.net/steam/apps/1091520/ss_5796eb16d533aa691d5769eaa159c21b22e0c7c0.600x338.jpg?t=1572422069',\n",
       "   'path_full': 'https://steamcdn-a.akamaihd.net/steam/apps/1091520/ss_5796eb16d533aa691d5769eaa159c21b22e0c7c0.1920x1080.jpg?t=1572422069'}],\n",
       " 'movies': [{'id': 256759889,\n",
       "   'name': 'Malicious Dinner',\n",
       "   'thumbnail': 'https://steamcdn-a.akamaihd.net/steam/apps/256759889/movie.293x165.jpg?t=1571901883',\n",
       "   'webm': {'480': 'http://steamcdn-a.akamaihd.net/steam/apps/256759889/movie480.webm?t=1571901883',\n",
       "    'max': 'http://steamcdn-a.akamaihd.net/steam/apps/256759889/movie_max.webm?t=1571901883'},\n",
       "   'highlight': True},\n",
       "  {'id': 256765210,\n",
       "   'name': '鸿门一宴',\n",
       "   'thumbnail': 'https://steamcdn-a.akamaihd.net/steam/apps/256765210/movie.293x165.jpg?t=1571901893',\n",
       "   'webm': {'480': 'http://steamcdn-a.akamaihd.net/steam/apps/256765210/movie480.webm?t=1571901893',\n",
       "    'max': 'http://steamcdn-a.akamaihd.net/steam/apps/256765210/movie_max.webm?t=1571901893'},\n",
       "   'highlight': True}],\n",
       " 'achievements': {'total': 12,\n",
       "  'highlighted': [{'name': 'Changeable girl',\n",
       "    'path': 'https://steamcdn-a.akamaihd.net/steamcommunity/public/images/apps/1091520/2b96d81617bc3a9f218805f425a778daf3a799c6.jpg'},\n",
       "   {'name': 'Well-informed',\n",
       "    'path': 'https://steamcdn-a.akamaihd.net/steamcommunity/public/images/apps/1091520/3ce22e2d4ec2e3afa3619b1b26fdb3064687d0b1.jpg'},\n",
       "   {'name': 'Eagle Eye',\n",
       "    'path': 'https://steamcdn-a.akamaihd.net/steamcommunity/public/images/apps/1091520/3eab0e8d57853dd8bcb15061b6f569684b25d258.jpg'},\n",
       "   {'name': 'Childish',\n",
       "    'path': 'https://steamcdn-a.akamaihd.net/steamcommunity/public/images/apps/1091520/a7e1f62b1772f07bac5642d2e758871d7829da73.jpg'},\n",
       "   {'name': 'Egg Breaker',\n",
       "    'path': 'https://steamcdn-a.akamaihd.net/steamcommunity/public/images/apps/1091520/631cec792916ce525a37774b84701c6fbd6f14dc.jpg'},\n",
       "   {'name': 'Miss Justice',\n",
       "    'path': 'https://steamcdn-a.akamaihd.net/steamcommunity/public/images/apps/1091520/b85a4734160590c3b84864ef4455fbab55e8b9f7.jpg'},\n",
       "   {'name': 'Teetotal',\n",
       "    'path': 'https://steamcdn-a.akamaihd.net/steamcommunity/public/images/apps/1091520/82815e2323b1cc67b69c22811b8fba3e11f30e3d.jpg'},\n",
       "   {'name': 'Play by Ear',\n",
       "    'path': 'https://steamcdn-a.akamaihd.net/steamcommunity/public/images/apps/1091520/0c43e1b9510b05f63e4b90d1039af5192e7db1db.jpg'},\n",
       "   {'name': 'Firm stand',\n",
       "    'path': 'https://steamcdn-a.akamaihd.net/steamcommunity/public/images/apps/1091520/e17f07d0308b051fc57b5257b219c97431c12577.jpg'},\n",
       "   {'name': 'Move fast',\n",
       "    'path': 'https://steamcdn-a.akamaihd.net/steamcommunity/public/images/apps/1091520/bca5f2e9f908b17b7a74b08cd5b8d2417962d4b2.jpg'}]},\n",
       " 'release_date': {'coming_soon': False, 'date': 'Sep 9, 2019'},\n",
       " 'support_info': {'url': '无', 'email': 'youdian14@yeah.net'},\n",
       " 'background': 'https://steamcdn-a.akamaihd.net/steam/apps/1091520/page_bg_generated_v6b.jpg?t=1572422069',\n",
       " 'content_descriptors': {'ids': [1, 5],\n",
       "  'notes': 'The girl (ur role) drink with people at table. The bad guy harass her in a limo. Then she fight against him in bedroom and get sexual assault if she lost the fight. All contents r described by words, no sexual pics.'}}"
      ]
     },
     "execution_count": 127,
     "metadata": {},
     "output_type": "execute_result"
    }
   ],
   "source": [
    "test_data"
   ]
  },
  {
   "cell_type": "markdown",
   "metadata": {},
   "source": [
    "For now, let's keep everything except: 'detailed_description' (because, if you look, it can be *really long* and there are two other categories with very similar information), 'pc_requirements', 'mac_requirements', 'linux_requirements' (because there's a feature for 'platforms' which will give us plenty of information there), 'legal_notice' (because who wants to deal with that...), and 'email' (probably won't be relevant). We'll keep all of the images such as screenshots and assets for now, even if we end up not using all, because as a stretch goal we may want to do some image analysis later to see if we can learn anything about the art styles being used in each game."
   ]
  },
  {
   "cell_type": "code",
   "execution_count": 68,
   "metadata": {},
   "outputs": [],
   "source": [
    "cols_to_keep = [\n",
    "    'type', 'name', 'steam_appid', 'required_age', 'is_free', 'about_the_game', 'short_description', 'supported_languages',\n",
    "    'header_image', 'website', 'developers', 'publishers', 'price_overview', 'packages', 'package_groups', 'platforms', \n",
    "    'categories', 'genres', 'screenshots', 'movies', 'achievements', 'release_date', 'background', 'content_descriptors'\n",
    "]"
   ]
  },
  {
   "cell_type": "markdown",
   "metadata": {},
   "source": [
    "## 1.3 Collecting, Formatting and Writing Steam Store Data "
   ]
  },
  {
   "cell_type": "markdown",
   "metadata": {},
   "source": [
    "With the framework set up to collect the data we want from the Steam Store API, we can go ahead and iterate through the full list of AppIDs, writing to a CSV file. Since we have a large number of API requests to make, in order to avoid catastrophic data loss or massive overloading of the API, we'll want to split up the requests into batches and make sure to pause briefly between requests (Thanks to Nik Davis for this tip!)."
   ]
  },
  {
   "cell_type": "code",
   "execution_count": 190,
   "metadata": {},
   "outputs": [],
   "source": [
    "def make_app_data_list(start, stop, parse_func, applist, pause, output=True):\n",
    "    \"\"\"Return list of app data generated from parser.\n",
    "    \n",
    "    parse_func : function to handle request\n",
    "    \"\"\"\n",
    "    app_data = []\n",
    "    \n",
    "    # iterate through each row of app_list between start and stop\n",
    "    for index, appid in applist[start:stop].iteritems():\n",
    "        if output==True: #print details, useful for short runs but should be supressed for full production\n",
    "            print('Index: {}; Appid: {}'.format(index, appid))\n",
    "        \n",
    "        # retrive app data for a row, handled by supplied parser, and append to list\n",
    "        data = parse_func(appid)\n",
    "        app_data.append(data)\n",
    "\n",
    "        time.sleep(pause) # prevent overloading API with requests\n",
    "    \n",
    "    return app_data"
   ]
  },
  {
   "cell_type": "markdown",
   "metadata": {},
   "source": [
    "First, check on a small subset of apps to make sure the above function works as intended:"
   ]
  },
  {
   "cell_type": "code",
   "execution_count": 191,
   "metadata": {},
   "outputs": [
    {
     "name": "stdout",
     "output_type": "stream",
     "text": [
      "Index: 0; Appid: 1034230\n",
      "Index: 1; Appid: 603750\n"
     ]
    }
   ],
   "source": [
    "app_data = make_app_data_list(0,2,parse_steam_request, applist, 5)"
   ]
  },
  {
   "cell_type": "markdown",
   "metadata": {},
   "source": [
    "Next, create and initialize a CSV file to which we will iteratively write our data."
   ]
  },
  {
   "cell_type": "code",
   "execution_count": 280,
   "metadata": {},
   "outputs": [],
   "source": [
    "def init_csv_file(path, filename, columns):\n",
    "    '''Create file and write header row'''\n",
    "    file = os.path.join(path, filename)\n",
    "    with open(file, 'w', newline='') as f:\n",
    "        writer = csv.DictWriter(f, fieldnames=columns)\n",
    "        writer.writeheader()"
   ]
  },
  {
   "cell_type": "code",
   "execution_count": 282,
   "metadata": {},
   "outputs": [],
   "source": [
    "datafile = 'steam_data.csv'\n",
    "data_path = './data/'\n",
    "init_csv_file(data_path, datafile, cols_to_keep)"
   ]
  },
  {
   "cell_type": "markdown",
   "metadata": {},
   "source": [
    "Finally, collect and write the entire dataset in a batch process, saving to file every 100 (or whatever you chose) lines. This process takes quite a while, as there's over 22,000 apps to be processed), so as an example I've reduced the \"stop\" parameter to only 500. Change this to \"-1\" or use the default to rerun the full dataset."
   ]
  },
  {
   "cell_type": "code",
   "execution_count": 284,
   "metadata": {},
   "outputs": [],
   "source": [
    "def get_and_write_data_batches(path, filename, columns, applist, parse_func, start=0, stop=-1, batchsize=100, pause=2):\n",
    "    \n",
    "    if stop==-1: #process entire app list\n",
    "        stop=len(applist)+1\n",
    "        \n",
    "    batches = np.arange(start, stop, batchsize) #array to be used for \"start\" and \"stop\" values for batch requests\n",
    "    batches = np.append(batches, stop)\n",
    "    start_time = time.time()\n",
    "    \n",
    "    for i in range(len(batches)-1):\n",
    "        start_time_batch = time.time()\n",
    "        \n",
    "        batch_start = batches[i]\n",
    "        batch_stop = batches[i+1]\n",
    "        print('Batch #: {}'.format(i+1))\n",
    "        \n",
    "        #get data for batch\n",
    "        print('Collecting data from API...')\n",
    "        app_data = make_app_data_list(batch_start, batch_stop, parse_func, applist, pause, output=False)\n",
    "        \n",
    "        #write batch to file\n",
    "        print('Writing data to file...')\n",
    "        file = os.path.join(path, filename)\n",
    "        with open(file, 'a', newline='', encoding='utf-8') as f:\n",
    "            writer = csv.DictWriter(f, fieldnames=cols_to_keep, extrasaction='ignore')\n",
    "            time.sleep(1)\n",
    "            writer.writerows(app_data)\n",
    "        \n",
    "        #get time info and estimate remaining time\n",
    "        total_time = time.time()-start_time\n",
    "        batch_time = time.time()-start_time_batch\n",
    "        estimated_time_remaining = (stop-start)/batchsize*batch_time-total_time\n",
    "        print('Elapsed time: {} seconds'.format(round(total_time,3)))\n",
    "        print('Estimated time remaining: {} minutes'.format(round(estimated_time_remaining/60,3)))\n",
    "        print(' ')\n",
    "    print('Done!')"
   ]
  },
  {
   "cell_type": "code",
   "execution_count": 285,
   "metadata": {},
   "outputs": [
    {
     "name": "stdout",
     "output_type": "stream",
     "text": [
      "Batch #: 1\n",
      "Collecting data from API...\n",
      "Writing data to file...\n",
      "Elapsed time: 250.309 seconds\n",
      "Estimated time remaining: 37.546 minutes\n",
      " \n",
      "Batch #: 2\n",
      "Collecting data from API...\n",
      "Writing data to file...\n",
      "Elapsed time: 489.038 seconds\n",
      "Estimated time remaining: 31.638 minutes\n",
      " \n",
      "Batch #: 3\n",
      "Collecting data from API...\n",
      "Writing data to file...\n",
      "Elapsed time: 742.828 seconds\n",
      "Estimated time remaining: 29.918 minutes\n",
      " \n",
      "Batch #: 4\n",
      "Collecting data from API...\n",
      "Writing data to file...\n",
      "Elapsed time: 984.301 seconds\n",
      "Estimated time remaining: 23.84 minutes\n",
      " \n",
      "Batch #: 5\n",
      "Collecting data from API...\n",
      "Writing data to file...\n",
      "Elapsed time: 1234.803 seconds\n",
      "Estimated time remaining: 21.17 minutes\n",
      " \n",
      "Batch #: 6\n",
      "Collecting data from API...\n",
      "Writing data to file...\n",
      "Elapsed time: 1476.933 seconds\n",
      "Estimated time remaining: 15.739 minutes\n",
      " \n",
      "Batch #: 7\n",
      "Collecting data from API...\n",
      "Writing data to file...\n",
      "Elapsed time: 1736.837 seconds\n",
      "Estimated time remaining: 14.37 minutes\n",
      " \n",
      "Batch #: 8\n",
      "Collecting data from API...\n",
      "Writing data to file...\n",
      "Elapsed time: 1982.257 seconds\n",
      "Estimated time remaining: 7.866 minutes\n",
      " \n",
      "Batch #: 9\n",
      "Collecting data from API...\n",
      "Writing data to file...\n",
      "Elapsed time: 2229.546 seconds\n",
      "Estimated time remaining: 4.056 minutes\n",
      " \n",
      "Batch #: 10\n",
      "Collecting data from API...\n",
      "Writing data to file...\n",
      "Elapsed time: 2470.35 seconds\n",
      "Estimated time remaining: -1.038 minutes\n",
      " \n",
      "Done!\n"
     ]
    }
   ],
   "source": [
    "get_and_write_data_batches(path=data_path, filename=datafile, columns=cols_to_keep, applist=applist, parse_func = parse_steam_request, start=0, stop=1000, batchsize=100, pause=2)"
   ]
  },
  {
   "cell_type": "markdown",
   "metadata": {},
   "source": [
    "## 1.4 Using SteamSpy to Get Game Popularity Data"
   ]
  },
  {
   "cell_type": "code",
   "execution_count": 52,
   "metadata": {},
   "outputs": [],
   "source": [
    "def parse_steamspy_request(appid, name):\n",
    "    \"\"\"Parser to handle SteamSpy API data.\"\"\"\n",
    "    url = \"https://steamspy.com/api.php\"\n",
    "    parameters = {\"request\": \"appdetails\", \"appid\": appid}\n",
    "    \n",
    "    json_data = get_request(url, parameters)\n",
    "    return json_data\n",
    "\n"
   ]
  },
  {
   "cell_type": "code",
   "execution_count": 54,
   "metadata": {},
   "outputs": [
    {
     "data": {
      "text/plain": [
       "{'appid': 603750,\n",
       " 'name': '- Arcane Raise -',\n",
       " 'developer': 'Arcane Raise',\n",
       " 'publisher': 'WAX Publishing',\n",
       " 'score_rank': '',\n",
       " 'positive': 54,\n",
       " 'negative': 91,\n",
       " 'userscore': 0,\n",
       " 'owners': '50,000 .. 100,000',\n",
       " 'average_forever': 220,\n",
       " 'average_2weeks': 0,\n",
       " 'median_forever': 226,\n",
       " 'median_2weeks': 0,\n",
       " 'price': '299',\n",
       " 'initialprice': '299',\n",
       " 'discount': '0',\n",
       " 'languages': 'English',\n",
       " 'genre': 'Adventure, Casual, Indie, RPG, Strategy',\n",
       " 'ccu': 0,\n",
       " 'tags': {'Adventure': 66,\n",
       "  'RPG': 48,\n",
       "  'Strategy': 40,\n",
       "  'Casual': 34,\n",
       "  'RPGMaker': 30,\n",
       "  'JRPG': 26,\n",
       "  'Indie': 24,\n",
       "  'Fantasy': 24,\n",
       "  'Story Rich': 19,\n",
       "  'Rogue-like': 5}}"
      ]
     },
     "execution_count": 54,
     "metadata": {},
     "output_type": "execute_result"
    }
   ],
   "source": [
    "parse_steamspy_request(603750, 'test')"
   ]
  }
 ],
 "metadata": {
  "kernelspec": {
   "display_name": "Python 3",
   "language": "python",
   "name": "python3"
  },
  "language_info": {
   "codemirror_mode": {
    "name": "ipython",
    "version": 3
   },
   "file_extension": ".py",
   "mimetype": "text/x-python",
   "name": "python",
   "nbconvert_exporter": "python",
   "pygments_lexer": "ipython3",
   "version": "3.7.1"
  }
 },
 "nbformat": 4,
 "nbformat_minor": 2
}
