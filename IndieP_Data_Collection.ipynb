{
 "cells": [
  {
   "cell_type": "markdown",
   "metadata": {},
   "source": [
    "# IndieP: Predicting the Success of Indie Games on Steam"
   ]
  },
  {
   "cell_type": "markdown",
   "metadata": {},
   "source": [
    "# Part 1: Data Collection"
   ]
  },
  {
   "cell_type": "markdown",
   "metadata": {},
   "source": [
    "<div align=\"center\"><img src=\"./Indie-Mega-Booth.jpg\", title=\"Image from gaminglyfe.com\", width=\"50%\"/></div>"
   ]
  },
  {
   "cell_type": "markdown",
   "metadata": {},
   "source": [
    "If you haven't been to a video game convention such as PAX (the Penny Arcade Expo) before, let me paint a picture for you. After you push through the thousands of fans and cosplayers crowding around the massive Nintendo, Sony, Ubisoft or Square Enix booths with hundred-inch flat screen TVs and LEDs flashing from signs hanging off the ceiling, at the very back of the convention hall is the Indie Mega Booth, where developers of around 80 indie games are chosen to showcase their work and get feedback from con-goers. And then, maybe upstairs, in another corner of the show floor, are 10 more indie games highlighted as the PAX 10, the indie games of the year that have been designated the \"best\" by some committee. But what do they mean by \"best\"? What factors go into determining which of the thousand games released each year will succeed, which will be remembered for years to come, which will fade away with time, and which will never even make it into the (albeit somewhat faded) spotlight?\n",
    "\n",
    "Almost everyone has a sense of what big name games have been successful over the years, even if you aren't a hard-core gamer - Overwatch and Fortnite both had their moments of fame not too long ago, and there was Minecraft, Final Fantasy, and World of Warcraft before that - but indie games are a whole different world. How many people outside of that industry can tell you which indie game was the most successful last year? In the world of indie game development, there's no massive corporation deciding what kind of game to make based on what their analytics department has told them will sell the most copies. Instead, there's just a few nerds (maybe a programmer, an artist and a writer) with a cool idea and the skills to create a product out of it. "
   ]
  },
  {
   "cell_type": "markdown",
   "metadata": {},
   "source": [
    "**In this project, my goal is to explore which factors play into the success or failure of an Indie game, thinking about how this may differ from games that are created by larger corporations.** While full explorations of video game data are not uncommon (there's some datasets on Kaggle, for example), most focus on the most popular games without putting thought into the games that are lesser known but potentially just as qualified to be considered the \"best\" by someone's metric. \n",
    "\n",
    "**This project will be split into 4 parts:** First, we will collect a messy dataset of all of the games in the \"Indie\" genre of the [Steam store](https://store.steampowered.com/about/). Then, we will clean up the data, decide which features to keep, and create a high-quality dataset suitable for analysis and as input for Machine Learning algorithms. Next, we will analyze our data by exploring the correlations between features to see what we can learn without using Machine Learning. Finally, we will create a training set and test set from our data, and create a Machine Learning framework to measure \"success\" of a game. In this final section, we will first address what metrics may be used to measure success, and what Machine Learning algorithms are best suited for the job at hand. "
   ]
  },
  {
   "cell_type": "markdown",
   "metadata": {},
   "source": [
    "## 1. Data Collection"
   ]
  },
  {
   "cell_type": "markdown",
   "metadata": {},
   "source": [
    "**The goal of the first part of this project is to create a data set that includes details for every indie game available on [Steam](https://store.steampowered.com/about/).** As we ultimately want to gain insight into what features have the greatest effect on the success of a game, we will want to include qualities of the games themselves (price, genres, game descriptions, number of achievements, etc), but also metrics that may be useful for quantifying sucess, such as ratings, number of users, and number of copies purchased.\n",
    "\n",
    "We'll be collecting this data in three parts, and combining everything together later as part of the data cleaning. First, we will scrape a filtered list of Indie games from Steam's online store to get basic information such as the title and AppID, which is the unique identifier for each game (or other medium). We will then use the Steam Store API to get as much information as we can about each game in our list. Lastly, since the Steam Store doesn't provide information about how many (active or inactive) users each game has, we will use an external API called SteamSpy, which has this information readily available."
   ]
  },
  {
   "cell_type": "markdown",
   "metadata": {},
   "source": [
    "### 1.0 Useful Resources for Data Collection"
   ]
  },
  {
   "cell_type": "markdown",
   "metadata": {},
   "source": [
    "Below are a few of the resources I used to conduct Part 1 of this project, including inspiring/helpful webpages and API documentation:"
   ]
  },
  {
   "cell_type": "markdown",
   "metadata": {},
   "source": [
    "1. [Steam API Documentation](https://partner.steamgames.com/doc/webapi_overview)\n",
    "2. [User-made Steam Storefront API Documentation](https://wiki.teamfortress.com/wiki/User:RJackson/StorefrontAPI)\n",
    "3. [SteamSpy API Documentation](https://steamspy.com/api.php)\n",
    "4. [Scrapy Tutorial](https://docs.scrapy.org/en/latest/intro/tutorial.html)\n",
    "4. [Nik Davis' Data Science Blog](https://nik-davis.github.io/posts/2019/steam-data-collection/)\n",
    "5. [A note on the accuracy of SteamSpy](https://www.pcgamesn.com/steam/steam-spy-accuracy-developers)"
   ]
  },
  {
   "cell_type": "markdown",
   "metadata": {},
   "source": [
    "### 1.1 Gathering Initial Data from Steam Store"
   ]
  },
  {
   "cell_type": "markdown",
   "metadata": {},
   "source": [
    "While the genre tags of each Steam game are accessible through Steamfront, the Steam API only provides a list of *all* available apps and no way to filter through them efficiently. A few alternative user-made APIs offer a wider variety of API features and could be filtered by genre, but as they are user-maintained and not always online, I chose to avoid these alternatives for this initial step and make sure our data comes directly from the main source (though we will use one user-made API, SteamSpy, later to collect data on estimated game sales/popularity since as far as I know there's no other way to get this information). Rather than make an API request for every single app (~70,000 requests) and check if it fits our genre, it will be more efficient to scrape a list of Indie games from Steam's online store: \n",
    "\n",
    "https://store.steampowered.com/search/?sort_by=Name_ASC&tags=492&category1=998\n",
    "\n",
    "Here, I've filtered Steam's full game list to include only apps with the tag \"indie,\" further narrowed the list down to include only games (excluding other software, downloadable content, demos, and soundtracks), and sorted the list alphabetically. There's a total of 27,271 results at the time of writing this.\n",
    "\n",
    "I've learned to love (and hate) [BeautifulSoup](https://pypi.org/project/beautifulsoup4/) for prior web scraping projects, but for this project I've chosen to use the simpler and elegant [Scrapy](https://scrapy.org/) which will have a much easier time crawling through the 1,085 pages of results while also providing more flexibility since Steam updates their store frequently (plus, I've never used it and I like trying new things!). The ability to easily control a rate limiter for Scrapy is also a plus, since I want to ensure that the scraper remains well-behaved.\n",
    "\n",
    "For the initial data collection, I scraped the following features for each game, as they are universal, easy to understand, and all accessible without needing to follow additional links (thus increasing the number of requests):\n",
    "* AppID: \n",
    "* Url:\n",
    "* Title:\n",
    "* Release Date:\n",
    "* Price:\n",
    "\n",
    "When I initially gathered this data, I only collected the Title, Release Date, and Price - but quickly discovered that there's no guarantee that these three features would be unique and there could easily be multiple games with the same title. The AppID, however, is a unique identifier and will be used to distinguish between data points throughout.\n",
    "\n",
    "The spider I wrote to extract this data can be found in `./steam-scrapy/steam_scrape/spiders/scrapy_indie_all.py`. Here, I will just load in the data obtained from this step."
   ]
  },
  {
   "cell_type": "code",
   "execution_count": 166,
   "metadata": {},
   "outputs": [],
   "source": [
    "import csv\n",
    "import json\n",
    "import time \n",
    "import os\n",
    "\n",
    "import pandas as pd\n",
    "import requests\n",
    "import numpy as np\n",
    "\n",
    "pd.set_option(\"max_columns\", 100)"
   ]
  },
  {
   "cell_type": "markdown",
   "metadata": {},
   "source": [
    "To start, let's load in the basic data we gathered into a Pandas dataframe - for now, all we really need here is the AppIDs, but we'll load in everything to begin. We'll use the rest of the columns later when we're cleaning up the full dataset, in the case of apps that had unsuccessful API calls."
   ]
  },
  {
   "cell_type": "code",
   "execution_count": 107,
   "metadata": {},
   "outputs": [],
   "source": [
    "def get_scrape_data(f):\n",
    "    ''' Load in json data that we previously collected to extract a list of appIDs for all Indie games '''\n",
    "    \n",
    "    data = pd.read_json(f)\n",
    "    return data"
   ]
  },
  {
   "cell_type": "code",
   "execution_count": 121,
   "metadata": {},
   "outputs": [],
   "source": [
    "scrapy_data = get_scrape_data('./steam-scrapy/steam_scrape/output/indie_all_final.json')"
   ]
  },
  {
   "cell_type": "code",
   "execution_count": 122,
   "metadata": {},
   "outputs": [
    {
     "data": {
      "text/html": [
       "<div>\n",
       "<style scoped>\n",
       "    .dataframe tbody tr th:only-of-type {\n",
       "        vertical-align: middle;\n",
       "    }\n",
       "\n",
       "    .dataframe tbody tr th {\n",
       "        vertical-align: top;\n",
       "    }\n",
       "\n",
       "    .dataframe thead th {\n",
       "        text-align: right;\n",
       "    }\n",
       "</style>\n",
       "<table border=\"1\" class=\"dataframe\">\n",
       "  <thead>\n",
       "    <tr style=\"text-align: right;\">\n",
       "      <th></th>\n",
       "      <th>appid</th>\n",
       "      <th>price</th>\n",
       "      <th>release_date</th>\n",
       "      <th>title</th>\n",
       "      <th>url</th>\n",
       "    </tr>\n",
       "  </thead>\n",
       "  <tbody>\n",
       "    <tr>\n",
       "      <th>0</th>\n",
       "      <td>1034230</td>\n",
       "      <td></td>\n",
       "      <td>Mar 17, 2019</td>\n",
       "      <td>***</td>\n",
       "      <td>https://store.steampowered.com/app/1034230/_/?...</td>\n",
       "    </tr>\n",
       "    <tr>\n",
       "      <th>1</th>\n",
       "      <td>603750</td>\n",
       "      <td>$2.99</td>\n",
       "      <td>Mar 10, 2017</td>\n",
       "      <td>- Arcane Raise -</td>\n",
       "      <td>https://store.steampowered.com/app/603750/_Arc...</td>\n",
       "    </tr>\n",
       "    <tr>\n",
       "      <th>2</th>\n",
       "      <td>729370</td>\n",
       "      <td>$14.99</td>\n",
       "      <td>Jan 23, 2019</td>\n",
       "      <td>-KLAUS-</td>\n",
       "      <td>https://store.steampowered.com/app/729370/KLAU...</td>\n",
       "    </tr>\n",
       "    <tr>\n",
       "      <th>3</th>\n",
       "      <td>638510</td>\n",
       "      <td></td>\n",
       "      <td>2019</td>\n",
       "      <td>.Age</td>\n",
       "      <td>https://store.steampowered.com/app/638510/Age/...</td>\n",
       "    </tr>\n",
       "    <tr>\n",
       "      <th>4</th>\n",
       "      <td>1091520</td>\n",
       "      <td>$0.99</td>\n",
       "      <td>Sep 9, 2019</td>\n",
       "      <td>鸿门一宴(Malicious Dinner)</td>\n",
       "      <td>https://store.steampowered.com/app/1091520/Mal...</td>\n",
       "    </tr>\n",
       "  </tbody>\n",
       "</table>\n",
       "</div>"
      ],
      "text/plain": [
       "     appid   price  release_date                   title  \\\n",
       "0  1034230          Mar 17, 2019                     ***   \n",
       "1   603750   $2.99  Mar 10, 2017        - Arcane Raise -   \n",
       "2   729370  $14.99  Jan 23, 2019                 -KLAUS-   \n",
       "3   638510                  2019                    .Age   \n",
       "4  1091520   $0.99   Sep 9, 2019  鸿门一宴(Malicious Dinner)   \n",
       "\n",
       "                                                 url  \n",
       "0  https://store.steampowered.com/app/1034230/_/?...  \n",
       "1  https://store.steampowered.com/app/603750/_Arc...  \n",
       "2  https://store.steampowered.com/app/729370/KLAU...  \n",
       "3  https://store.steampowered.com/app/638510/Age/...  \n",
       "4  https://store.steampowered.com/app/1091520/Mal...  "
      ]
     },
     "execution_count": 122,
     "metadata": {},
     "output_type": "execute_result"
    }
   ],
   "source": [
    "scrapy_data.head()"
   ]
  },
  {
   "cell_type": "markdown",
   "metadata": {},
   "source": [
    "Right off the bat, we can see that some of the titles are questionable, so we'll need to later dig in to the data to ensure that everything we include in our dataset would be considered a game (no demos/soundtracks/videos/etc - we filtered these out initially but you never know what crept through). We can also see that not all of the release dates have the full day, month, and year, and that not all games have prices (of course some are free to play). We'll keep everything as is until we have all of the data collected, and then later work on cleaning it up into a nice dataset."
   ]
  },
  {
   "cell_type": "code",
   "execution_count": 110,
   "metadata": {},
   "outputs": [],
   "source": [
    "applist=data['appid']"
   ]
  },
  {
   "cell_type": "code",
   "execution_count": 111,
   "metadata": {},
   "outputs": [
    {
     "data": {
      "text/plain": [
       "0    1034230\n",
       "1     603750\n",
       "2     729370\n",
       "3     638510\n",
       "4    1091520\n",
       "Name: appid, dtype: object"
      ]
     },
     "execution_count": 111,
     "metadata": {},
     "output_type": "execute_result"
    }
   ],
   "source": [
    "applist.head()"
   ]
  },
  {
   "cell_type": "code",
   "execution_count": 112,
   "metadata": {},
   "outputs": [
    {
     "data": {
      "text/plain": [
       "count       22758\n",
       "unique      22753\n",
       "top       1155470\n",
       "freq            2\n",
       "Name: appid, dtype: object"
      ]
     },
     "execution_count": 112,
     "metadata": {},
     "output_type": "execute_result"
    }
   ],
   "source": [
    "applist.describe()"
   ]
  },
  {
   "cell_type": "markdown",
   "metadata": {},
   "source": [
    "For some reason, it looks likes there are a few duplicates in the applist, which is suprising because the AppID should be a unique identifier. Let's look under the hood to see if we can figure out why:"
   ]
  },
  {
   "cell_type": "code",
   "execution_count": 113,
   "metadata": {},
   "outputs": [
    {
     "data": {
      "text/html": [
       "<div>\n",
       "<style scoped>\n",
       "    .dataframe tbody tr th:only-of-type {\n",
       "        vertical-align: middle;\n",
       "    }\n",
       "\n",
       "    .dataframe tbody tr th {\n",
       "        vertical-align: top;\n",
       "    }\n",
       "\n",
       "    .dataframe thead th {\n",
       "        text-align: right;\n",
       "    }\n",
       "</style>\n",
       "<table border=\"1\" class=\"dataframe\">\n",
       "  <thead>\n",
       "    <tr style=\"text-align: right;\">\n",
       "      <th></th>\n",
       "      <th>appid</th>\n",
       "      <th>price</th>\n",
       "      <th>release_date</th>\n",
       "      <th>title</th>\n",
       "      <th>url</th>\n",
       "    </tr>\n",
       "  </thead>\n",
       "  <tbody>\n",
       "    <tr>\n",
       "      <th>4612</th>\n",
       "      <td>230820</td>\n",
       "      <td>$24.99</td>\n",
       "      <td>May 28, 2013</td>\n",
       "      <td>The Night of the Rabbit Premium Edition</td>\n",
       "      <td>https://store.steampowered.com/sub/28005/?snr=...</td>\n",
       "    </tr>\n",
       "    <tr>\n",
       "      <th>12707</th>\n",
       "      <td>430280</td>\n",
       "      <td>$4.99</td>\n",
       "      <td>Dec 21, 2015</td>\n",
       "      <td>Nature Defenders</td>\n",
       "      <td>https://store.steampowered.com/app/430280/Natu...</td>\n",
       "    </tr>\n",
       "    <tr>\n",
       "      <th>12782</th>\n",
       "      <td>1155470</td>\n",
       "      <td>Free</td>\n",
       "      <td>Oct 7, 2019</td>\n",
       "      <td>Mythic Ocean: Prologue</td>\n",
       "      <td>https://store.steampowered.com/app/1155470/Myt...</td>\n",
       "    </tr>\n",
       "    <tr>\n",
       "      <th>12833</th>\n",
       "      <td>434260</td>\n",
       "      <td>$0.99</td>\n",
       "      <td>Feb 15, 2016</td>\n",
       "      <td>My Name is Mayo</td>\n",
       "      <td>https://store.steampowered.com/app/434260/My_N...</td>\n",
       "    </tr>\n",
       "    <tr>\n",
       "      <th>15982</th>\n",
       "      <td>557260</td>\n",
       "      <td>Free to Play</td>\n",
       "      <td>Jan 16, 2017</td>\n",
       "      <td>iREC</td>\n",
       "      <td>https://store.steampowered.com/app/557260/iREC...</td>\n",
       "    </tr>\n",
       "  </tbody>\n",
       "</table>\n",
       "</div>"
      ],
      "text/plain": [
       "         appid         price  release_date  \\\n",
       "4612    230820        $24.99  May 28, 2013   \n",
       "12707   430280         $4.99  Dec 21, 2015   \n",
       "12782  1155470          Free   Oct 7, 2019   \n",
       "12833   434260         $0.99  Feb 15, 2016   \n",
       "15982   557260  Free to Play  Jan 16, 2017   \n",
       "\n",
       "                                         title  \\\n",
       "4612   The Night of the Rabbit Premium Edition   \n",
       "12707                         Nature Defenders   \n",
       "12782                   Mythic Ocean: Prologue   \n",
       "12833                          My Name is Mayo   \n",
       "15982                                     iREC   \n",
       "\n",
       "                                                     url  \n",
       "4612   https://store.steampowered.com/sub/28005/?snr=...  \n",
       "12707  https://store.steampowered.com/app/430280/Natu...  \n",
       "12782  https://store.steampowered.com/app/1155470/Myt...  \n",
       "12833  https://store.steampowered.com/app/434260/My_N...  \n",
       "15982  https://store.steampowered.com/app/557260/iREC...  "
      ]
     },
     "execution_count": 113,
     "metadata": {},
     "output_type": "execute_result"
    }
   ],
   "source": [
    "data[data.duplicated(subset='appid')]"
   ]
  },
  {
   "cell_type": "markdown",
   "metadata": {},
   "source": [
    "We can see that, for some reason, these 5 AppIDs have been included more than once. Before just deleting the duplicates, we want to make sure that the full rows are duplicated, not just the AppID:"
   ]
  },
  {
   "cell_type": "code",
   "execution_count": 114,
   "metadata": {},
   "outputs": [
    {
     "data": {
      "text/html": [
       "<div>\n",
       "<style scoped>\n",
       "    .dataframe tbody tr th:only-of-type {\n",
       "        vertical-align: middle;\n",
       "    }\n",
       "\n",
       "    .dataframe tbody tr th {\n",
       "        vertical-align: top;\n",
       "    }\n",
       "\n",
       "    .dataframe thead th {\n",
       "        text-align: right;\n",
       "    }\n",
       "</style>\n",
       "<table border=\"1\" class=\"dataframe\">\n",
       "  <thead>\n",
       "    <tr style=\"text-align: right;\">\n",
       "      <th></th>\n",
       "      <th>appid</th>\n",
       "      <th>price</th>\n",
       "      <th>release_date</th>\n",
       "      <th>title</th>\n",
       "      <th>url</th>\n",
       "    </tr>\n",
       "  </thead>\n",
       "  <tbody>\n",
       "    <tr>\n",
       "      <th>4611</th>\n",
       "      <td>230820</td>\n",
       "      <td></td>\n",
       "      <td>May 28, 2013</td>\n",
       "      <td>The Night of the Rabbit</td>\n",
       "      <td>https://store.steampowered.com/app/230820/The_...</td>\n",
       "    </tr>\n",
       "    <tr>\n",
       "      <th>4612</th>\n",
       "      <td>230820</td>\n",
       "      <td>$24.99</td>\n",
       "      <td>May 28, 2013</td>\n",
       "      <td>The Night of the Rabbit Premium Edition</td>\n",
       "      <td>https://store.steampowered.com/sub/28005/?snr=...</td>\n",
       "    </tr>\n",
       "  </tbody>\n",
       "</table>\n",
       "</div>"
      ],
      "text/plain": [
       "       appid   price  release_date                                    title  \\\n",
       "4611  230820          May 28, 2013                  The Night of the Rabbit   \n",
       "4612  230820  $24.99  May 28, 2013  The Night of the Rabbit Premium Edition   \n",
       "\n",
       "                                                    url  \n",
       "4611  https://store.steampowered.com/app/230820/The_...  \n",
       "4612  https://store.steampowered.com/sub/28005/?snr=...  "
      ]
     },
     "execution_count": 114,
     "metadata": {},
     "output_type": "execute_result"
    }
   ],
   "source": [
    "data.loc[data['appid'] == '230820']"
   ]
  },
  {
   "cell_type": "code",
   "execution_count": 115,
   "metadata": {},
   "outputs": [
    {
     "data": {
      "text/html": [
       "<div>\n",
       "<style scoped>\n",
       "    .dataframe tbody tr th:only-of-type {\n",
       "        vertical-align: middle;\n",
       "    }\n",
       "\n",
       "    .dataframe tbody tr th {\n",
       "        vertical-align: top;\n",
       "    }\n",
       "\n",
       "    .dataframe thead th {\n",
       "        text-align: right;\n",
       "    }\n",
       "</style>\n",
       "<table border=\"1\" class=\"dataframe\">\n",
       "  <thead>\n",
       "    <tr style=\"text-align: right;\">\n",
       "      <th></th>\n",
       "      <th>appid</th>\n",
       "      <th>price</th>\n",
       "      <th>release_date</th>\n",
       "      <th>title</th>\n",
       "      <th>url</th>\n",
       "    </tr>\n",
       "  </thead>\n",
       "  <tbody>\n",
       "    <tr>\n",
       "      <th>12658</th>\n",
       "      <td>430280</td>\n",
       "      <td>$4.99</td>\n",
       "      <td>Dec 21, 2015</td>\n",
       "      <td>Nature Defenders</td>\n",
       "      <td>https://store.steampowered.com/app/430280/Natu...</td>\n",
       "    </tr>\n",
       "    <tr>\n",
       "      <th>12707</th>\n",
       "      <td>430280</td>\n",
       "      <td>$4.99</td>\n",
       "      <td>Dec 21, 2015</td>\n",
       "      <td>Nature Defenders</td>\n",
       "      <td>https://store.steampowered.com/app/430280/Natu...</td>\n",
       "    </tr>\n",
       "  </tbody>\n",
       "</table>\n",
       "</div>"
      ],
      "text/plain": [
       "        appid  price  release_date             title  \\\n",
       "12658  430280  $4.99  Dec 21, 2015  Nature Defenders   \n",
       "12707  430280  $4.99  Dec 21, 2015  Nature Defenders   \n",
       "\n",
       "                                                     url  \n",
       "12658  https://store.steampowered.com/app/430280/Natu...  \n",
       "12707  https://store.steampowered.com/app/430280/Natu...  "
      ]
     },
     "execution_count": 115,
     "metadata": {},
     "output_type": "execute_result"
    }
   ],
   "source": [
    "data.loc[data['appid'] == '430280']"
   ]
  },
  {
   "cell_type": "code",
   "execution_count": 116,
   "metadata": {},
   "outputs": [
    {
     "data": {
      "text/html": [
       "<div>\n",
       "<style scoped>\n",
       "    .dataframe tbody tr th:only-of-type {\n",
       "        vertical-align: middle;\n",
       "    }\n",
       "\n",
       "    .dataframe tbody tr th {\n",
       "        vertical-align: top;\n",
       "    }\n",
       "\n",
       "    .dataframe thead th {\n",
       "        text-align: right;\n",
       "    }\n",
       "</style>\n",
       "<table border=\"1\" class=\"dataframe\">\n",
       "  <thead>\n",
       "    <tr style=\"text-align: right;\">\n",
       "      <th></th>\n",
       "      <th>appid</th>\n",
       "      <th>price</th>\n",
       "      <th>release_date</th>\n",
       "      <th>title</th>\n",
       "      <th>url</th>\n",
       "    </tr>\n",
       "  </thead>\n",
       "  <tbody>\n",
       "    <tr>\n",
       "      <th>12727</th>\n",
       "      <td>1155470</td>\n",
       "      <td>Free</td>\n",
       "      <td>Oct 7, 2019</td>\n",
       "      <td>Mythic Ocean: Prologue</td>\n",
       "      <td>https://store.steampowered.com/app/1155470/Myt...</td>\n",
       "    </tr>\n",
       "    <tr>\n",
       "      <th>12782</th>\n",
       "      <td>1155470</td>\n",
       "      <td>Free</td>\n",
       "      <td>Oct 7, 2019</td>\n",
       "      <td>Mythic Ocean: Prologue</td>\n",
       "      <td>https://store.steampowered.com/app/1155470/Myt...</td>\n",
       "    </tr>\n",
       "  </tbody>\n",
       "</table>\n",
       "</div>"
      ],
      "text/plain": [
       "         appid price release_date                   title  \\\n",
       "12727  1155470  Free  Oct 7, 2019  Mythic Ocean: Prologue   \n",
       "12782  1155470  Free  Oct 7, 2019  Mythic Ocean: Prologue   \n",
       "\n",
       "                                                     url  \n",
       "12727  https://store.steampowered.com/app/1155470/Myt...  \n",
       "12782  https://store.steampowered.com/app/1155470/Myt...  "
      ]
     },
     "execution_count": 116,
     "metadata": {},
     "output_type": "execute_result"
    }
   ],
   "source": [
    "data.loc[data['appid'] == '1155470']"
   ]
  },
  {
   "cell_type": "markdown",
   "metadata": {},
   "source": [
    "So, it looks like in the first case, both the original and premium versions of the game are given the same AppID - this could be something important to keep in mind for later, but since we'll be making API calls based on a specific AppID, it doesn't make sense to keep the duplicates in our list since you can't have two different request responses from the same API call for an AppID - presumably, info on both versions (or at least that multiple versions exist) will be encoded into the same request, but we'll want to check this later. Regardless, the remaining four duplicates seem to just have printed twice, so we can go ahead and delete them."
   ]
  },
  {
   "cell_type": "code",
   "execution_count": 222,
   "metadata": {},
   "outputs": [],
   "source": [
    "data = data.drop_duplicates(subset='appid')"
   ]
  },
  {
   "cell_type": "markdown",
   "metadata": {},
   "source": [
    "Before we finish and write our applist to file, there's one other caveat from the scraped data: it turns out (after a handful of confusing error messages from the Steam API later on...) that in the cases where the game includes some DLC packages, soundtracks or other media, the AppID that was scraped from the store was actually a string of concatenated AppIDs for the main game as well as the other media. For example, you can see the first 5 instances of this below, but there's actually quite a few of these! In all cases, the first AppID listed is the game, and those following it are additional media. Since we only want the games and aren't interested in the DLC or soundtracks (in fact, we'll later collect just a \"yes or no\" answer as to whether the game has DLC, etc), we want to keep only part of these strings up until the first comma (we'll likely use this technique again later in the project for cleaning up and transforming our messy data, as well as creating new features out of existing ones). Then, we'll want to check for duplicates again."
   ]
  },
  {
   "cell_type": "code",
   "execution_count": 241,
   "metadata": {},
   "outputs": [
    {
     "name": "stdout",
     "output_type": "stream",
     "text": [
      "258090,262141,262142,262230,262300\n",
      "220820,220822\n",
      "92300,92302,92303\n",
      "15500,15520\n",
      "273700,259830\n"
     ]
    }
   ],
   "source": [
    "stop = 5\n",
    "c = 0\n",
    "for index, row in data.iterrows():\n",
    "    if ',' in row['appid'] and c<stop:\n",
    "        print(row['appid'])\n",
    "        c+=1\n",
    "    "
   ]
  },
  {
   "cell_type": "code",
   "execution_count": 256,
   "metadata": {},
   "outputs": [],
   "source": [
    "data['appid']=data['appid'].str.split(',', n=1, expand=True)"
   ]
  },
  {
   "cell_type": "code",
   "execution_count": 270,
   "metadata": {},
   "outputs": [],
   "source": [
    "applist=data['appid']"
   ]
  },
  {
   "cell_type": "code",
   "execution_count": 271,
   "metadata": {},
   "outputs": [
    {
     "data": {
      "text/plain": [
       "count      22754\n",
       "unique     22695\n",
       "top       209190\n",
       "freq           4\n",
       "Name: appid, dtype: object"
      ]
     },
     "execution_count": 271,
     "metadata": {},
     "output_type": "execute_result"
    }
   ],
   "source": [
    "applist.describe()"
   ]
  },
  {
   "cell_type": "code",
   "execution_count": 276,
   "metadata": {},
   "outputs": [],
   "source": [
    "applist = applist.drop_duplicates()"
   ]
  },
  {
   "cell_type": "code",
   "execution_count": 277,
   "metadata": {},
   "outputs": [
    {
     "data": {
      "text/plain": [
       "count      22695\n",
       "unique     22695\n",
       "top       601320\n",
       "freq           1\n",
       "Name: appid, dtype: object"
      ]
     },
     "execution_count": 277,
     "metadata": {},
     "output_type": "execute_result"
    }
   ],
   "source": [
    "applist.describe()"
   ]
  },
  {
   "cell_type": "markdown",
   "metadata": {},
   "source": [
    "Now, we have a dataset of AppIDs with no duplicates and no concatenated strings that will throw errors upon API requrests. We'll now write the data to file for safe keeping, take this list of apps to the Steam Store API, and start filling in our dataset."
   ]
  },
  {
   "cell_type": "code",
   "execution_count": 322,
   "metadata": {},
   "outputs": [],
   "source": [
    "applist.to_csv('./data/applist.csv')"
   ]
  },
  {
   "cell_type": "markdown",
   "metadata": {},
   "source": [
    "## 1.2 Using Steam Store API to Get Game Data"
   ]
  },
  {
   "cell_type": "markdown",
   "metadata": {},
   "source": [
    "Now that we have a list of AppIDs for all of the Indie games on Steam, we can use the Steam API to obtain as much information as we can about each app. We start with some functions to make and parse through API requests, and take a look at the Steam API data that's returned for one appID before iterating through our whole list."
   ]
  },
  {
   "cell_type": "code",
   "execution_count": 123,
   "metadata": {},
   "outputs": [],
   "source": [
    "def get_api_request(url, parameters=None):\n",
    "\n",
    "    try:\n",
    "        response = requests.get(url=url, params=parameters)\n",
    "    except SSLError as err:\n",
    "        print('SSL Error:', err)\n",
    "        \n",
    "        for i in range(5, 0, -1):\n",
    "            print('Waiting... ({})'.format(i))\n",
    "            time.sleep(1)\n",
    "        print('Retrying...')\n",
    "        \n",
    "        # recusively try again if errored\n",
    "        return get_api_request(url, parameters)\n",
    "    \n",
    "    if response:\n",
    "        return response.json()\n",
    "    else:\n",
    "        # If there's no response it usually means too many requests in a given time \n",
    "        print('No response, waiting 10 seconds...')\n",
    "        time.sleep(10)\n",
    "        print('Retrying...')\n",
    "        return get_api_request(url, parameters)"
   ]
  },
  {
   "cell_type": "code",
   "execution_count": 124,
   "metadata": {},
   "outputs": [],
   "source": [
    "def parse_steam_request(appid):\n",
    "    '''Makes a request to the Steam Store API and returns all data for a given AppID.\n",
    "    \n",
    "    Returns : data in json format\n",
    "    '''\n",
    "    \n",
    "    url = \"http://store.steampowered.com/api/appdetails/\"\n",
    "    param = {\"appids\": appid}\n",
    "    \n",
    "    data = get_api_request(url, parameters=param)\n",
    "    \n",
    "    json_app_data = data[str(appid)]\n",
    "    \n",
    "    if json_app_data['success']:\n",
    "        data = json_app_data['data']\n",
    "    else:\n",
    "        data = {'steam_appid': appid}\n",
    "        \n",
    "    return data"
   ]
  },
  {
   "cell_type": "markdown",
   "metadata": {},
   "source": [
    "Pick an arbitrary appID to make sure the API call to Steam works, and see what kind of data we're getting."
   ]
  },
  {
   "cell_type": "code",
   "execution_count": 125,
   "metadata": {},
   "outputs": [],
   "source": [
    "test_data=parse_steam_request(1091520)"
   ]
  },
  {
   "cell_type": "code",
   "execution_count": 126,
   "metadata": {},
   "outputs": [
    {
     "data": {
      "text/plain": [
       "dict_keys(['type', 'name', 'steam_appid', 'required_age', 'is_free', 'detailed_description', 'about_the_game', 'short_description', 'supported_languages', 'header_image', 'website', 'pc_requirements', 'mac_requirements', 'linux_requirements', 'developers', 'publishers', 'price_overview', 'packages', 'package_groups', 'platforms', 'categories', 'genres', 'screenshots', 'movies', 'achievements', 'release_date', 'support_info', 'background', 'content_descriptors'])"
      ]
     },
     "execution_count": 126,
     "metadata": {},
     "output_type": "execute_result"
    }
   ],
   "source": [
    "test_data.keys()"
   ]
  },
  {
   "cell_type": "markdown",
   "metadata": {},
   "source": [
    "And we can take a peak at the full data for one game (trying not to think too much about this particular game I picked with questionable content but no age restrictions...I guess this is an indication of the full scope of Indie games we're going to find...)"
   ]
  },
  {
   "cell_type": "code",
   "execution_count": 300,
   "metadata": {},
   "outputs": [
    {
     "name": "stdout",
     "output_type": "stream",
     "text": [
      "鸿门一宴(Malicious Dinner)\n",
      "Malicious Dinner is an AVG indie game I made <strong>(not a Gal or sexual game)</strong> after work. It's aslo my 1st diy game. Ur choices will drive the entire plot. Pls do it wisely. Different choices will have influence on ur quality, popularity, game difficulty and results. <br><img src=\"https://steamcdn-a.akamaihd.net/steam/apps/1091520/extras/games.jpg?t=1572422069\" ><br>Including 1 bonus egg, 4 casual games, 5 careers, 6 results and 100+ hidden items. This is only 1st chapter of the story. Will optimize, update and add 4 more chapters of DLC later.<h2 class=\"bb_tag\"><strong>【Chapter 1】</strong></h2><img src=\"https://steamcdn-a.akamaihd.net/steam/apps/1091520/extras/故事-动画_1-000.png?t=1572422069\" ><br>Now U play a school girl who is invited to a volunteer-reward active, only to find it's actually a mailcious dinner. How to survive from it?<br>When u r toasted, drink or reject?<br>When u r framed, stay or hide?<br>When u r harassed, hesitate or refuse?<br>When u r abused, keep quiet or resist?<h2 class=\"bb_tag\"><strong>【Addition】</strong></h2><img src=\"https://steamcdn-a.akamaihd.net/steam/apps/1091520/extras/中en.png?t=1572422069\" ><br>★click the top left button of start menu can switch Chinese/English language.<br><a href=\"https://store.steampowered.com/app/1099400/_Evkworld/\" target=\"_blank\" rel=\"noreferrer\"  id=\"dynamiclink_1\" >https://store.steampowered.com/app/1099400/_Evkworld/</a><br>★It's a game made by Evkworld game engine ↑↑↑<br>★E-mail <a href=\"mailto:me（youdian14@yeah.net）\">me（youdian14@yeah.net）</a> or leave a comment if u have any idea. Please do NOT do advertising / result spoiling / flaming or abusing in review. THX!\n",
      "[{'id': '4', 'description': 'Casual'}, {'id': '23', 'description': 'Indie'}, {'id': '3', 'description': 'RPG'}, {'id': '2', 'description': 'Strategy'}]\n"
     ]
    }
   ],
   "source": [
    "print(test_data['name'])\n",
    "print(test_data['about_the_game'])\n",
    "print(test_data['genres'])"
   ]
  },
  {
   "cell_type": "markdown",
   "metadata": {},
   "source": [
    "For now, let's keep everything except: `detailed_description` (because, if you look, it can be *really long* and there are two other categories with very similar information), `pc_requirements`, `mac_requirements`, `linux_requirements` (because there's a feature for `platforms` which will give us plenty of information there), `legal_notice` (because who wants to deal with that...), and `email` (probably won't be relevant). We'll keep all of the images such as screenshots and assets for now, even if we end up not using all, because as a stretch goal we may want to do some image analysis later to see if we can learn anything about the art styles being used in each game."
   ]
  },
  {
   "cell_type": "code",
   "execution_count": 68,
   "metadata": {},
   "outputs": [],
   "source": [
    "cols_to_keep = [\n",
    "    'type', 'name', 'steam_appid', 'required_age', 'is_free', 'about_the_game', 'short_description', 'supported_languages',\n",
    "    'header_image', 'website', 'developers', 'publishers', 'price_overview', 'packages', 'package_groups', 'platforms', \n",
    "    'categories', 'genres', 'screenshots', 'movies', 'achievements', 'release_date', 'background', 'content_descriptors'\n",
    "]"
   ]
  },
  {
   "cell_type": "markdown",
   "metadata": {},
   "source": [
    "## 1.3 Collecting, Formatting and Writing Steam Store Data "
   ]
  },
  {
   "cell_type": "markdown",
   "metadata": {},
   "source": [
    "With the framework set up to collect the data we want from the Steam Store API, we can go ahead and iterate through the full list of AppIDs, writing to a CSV file. Since we have a large number of API requests to make, in order to avoid catastrophic data loss or massive overloading of the API, we'll want to split up the requests into batches and make sure to pause briefly between requests (Thanks to Nik Davis for this tip!)."
   ]
  },
  {
   "cell_type": "code",
   "execution_count": 190,
   "metadata": {},
   "outputs": [],
   "source": [
    "def make_app_data_list(start, stop, parse_func, applist, pause, output=True):\n",
    "    \"\"\"Return list of app data generated from parser.\n",
    "    \n",
    "    parse_func : function to handle request\n",
    "    \"\"\"\n",
    "    app_data = []\n",
    "    \n",
    "    # iterate through each row of app_list between start and stop\n",
    "    for index, appid in applist[start:stop].iteritems():\n",
    "        if output==True: #print details, useful for short runs but should be supressed for full production\n",
    "            print('Index: {}; Appid: {}'.format(index, appid))\n",
    "        \n",
    "        # retrive app data for a row, handled by supplied parser, and append to list\n",
    "        data = parse_func(appid)\n",
    "        app_data.append(data)\n",
    "\n",
    "        time.sleep(pause) # prevent overloading API with requests\n",
    "    \n",
    "    return app_data"
   ]
  },
  {
   "cell_type": "markdown",
   "metadata": {},
   "source": [
    "First, check on a small subset of apps to make sure the above function works as intended:"
   ]
  },
  {
   "cell_type": "code",
   "execution_count": 191,
   "metadata": {},
   "outputs": [
    {
     "name": "stdout",
     "output_type": "stream",
     "text": [
      "Index: 0; Appid: 1034230\n",
      "Index: 1; Appid: 603750\n"
     ]
    }
   ],
   "source": [
    "app_data = make_app_data_list(0,2,parse_steam_request, applist, 5)"
   ]
  },
  {
   "cell_type": "markdown",
   "metadata": {},
   "source": [
    "Next, create and initialize a CSV file to which we will iteratively write our data."
   ]
  },
  {
   "cell_type": "code",
   "execution_count": 280,
   "metadata": {},
   "outputs": [],
   "source": [
    "def init_csv_file(path, filename, columns):\n",
    "    '''Create file and write header row'''\n",
    "    file = os.path.join(path, filename)\n",
    "    with open(file, 'w', newline='') as f:\n",
    "        writer = csv.DictWriter(f, fieldnames=columns)\n",
    "        writer.writeheader()"
   ]
  },
  {
   "cell_type": "code",
   "execution_count": 317,
   "metadata": {},
   "outputs": [],
   "source": [
    "datafile = 'steam_data.csv'\n",
    "data_path = './data/'\n",
    "init_csv_file(data_path, datafile, cols_to_keep)"
   ]
  },
  {
   "cell_type": "markdown",
   "metadata": {},
   "source": [
    "Finally, collect and write the entire dataset in a batch process, saving to file every 100 (or whatever you chose) lines. This process takes quite a while, as there's over 22,000 apps to be processed), so as an example I've reduced the `\"stop\"` parameter to only 500. Change this to \"-1\" or use the default to rerun the full dataset."
   ]
  },
  {
   "cell_type": "code",
   "execution_count": 284,
   "metadata": {},
   "outputs": [],
   "source": [
    "def get_and_write_data_batches(path, filename, columns, applist, parse_func, start=0, stop=-1, batchsize=100, pause=2):\n",
    "    \n",
    "    if stop==-1: #process entire app list\n",
    "        stop=len(applist)+1\n",
    "        \n",
    "    batches = np.arange(start, stop, batchsize) #array to be used for \"start\" and \"stop\" values for batch requests\n",
    "    batches = np.append(batches, stop)\n",
    "    start_time = time.time()\n",
    "    \n",
    "    for i in range(len(batches)-1):\n",
    "        start_time_batch = time.time()\n",
    "        \n",
    "        batch_start = batches[i]\n",
    "        batch_stop = batches[i+1]\n",
    "        print('Batch #: {}'.format(i+1))\n",
    "        \n",
    "        #get data for batch\n",
    "        print('Collecting data from API...')\n",
    "        app_data = make_app_data_list(batch_start, batch_stop, parse_func, applist, pause, output=False)\n",
    "        \n",
    "        #write batch to file\n",
    "        print('Writing data to file...')\n",
    "        file = os.path.join(path, filename)\n",
    "        with open(file, 'a', newline='', encoding='utf-8') as f:\n",
    "            writer = csv.DictWriter(f, fieldnames=cols_to_keep, extrasaction='ignore')\n",
    "            time.sleep(1)\n",
    "            writer.writerows(app_data)\n",
    "        \n",
    "        #get time info and estimate remaining time\n",
    "        total_time = time.time()-start_time\n",
    "        batch_time = time.time()-start_time_batch\n",
    "        estimated_time_remaining = (stop-start)/batchsize*batch_time-total_time\n",
    "        print('Elapsed time: {} seconds'.format(round(total_time,3)))\n",
    "        print('Estimated time remaining: {} minutes'.format(round(estimated_time_remaining/60,3)))\n",
    "        print(' ')\n",
    "    print('Done!')"
   ]
  },
  {
   "cell_type": "code",
   "execution_count": 309,
   "metadata": {},
   "outputs": [
    {
     "name": "stdout",
     "output_type": "stream",
     "text": [
      "Batch #: 1\n",
      "Collecting data from API...\n",
      "Writing data to file...\n",
      "Elapsed time: 249.9 seconds\n",
      "Estimated time remaining: 37.485 minutes\n",
      " \n",
      "Batch #: 2\n",
      "Collecting data from API...\n",
      "Writing data to file...\n",
      "Elapsed time: 501.151 seconds\n",
      "Estimated time remaining: 33.522 minutes\n",
      " \n",
      "Batch #: 3\n",
      "Collecting data from API...\n",
      "Writing data to file...\n",
      "Elapsed time: 748.57 seconds\n",
      "Estimated time remaining: 28.76 minutes\n",
      " \n",
      "Batch #: 4\n",
      "Collecting data from API...\n",
      "Writing data to file...\n",
      "Elapsed time: 994.977 seconds\n",
      "Estimated time remaining: 24.485 minutes\n",
      " \n",
      "Batch #: 5\n",
      "Collecting data from API...\n",
      "Writing data to file...\n",
      "Elapsed time: 1243.446 seconds\n",
      "Estimated time remaining: 20.687 minutes\n",
      " \n",
      "Batch #: 6\n",
      "Collecting data from API...\n",
      "Writing data to file...\n",
      "Elapsed time: 1493.774 seconds\n",
      "Estimated time remaining: 16.825 minutes\n",
      " \n",
      "Batch #: 7\n",
      "Collecting data from API...\n",
      "Writing data to file...\n",
      "Elapsed time: 1756.558 seconds\n",
      "Estimated time remaining: 14.521 minutes\n",
      " \n",
      "Batch #: 8\n",
      "Collecting data from API...\n",
      "Writing data to file...\n",
      "Elapsed time: 2001.315 seconds\n",
      "Estimated time remaining: 7.438 minutes\n",
      " \n",
      "Batch #: 9\n",
      "Collecting data from API...\n",
      "Writing data to file...\n",
      "Elapsed time: 2242.702 seconds\n",
      "Estimated time remaining: 2.853 minutes\n",
      " \n",
      "Batch #: 10\n",
      "Collecting data from API...\n",
      "Writing data to file...\n",
      "Elapsed time: 2502.508 seconds\n",
      "Estimated time remaining: 1.592 minutes\n",
      " \n",
      "Done!\n"
     ]
    }
   ],
   "source": [
    "get_and_write_data_batches(path=data_path, filename=datafile, columns=cols_to_keep, applist=applist, parse_func = parse_steam_request, start=9000, stop=10000, batchsize=100, pause=2)"
   ]
  },
  {
   "cell_type": "markdown",
   "metadata": {},
   "source": [
    "## 1.4 Using SteamSpy to Get Game Popularity Data"
   ]
  },
  {
   "cell_type": "markdown",
   "metadata": {},
   "source": [
    "The final step to our data collection process is to use the SteamSpy API to obtain game sales/rating information that isn't available directly from Steam. This API is much simpler to use than the Steam Storefront API, and has really straightforward documentation on its website (however, sometimes it goes down and the information we need isn't available...). \n",
    "\n",
    "Luckily, we can reuse most of the functions we created for the Steam API data collection - we'll just feed a different parser into the functions to collect and write the data. The function to make a API request to SteamSpy is below. Like we did previously, before we go collecting 22,000+ data points, we want to take a look at an arbitrary AppID and see what kind of information SteamSpy will give us."
   ]
  },
  {
   "cell_type": "code",
   "execution_count": 310,
   "metadata": {},
   "outputs": [],
   "source": [
    "def parse_steamspy_request(appid):\n",
    "    '''Parser to handle SteamSpy API data.'''\n",
    "    \n",
    "    url = \"https://steamspy.com/api.php\"\n",
    "    parameters = {\"request\": \"appdetails\", \"appid\": appid}\n",
    "    \n",
    "    json_data = get_request(url, parameters)\n",
    "    return json_data"
   ]
  },
  {
   "cell_type": "code",
   "execution_count": 312,
   "metadata": {},
   "outputs": [
    {
     "data": {
      "text/plain": [
       "{'appid': 603750,\n",
       " 'name': '- Arcane Raise -',\n",
       " 'developer': 'Arcane Raise',\n",
       " 'publisher': 'WAX Publishing',\n",
       " 'score_rank': '',\n",
       " 'positive': 54,\n",
       " 'negative': 91,\n",
       " 'userscore': 0,\n",
       " 'owners': '50,000 .. 100,000',\n",
       " 'average_forever': 217,\n",
       " 'average_2weeks': 0,\n",
       " 'median_forever': 210,\n",
       " 'median_2weeks': 0,\n",
       " 'price': '299',\n",
       " 'initialprice': '299',\n",
       " 'discount': '0',\n",
       " 'languages': 'English',\n",
       " 'genre': 'Adventure, Casual, Indie, RPG, Strategy',\n",
       " 'ccu': 0,\n",
       " 'tags': {'Adventure': 66,\n",
       "  'RPG': 48,\n",
       "  'Strategy': 40,\n",
       "  'Casual': 34,\n",
       "  'RPGMaker': 30,\n",
       "  'JRPG': 26,\n",
       "  'Indie': 24,\n",
       "  'Fantasy': 24,\n",
       "  'Story Rich': 19,\n",
       "  'Rogue-like': 5}}"
      ]
     },
     "execution_count": 312,
     "metadata": {},
     "output_type": "execute_result"
    }
   ],
   "source": [
    "parse_steamspy_request(603750)"
   ]
  },
  {
   "cell_type": "markdown",
   "metadata": {},
   "source": [
    "We can quickly see that a lot of the categories on SteamSpy are duplicates of what we get from Steam, such as `name`, `developer/publisher`, `genre`, `languages`, etc, but that we also have some intriguing categories such as `positive`, `negative`, and `owners`. In the example above, the `score_rank` and `userscore` categories are blank, but maybe those will be useful as well for some AppIDs. The `average_forever` and similar categories may be of interest, as these give the average (or median) playtime (in minutes) and is a very different metric from just how many people bought a game and never touched it after the first day. For now, we'll go ahead and collect all of this data, and later decide if we want to remove anything redundant or unhelpful when we clean the data and merge the Steam and SteamSpy datasets.\n",
    "\n",
    "We'll start by initializing a data file with the columns we want, much the same as we did for the Steam API data:"
   ]
  },
  {
   "cell_type": "code",
   "execution_count": 315,
   "metadata": {},
   "outputs": [],
   "source": [
    "cols_steamspy = ['appid', 'name', 'developer', 'publisher', 'score_rank', 'positive', 'negative', 'userscore', 'owners',\n",
    "                 'average_forever', 'average_2weeks', 'median_forever', 'median_2weeks', 'price', 'initialprice', 'discount',\n",
    "                 'languages', 'genre', 'ccu', 'tags']\n",
    "\n",
    "datafile_steamspy = 'steamspy_data.csv'\n",
    "data_path_steamspy = './data/'\n",
    "init_csv_file(data_path_steamspy, datafile_steamspy, cols_steamspy)"
   ]
  },
  {
   "cell_type": "markdown",
   "metadata": {},
   "source": [
    "Then, we'll use the same data collection function as before, supplying this time the parser function to the SteamSpy API as well as the appropriate columns. The SteamSpy API has a higher polling rate than the Steam API, so we can also safely reduce the valueof `pause` to speed up the process. "
   ]
  },
  {
   "cell_type": "code",
   "execution_count": 316,
   "metadata": {},
   "outputs": [
    {
     "name": "stdout",
     "output_type": "stream",
     "text": [
      "Batch #: 1\n",
      "Collecting data from API...\n",
      "Writing data to file...\n",
      "Elapsed time: 105.957 seconds\n",
      "Estimated time remaining: 1.766 minutes\n",
      " \n",
      "Batch #: 2\n",
      "Collecting data from API...\n",
      "Writing data to file...\n",
      "Elapsed time: 192.642 seconds\n",
      "Estimated time remaining: -0.321 minutes\n",
      " \n",
      "Done!\n"
     ]
    }
   ],
   "source": [
    "get_and_write_data_batches(path=data_path_steamspy, filename=datafile_steamspy, columns=cols_steamspy, applist=applist, parse_func = parse_steamspy_request, start=0, stop=200, batchsize=100, pause=0.5)"
   ]
  },
  {
   "cell_type": "markdown",
   "metadata": {},
   "source": [
    "### Concluding Thoughts"
   ]
  },
  {
   "cell_type": "markdown",
   "metadata": {},
   "source": [
    "And that's it for Part 1! So far, we have two datasets, saved as CSV files, that contain different information pertaining to each Indie game. We can look at, for example, the Steam data, and see that it's really quite a mess, and we have a lot to do in the next section on data cleaning! In addition to cleaning, in Part 2 we will decide which categories we want to keep in our main dataset, and combine the information from Steam and SteamSpy."
   ]
  },
  {
   "cell_type": "code",
   "execution_count": 319,
   "metadata": {},
   "outputs": [],
   "source": [
    "steam_data = pd.read_csv('./data/steam_data.csv')"
   ]
  },
  {
   "cell_type": "code",
   "execution_count": 321,
   "metadata": {},
   "outputs": [
    {
     "data": {
      "text/html": [
       "<div>\n",
       "<style scoped>\n",
       "    .dataframe tbody tr th:only-of-type {\n",
       "        vertical-align: middle;\n",
       "    }\n",
       "\n",
       "    .dataframe tbody tr th {\n",
       "        vertical-align: top;\n",
       "    }\n",
       "\n",
       "    .dataframe thead th {\n",
       "        text-align: right;\n",
       "    }\n",
       "</style>\n",
       "<table border=\"1\" class=\"dataframe\">\n",
       "  <thead>\n",
       "    <tr style=\"text-align: right;\">\n",
       "      <th></th>\n",
       "      <th>type</th>\n",
       "      <th>name</th>\n",
       "      <th>steam_appid</th>\n",
       "      <th>required_age</th>\n",
       "      <th>is_free</th>\n",
       "      <th>about_the_game</th>\n",
       "      <th>short_description</th>\n",
       "      <th>supported_languages</th>\n",
       "      <th>header_image</th>\n",
       "      <th>website</th>\n",
       "      <th>developers</th>\n",
       "      <th>publishers</th>\n",
       "      <th>price_overview</th>\n",
       "      <th>packages</th>\n",
       "      <th>package_groups</th>\n",
       "      <th>platforms</th>\n",
       "      <th>categories</th>\n",
       "      <th>genres</th>\n",
       "      <th>screenshots</th>\n",
       "      <th>movies</th>\n",
       "      <th>achievements</th>\n",
       "      <th>release_date</th>\n",
       "      <th>background</th>\n",
       "      <th>content_descriptors</th>\n",
       "    </tr>\n",
       "  </thead>\n",
       "  <tbody>\n",
       "    <tr>\n",
       "      <th>0</th>\n",
       "      <td>game</td>\n",
       "      <td>***</td>\n",
       "      <td>1034230</td>\n",
       "      <td>0.0</td>\n",
       "      <td>False</td>\n",
       "      <td>*** is a small game.&lt;br /&gt;\\r\\nIt is easy to pl...</td>\n",
       "      <td>*** is a small game. It is easy to play,hope y...</td>\n",
       "      <td>English&lt;strong&gt;*&lt;/strong&gt;, French&lt;strong&gt;*&lt;/st...</td>\n",
       "      <td>https://steamcdn-a.akamaihd.net/steam/apps/103...</td>\n",
       "      <td>NaN</td>\n",
       "      <td>['Kenshin Game Studio']</td>\n",
       "      <td>['Kenshin Game Studio']</td>\n",
       "      <td>{'currency': 'USD', 'initial': 99, 'final': 99...</td>\n",
       "      <td>[344162]</td>\n",
       "      <td>[{'name': 'default', 'title': 'Buy ***', 'desc...</td>\n",
       "      <td>{'windows': True, 'mac': False, 'linux': False}</td>\n",
       "      <td>[{'id': 2, 'description': 'Single-player'}]</td>\n",
       "      <td>[{'id': '4', 'description': 'Casual'}, {'id': ...</td>\n",
       "      <td>[{'id': 0, 'path_thumbnail': 'https://steamcdn...</td>\n",
       "      <td>[{'id': 256744684, 'name': 'V0.3', 'thumbnail'...</td>\n",
       "      <td>NaN</td>\n",
       "      <td>{'coming_soon': False, 'date': 'Mar 17, 2019'}</td>\n",
       "      <td>https://steamcdn-a.akamaihd.net/steam/apps/103...</td>\n",
       "      <td>{'ids': [], 'notes': None}</td>\n",
       "    </tr>\n",
       "    <tr>\n",
       "      <th>1</th>\n",
       "      <td>game</td>\n",
       "      <td>- Arcane Raise -</td>\n",
       "      <td>603750</td>\n",
       "      <td>0.0</td>\n",
       "      <td>False</td>\n",
       "      <td>&lt;img src=\"https://steamcdn-a.akamaihd.net/stea...</td>\n",
       "      <td>Arcane Raise is a role-playing video game fran...</td>\n",
       "      <td>English&lt;strong&gt;*&lt;/strong&gt;&lt;br&gt;&lt;strong&gt;*&lt;/strong...</td>\n",
       "      <td>https://steamcdn-a.akamaihd.net/steam/apps/603...</td>\n",
       "      <td>NaN</td>\n",
       "      <td>['Arcane Raise']</td>\n",
       "      <td>['WAX Publishing']</td>\n",
       "      <td>{'currency': 'USD', 'initial': 299, 'final': 2...</td>\n",
       "      <td>[158866]</td>\n",
       "      <td>[{'name': 'default', 'title': 'Buy - Arcane Ra...</td>\n",
       "      <td>{'windows': True, 'mac': True, 'linux': True}</td>\n",
       "      <td>[{'id': 2, 'description': 'Single-player'}, {'...</td>\n",
       "      <td>[{'id': '25', 'description': 'Adventure'}, {'i...</td>\n",
       "      <td>[{'id': 0, 'path_thumbnail': 'https://steamcdn...</td>\n",
       "      <td>[{'id': 256680620, 'name': 'Arcane Raise - Lau...</td>\n",
       "      <td>{'total': 37, 'highlighted': [{'name': 'Letter...</td>\n",
       "      <td>{'coming_soon': False, 'date': 'Mar 10, 2017'}</td>\n",
       "      <td>https://steamcdn-a.akamaihd.net/steam/apps/603...</td>\n",
       "      <td>{'ids': [], 'notes': None}</td>\n",
       "    </tr>\n",
       "  </tbody>\n",
       "</table>\n",
       "</div>"
      ],
      "text/plain": [
       "   type              name  steam_appid  required_age is_free  \\\n",
       "0  game               ***      1034230           0.0   False   \n",
       "1  game  - Arcane Raise -       603750           0.0   False   \n",
       "\n",
       "                                      about_the_game  \\\n",
       "0  *** is a small game.<br />\\r\\nIt is easy to pl...   \n",
       "1  <img src=\"https://steamcdn-a.akamaihd.net/stea...   \n",
       "\n",
       "                                   short_description  \\\n",
       "0  *** is a small game. It is easy to play,hope y...   \n",
       "1  Arcane Raise is a role-playing video game fran...   \n",
       "\n",
       "                                 supported_languages  \\\n",
       "0  English<strong>*</strong>, French<strong>*</st...   \n",
       "1  English<strong>*</strong><br><strong>*</strong...   \n",
       "\n",
       "                                        header_image website  \\\n",
       "0  https://steamcdn-a.akamaihd.net/steam/apps/103...     NaN   \n",
       "1  https://steamcdn-a.akamaihd.net/steam/apps/603...     NaN   \n",
       "\n",
       "                developers               publishers  \\\n",
       "0  ['Kenshin Game Studio']  ['Kenshin Game Studio']   \n",
       "1         ['Arcane Raise']       ['WAX Publishing']   \n",
       "\n",
       "                                      price_overview  packages  \\\n",
       "0  {'currency': 'USD', 'initial': 99, 'final': 99...  [344162]   \n",
       "1  {'currency': 'USD', 'initial': 299, 'final': 2...  [158866]   \n",
       "\n",
       "                                      package_groups  \\\n",
       "0  [{'name': 'default', 'title': 'Buy ***', 'desc...   \n",
       "1  [{'name': 'default', 'title': 'Buy - Arcane Ra...   \n",
       "\n",
       "                                         platforms  \\\n",
       "0  {'windows': True, 'mac': False, 'linux': False}   \n",
       "1    {'windows': True, 'mac': True, 'linux': True}   \n",
       "\n",
       "                                          categories  \\\n",
       "0        [{'id': 2, 'description': 'Single-player'}]   \n",
       "1  [{'id': 2, 'description': 'Single-player'}, {'...   \n",
       "\n",
       "                                              genres  \\\n",
       "0  [{'id': '4', 'description': 'Casual'}, {'id': ...   \n",
       "1  [{'id': '25', 'description': 'Adventure'}, {'i...   \n",
       "\n",
       "                                         screenshots  \\\n",
       "0  [{'id': 0, 'path_thumbnail': 'https://steamcdn...   \n",
       "1  [{'id': 0, 'path_thumbnail': 'https://steamcdn...   \n",
       "\n",
       "                                              movies  \\\n",
       "0  [{'id': 256744684, 'name': 'V0.3', 'thumbnail'...   \n",
       "1  [{'id': 256680620, 'name': 'Arcane Raise - Lau...   \n",
       "\n",
       "                                        achievements  \\\n",
       "0                                                NaN   \n",
       "1  {'total': 37, 'highlighted': [{'name': 'Letter...   \n",
       "\n",
       "                                     release_date  \\\n",
       "0  {'coming_soon': False, 'date': 'Mar 17, 2019'}   \n",
       "1  {'coming_soon': False, 'date': 'Mar 10, 2017'}   \n",
       "\n",
       "                                          background  \\\n",
       "0  https://steamcdn-a.akamaihd.net/steam/apps/103...   \n",
       "1  https://steamcdn-a.akamaihd.net/steam/apps/603...   \n",
       "\n",
       "          content_descriptors  \n",
       "0  {'ids': [], 'notes': None}  \n",
       "1  {'ids': [], 'notes': None}  "
      ]
     },
     "execution_count": 321,
     "metadata": {},
     "output_type": "execute_result"
    }
   ],
   "source": [
    "steam_data.head(2)"
   ]
  }
 ],
 "metadata": {
  "kernelspec": {
   "display_name": "Python 3",
   "language": "python",
   "name": "python3"
  },
  "language_info": {
   "codemirror_mode": {
    "name": "ipython",
    "version": 3
   },
   "file_extension": ".py",
   "mimetype": "text/x-python",
   "name": "python",
   "nbconvert_exporter": "python",
   "pygments_lexer": "ipython3",
   "version": "3.7.1"
  }
 },
 "nbformat": 4,
 "nbformat_minor": 2
}
