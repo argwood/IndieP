{
 "cells": [
  {
   "cell_type": "markdown",
   "metadata": {},
   "source": [
    "# IndieP: Predicting the Success of Indie Games on Steam"
   ]
  },
  {
   "cell_type": "markdown",
   "metadata": {},
   "source": [
    "# Part 3: Data Exploration"
   ]
  },
  {
   "cell_type": "markdown",
   "metadata": {},
   "source": [
    "<div align=\"center\"><img src=\"./data_exploration.jpg\", title=\"Image from activestate.com\", width=\"50%\"/></div>"
   ]
  },
  {
   "cell_type": "markdown",
   "metadata": {},
   "source": [
    "So. We've got a lot of data. We've got titles, genres, release dates, availability of external media sources, available platforms and languages, price and release date. Then we've got positive and negative ratings, overall copies owned, number of people playing the game at the same time, and statistics on how long people have spent playing each game. \n",
    "\n",
    "What do we do with it? How do we use all of this information, and actually ask and discover answers to the question \"What makes an indie game successful?\"  \n",
    "\n",
    "**While Machine Learning is as the forefront of essential Data Science methodologies, there's a lot one can do to understand their data without (or before) applying ML techniques.** In Part 2 of this project, we cleaned and investigated each of the features in our dataset individually, but one question that we could as is: \"How do the features correlate to each other?\" For example, how does the price of the game correlate to features such as positive and negative ratings, number of owners, or playtime? One could even ask how features such as the number of languages, platforms, or achievements correlate to the price. Are games with more of these attributes typically more expensive? Are there categories or genres that are more expensive? We could further investigate questions such as: is there a certain time of the year when more successful games are released? "
   ]
  },
  {
   "cell_type": "code",
   "execution_count": 1,
   "metadata": {},
   "outputs": [],
   "source": [
    "import csv\n",
    "import os\n",
    "\n",
    "import pandas as pd\n",
    "import numpy as np\n",
    "import matplotlib.pyplot as plt\n",
    "import missingno\n",
    "import seaborn as sns\n",
    "from ast import literal_eval\n",
    "import re\n",
    "\n",
    "pd.set_option(\"max_columns\", 1000)"
   ]
  },
  {
   "cell_type": "code",
   "execution_count": 4,
   "metadata": {},
   "outputs": [],
   "source": [
    "data_full = pd.read_csv('./data/indie_games_steam.csv')"
   ]
  },
  {
   "cell_type": "code",
   "execution_count": 5,
   "metadata": {},
   "outputs": [
    {
     "data": {
      "text/html": [
       "<div>\n",
       "<style scoped>\n",
       "    .dataframe tbody tr th:only-of-type {\n",
       "        vertical-align: middle;\n",
       "    }\n",
       "\n",
       "    .dataframe tbody tr th {\n",
       "        vertical-align: top;\n",
       "    }\n",
       "\n",
       "    .dataframe thead th {\n",
       "        text-align: right;\n",
       "    }\n",
       "</style>\n",
       "<table border=\"1\" class=\"dataframe\">\n",
       "  <thead>\n",
       "    <tr style=\"text-align: right;\">\n",
       "      <th></th>\n",
       "      <th>name</th>\n",
       "      <th>appid</th>\n",
       "      <th>developers</th>\n",
       "      <th>publishers</th>\n",
       "      <th>price</th>\n",
       "      <th>is_free</th>\n",
       "      <th>platforms</th>\n",
       "      <th>release_date</th>\n",
       "      <th>required_age</th>\n",
       "      <th>n_languages</th>\n",
       "      <th>n_packages</th>\n",
       "      <th>has_website</th>\n",
       "      <th>achievements</th>\n",
       "      <th>categories</th>\n",
       "      <th>genres</th>\n",
       "      <th>positive_ratings</th>\n",
       "      <th>negative_ratings</th>\n",
       "      <th>owners</th>\n",
       "      <th>average_playtime</th>\n",
       "      <th>median_playtime</th>\n",
       "      <th>ccu</th>\n",
       "      <th>tags</th>\n",
       "    </tr>\n",
       "  </thead>\n",
       "  <tbody>\n",
       "    <tr>\n",
       "      <th>0</th>\n",
       "      <td>Rag Doll Kung Fu</td>\n",
       "      <td>1002</td>\n",
       "      <td>Mark Healey</td>\n",
       "      <td>Mark Healey</td>\n",
       "      <td>0</td>\n",
       "      <td>0</td>\n",
       "      <td>Windows</td>\n",
       "      <td>10/12/2005</td>\n",
       "      <td>0</td>\n",
       "      <td>1</td>\n",
       "      <td>1</td>\n",
       "      <td>1</td>\n",
       "      <td>0</td>\n",
       "      <td>Single-player; Multi-player</td>\n",
       "      <td>Indie</td>\n",
       "      <td>44</td>\n",
       "      <td>18</td>\n",
       "      <td>0 - 20000</td>\n",
       "      <td>0</td>\n",
       "      <td>0</td>\n",
       "      <td>0</td>\n",
       "      <td>2D Fighter; Martial Arts; Multiplayer; Intenti...</td>\n",
       "    </tr>\n",
       "    <tr>\n",
       "      <th>1</th>\n",
       "      <td>Darwinia</td>\n",
       "      <td>1500</td>\n",
       "      <td>Introversion Software</td>\n",
       "      <td>Introversion Software</td>\n",
       "      <td>0</td>\n",
       "      <td>0</td>\n",
       "      <td>Windows; Mac; Linux</td>\n",
       "      <td>07/14/2005</td>\n",
       "      <td>0</td>\n",
       "      <td>2</td>\n",
       "      <td>4</td>\n",
       "      <td>1</td>\n",
       "      <td>0</td>\n",
       "      <td>Single-player</td>\n",
       "      <td>Indie; Strategy</td>\n",
       "      <td>508</td>\n",
       "      <td>168</td>\n",
       "      <td>500000 - 1000000</td>\n",
       "      <td>9</td>\n",
       "      <td>13</td>\n",
       "      <td>5</td>\n",
       "      <td>Strategy; Indie; RTS; Singleplayer; Retro; Sto...</td>\n",
       "    </tr>\n",
       "  </tbody>\n",
       "</table>\n",
       "</div>"
      ],
      "text/plain": [
       "               name  appid             developers             publishers  \\\n",
       "0  Rag Doll Kung Fu   1002            Mark Healey            Mark Healey   \n",
       "1          Darwinia   1500  Introversion Software  Introversion Software   \n",
       "\n",
       "  price  is_free            platforms release_date  required_age  n_languages  \\\n",
       "0     0        0              Windows   10/12/2005             0            1   \n",
       "1     0        0  Windows; Mac; Linux   07/14/2005             0            2   \n",
       "\n",
       "   n_packages  has_website  achievements                   categories  \\\n",
       "0           1            1             0  Single-player; Multi-player   \n",
       "1           4            1             0                Single-player   \n",
       "\n",
       "            genres  positive_ratings  negative_ratings            owners  \\\n",
       "0            Indie                44                18         0 - 20000   \n",
       "1  Indie; Strategy               508               168  500000 - 1000000   \n",
       "\n",
       "   average_playtime  median_playtime  ccu  \\\n",
       "0                 0                0    0   \n",
       "1                 9               13    5   \n",
       "\n",
       "                                                tags  \n",
       "0  2D Fighter; Martial Arts; Multiplayer; Intenti...  \n",
       "1  Strategy; Indie; RTS; Singleplayer; Retro; Sto...  "
      ]
     },
     "execution_count": 5,
     "metadata": {},
     "output_type": "execute_result"
    }
   ],
   "source": [
    "data_full.head(2)"
   ]
  },
  {
   "cell_type": "markdown",
   "metadata": {},
   "source": [
    "### 3.1 Additional Feature Cleaning"
   ]
  },
  {
   "cell_type": "markdown",
   "metadata": {},
   "source": [
    "In Part 2, we created a clean dataset of indie games including all of the features that may be in some way correlated to the success of a game. However, in order to prepare our data for input to Machine Learning algorithms and feature selection algorithms such as Principle Component Analysis, we need to take care of a few more things.\n",
    "\n",
    "1. Ensure all numerical data is provides as float or int \n",
    "2. Bin continuous numerical data where appropriate\n",
    "3. Decide how to deal with outliers"
   ]
  },
  {
   "cell_type": "markdown",
   "metadata": {},
   "source": [
    "Additionally, for the `release_date` feature, we intentionally left in missing data because we didn't want to remove thousands of rows that were otherwise useful. To account for this missing data, we will create a subset of our dataset to be used for analyzing the effect of the release date on other features, which has the missing rows removed."
   ]
  },
  {
   "cell_type": "code",
   "execution_count": 12,
   "metadata": {},
   "outputs": [
    {
     "data": {
      "text/plain": [
       "name                object\n",
       "appid                int64\n",
       "developers          object\n",
       "publishers          object\n",
       "price               object\n",
       "is_free              int64\n",
       "platforms           object\n",
       "release_date        object\n",
       "required_age         int64\n",
       "n_languages          int64\n",
       "n_packages           int64\n",
       "has_website          int64\n",
       "achievements         int64\n",
       "categories          object\n",
       "genres              object\n",
       "positive_ratings     int64\n",
       "negative_ratings     int64\n",
       "owners              object\n",
       "average_playtime     int64\n",
       "median_playtime      int64\n",
       "ccu                  int64\n",
       "tags                object\n",
       "dtype: object"
      ]
     },
     "execution_count": 12,
     "metadata": {},
     "output_type": "execute_result"
    }
   ],
   "source": [
    "data_full.dtypes"
   ]
  },
  {
   "cell_type": "code",
   "execution_count": 15,
   "metadata": {},
   "outputs": [],
   "source": [
    "data_sample = data_full.sample(frac=0.1)"
   ]
  },
  {
   "cell_type": "code",
   "execution_count": 16,
   "metadata": {},
   "outputs": [
    {
     "data": {
      "text/plain": [
       "2173"
      ]
     },
     "execution_count": 16,
     "metadata": {},
     "output_type": "execute_result"
    }
   ],
   "source": [
    "len(data_sample)"
   ]
  },
  {
   "cell_type": "markdown",
   "metadata": {},
   "source": [
    "### 3.2 Feature Engineering"
   ]
  },
  {
   "cell_type": "markdown",
   "metadata": {},
   "source": [
    "In addition to making sure our features are appropriately cleaned to be useful, we also can use human intuition to create new features out of existing ones so that the data can be used more effectively. Some examples of features we may want to create:\n",
    "\n",
    "1. `ratings_ratio`: ratio of positive to negative ratings - if greater than 1, the game has more positive than negative ratings\n",
    "2. `ratings_net_pos`: binomial - 1 if `ratings_ratio` is greater than 1, 0 otherwise.\n",
    "3. `total_ratings`: total number of positive and negative ratings\n",
    "4. `n_dev_games`: total number of games created by the developer of the game\n",
    "5. `n_platforms`: number of platforms on which the game is available\n",
    "6. `is_single_player`: 1 if has single-player option, 0 otherwise\n",
    "7. `is_multi_player`: 1 if has multi-player option, 0 otherwise\n",
    "8. `n_genres`: number of genres listed\n",
    "9. `n_categories`: number of categories listed\n",
    "10. `n_tags`: number of tags listed"
   ]
  },
  {
   "cell_type": "markdown",
   "metadata": {},
   "source": [
    "### 3.3 Investigating Feature Correlations"
   ]
  },
  {
   "cell_type": "markdown",
   "metadata": {},
   "source": [
    "### Bi-Viariate Feature Analysis"
   ]
  },
  {
   "cell_type": "markdown",
   "metadata": {},
   "source": [
    "### Correlation Matrices"
   ]
  },
  {
   "cell_type": "markdown",
   "metadata": {},
   "source": [
    "### 3.4 Feature Encoding "
   ]
  },
  {
   "cell_type": "markdown",
   "metadata": {},
   "source": [
    "### 3.5 Feature Importance"
   ]
  },
  {
   "cell_type": "markdown",
   "metadata": {},
   "source": [
    "### Principal Component Analysis"
   ]
  },
  {
   "cell_type": "code",
   "execution_count": null,
   "metadata": {},
   "outputs": [],
   "source": []
  },
  {
   "cell_type": "code",
   "execution_count": 19,
   "metadata": {
    "scrolled": false
   },
   "outputs": [],
   "source": [
    "# Interaction between pairs of features.\n",
    "#sns.pairplot(data_sample[['n_languages', 'achievements', 'ccu']], \n",
    "#             hue=\"ccu\", \n",
    "#             diag_kind=\"kde\",\n",
    "#             height=4);"
   ]
  },
  {
   "cell_type": "code",
   "execution_count": null,
   "metadata": {},
   "outputs": [],
   "source": []
  }
 ],
 "metadata": {
  "kernelspec": {
   "display_name": "Python 3",
   "language": "python",
   "name": "python3"
  },
  "language_info": {
   "codemirror_mode": {
    "name": "ipython",
    "version": 3
   },
   "file_extension": ".py",
   "mimetype": "text/x-python",
   "name": "python",
   "nbconvert_exporter": "python",
   "pygments_lexer": "ipython3",
   "version": "3.7.1"
  }
 },
 "nbformat": 4,
 "nbformat_minor": 2
}
