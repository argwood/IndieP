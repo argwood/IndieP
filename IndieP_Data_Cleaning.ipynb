{
 "cells": [
  {
   "cell_type": "markdown",
   "metadata": {},
   "source": [
    "# IndieP: Predicting the Success of Indie Games on Steam"
   ]
  },
  {
   "cell_type": "markdown",
   "metadata": {},
   "source": [
    "# Part 2: Data Cleaning"
   ]
  },
  {
   "cell_type": "markdown",
   "metadata": {},
   "source": [
    "<div align=\"center\"><img src=\"./data_cleaning.jpeg\", title=\"Image from becominghuman.ai\", width=\"50%\"/></div>"
   ]
  },
  {
   "cell_type": "markdown",
   "metadata": {},
   "source": [
    "In [Part 1](https://github.com/argwood/IndieP/blob/master/IndieP_Data_Collection.ipynb) of this project, we collected a dataset of roughly 22,700 Indie Games including information about the games themselves, collected using the Steam Storefront API, as well as popularity data such as ratings and number of users, collected using the SteamSpy API. The data we collected so far, however, is a bit of a mess and in no way suited for data exploration let alone any machine learning algorithms. We have columns with missing data, columns with json objects embedded inside of them, columns of long markdown text, different ways of handling missing data (0's versus NaNs), and more. Thus, the process of cleaning up our data to be usable and look presentable will be crucial to the next phases of this project. \n",
    "\n",
    "As a number of Steam game datasets exist already on [Kaggle](https://www.kaggle.com/nikdavis/steam-store-games), I tried not to be influenced by their decisions on how each clean feature should look - though of course, in many places, there's only one \"best\" way to do things."
   ]
  },
  {
   "cell_type": "markdown",
   "metadata": {},
   "source": [
    "## 2. Data Cleaning"
   ]
  },
  {
   "cell_type": "markdown",
   "metadata": {},
   "source": [
    "**The goal of the second part of this project is to take the messy datasets we created in Part 1, and transform them into one dataset that is presentable, usable, easy to read, and contains only the columns that we are interested in for the later stages of the project.** As mentioned previously, we ultimately want to discover what features have the greatest effect on the success of a game, and thus the features we will focus on include qualities of the games themselves (price, genres, game descriptions, number of achievements, etc), and metrics that may be useful for quantifying sucess, such as ratings, number of users, and number of copies purchased. \n",
    "\n",
    "We will begin this part of the project by taking a look at the data we collected, and making sure our list of AppIDs matches the AppIDs in the full dataset (ensuring we didn't miss any or make any API requests twice, when collecting the data). We will decide how to handle the AppIDs that weren't found by the API, and then investigate other missing data. From here, we will perform transformations on the columns that are messy or have mixed datatypes, and then finally combine the two datasets from the Steam API and SteamSpy API into one table. In Part 4, we will apply some final data transformations on alphanumerical features to prepare them for input to machine learning algorithms, but otherwise at the end of this section we will obtain our final dataset to be used for the remainder of this project."
   ]
  },
  {
   "cell_type": "markdown",
   "metadata": {},
   "source": [
    "In general, for data cleaning, we'll want to consider how to deal with the following types of scenarios:\n",
    "1. **Missing Values:** We can either choose to remove full columns (features) with too much missing data, remove full rows (games) with too much missing data, or fill the data in by using averages or regression. We can also transform columns with a lot of missing data into `Yes/No` binary columns indicating whether this feature exists (we will do this for DLC/packages, later) \n",
    "2. **Special Values:** Make sure that special characters such as infinity, NA and NaN are handled uniformly and won't be part of any future calculations upon those features. Additionally, we'll make sure all prices are formatted uniformly.\n",
    "3. **Text Formatting:** Remove messy markdown text from features that include long pieces of text. We'll also reformat columns of json objects into cleaner lists.\n",
    "4. **Outliers**: Check for outliers, and decide based on the feature, type, etc, if they should be kept or removed.\n",
    "5. **Inconsistencies**: Look for inconsistencies such as negative prices, release dates in the future but `coming_soon` listed as false, `is_free` listed as true but a price provided in `price_overview`, etc. \n",
    "\n",
    "**Note that while this full notebook is created using Pandas, a lot of the commands executed are much better suited for SQL (pretty much every SQL command can be executed with Pandas, but sometimes a simple SQL command like `SELECT * FROM data_steam WHERE developers == publishers`) is unneccessarily messy in Pandas. In fact, after this Part of our project, we'll take a detour to SQL-land, where we will save our data as a SQLite database and do a bit of analysis and cleaning with SQL, mostly just to show the comparison. We'll also use SQL to join our Steam and SteamSpy tables, as a relational database is ideal for the data framework we will have.** "
   ]
  },
  {
   "cell_type": "markdown",
   "metadata": {},
   "source": [
    "### 2.0 Useful Resources for Data Cleaning"
   ]
  },
  {
   "cell_type": "markdown",
   "metadata": {},
   "source": [
    "Most of my knowledge of data cleaning comes from a class I took at the University of Chicago, but here are some additional resources I used for Part 2 of this project."
   ]
  },
  {
   "cell_type": "markdown",
   "metadata": {},
   "source": [
    "1. Intro to Data Engineering - University of Chicago, Dept. of Computer Science (2019)\n",
    "2. [The Ultimate Guide to Data Cleaning](https://towardsdatascience.com/the-ultimate-guide-to-data-cleaning-3969843991d4)\n",
    "3. [Daniel Bourke's Guide to Exploratory Data Analysis](https://towardsdatascience.com/a-gentle-introduction-to-exploratory-data-analysis-f11d843b8184)\n",
    "3. [Becoming Human: AI Article on Data Cleaning](https://becominghuman.ai/day-7-data-cleaning-all-that-you-need-to-know-about-it-23b05738abe7)\n",
    "4. [Data Science Workbook by Daniel Martinez](https://github.com/dformoso/sklearn-classification/blob/master/Data%20Science%20Workbook%20-%20Census%20Income%20Dataset.ipynb)"
   ]
  },
  {
   "cell_type": "markdown",
   "metadata": {},
   "source": [
    "### 2.1 Initial Investigation of Missing Data for Steam Dataset"
   ]
  },
  {
   "cell_type": "code",
   "execution_count": 1,
   "metadata": {},
   "outputs": [],
   "source": [
    "import csv\n",
    "import os\n",
    "\n",
    "import pandas as pd\n",
    "import numpy as np\n",
    "import matplotlib.pyplot as plt\n",
    "import missingno\n",
    "from ast import literal_eval\n",
    "import re\n",
    "\n",
    "pd.set_option(\"max_columns\", 1000)"
   ]
  },
  {
   "cell_type": "markdown",
   "metadata": {},
   "source": [
    "We can start by taking a look at the first few rows of both datasets, to get a feel for what we're dealing with. Even in the first few rows, we can see missing data, messy markdown and html formatting, and json objects embedded inside columns. After seeing how much data we're missing, we'll then go column-by-column to clean up each of these issues."
   ]
  },
  {
   "cell_type": "code",
   "execution_count": 238,
   "metadata": {},
   "outputs": [],
   "source": [
    "data_steam_raw = pd.read_csv('./data/steam_data.csv')\n",
    "data_steamspy_raw = pd.read_csv('./data/steamspy_data.csv')"
   ]
  },
  {
   "cell_type": "code",
   "execution_count": 239,
   "metadata": {},
   "outputs": [
    {
     "data": {
      "text/html": [
       "<div>\n",
       "<style scoped>\n",
       "    .dataframe tbody tr th:only-of-type {\n",
       "        vertical-align: middle;\n",
       "    }\n",
       "\n",
       "    .dataframe tbody tr th {\n",
       "        vertical-align: top;\n",
       "    }\n",
       "\n",
       "    .dataframe thead th {\n",
       "        text-align: right;\n",
       "    }\n",
       "</style>\n",
       "<table border=\"1\" class=\"dataframe\">\n",
       "  <thead>\n",
       "    <tr style=\"text-align: right;\">\n",
       "      <th></th>\n",
       "      <th>type</th>\n",
       "      <th>name</th>\n",
       "      <th>steam_appid</th>\n",
       "      <th>required_age</th>\n",
       "      <th>is_free</th>\n",
       "      <th>about_the_game</th>\n",
       "      <th>short_description</th>\n",
       "      <th>supported_languages</th>\n",
       "      <th>header_image</th>\n",
       "      <th>website</th>\n",
       "      <th>developers</th>\n",
       "      <th>publishers</th>\n",
       "      <th>price_overview</th>\n",
       "      <th>packages</th>\n",
       "      <th>package_groups</th>\n",
       "      <th>platforms</th>\n",
       "      <th>categories</th>\n",
       "      <th>genres</th>\n",
       "      <th>screenshots</th>\n",
       "      <th>movies</th>\n",
       "      <th>achievements</th>\n",
       "      <th>release_date</th>\n",
       "      <th>background</th>\n",
       "      <th>content_descriptors</th>\n",
       "    </tr>\n",
       "  </thead>\n",
       "  <tbody>\n",
       "    <tr>\n",
       "      <th>0</th>\n",
       "      <td>game</td>\n",
       "      <td>***</td>\n",
       "      <td>1034230</td>\n",
       "      <td>0.0</td>\n",
       "      <td>False</td>\n",
       "      <td>*** is a small game.&lt;br /&gt;\\r\\nIt is easy to pl...</td>\n",
       "      <td>*** is a small game. It is easy to play,hope y...</td>\n",
       "      <td>English&lt;strong&gt;*&lt;/strong&gt;, French&lt;strong&gt;*&lt;/st...</td>\n",
       "      <td>https://steamcdn-a.akamaihd.net/steam/apps/103...</td>\n",
       "      <td>NaN</td>\n",
       "      <td>['Kenshin Game Studio']</td>\n",
       "      <td>['Kenshin Game Studio']</td>\n",
       "      <td>{'currency': 'USD', 'initial': 99, 'final': 99...</td>\n",
       "      <td>[344162]</td>\n",
       "      <td>[{'name': 'default', 'title': 'Buy ***', 'desc...</td>\n",
       "      <td>{'windows': True, 'mac': False, 'linux': False}</td>\n",
       "      <td>[{'id': 2, 'description': 'Single-player'}]</td>\n",
       "      <td>[{'id': '4', 'description': 'Casual'}, {'id': ...</td>\n",
       "      <td>[{'id': 0, 'path_thumbnail': 'https://steamcdn...</td>\n",
       "      <td>[{'id': 256744684, 'name': 'V0.3', 'thumbnail'...</td>\n",
       "      <td>NaN</td>\n",
       "      <td>{'coming_soon': False, 'date': 'Mar 17, 2019'}</td>\n",
       "      <td>https://steamcdn-a.akamaihd.net/steam/apps/103...</td>\n",
       "      <td>{'ids': [], 'notes': None}</td>\n",
       "    </tr>\n",
       "    <tr>\n",
       "      <th>1</th>\n",
       "      <td>game</td>\n",
       "      <td>- Arcane Raise -</td>\n",
       "      <td>603750</td>\n",
       "      <td>0.0</td>\n",
       "      <td>False</td>\n",
       "      <td>&lt;img src=\"https://steamcdn-a.akamaihd.net/stea...</td>\n",
       "      <td>Arcane Raise is a role-playing video game fran...</td>\n",
       "      <td>English&lt;strong&gt;*&lt;/strong&gt;&lt;br&gt;&lt;strong&gt;*&lt;/strong...</td>\n",
       "      <td>https://steamcdn-a.akamaihd.net/steam/apps/603...</td>\n",
       "      <td>NaN</td>\n",
       "      <td>['Arcane Raise']</td>\n",
       "      <td>['WAX Publishing']</td>\n",
       "      <td>{'currency': 'USD', 'initial': 299, 'final': 2...</td>\n",
       "      <td>[158866]</td>\n",
       "      <td>[{'name': 'default', 'title': 'Buy - Arcane Ra...</td>\n",
       "      <td>{'windows': True, 'mac': True, 'linux': True}</td>\n",
       "      <td>[{'id': 2, 'description': 'Single-player'}, {'...</td>\n",
       "      <td>[{'id': '25', 'description': 'Adventure'}, {'i...</td>\n",
       "      <td>[{'id': 0, 'path_thumbnail': 'https://steamcdn...</td>\n",
       "      <td>[{'id': 256680620, 'name': 'Arcane Raise - Lau...</td>\n",
       "      <td>{'total': 37, 'highlighted': [{'name': 'Letter...</td>\n",
       "      <td>{'coming_soon': False, 'date': 'Mar 10, 2017'}</td>\n",
       "      <td>https://steamcdn-a.akamaihd.net/steam/apps/603...</td>\n",
       "      <td>{'ids': [], 'notes': None}</td>\n",
       "    </tr>\n",
       "  </tbody>\n",
       "</table>\n",
       "</div>"
      ],
      "text/plain": [
       "   type              name  steam_appid  required_age is_free  \\\n",
       "0  game               ***      1034230           0.0   False   \n",
       "1  game  - Arcane Raise -       603750           0.0   False   \n",
       "\n",
       "                                      about_the_game  \\\n",
       "0  *** is a small game.<br />\\r\\nIt is easy to pl...   \n",
       "1  <img src=\"https://steamcdn-a.akamaihd.net/stea...   \n",
       "\n",
       "                                   short_description  \\\n",
       "0  *** is a small game. It is easy to play,hope y...   \n",
       "1  Arcane Raise is a role-playing video game fran...   \n",
       "\n",
       "                                 supported_languages  \\\n",
       "0  English<strong>*</strong>, French<strong>*</st...   \n",
       "1  English<strong>*</strong><br><strong>*</strong...   \n",
       "\n",
       "                                        header_image website  \\\n",
       "0  https://steamcdn-a.akamaihd.net/steam/apps/103...     NaN   \n",
       "1  https://steamcdn-a.akamaihd.net/steam/apps/603...     NaN   \n",
       "\n",
       "                developers               publishers  \\\n",
       "0  ['Kenshin Game Studio']  ['Kenshin Game Studio']   \n",
       "1         ['Arcane Raise']       ['WAX Publishing']   \n",
       "\n",
       "                                      price_overview  packages  \\\n",
       "0  {'currency': 'USD', 'initial': 99, 'final': 99...  [344162]   \n",
       "1  {'currency': 'USD', 'initial': 299, 'final': 2...  [158866]   \n",
       "\n",
       "                                      package_groups  \\\n",
       "0  [{'name': 'default', 'title': 'Buy ***', 'desc...   \n",
       "1  [{'name': 'default', 'title': 'Buy - Arcane Ra...   \n",
       "\n",
       "                                         platforms  \\\n",
       "0  {'windows': True, 'mac': False, 'linux': False}   \n",
       "1    {'windows': True, 'mac': True, 'linux': True}   \n",
       "\n",
       "                                          categories  \\\n",
       "0        [{'id': 2, 'description': 'Single-player'}]   \n",
       "1  [{'id': 2, 'description': 'Single-player'}, {'...   \n",
       "\n",
       "                                              genres  \\\n",
       "0  [{'id': '4', 'description': 'Casual'}, {'id': ...   \n",
       "1  [{'id': '25', 'description': 'Adventure'}, {'i...   \n",
       "\n",
       "                                         screenshots  \\\n",
       "0  [{'id': 0, 'path_thumbnail': 'https://steamcdn...   \n",
       "1  [{'id': 0, 'path_thumbnail': 'https://steamcdn...   \n",
       "\n",
       "                                              movies  \\\n",
       "0  [{'id': 256744684, 'name': 'V0.3', 'thumbnail'...   \n",
       "1  [{'id': 256680620, 'name': 'Arcane Raise - Lau...   \n",
       "\n",
       "                                        achievements  \\\n",
       "0                                                NaN   \n",
       "1  {'total': 37, 'highlighted': [{'name': 'Letter...   \n",
       "\n",
       "                                     release_date  \\\n",
       "0  {'coming_soon': False, 'date': 'Mar 17, 2019'}   \n",
       "1  {'coming_soon': False, 'date': 'Mar 10, 2017'}   \n",
       "\n",
       "                                          background  \\\n",
       "0  https://steamcdn-a.akamaihd.net/steam/apps/103...   \n",
       "1  https://steamcdn-a.akamaihd.net/steam/apps/603...   \n",
       "\n",
       "          content_descriptors  \n",
       "0  {'ids': [], 'notes': None}  \n",
       "1  {'ids': [], 'notes': None}  "
      ]
     },
     "execution_count": 239,
     "metadata": {},
     "output_type": "execute_result"
    }
   ],
   "source": [
    "data_steam_raw.head(2)"
   ]
  },
  {
   "cell_type": "markdown",
   "metadata": {},
   "source": [
    "As the first step to dealing with missing data, the's a really nice python package called Missingno that lets you visualize how many missing data points are in each column of data:"
   ]
  },
  {
   "cell_type": "code",
   "execution_count": 4,
   "metadata": {
    "scrolled": true
   },
   "outputs": [
    {
     "data": {
      "text/plain": [
       "<matplotlib.axes._subplots.AxesSubplot at 0x19e00eb4470>"
      ]
     },
     "execution_count": 4,
     "metadata": {},
     "output_type": "execute_result"
    },
    {
     "data": {
      "image/png": "[encoded data removed]",
      "text/plain": [
       "<Figure size 2160x360 with 2 Axes>"
      ]
     },
     "metadata": {
      "needs_background": "light"
     },
     "output_type": "display_data"
    }
   ],
   "source": [
    "missingno.matrix(data_steam_raw, figsize = (30,5))"
   ]
  },
  {
   "cell_type": "markdown",
   "metadata": {},
   "source": [
    "The black areas represent existing data, while the white is data that is missing. We can see right off the bat the the columns `website`, `price_overview`, `packages`, and `achievements` have the most missing values.`Movies` has some data missing as well. On the contrary, `steam_appid` has no missing values, since we guaranteed this column to be filled in during our data collection. The full rows with missing data (apart from `steam_appid`) are likely Steam API requests that came back with no result, and thus only the `steam_appid` was entered.\n",
    "\n",
    "**We need to decide whether or not to keep the sparse columns and rows:** at first glance, `website` might not influence the success of a game, although one could argue that having better marketing and internet presence would make a game better-known. `Price_overview` is likely sparse due to the fact that free games have this column blank - we definitely want to keep this column, but will need to transform it to take into account the free games. `Packages` provides AppIDs for any DLC or additional media, if present, and is blank if there is none - we want to keep this as well, although it's less important than the pricing, because perhaps games with more content are more popular. However, we aren't interested in the exact AppIDs for the packages, so we'll transform this column later into a simple \"Yes/No\" column. We'll do something similar for `achievements`, which specifies the number of achievements each game has, and fill in the missing values with 0's (i.e., no achievements).  \n",
    "\n",
    "For now, let's keep all of the columns except for `movies`, which probably isn't too useful, and we aren't planning to do in-depth image analysis with movies (we may for the still images, though)."
   ]
  },
  {
   "cell_type": "code",
   "execution_count": 240,
   "metadata": {},
   "outputs": [],
   "source": [
    "cols_to_delete = ['movies']\n",
    "data_steam = data_steam_raw.drop(columns=cols_to_delete) #save to new dataframe so that we don't overwrite the raw data"
   ]
  },
  {
   "cell_type": "markdown",
   "metadata": {},
   "source": [
    "Next, we want to remove all of the rows of AppIDs that were not found by the Steam API - since this is only a small portion of our dataset, it shouldn't be a problem to just get rid of them rather than try to find out why they failed the API requests. We can keep a list of the AppIDs we're deleting, in case we want to investigate later to get more data. \n",
    "\n",
    "The easiest way to take care of this is to remove all rows where `type` is blank. While we're at it, we want to remove any \"non-game\" apps that accidentally slipped through our filters (turns out, there's one soundtrack and two DLCs that we don't want)."
   ]
  },
  {
   "cell_type": "code",
   "execution_count": 5,
   "metadata": {},
   "outputs": [
    {
     "data": {
      "text/plain": [
       "game     21967\n",
       "NaN        725\n",
       "dlc          2\n",
       "music        1\n",
       "Name: type, dtype: int64"
      ]
     },
     "execution_count": 5,
     "metadata": {},
     "output_type": "execute_result"
    }
   ],
   "source": [
    "data_steam['type'].value_counts(dropna=False)"
   ]
  },
  {
   "cell_type": "code",
   "execution_count": 241,
   "metadata": {},
   "outputs": [
    {
     "name": "stdout",
     "output_type": "stream",
     "text": [
      "Number of blank rows to remove: 725\n"
     ]
    },
    {
     "data": {
      "text/plain": [
       "36    628340\n",
       "58    951090\n",
       "81    841860\n",
       "Name: steam_appid, dtype: int64"
      ]
     },
     "execution_count": 241,
     "metadata": {},
     "output_type": "execute_result"
    }
   ],
   "source": [
    "print('Number of blank rows to remove:', data_steam[data_steam['type'].isnull()].shape[0])\n",
    "data_steam_noAPIresponse = data_steam[data_steam['type'].isnull()]['steam_appid'] #save the deleted appids to a new list just in case\n",
    "data_steam_noAPIresponse.head(3)"
   ]
  },
  {
   "cell_type": "code",
   "execution_count": 242,
   "metadata": {
    "scrolled": true
   },
   "outputs": [],
   "source": [
    "data_steam = data_steam[data_steam.type == 'game'] #only keep rows where type='game'"
   ]
  },
  {
   "cell_type": "code",
   "execution_count": 243,
   "metadata": {},
   "outputs": [
    {
     "data": {
      "text/plain": [
       "game    21967\n",
       "Name: type, dtype: int64"
      ]
     },
     "execution_count": 243,
     "metadata": {},
     "output_type": "execute_result"
    }
   ],
   "source": [
    "data_steam['type'].value_counts(dropna=False)"
   ]
  },
  {
   "cell_type": "markdown",
   "metadata": {},
   "source": [
    "Now that we've removed some of the rows we don't want, we can take a look at our Missingno matrix again before we tackle the rest of the cleaning column-by-column:"
   ]
  },
  {
   "cell_type": "code",
   "execution_count": 10,
   "metadata": {},
   "outputs": [
    {
     "data": {
      "text/plain": [
       "<matplotlib.axes._subplots.AxesSubplot at 0x19e010361d0>"
      ]
     },
     "execution_count": 10,
     "metadata": {},
     "output_type": "execute_result"
    },
    {
     "data": {
      "image/png": "[encoded data removed]",
      "text/plain": [
       "<Figure size 2160x360 with 2 Axes>"
      ]
     },
     "metadata": {
      "needs_background": "light"
     },
     "output_type": "display_data"
    }
   ],
   "source": [
    "missingno.matrix(data_steam, figsize = (30,5))"
   ]
  },
  {
   "cell_type": "markdown",
   "metadata": {},
   "source": [
    "It looks much better already! There's something going on with `categories`, though, that we'll deal with later."
   ]
  },
  {
   "cell_type": "markdown",
   "metadata": {},
   "source": [
    "Finally, before we move on, we want to check for duplicate rows, as we did at the beginning of Part 1."
   ]
  },
  {
   "cell_type": "code",
   "execution_count": 9,
   "metadata": {},
   "outputs": [
    {
     "data": {
      "text/html": [
       "<div>\n",
       "<style scoped>\n",
       "    .dataframe tbody tr th:only-of-type {\n",
       "        vertical-align: middle;\n",
       "    }\n",
       "\n",
       "    .dataframe tbody tr th {\n",
       "        vertical-align: top;\n",
       "    }\n",
       "\n",
       "    .dataframe thead th {\n",
       "        text-align: right;\n",
       "    }\n",
       "</style>\n",
       "<table border=\"1\" class=\"dataframe\">\n",
       "  <thead>\n",
       "    <tr style=\"text-align: right;\">\n",
       "      <th></th>\n",
       "      <th>type</th>\n",
       "      <th>name</th>\n",
       "      <th>steam_appid</th>\n",
       "      <th>required_age</th>\n",
       "      <th>is_free</th>\n",
       "      <th>about_the_game</th>\n",
       "      <th>short_description</th>\n",
       "      <th>supported_languages</th>\n",
       "      <th>header_image</th>\n",
       "      <th>website</th>\n",
       "      <th>developers</th>\n",
       "      <th>publishers</th>\n",
       "      <th>price_overview</th>\n",
       "      <th>packages</th>\n",
       "      <th>package_groups</th>\n",
       "      <th>platforms</th>\n",
       "      <th>categories</th>\n",
       "      <th>genres</th>\n",
       "      <th>screenshots</th>\n",
       "      <th>achievements</th>\n",
       "      <th>release_date</th>\n",
       "      <th>background</th>\n",
       "      <th>content_descriptors</th>\n",
       "    </tr>\n",
       "  </thead>\n",
       "  <tbody>\n",
       "  </tbody>\n",
       "</table>\n",
       "</div>"
      ],
      "text/plain": [
       "Empty DataFrame\n",
       "Columns: [type, name, steam_appid, required_age, is_free, about_the_game, short_description, supported_languages, header_image, website, developers, publishers, price_overview, packages, package_groups, platforms, categories, genres, screenshots, achievements, release_date, background, content_descriptors]\n",
       "Index: []"
      ]
     },
     "execution_count": 9,
     "metadata": {},
     "output_type": "execute_result"
    }
   ],
   "source": [
    "data_steam[data_steam.duplicated(subset='steam_appid')]"
   ]
  },
  {
   "cell_type": "markdown",
   "metadata": {},
   "source": [
    "Awesome, no duplicates!"
   ]
  },
  {
   "cell_type": "markdown",
   "metadata": {},
   "source": [
    "### 2.2 Steam Dataset: Feature Cleaning"
   ]
  },
  {
   "cell_type": "markdown",
   "metadata": {},
   "source": [
    "Now that we've removed the rows and columns we're sure we don't want (though of course, we may change our minds later), we'll go through the columns of the dataset one-by-one and clean up the data as well as improve the readability of their labels in some cases."
   ]
  },
  {
   "cell_type": "markdown",
   "metadata": {},
   "source": [
    "### Feature 1: Type"
   ]
  },
  {
   "cell_type": "markdown",
   "metadata": {},
   "source": [
    "Since we've already removed all the rows that have a `type` other than \"game\", this column is now entirely unneccessary. We can just remove it."
   ]
  },
  {
   "cell_type": "code",
   "execution_count": 244,
   "metadata": {},
   "outputs": [],
   "source": [
    "data_steam.drop('type', axis=1, inplace=True)"
   ]
  },
  {
   "cell_type": "code",
   "execution_count": 245,
   "metadata": {},
   "outputs": [
    {
     "data": {
      "text/html": [
       "<div>\n",
       "<style scoped>\n",
       "    .dataframe tbody tr th:only-of-type {\n",
       "        vertical-align: middle;\n",
       "    }\n",
       "\n",
       "    .dataframe tbody tr th {\n",
       "        vertical-align: top;\n",
       "    }\n",
       "\n",
       "    .dataframe thead th {\n",
       "        text-align: right;\n",
       "    }\n",
       "</style>\n",
       "<table border=\"1\" class=\"dataframe\">\n",
       "  <thead>\n",
       "    <tr style=\"text-align: right;\">\n",
       "      <th></th>\n",
       "      <th>name</th>\n",
       "      <th>steam_appid</th>\n",
       "      <th>required_age</th>\n",
       "      <th>is_free</th>\n",
       "      <th>about_the_game</th>\n",
       "      <th>short_description</th>\n",
       "      <th>supported_languages</th>\n",
       "      <th>header_image</th>\n",
       "      <th>website</th>\n",
       "      <th>developers</th>\n",
       "      <th>publishers</th>\n",
       "      <th>price_overview</th>\n",
       "      <th>packages</th>\n",
       "      <th>package_groups</th>\n",
       "      <th>platforms</th>\n",
       "      <th>categories</th>\n",
       "      <th>genres</th>\n",
       "      <th>screenshots</th>\n",
       "      <th>achievements</th>\n",
       "      <th>release_date</th>\n",
       "      <th>background</th>\n",
       "      <th>content_descriptors</th>\n",
       "    </tr>\n",
       "  </thead>\n",
       "  <tbody>\n",
       "    <tr>\n",
       "      <th>0</th>\n",
       "      <td>***</td>\n",
       "      <td>1034230</td>\n",
       "      <td>0.0</td>\n",
       "      <td>False</td>\n",
       "      <td>*** is a small game.&lt;br /&gt;\\r\\nIt is easy to pl...</td>\n",
       "      <td>*** is a small game. It is easy to play,hope y...</td>\n",
       "      <td>English&lt;strong&gt;*&lt;/strong&gt;, French&lt;strong&gt;*&lt;/st...</td>\n",
       "      <td>https://steamcdn-a.akamaihd.net/steam/apps/103...</td>\n",
       "      <td>NaN</td>\n",
       "      <td>['Kenshin Game Studio']</td>\n",
       "      <td>['Kenshin Game Studio']</td>\n",
       "      <td>{'currency': 'USD', 'initial': 99, 'final': 99...</td>\n",
       "      <td>[344162]</td>\n",
       "      <td>[{'name': 'default', 'title': 'Buy ***', 'desc...</td>\n",
       "      <td>{'windows': True, 'mac': False, 'linux': False}</td>\n",
       "      <td>[{'id': 2, 'description': 'Single-player'}]</td>\n",
       "      <td>[{'id': '4', 'description': 'Casual'}, {'id': ...</td>\n",
       "      <td>[{'id': 0, 'path_thumbnail': 'https://steamcdn...</td>\n",
       "      <td>NaN</td>\n",
       "      <td>{'coming_soon': False, 'date': 'Mar 17, 2019'}</td>\n",
       "      <td>https://steamcdn-a.akamaihd.net/steam/apps/103...</td>\n",
       "      <td>{'ids': [], 'notes': None}</td>\n",
       "    </tr>\n",
       "  </tbody>\n",
       "</table>\n",
       "</div>"
      ],
      "text/plain": [
       "  name  steam_appid  required_age is_free  \\\n",
       "0  ***      1034230           0.0   False   \n",
       "\n",
       "                                      about_the_game  \\\n",
       "0  *** is a small game.<br />\\r\\nIt is easy to pl...   \n",
       "\n",
       "                                   short_description  \\\n",
       "0  *** is a small game. It is easy to play,hope y...   \n",
       "\n",
       "                                 supported_languages  \\\n",
       "0  English<strong>*</strong>, French<strong>*</st...   \n",
       "\n",
       "                                        header_image website  \\\n",
       "0  https://steamcdn-a.akamaihd.net/steam/apps/103...     NaN   \n",
       "\n",
       "                developers               publishers  \\\n",
       "0  ['Kenshin Game Studio']  ['Kenshin Game Studio']   \n",
       "\n",
       "                                      price_overview  packages  \\\n",
       "0  {'currency': 'USD', 'initial': 99, 'final': 99...  [344162]   \n",
       "\n",
       "                                      package_groups  \\\n",
       "0  [{'name': 'default', 'title': 'Buy ***', 'desc...   \n",
       "\n",
       "                                         platforms  \\\n",
       "0  {'windows': True, 'mac': False, 'linux': False}   \n",
       "\n",
       "                                    categories  \\\n",
       "0  [{'id': 2, 'description': 'Single-player'}]   \n",
       "\n",
       "                                              genres  \\\n",
       "0  [{'id': '4', 'description': 'Casual'}, {'id': ...   \n",
       "\n",
       "                                         screenshots achievements  \\\n",
       "0  [{'id': 0, 'path_thumbnail': 'https://steamcdn...          NaN   \n",
       "\n",
       "                                     release_date  \\\n",
       "0  {'coming_soon': False, 'date': 'Mar 17, 2019'}   \n",
       "\n",
       "                                          background  \\\n",
       "0  https://steamcdn-a.akamaihd.net/steam/apps/103...   \n",
       "\n",
       "          content_descriptors  \n",
       "0  {'ids': [], 'notes': None}  "
      ]
     },
     "execution_count": 245,
     "metadata": {},
     "output_type": "execute_result"
    }
   ],
   "source": [
    "data_steam.head(1)"
   ]
  },
  {
   "cell_type": "markdown",
   "metadata": {},
   "source": [
    "### Feature 2: Name"
   ]
  },
  {
   "cell_type": "markdown",
   "metadata": {},
   "source": [
    "There's not a whole lot to be done for the `name` feature, as it sort of is what it is - a name. There's no guarantee that all of the names are unique, or that they are all in English (though we filtered to only include games that are playable in English, the titles aren't required to be). For example, there are three games named \"Exodus\", and only one out of the first 7 games in our dataset has a title that is entirely alphanumeric:"
   ]
  },
  {
   "cell_type": "code",
   "execution_count": 246,
   "metadata": {},
   "outputs": [
    {
     "data": {
      "text/plain": [
       "Exodus         3\n",
       "Surge          3\n",
       "Lost           3\n",
       "Dark Matter    3\n",
       "The Tower      3\n",
       "Fireflies      3\n",
       "Rise           2\n",
       "Name: name, dtype: int64"
      ]
     },
     "execution_count": 246,
     "metadata": {},
     "output_type": "execute_result"
    }
   ],
   "source": [
    "data_steam['name'].value_counts(dropna=False).head(7)"
   ]
  },
  {
   "cell_type": "code",
   "execution_count": 247,
   "metadata": {},
   "outputs": [
    {
     "data": {
      "text/plain": [
       "0    False\n",
       "1    False\n",
       "2    False\n",
       "3     True\n",
       "4    False\n",
       "5    False\n",
       "6    False\n",
       "Name: name, dtype: bool"
      ]
     },
     "execution_count": 247,
     "metadata": {},
     "output_type": "execute_result"
    }
   ],
   "source": [
    "data_steam['name'].str.isalnum().head(7)"
   ]
  },
  {
   "cell_type": "markdown",
   "metadata": {},
   "source": [
    "### Feature 3: AppID "
   ]
  },
  {
   "cell_type": "markdown",
   "metadata": {},
   "source": [
    "Like `name`, the `steam_appid` is pretty standardized, and we've already filtered out the duplicates. One thing we'll do is rename the column to `appid` since \"steam\" is redundant."
   ]
  },
  {
   "cell_type": "code",
   "execution_count": 248,
   "metadata": {},
   "outputs": [],
   "source": [
    "data_steam.rename(columns={'steam_appid':'appid'},inplace=True)"
   ]
  },
  {
   "cell_type": "code",
   "execution_count": 249,
   "metadata": {},
   "outputs": [
    {
     "data": {
      "text/html": [
       "<div>\n",
       "<style scoped>\n",
       "    .dataframe tbody tr th:only-of-type {\n",
       "        vertical-align: middle;\n",
       "    }\n",
       "\n",
       "    .dataframe tbody tr th {\n",
       "        vertical-align: top;\n",
       "    }\n",
       "\n",
       "    .dataframe thead th {\n",
       "        text-align: right;\n",
       "    }\n",
       "</style>\n",
       "<table border=\"1\" class=\"dataframe\">\n",
       "  <thead>\n",
       "    <tr style=\"text-align: right;\">\n",
       "      <th></th>\n",
       "      <th>name</th>\n",
       "      <th>appid</th>\n",
       "      <th>required_age</th>\n",
       "      <th>is_free</th>\n",
       "      <th>about_the_game</th>\n",
       "      <th>short_description</th>\n",
       "      <th>supported_languages</th>\n",
       "      <th>header_image</th>\n",
       "      <th>website</th>\n",
       "      <th>developers</th>\n",
       "      <th>publishers</th>\n",
       "      <th>price_overview</th>\n",
       "      <th>packages</th>\n",
       "      <th>package_groups</th>\n",
       "      <th>platforms</th>\n",
       "      <th>categories</th>\n",
       "      <th>genres</th>\n",
       "      <th>screenshots</th>\n",
       "      <th>achievements</th>\n",
       "      <th>release_date</th>\n",
       "      <th>background</th>\n",
       "      <th>content_descriptors</th>\n",
       "    </tr>\n",
       "  </thead>\n",
       "  <tbody>\n",
       "    <tr>\n",
       "      <th>0</th>\n",
       "      <td>***</td>\n",
       "      <td>1034230</td>\n",
       "      <td>0.0</td>\n",
       "      <td>False</td>\n",
       "      <td>*** is a small game.&lt;br /&gt;\\r\\nIt is easy to pl...</td>\n",
       "      <td>*** is a small game. It is easy to play,hope y...</td>\n",
       "      <td>English&lt;strong&gt;*&lt;/strong&gt;, French&lt;strong&gt;*&lt;/st...</td>\n",
       "      <td>https://steamcdn-a.akamaihd.net/steam/apps/103...</td>\n",
       "      <td>NaN</td>\n",
       "      <td>['Kenshin Game Studio']</td>\n",
       "      <td>['Kenshin Game Studio']</td>\n",
       "      <td>{'currency': 'USD', 'initial': 99, 'final': 99...</td>\n",
       "      <td>[344162]</td>\n",
       "      <td>[{'name': 'default', 'title': 'Buy ***', 'desc...</td>\n",
       "      <td>{'windows': True, 'mac': False, 'linux': False}</td>\n",
       "      <td>[{'id': 2, 'description': 'Single-player'}]</td>\n",
       "      <td>[{'id': '4', 'description': 'Casual'}, {'id': ...</td>\n",
       "      <td>[{'id': 0, 'path_thumbnail': 'https://steamcdn...</td>\n",
       "      <td>NaN</td>\n",
       "      <td>{'coming_soon': False, 'date': 'Mar 17, 2019'}</td>\n",
       "      <td>https://steamcdn-a.akamaihd.net/steam/apps/103...</td>\n",
       "      <td>{'ids': [], 'notes': None}</td>\n",
       "    </tr>\n",
       "  </tbody>\n",
       "</table>\n",
       "</div>"
      ],
      "text/plain": [
       "  name    appid  required_age is_free  \\\n",
       "0  ***  1034230           0.0   False   \n",
       "\n",
       "                                      about_the_game  \\\n",
       "0  *** is a small game.<br />\\r\\nIt is easy to pl...   \n",
       "\n",
       "                                   short_description  \\\n",
       "0  *** is a small game. It is easy to play,hope y...   \n",
       "\n",
       "                                 supported_languages  \\\n",
       "0  English<strong>*</strong>, French<strong>*</st...   \n",
       "\n",
       "                                        header_image website  \\\n",
       "0  https://steamcdn-a.akamaihd.net/steam/apps/103...     NaN   \n",
       "\n",
       "                developers               publishers  \\\n",
       "0  ['Kenshin Game Studio']  ['Kenshin Game Studio']   \n",
       "\n",
       "                                      price_overview  packages  \\\n",
       "0  {'currency': 'USD', 'initial': 99, 'final': 99...  [344162]   \n",
       "\n",
       "                                      package_groups  \\\n",
       "0  [{'name': 'default', 'title': 'Buy ***', 'desc...   \n",
       "\n",
       "                                         platforms  \\\n",
       "0  {'windows': True, 'mac': False, 'linux': False}   \n",
       "\n",
       "                                    categories  \\\n",
       "0  [{'id': 2, 'description': 'Single-player'}]   \n",
       "\n",
       "                                              genres  \\\n",
       "0  [{'id': '4', 'description': 'Casual'}, {'id': ...   \n",
       "\n",
       "                                         screenshots achievements  \\\n",
       "0  [{'id': 0, 'path_thumbnail': 'https://steamcdn...          NaN   \n",
       "\n",
       "                                     release_date  \\\n",
       "0  {'coming_soon': False, 'date': 'Mar 17, 2019'}   \n",
       "\n",
       "                                          background  \\\n",
       "0  https://steamcdn-a.akamaihd.net/steam/apps/103...   \n",
       "\n",
       "          content_descriptors  \n",
       "0  {'ids': [], 'notes': None}  "
      ]
     },
     "execution_count": 249,
     "metadata": {},
     "output_type": "execute_result"
    }
   ],
   "source": [
    "data_steam.head(1)"
   ]
  },
  {
   "cell_type": "markdown",
   "metadata": {},
   "source": [
    "While we're at it, let's also sort the dataframe by AppID - this will help us combine this dataset with the SteamSpy dataset later on, and also improves readability overall."
   ]
  },
  {
   "cell_type": "code",
   "execution_count": 250,
   "metadata": {},
   "outputs": [],
   "source": [
    "data_steam.sort_values(by=['appid'], inplace=True)\n",
    "data_steam = data_steam.reset_index(drop=True)"
   ]
  },
  {
   "cell_type": "code",
   "execution_count": 251,
   "metadata": {},
   "outputs": [
    {
     "data": {
      "text/html": [
       "<div>\n",
       "<style scoped>\n",
       "    .dataframe tbody tr th:only-of-type {\n",
       "        vertical-align: middle;\n",
       "    }\n",
       "\n",
       "    .dataframe tbody tr th {\n",
       "        vertical-align: top;\n",
       "    }\n",
       "\n",
       "    .dataframe thead th {\n",
       "        text-align: right;\n",
       "    }\n",
       "</style>\n",
       "<table border=\"1\" class=\"dataframe\">\n",
       "  <thead>\n",
       "    <tr style=\"text-align: right;\">\n",
       "      <th></th>\n",
       "      <th>name</th>\n",
       "      <th>appid</th>\n",
       "      <th>required_age</th>\n",
       "      <th>is_free</th>\n",
       "      <th>about_the_game</th>\n",
       "      <th>short_description</th>\n",
       "      <th>supported_languages</th>\n",
       "      <th>header_image</th>\n",
       "      <th>website</th>\n",
       "      <th>developers</th>\n",
       "      <th>publishers</th>\n",
       "      <th>price_overview</th>\n",
       "      <th>packages</th>\n",
       "      <th>package_groups</th>\n",
       "      <th>platforms</th>\n",
       "      <th>categories</th>\n",
       "      <th>genres</th>\n",
       "      <th>screenshots</th>\n",
       "      <th>achievements</th>\n",
       "      <th>release_date</th>\n",
       "      <th>background</th>\n",
       "      <th>content_descriptors</th>\n",
       "    </tr>\n",
       "  </thead>\n",
       "  <tbody>\n",
       "    <tr>\n",
       "      <th>0</th>\n",
       "      <td>Rag Doll Kung Fu</td>\n",
       "      <td>1002</td>\n",
       "      <td>0.0</td>\n",
       "      <td>False</td>\n",
       "      <td>Featuring a wide collection of single and mult...</td>\n",
       "      <td>Featuring a wide collection of single and mult...</td>\n",
       "      <td>English</td>\n",
       "      <td>https://steamcdn-a.akamaihd.net/steam/apps/100...</td>\n",
       "      <td>http://www.ragdollkungfu.com/</td>\n",
       "      <td>['Mark Healey']</td>\n",
       "      <td>['Mark Healey']</td>\n",
       "      <td>{'currency': 'USD', 'initial': 999, 'final': 9...</td>\n",
       "      <td>[45]</td>\n",
       "      <td>[{'name': 'default', 'title': 'Buy Rag Doll Ku...</td>\n",
       "      <td>{'windows': True, 'mac': False, 'linux': False}</td>\n",
       "      <td>[{'id': 2, 'description': 'Single-player'}, {'...</td>\n",
       "      <td>[{'id': '23', 'description': 'Indie'}]</td>\n",
       "      <td>[{'id': 0, 'path_thumbnail': 'https://steamcdn...</td>\n",
       "      <td>{'total': 0}</td>\n",
       "      <td>{'coming_soon': False, 'date': 'Oct 12, 2005'}</td>\n",
       "      <td>https://steamcdn-a.akamaihd.net/steam/apps/100...</td>\n",
       "      <td>{'ids': [], 'notes': None}</td>\n",
       "    </tr>\n",
       "    <tr>\n",
       "      <th>1</th>\n",
       "      <td>Darwinia</td>\n",
       "      <td>1500</td>\n",
       "      <td>0.0</td>\n",
       "      <td>False</td>\n",
       "      <td>Combining fast-paced action with strategic bat...</td>\n",
       "      <td>Combining fast-paced action with strategic bat...</td>\n",
       "      <td>English, German</td>\n",
       "      <td>https://steamcdn-a.akamaihd.net/steam/apps/150...</td>\n",
       "      <td>http://www.darwinia.co.uk/</td>\n",
       "      <td>['Introversion Software']</td>\n",
       "      <td>['Introversion Software']</td>\n",
       "      <td>{'currency': 'USD', 'initial': 999, 'final': 9...</td>\n",
       "      <td>[54, 14324, 978, 14002]</td>\n",
       "      <td>[{'name': 'default', 'title': 'Buy Darwinia', ...</td>\n",
       "      <td>{'windows': True, 'mac': True, 'linux': True}</td>\n",
       "      <td>[{'id': 2, 'description': 'Single-player'}]</td>\n",
       "      <td>[{'id': '23', 'description': 'Indie'}, {'id': ...</td>\n",
       "      <td>[{'id': 0, 'path_thumbnail': 'https://steamcdn...</td>\n",
       "      <td>{'total': 0}</td>\n",
       "      <td>{'coming_soon': False, 'date': 'Jul 14, 2005'}</td>\n",
       "      <td>https://steamcdn-a.akamaihd.net/steam/apps/150...</td>\n",
       "      <td>{'ids': [], 'notes': None}</td>\n",
       "    </tr>\n",
       "    <tr>\n",
       "      <th>2</th>\n",
       "      <td>Uplink</td>\n",
       "      <td>1510</td>\n",
       "      <td>0.0</td>\n",
       "      <td>False</td>\n",
       "      <td>You play an Uplink Agent who makes a living by...</td>\n",
       "      <td>You play an Uplink Agent who makes a living by...</td>\n",
       "      <td>English</td>\n",
       "      <td>https://steamcdn-a.akamaihd.net/steam/apps/151...</td>\n",
       "      <td>http://www.uplink.co.uk/</td>\n",
       "      <td>['Introversion Software']</td>\n",
       "      <td>['Introversion Software']</td>\n",
       "      <td>{'currency': 'USD', 'initial': 999, 'final': 9...</td>\n",
       "      <td>[112, 14002]</td>\n",
       "      <td>[{'name': 'default', 'title': 'Buy Uplink', 'd...</td>\n",
       "      <td>{'windows': True, 'mac': True, 'linux': True}</td>\n",
       "      <td>[{'id': 2, 'description': 'Single-player'}]</td>\n",
       "      <td>[{'id': '23', 'description': 'Indie'}, {'id': ...</td>\n",
       "      <td>[{'id': 0, 'path_thumbnail': 'https://steamcdn...</td>\n",
       "      <td>{'total': 0}</td>\n",
       "      <td>{'coming_soon': False, 'date': 'Aug 23, 2006'}</td>\n",
       "      <td>https://steamcdn-a.akamaihd.net/steam/apps/151...</td>\n",
       "      <td>{'ids': [], 'notes': None}</td>\n",
       "    </tr>\n",
       "  </tbody>\n",
       "</table>\n",
       "</div>"
      ],
      "text/plain": [
       "               name  appid  required_age is_free  \\\n",
       "0  Rag Doll Kung Fu   1002           0.0   False   \n",
       "1          Darwinia   1500           0.0   False   \n",
       "2            Uplink   1510           0.0   False   \n",
       "\n",
       "                                      about_the_game  \\\n",
       "0  Featuring a wide collection of single and mult...   \n",
       "1  Combining fast-paced action with strategic bat...   \n",
       "2  You play an Uplink Agent who makes a living by...   \n",
       "\n",
       "                                   short_description supported_languages  \\\n",
       "0  Featuring a wide collection of single and mult...             English   \n",
       "1  Combining fast-paced action with strategic bat...     English, German   \n",
       "2  You play an Uplink Agent who makes a living by...             English   \n",
       "\n",
       "                                        header_image  \\\n",
       "0  https://steamcdn-a.akamaihd.net/steam/apps/100...   \n",
       "1  https://steamcdn-a.akamaihd.net/steam/apps/150...   \n",
       "2  https://steamcdn-a.akamaihd.net/steam/apps/151...   \n",
       "\n",
       "                         website                 developers  \\\n",
       "0  http://www.ragdollkungfu.com/            ['Mark Healey']   \n",
       "1     http://www.darwinia.co.uk/  ['Introversion Software']   \n",
       "2       http://www.uplink.co.uk/  ['Introversion Software']   \n",
       "\n",
       "                  publishers  \\\n",
       "0            ['Mark Healey']   \n",
       "1  ['Introversion Software']   \n",
       "2  ['Introversion Software']   \n",
       "\n",
       "                                      price_overview                 packages  \\\n",
       "0  {'currency': 'USD', 'initial': 999, 'final': 9...                     [45]   \n",
       "1  {'currency': 'USD', 'initial': 999, 'final': 9...  [54, 14324, 978, 14002]   \n",
       "2  {'currency': 'USD', 'initial': 999, 'final': 9...             [112, 14002]   \n",
       "\n",
       "                                      package_groups  \\\n",
       "0  [{'name': 'default', 'title': 'Buy Rag Doll Ku...   \n",
       "1  [{'name': 'default', 'title': 'Buy Darwinia', ...   \n",
       "2  [{'name': 'default', 'title': 'Buy Uplink', 'd...   \n",
       "\n",
       "                                         platforms  \\\n",
       "0  {'windows': True, 'mac': False, 'linux': False}   \n",
       "1    {'windows': True, 'mac': True, 'linux': True}   \n",
       "2    {'windows': True, 'mac': True, 'linux': True}   \n",
       "\n",
       "                                          categories  \\\n",
       "0  [{'id': 2, 'description': 'Single-player'}, {'...   \n",
       "1        [{'id': 2, 'description': 'Single-player'}]   \n",
       "2        [{'id': 2, 'description': 'Single-player'}]   \n",
       "\n",
       "                                              genres  \\\n",
       "0             [{'id': '23', 'description': 'Indie'}]   \n",
       "1  [{'id': '23', 'description': 'Indie'}, {'id': ...   \n",
       "2  [{'id': '23', 'description': 'Indie'}, {'id': ...   \n",
       "\n",
       "                                         screenshots  achievements  \\\n",
       "0  [{'id': 0, 'path_thumbnail': 'https://steamcdn...  {'total': 0}   \n",
       "1  [{'id': 0, 'path_thumbnail': 'https://steamcdn...  {'total': 0}   \n",
       "2  [{'id': 0, 'path_thumbnail': 'https://steamcdn...  {'total': 0}   \n",
       "\n",
       "                                     release_date  \\\n",
       "0  {'coming_soon': False, 'date': 'Oct 12, 2005'}   \n",
       "1  {'coming_soon': False, 'date': 'Jul 14, 2005'}   \n",
       "2  {'coming_soon': False, 'date': 'Aug 23, 2006'}   \n",
       "\n",
       "                                          background  \\\n",
       "0  https://steamcdn-a.akamaihd.net/steam/apps/100...   \n",
       "1  https://steamcdn-a.akamaihd.net/steam/apps/150...   \n",
       "2  https://steamcdn-a.akamaihd.net/steam/apps/151...   \n",
       "\n",
       "          content_descriptors  \n",
       "0  {'ids': [], 'notes': None}  \n",
       "1  {'ids': [], 'notes': None}  \n",
       "2  {'ids': [], 'notes': None}  "
      ]
     },
     "execution_count": 251,
     "metadata": {},
     "output_type": "execute_result"
    }
   ],
   "source": [
    "data_steam.head(3)"
   ]
  },
  {
   "cell_type": "markdown",
   "metadata": {},
   "source": [
    "### Feature 4: Required Age"
   ]
  },
  {
   "cell_type": "markdown",
   "metadata": {},
   "source": [
    "Like the previous features we've looked at so far, the `age` column doesn't require too much work. There's no missing values, but we can see that a large majority of the data is `0` - there's no real way to tell if the developers meant that there really is no age restriction, or that they didn't supply this info and just put 0. Regardless, we can get a sense that this category might not be particularly useful, since only 1.5% of the data in this column is non-zero."
   ]
  },
  {
   "cell_type": "code",
   "execution_count": 14,
   "metadata": {},
   "outputs": [
    {
     "data": {
      "text/plain": [
       "count    21967.000000\n",
       "mean         0.221514\n",
       "std          1.887051\n",
       "min          0.000000\n",
       "25%          0.000000\n",
       "50%          0.000000\n",
       "75%          0.000000\n",
       "max         20.000000\n",
       "Name: required_age, dtype: float64"
      ]
     },
     "execution_count": 14,
     "metadata": {},
     "output_type": "execute_result"
    }
   ],
   "source": [
    "data_steam['required_age'].describe()"
   ]
  },
  {
   "cell_type": "code",
   "execution_count": 15,
   "metadata": {},
   "outputs": [
    {
     "data": {
      "text/plain": [
       "0.0     21659\n",
       "3.0         4\n",
       "6.0         1\n",
       "7.0         2\n",
       "10.0       12\n",
       "11.0        1\n",
       "12.0       14\n",
       "13.0       41\n",
       "14.0        2\n",
       "15.0        2\n",
       "16.0       24\n",
       "17.0      132\n",
       "18.0       72\n",
       "20.0        1\n",
       "Name: required_age, dtype: int64"
      ]
     },
     "execution_count": 15,
     "metadata": {},
     "output_type": "execute_result"
    }
   ],
   "source": [
    "data_steam['required_age'].value_counts(dropna=False).sort_index()"
   ]
  },
  {
   "cell_type": "markdown",
   "metadata": {},
   "source": [
    "One thing that we can do to clean up this feature is apply some binning, so that there are fewer categories with only 1 or 2 items in them. Following the suggestion of Nik Davis, we can use a video game rating system to bin the ages into rating categories. Although video game rating systems vary widely throughout the world, In the United States the common rating system is the [ESRB](https://www.esrb.org/ratings-guide/) ratings, for example the commonly-seen \"rated E for everyone.\" Following the description of each rating categories, we can break up our data into the following bins:\n",
    "\n",
    "* **Everyone:** Ages 0+\n",
    "* **Everyone 10+:** Ages 10+\n",
    "* **Teen:** Ages 13+\n",
    "* **Mature:** Ages 17+\n",
    "* **Adults:** Ages 18+"
   ]
  },
  {
   "cell_type": "code",
   "execution_count": 252,
   "metadata": {},
   "outputs": [],
   "source": [
    "def bin_age(df):\n",
    "    '''Bin the age requirements to fit into 5 categories consistent with ESRB rating system'''\n",
    "    \n",
    "    bins = [-1, 0, 10, 13, 17, 30]\n",
    "    labels = [0, 10, 13, 17, 18]\n",
    "    df['required_age']=pd.cut(df['required_age'], bins = bins, labels = labels)\n",
    "    return df"
   ]
  },
  {
   "cell_type": "code",
   "execution_count": 253,
   "metadata": {},
   "outputs": [],
   "source": [
    "data_steam = bin_age(data_steam)"
   ]
  },
  {
   "cell_type": "markdown",
   "metadata": {},
   "source": [
    "We can use the Python plotting package Seaborn to nicely visualize our bins. This is something we'll do throughout this project as we go through our remaining features. In doing so, we find that the large majority of data in this column is still 0, but with fewer bins the data becomes a lot more useful and nicer to visualize."
   ]
  },
  {
   "cell_type": "code",
   "execution_count": 254,
   "metadata": {},
   "outputs": [
    {
     "data": {
      "image/png": "[encoded data removed]",
      "text/plain": [
       "<Figure size 1440x360 with 1 Axes>"
      ]
     },
     "metadata": {},
     "output_type": "display_data"
    }
   ],
   "source": [
    "import seaborn as sns\n",
    "sns.set(font_scale=2)\n",
    "plt.style.use('fivethirtyeight')\n",
    "\n",
    "fig = plt.figure(figsize=(20,5)) \n",
    "sns.countplot(y=\"required_age\", data=data_steam);"
   ]
  },
  {
   "cell_type": "markdown",
   "metadata": {},
   "source": [
    "### Feature 5: Is Free"
   ]
  },
  {
   "cell_type": "markdown",
   "metadata": {},
   "source": [
    "The `is_free` category is somewhat redundant, as we also have a category that specifically gives the price (with free games listed as 0). However, it may prove useful to keep a binary feature of whether or not a game is free - especially with Indie games, free games could be of very different quality than games that have pricetags (and especially considering Indie games are cheaper overall compared to games from more established companies that can be upwards of $100). \n",
    "\n",
    "For this category, the first thing we'll do is take a look at how many games are free versus paid. We use the Pandas `value_counts` function to get quantitative information as well as ensure there are no NaNs or missing data, and we use Seaborn's `countplot` to visualize."
   ]
  },
  {
   "cell_type": "code",
   "execution_count": 255,
   "metadata": {},
   "outputs": [
    {
     "data": {
      "text/plain": [
       "False    20129\n",
       "True      1838\n",
       "Name: is_free, dtype: int64"
      ]
     },
     "execution_count": 255,
     "metadata": {},
     "output_type": "execute_result"
    }
   ],
   "source": [
    "data_steam['is_free'].value_counts(dropna=False)"
   ]
  },
  {
   "cell_type": "code",
   "execution_count": 256,
   "metadata": {},
   "outputs": [
    {
     "data": {
      "image/png": "[encoded data removed]",
      "text/plain": [
       "<Figure size 1440x216 with 1 Axes>"
      ]
     },
     "metadata": {},
     "output_type": "display_data"
    }
   ],
   "source": [
    "sns.set(font_scale=2)\n",
    "plt.style.use('fivethirtyeight')\n",
    "\n",
    "fig = plt.figure(figsize=(20,3)) \n",
    "sns.countplot(y=\"is_free\", data=data_steam);"
   ]
  },
  {
   "cell_type": "markdown",
   "metadata": {},
   "source": [
    "The large majority of games are not free, however, there's certainly a non-negligible number of free games in the dataset as well. The only data cleaning we'll do for this feature is map the two options, `True` and `False` to a binary 1 or 0:\n",
    "\n",
    "**Free (True)**: 1\n",
    "\n",
    "**Not Free (False)**: 0"
   ]
  },
  {
   "cell_type": "code",
   "execution_count": 257,
   "metadata": {},
   "outputs": [],
   "source": [
    "def map_to_binary(df, col, val1, val0):\n",
    "    '''Takes a column with two values and maps it onto 1s and 0s'''\n",
    "    \n",
    "    df[col] = df[col].replace({val1: 1, val0: 0})"
   ]
  },
  {
   "cell_type": "code",
   "execution_count": 258,
   "metadata": {},
   "outputs": [],
   "source": [
    "map_to_binary(data_steam, 'is_free', True, False) #note that the dtype of this column is Boolean, and we're converting to int"
   ]
  },
  {
   "cell_type": "code",
   "execution_count": 259,
   "metadata": {},
   "outputs": [
    {
     "data": {
      "text/plain": [
       "0    20129\n",
       "1     1838\n",
       "Name: is_free, dtype: int64"
      ]
     },
     "execution_count": 259,
     "metadata": {},
     "output_type": "execute_result"
    }
   ],
   "source": [
    "data_steam['is_free'].value_counts(dropna=False)"
   ]
  },
  {
   "cell_type": "markdown",
   "metadata": {},
   "source": [
    "### Features 6 & 7: About the Game & Short Description"
   ]
  },
  {
   "cell_type": "markdown",
   "metadata": {},
   "source": [
    "The `about_the_game` and `short_description` columns represent our first columns with text data where we have full sentences of information rather than structured data such as variable values. This unstructured data is much harder to deal with, and while we can investigate its contents using Natural Language Processing, other types of data analysis or Machine Learning models aren't suited to handle it. Thus, we'll need to make a decision about what we want to do with this kind of data. Will we use NPL to investigate what kinds of descriptions are provided by the developers? Maybe, but this would be a study following our initial investigation. \n",
    "\n",
    "We can also see that these two features are quite similar - in some cases, they are exact copies, while in other cases, `about_the_game` is a longer version of `short_description`:"
   ]
  },
  {
   "cell_type": "code",
   "execution_count": 27,
   "metadata": {},
   "outputs": [
    {
     "data": {
      "text/plain": [
       "'Featuring a wide collection of single and multiplayer games, either online or with multiple mice, Rag Doll Kung Fu provides players with one of the most creative and unique game experiences delivered in years. Additionally, between those game rounds, the challenges of an aspiring Kung Fu master are revealed via outlandish cut scenes inspired by classic Kung Fu cinema.'"
      ]
     },
     "execution_count": 27,
     "metadata": {},
     "output_type": "execute_result"
    }
   ],
   "source": [
    "data_steam['about_the_game'][0]"
   ]
  },
  {
   "cell_type": "code",
   "execution_count": 28,
   "metadata": {},
   "outputs": [
    {
     "data": {
      "text/plain": [
       "'Featuring a wide collection of single and multiplayer games, either online or with multiple mice, Rag Doll Kung Fu provides players with one of the most creative and unique game experiences delivered in years.'"
      ]
     },
     "execution_count": 28,
     "metadata": {},
     "output_type": "execute_result"
    }
   ],
   "source": [
    "data_steam['short_description'][0]"
   ]
  },
  {
   "cell_type": "markdown",
   "metadata": {},
   "source": [
    "While I'm tempted to keep `short_description` in our dataset and entirely remove `about_the_game` due to redundancy, because this type of data is so different than the rest, we're going to move both of these columns to a new dataset with data for NLP and image analysis and keep the main dataset with only the columns we want to use for our predictive analysis. For now, we'll just mark these two columns \"to be moved\" and at the end of this section, we will move all of the desired columns at once. "
   ]
  },
  {
   "cell_type": "code",
   "execution_count": 260,
   "metadata": {},
   "outputs": [],
   "source": [
    "cols_to_move = ['about_the_game', 'short_description']"
   ]
  },
  {
   "cell_type": "markdown",
   "metadata": {},
   "source": [
    "### Feature 8: Supported Languages"
   ]
  },
  {
   "cell_type": "markdown",
   "metadata": {},
   "source": [
    "We've already filtered our dataset to include only games that are available in English, though many of these games are available in multiple other languages, as we can see by looking at the first few items in the column:"
   ]
  },
  {
   "cell_type": "code",
   "execution_count": 23,
   "metadata": {},
   "outputs": [
    {
     "data": {
      "text/plain": [
       "0                                              English\n",
       "1                                      English, German\n",
       "2                                              English\n",
       "3    English, French, German, Italian, Spanish - Spain\n",
       "4    English, French, Italian, German, Spanish - Spain\n",
       "Name: supported_languages, dtype: object"
      ]
     },
     "execution_count": 23,
     "metadata": {},
     "output_type": "execute_result"
    }
   ],
   "source": [
    "data_steam['supported_languages'].head()"
   ]
  },
  {
   "cell_type": "code",
   "execution_count": 31,
   "metadata": {},
   "outputs": [
    {
     "data": {
      "text/plain": [
       "English                                                                                                        6908\n",
       "English<strong>*</strong><br><strong>*</strong>languages with full audio support                               6227\n",
       "English, Russian                                                                                                559\n",
       "English, Simplified Chinese                                                                                     265\n",
       "English, Japanese                                                                                               173\n",
       "English<strong>*</strong>, Russian<strong>*</strong><br><strong>*</strong>languages with full audio support     156\n",
       "English, French                                                                                                 142\n",
       "English, Spanish - Spain                                                                                        118\n",
       "English, German                                                                                                  97\n",
       "English, French, Italian, German, Spanish - Spain                                                                83\n",
       "Name: supported_languages, dtype: int64"
      ]
     },
     "execution_count": 31,
     "metadata": {},
     "output_type": "execute_result"
    }
   ],
   "source": [
    "data_steam['supported_languages'].value_counts().head(10)"
   ]
  },
  {
   "cell_type": "markdown",
   "metadata": {},
   "source": [
    "For this feature, we could take two different approaches: We could combine similar values, such as \"English\" and \"English with full audio support\" (and accounting for different ordering of languages). However, I think it would be more helpful to transform the list of languages into a number indicating *how many* languages each game is available in. In thinking about a game's success, likely it would be more relevant to know how many languages (i.e. how large of an audience can the game reach?) rather than keep track of each and every language available - especially because there are so many different combinations and many combinations with only one one value count. Of course, how many people speak each language would also play into how large of an audience the game has, but this seems beyond the scope of this project and will be unlikely to directly correlate to how many people who speak that language actually play video games."
   ]
  },
  {
   "cell_type": "code",
   "execution_count": 261,
   "metadata": {},
   "outputs": [],
   "source": [
    "data_steam['supported_languages'] = data_steam['supported_languages'].str.split(',', expand=False) "
   ]
  },
  {
   "cell_type": "code",
   "execution_count": 262,
   "metadata": {},
   "outputs": [
    {
     "data": {
      "text/plain": [
       "0                                            [English]\n",
       "1                                   [English,  German]\n",
       "2                                            [English]\n",
       "3    [English,  French,  German,  Italian,  Spanish...\n",
       "4    [English,  French,  Italian,  German,  Spanish...\n",
       "Name: supported_languages, dtype: object"
      ]
     },
     "execution_count": 262,
     "metadata": {},
     "output_type": "execute_result"
    }
   ],
   "source": [
    "data_steam['supported_languages'].head()"
   ]
  },
  {
   "cell_type": "code",
   "execution_count": 263,
   "metadata": {},
   "outputs": [],
   "source": [
    "def count_items_in_list(df, col, new_col):\n",
    "    ''' Creates a new column that is the length of a list in another column '''\n",
    "    \n",
    "    df[new_col] = df[col].str.len()"
   ]
  },
  {
   "cell_type": "code",
   "execution_count": 264,
   "metadata": {},
   "outputs": [],
   "source": [
    "count_items_in_list(data_steam, 'supported_languages', 'n_languages')"
   ]
  },
  {
   "cell_type": "code",
   "execution_count": 265,
   "metadata": {},
   "outputs": [
    {
     "data": {
      "image/png": "[encoded data removed]",
      "text/plain": [
       "<Figure size 1440x720 with 1 Axes>"
      ]
     },
     "metadata": {},
     "output_type": "display_data"
    }
   ],
   "source": [
    "sns.set(font_scale=2)\n",
    "plt.style.use('fivethirtyeight')\n",
    "\n",
    "fig = plt.figure(figsize=(20,10)) \n",
    "sns.countplot(y=\"n_languages\", data=data_steam);"
   ]
  },
  {
   "cell_type": "markdown",
   "metadata": {},
   "source": [
    "By visualizing the counts of `n_languages`, we can see that the vast majority of games are English-only, but that there's a fair number with an additional language supported. Further, there's some games with more languages, and the numbers trickle off at the number of languages increases. We note that there are a handful of games with 27 and 29 languages - are these outliers, errors, or are they accurate? Let's investigate by getting the row numbers of these outliers:"
   ]
  },
  {
   "cell_type": "code",
   "execution_count": 31,
   "metadata": {
    "scrolled": true
   },
   "outputs": [
    {
     "data": {
      "text/plain": [
       "18718    29\n",
       "15272    29\n",
       "19380    29\n",
       "16873    29\n",
       "4619     29\n",
       "Name: n_languages, dtype: int64"
      ]
     },
     "execution_count": 31,
     "metadata": {},
     "output_type": "execute_result"
    }
   ],
   "source": [
    "data_steam['n_languages'].sort_values(ascending=False).head(5)"
   ]
  },
  {
   "cell_type": "markdown",
   "metadata": {},
   "source": [
    "We can look at the value of `supported_languages` for one of these rows using Pandas' `iloc` method:"
   ]
  },
  {
   "cell_type": "code",
   "execution_count": 37,
   "metadata": {},
   "outputs": [
    {
     "data": {
      "text/plain": [
       "['English',\n",
       " ' Swedish',\n",
       " ' French',\n",
       " ' Italian',\n",
       " ' German',\n",
       " ' Spanish - Spain',\n",
       " ' Arabic',\n",
       " ' Bulgarian',\n",
       " ' Czech',\n",
       " ' Danish',\n",
       " ' Dutch',\n",
       " ' Finnish',\n",
       " ' Greek',\n",
       " ' Hungarian',\n",
       " ' Japanese',\n",
       " ' Korean',\n",
       " ' Norwegian',\n",
       " ' Polish',\n",
       " ' Portuguese',\n",
       " ' Portuguese - Brazil',\n",
       " ' Romanian',\n",
       " ' Russian',\n",
       " ' Simplified Chinese',\n",
       " ' Thai',\n",
       " ' Traditional Chinese',\n",
       " ' Turkish',\n",
       " ' Ukrainian',\n",
       " ' Spanish - Latin America',\n",
       " ' Vietnamese']"
      ]
     },
     "execution_count": 37,
     "metadata": {},
     "output_type": "execute_result"
    }
   ],
   "source": [
    "data_steam.iloc[4619]['supported_languages']"
   ]
  },
  {
   "cell_type": "markdown",
   "metadata": {},
   "source": [
    "There aren't any duplicates or typos, apart from including Spanish and Portuguese from two different areas of the world - my bet is that the developers just checked off all of the available languages (and I bet the next bunch of games at 27 languages is all languages without these two duplicates). The next question would be to verify if all of these languages are actually supported, but how would we do that without purchasing/downloading the game and switching the language? In any case, there's no real reason to believe these outliers are false, so we'll leave them in for now.\n",
    "\n",
    "Since I don't necessarily want to delete the data in `supported_languages`, I'll mark it to be moved to our additional dataset with the unstructured data."
   ]
  },
  {
   "cell_type": "code",
   "execution_count": 266,
   "metadata": {},
   "outputs": [],
   "source": [
    "cols_to_move.append('supported_languages')"
   ]
  },
  {
   "cell_type": "markdown",
   "metadata": {},
   "source": [
    "### Feature 9: Header Image"
   ]
  },
  {
   "cell_type": "markdown",
   "metadata": {},
   "source": [
    "The `header_image` is an interesting feature to consider in an investigation of, for example, art style. This column is composed of links to the Steam store where the images are displayed - they're all unique (`head` and `tail` commands upon counting values both give 1), and there's no missing values."
   ]
  },
  {
   "cell_type": "code",
   "execution_count": 33,
   "metadata": {},
   "outputs": [
    {
     "data": {
      "text/plain": [
       "https://steamcdn-a.akamaihd.net/steam/apps/724690/header.jpg?t=1567151741    1\n",
       "Name: header_image, dtype: int64"
      ]
     },
     "execution_count": 33,
     "metadata": {},
     "output_type": "execute_result"
    }
   ],
   "source": [
    "data_steam['header_image'].value_counts(dropna=False).head(1)"
   ]
  },
  {
   "cell_type": "code",
   "execution_count": 34,
   "metadata": {},
   "outputs": [
    {
     "data": {
      "text/plain": [
       "https://steamcdn-a.akamaihd.net/steam/apps/745380/header.jpg?t=1581151909    1\n",
       "Name: header_image, dtype: int64"
      ]
     },
     "execution_count": 34,
     "metadata": {},
     "output_type": "execute_result"
    }
   ],
   "source": [
    "data_steam['header_image'].value_counts(dropna=False).tail(1)"
   ]
  },
  {
   "cell_type": "markdown",
   "metadata": {},
   "source": [
    "This feature will go directly into our dataset of unstructured data:"
   ]
  },
  {
   "cell_type": "code",
   "execution_count": 267,
   "metadata": {},
   "outputs": [],
   "source": [
    "cols_to_move.append('header_image')"
   ]
  },
  {
   "cell_type": "markdown",
   "metadata": {},
   "source": [
    "### Feature 10: Website"
   ]
  },
  {
   "cell_type": "markdown",
   "metadata": {},
   "source": [
    "If you remember from earlier, when we visualized the missing data of each column, `website` was one of the columns with about half of its data missing, yet we kept it anyways. Below you can see how many values are missing:"
   ]
  },
  {
   "cell_type": "code",
   "execution_count": 268,
   "metadata": {},
   "outputs": [
    {
     "data": {
      "text/plain": [
       "7841"
      ]
     },
     "execution_count": 268,
     "metadata": {},
     "output_type": "execute_result"
    }
   ],
   "source": [
    "data_steam['website'].isnull().sum()"
   ]
  },
  {
   "cell_type": "markdown",
   "metadata": {},
   "source": [
    "Similarly to how we handled the `is_free` column, we will be turning `website` into a binary categorical column for whether or not the game has a website:\n",
    "\n",
    "**Has Website**: 1\n",
    "\n",
    "**Does Not Have Website**: 0"
   ]
  },
  {
   "cell_type": "code",
   "execution_count": 269,
   "metadata": {},
   "outputs": [],
   "source": [
    "def map_missing_to_binary(df, col, new_col):\n",
    "    '''Takes a column with missing values and maps missing values to 0 and non-missing values to 1'''\n",
    "    df[new_col] = df[col].notnull().astype('int')"
   ]
  },
  {
   "cell_type": "code",
   "execution_count": 270,
   "metadata": {},
   "outputs": [],
   "source": [
    "map_missing_to_binary(data_steam, 'website', 'has_website')"
   ]
  },
  {
   "cell_type": "code",
   "execution_count": 271,
   "metadata": {},
   "outputs": [
    {
     "data": {
      "image/png": "[encoded data removed]",
      "text/plain": [
       "<Figure size 1440x288 with 1 Axes>"
      ]
     },
     "metadata": {},
     "output_type": "display_data"
    }
   ],
   "source": [
    "sns.set(font_scale=2)\n",
    "plt.style.use('fivethirtyeight')\n",
    "\n",
    "fig = plt.figure(figsize=(20,4)) \n",
    "sns.countplot(y=\"has_website\", data=data_steam);"
   ]
  },
  {
   "cell_type": "code",
   "execution_count": 272,
   "metadata": {},
   "outputs": [],
   "source": [
    "cols_to_move.append('website') #keep the original data but move it to another dataset"
   ]
  },
  {
   "cell_type": "markdown",
   "metadata": {},
   "source": [
    "### Features 11 & 12: Developers & Publishers"
   ]
  },
  {
   "cell_type": "markdown",
   "metadata": {},
   "source": [
    "The `developers` and `publishers` features are quite similar to each other, and in fact often (but not always) they have the same values. By looking at the value counts of `developers`, we find that there are a handful of developers that have 20+ games, but the vast majority of developers have only one or a few games to their names. It will be interesting to later investigate if developers with many games have more successful games overall, and further to see if there's any difference between games where the developers and publishers are one and the same, compared to games with external publishers (or no publisher listed)."
   ]
  },
  {
   "cell_type": "code",
   "execution_count": 41,
   "metadata": {},
   "outputs": [
    {
     "data": {
      "text/plain": [
       "['Choice of Games']             80\n",
       "['Ripknot Systems']             60\n",
       "['Hosted Games']                50\n",
       "['RewindApp']                   47\n",
       "['Nikita \"Ghost_RUS\"']          46\n",
       "['Laush Dmitriy Sergeevich']    43\n",
       "['For Kids']                    35\n",
       "['Warfare Studios']             28\n",
       "['NedoStudio']                  26\n",
       "['DRUNKEN APES']                23\n",
       "Name: developers, dtype: int64"
      ]
     },
     "execution_count": 41,
     "metadata": {},
     "output_type": "execute_result"
    }
   ],
   "source": [
    "data_steam['developers'].value_counts().head(10)"
   ]
  },
  {
   "cell_type": "code",
   "execution_count": 45,
   "metadata": {},
   "outputs": [
    {
     "data": {
      "text/plain": [
       "['The Foregone Syndicate']                                                                                          1\n",
       "['Among Giants']                                                                                                    1\n",
       "['RobotKSR']                                                                                                        1\n",
       "['Alexandre Rozier', 'Corentin Serrie', 'Sarah Gross', 'Ghislain Jeanneau', 'Nicolas Buisson', 'Alexandre Prot']    1\n",
       "['Coronado Games']                                                                                                  1\n",
       "['Entity Medialab']                                                                                                 1\n",
       "['Spaceloom Studios AB']                                                                                            1\n",
       "['Triple Lasers']                                                                                                   1\n",
       "['睦月文化']                                                                                                            1\n",
       "['HoldensVR']                                                                                                       1\n",
       "Name: developers, dtype: int64"
      ]
     },
     "execution_count": 45,
     "metadata": {},
     "output_type": "execute_result"
    }
   ],
   "source": [
    "data_steam['developers'].value_counts().tail(10)"
   ]
  },
  {
   "cell_type": "markdown",
   "metadata": {},
   "source": [
    "For `publishers` in particular, we note that there are twice as many games with no publisher listed than there are for the most \"popular\" publisher - but that these numbers are barely even a fraction of the total number of items in our dataset."
   ]
  },
  {
   "cell_type": "code",
   "execution_count": 46,
   "metadata": {},
   "outputs": [
    {
     "data": {
      "text/plain": [
       "['']                    190\n",
       "['Choice of Games']      80\n",
       "['Sekai Project']        72\n",
       "['Devolver Digital']     62\n",
       "['Ripknot Systems']      60\n",
       "['PLAYISM']              59\n",
       "['Plug In Digital']      58\n",
       "['Artifex Mundi']        57\n",
       "['RewindApp']            50\n",
       "['Hosted Games']         50\n",
       "Name: publishers, dtype: int64"
      ]
     },
     "execution_count": 46,
     "metadata": {},
     "output_type": "execute_result"
    }
   ],
   "source": [
    "data_steam['publishers'].value_counts().head(10)"
   ]
  },
  {
   "cell_type": "markdown",
   "metadata": {},
   "source": [
    "First, we will check for missing values or empty lists (since we see above that this may be common):"
   ]
  },
  {
   "cell_type": "code",
   "execution_count": 184,
   "metadata": {
    "scrolled": true
   },
   "outputs": [
    {
     "name": "stdout",
     "output_type": "stream",
     "text": [
      "# null values: 49\n",
      "# empty lists: 0\n"
     ]
    }
   ],
   "source": [
    "print('# null values:', data_steam['developers'].isnull().sum())\n",
    "print('# empty lists:', data_steam[data_steam['developers'] == \"[]\"].shape[0])"
   ]
  },
  {
   "cell_type": "code",
   "execution_count": 185,
   "metadata": {},
   "outputs": [
    {
     "name": "stdout",
     "output_type": "stream",
     "text": [
      "# null values: 0\n",
      "# empty lists: 190\n"
     ]
    }
   ],
   "source": [
    "#no \"null\" values but a number of empty strings that should be handled the same\n",
    "print('# null values:', data_steam['publishers'].isnull().sum()) \n",
    "print('# empty lists:', data_steam[data_steam['publishers'] == \"['']\"].shape[0])"
   ]
  },
  {
   "cell_type": "markdown",
   "metadata": {},
   "source": [
    "To clean up these two features, we want to transform both from a list of strings to just a string with multiple developers or publishers separated by semicolons. This can be done quite easily with the `str.join()` method, but first we want to handle the missing values. Since there's only 49 missing values for developers and 149 for publishers, we could choose to remove these rows or list something like \"None\" for the publisher/developer. Both seem equally valid options, but let's do the former since it's such a small fraction of rows that will be affected.\n",
    "\n",
    "We'll also remove the ~3 rows that have semicolons in their developer's names, so we can split on semicolons later."
   ]
  },
  {
   "cell_type": "code",
   "execution_count": 273,
   "metadata": {},
   "outputs": [],
   "source": [
    "data_steam = data_steam[(data_steam['developers'].notnull()) & (data_steam['publishers'] != \"['']\")].copy()\n",
    "data_steam = data_steam[~(data_steam['developers'].str.contains(';')) & ~(data_steam['publishers'].str.contains(';'))]"
   ]
  },
  {
   "cell_type": "code",
   "execution_count": 189,
   "metadata": {},
   "outputs": [
    {
     "name": "stdout",
     "output_type": "stream",
     "text": [
      "# null values: 0\n",
      "# empty lists: 0\n"
     ]
    }
   ],
   "source": [
    "print('# null values:', data_steam['publishers'].isnull().sum()) \n",
    "print('# empty lists:', data_steam[data_steam['publishers'] == \"['']\"].shape[0])"
   ]
  },
  {
   "cell_type": "markdown",
   "metadata": {},
   "source": [
    "One caveat here: when we look at either of these columns, the data appears to be in list format. However, it's actually a string disguised as a list! We have to use the [\"literal_eval\" method from ast](https://docs.python.org/3/library/ast.html#ast.literal_eval) to convert it to a list. This is infinitely easier than writing a manual method for splitting and stripping on the commas and brackets, especially since some developers or publishers may have commas in their names."
   ]
  },
  {
   "cell_type": "code",
   "execution_count": 190,
   "metadata": {},
   "outputs": [
    {
     "data": {
      "text/plain": [
       "str"
      ]
     },
     "execution_count": 190,
     "metadata": {},
     "output_type": "execute_result"
    }
   ],
   "source": [
    "type(data_steam.iloc[0]['publishers'])"
   ]
  },
  {
   "cell_type": "code",
   "execution_count": 274,
   "metadata": {},
   "outputs": [],
   "source": [
    "def join_lists(df, col):\n",
    "    df[col] = df[col].apply(lambda x: '; '.join(literal_eval(x)))"
   ]
  },
  {
   "cell_type": "code",
   "execution_count": 275,
   "metadata": {},
   "outputs": [],
   "source": [
    "join_lists(data_steam, 'developers')"
   ]
  },
  {
   "cell_type": "code",
   "execution_count": 276,
   "metadata": {},
   "outputs": [],
   "source": [
    "join_lists(data_steam, 'publishers')"
   ]
  },
  {
   "cell_type": "code",
   "execution_count": 277,
   "metadata": {},
   "outputs": [
    {
     "data": {
      "text/plain": [
       "0              Mark Healey\n",
       "1    Introversion Software\n",
       "2    Introversion Software\n",
       "3    Introversion Software\n",
       "4    Introversion Software\n",
       "Name: developers, dtype: object"
      ]
     },
     "execution_count": 277,
     "metadata": {},
     "output_type": "execute_result"
    }
   ],
   "source": [
    "data_steam['developers'].head(5)"
   ]
  },
  {
   "cell_type": "markdown",
   "metadata": {},
   "source": [
    "That looks so much better!"
   ]
  },
  {
   "cell_type": "markdown",
   "metadata": {},
   "source": [
    "### Feature 13: Price Overview"
   ]
  },
  {
   "cell_type": "markdown",
   "metadata": {},
   "source": [
    "Like the `developers`and `publishers` columns, `price overview` is a sneakily-disguised string that looks like a dictionary! It includes information such as discounts and the type of currency used, and most importantly the formatted price, which is the information we want to include in our dataset. We want to make sure that all of the rows have prices in USD, so we will extract both the \"final formatted\" and \"currency\" keys into separate columns, and investigate any rows with prices that are not in USD."
   ]
  },
  {
   "cell_type": "code",
   "execution_count": 278,
   "metadata": {},
   "outputs": [
    {
     "data": {
      "text/plain": [
       "\"{'currency': 'USD', 'initial': 999, 'final': 999, 'discount_percent': 0, 'initial_formatted': '', 'final_formatted': '$9.99'}\""
      ]
     },
     "execution_count": 278,
     "metadata": {},
     "output_type": "execute_result"
    }
   ],
   "source": [
    "data_steam['price_overview'].iloc[0]"
   ]
  },
  {
   "cell_type": "code",
   "execution_count": 279,
   "metadata": {},
   "outputs": [],
   "source": [
    "def extract_price(df):\n",
    "        \n",
    "    def convert_price(x):\n",
    "        if x is not np.nan:\n",
    "            return literal_eval(x)\n",
    "        else:\n",
    "            return {'currency': 'USD', 'final_formatted': -1} #temporarily fill missing data in with -1\n",
    "    \n",
    "    df['price_overview'] = df['price_overview'].apply(convert_price) # evaluate dictionary\n",
    "    df.head()\n",
    "    # Create columns from currency and formatted price\n",
    "    df['currency'] = df['price_overview'].apply(lambda x: x['currency'])\n",
    "    df['price'] = df['price_overview'].apply(lambda x: x['final_formatted'])\n",
    "    \n",
    "    df.loc[df['is_free'], 'price'] = 0 #if game is free, set price to $0\n",
    "    \n",
    "    return df"
   ]
  },
  {
   "cell_type": "code",
   "execution_count": 280,
   "metadata": {},
   "outputs": [
    {
     "data": {
      "text/html": [
       "<div>\n",
       "<style scoped>\n",
       "    .dataframe tbody tr th:only-of-type {\n",
       "        vertical-align: middle;\n",
       "    }\n",
       "\n",
       "    .dataframe tbody tr th {\n",
       "        vertical-align: top;\n",
       "    }\n",
       "\n",
       "    .dataframe thead th {\n",
       "        text-align: right;\n",
       "    }\n",
       "</style>\n",
       "<table border=\"1\" class=\"dataframe\">\n",
       "  <thead>\n",
       "    <tr style=\"text-align: right;\">\n",
       "      <th></th>\n",
       "      <th>name</th>\n",
       "      <th>appid</th>\n",
       "      <th>required_age</th>\n",
       "      <th>is_free</th>\n",
       "      <th>about_the_game</th>\n",
       "      <th>short_description</th>\n",
       "      <th>supported_languages</th>\n",
       "      <th>header_image</th>\n",
       "      <th>website</th>\n",
       "      <th>developers</th>\n",
       "      <th>publishers</th>\n",
       "      <th>price_overview</th>\n",
       "      <th>packages</th>\n",
       "      <th>package_groups</th>\n",
       "      <th>platforms</th>\n",
       "      <th>categories</th>\n",
       "      <th>genres</th>\n",
       "      <th>screenshots</th>\n",
       "      <th>achievements</th>\n",
       "      <th>release_date</th>\n",
       "      <th>background</th>\n",
       "      <th>content_descriptors</th>\n",
       "      <th>n_languages</th>\n",
       "      <th>has_website</th>\n",
       "      <th>currency</th>\n",
       "      <th>price</th>\n",
       "    </tr>\n",
       "  </thead>\n",
       "  <tbody>\n",
       "    <tr>\n",
       "      <th>0</th>\n",
       "      <td>Rag Doll Kung Fu</td>\n",
       "      <td>1002</td>\n",
       "      <td>0</td>\n",
       "      <td>0</td>\n",
       "      <td>Featuring a wide collection of single and mult...</td>\n",
       "      <td>Featuring a wide collection of single and mult...</td>\n",
       "      <td>[English]</td>\n",
       "      <td>https://steamcdn-a.akamaihd.net/steam/apps/100...</td>\n",
       "      <td>http://www.ragdollkungfu.com/</td>\n",
       "      <td>Mark Healey</td>\n",
       "      <td>Mark Healey</td>\n",
       "      <td>{'currency': 'USD', 'initial': 999, 'final': 9...</td>\n",
       "      <td>[45]</td>\n",
       "      <td>[{'name': 'default', 'title': 'Buy Rag Doll Ku...</td>\n",
       "      <td>{'windows': True, 'mac': False, 'linux': False}</td>\n",
       "      <td>[{'id': 2, 'description': 'Single-player'}, {'...</td>\n",
       "      <td>[{'id': '23', 'description': 'Indie'}]</td>\n",
       "      <td>[{'id': 0, 'path_thumbnail': 'https://steamcdn...</td>\n",
       "      <td>{'total': 0}</td>\n",
       "      <td>{'coming_soon': False, 'date': 'Oct 12, 2005'}</td>\n",
       "      <td>https://steamcdn-a.akamaihd.net/steam/apps/100...</td>\n",
       "      <td>{'ids': [], 'notes': None}</td>\n",
       "      <td>1</td>\n",
       "      <td>1</td>\n",
       "      <td>USD</td>\n",
       "      <td>0</td>\n",
       "    </tr>\n",
       "    <tr>\n",
       "      <th>1</th>\n",
       "      <td>Darwinia</td>\n",
       "      <td>1500</td>\n",
       "      <td>0</td>\n",
       "      <td>0</td>\n",
       "      <td>Combining fast-paced action with strategic bat...</td>\n",
       "      <td>Combining fast-paced action with strategic bat...</td>\n",
       "      <td>[English,  German]</td>\n",
       "      <td>https://steamcdn-a.akamaihd.net/steam/apps/150...</td>\n",
       "      <td>http://www.darwinia.co.uk/</td>\n",
       "      <td>Introversion Software</td>\n",
       "      <td>Introversion Software</td>\n",
       "      <td>{'currency': 'USD', 'initial': 999, 'final': 9...</td>\n",
       "      <td>[54, 14324, 978, 14002]</td>\n",
       "      <td>[{'name': 'default', 'title': 'Buy Darwinia', ...</td>\n",
       "      <td>{'windows': True, 'mac': True, 'linux': True}</td>\n",
       "      <td>[{'id': 2, 'description': 'Single-player'}]</td>\n",
       "      <td>[{'id': '23', 'description': 'Indie'}, {'id': ...</td>\n",
       "      <td>[{'id': 0, 'path_thumbnail': 'https://steamcdn...</td>\n",
       "      <td>{'total': 0}</td>\n",
       "      <td>{'coming_soon': False, 'date': 'Jul 14, 2005'}</td>\n",
       "      <td>https://steamcdn-a.akamaihd.net/steam/apps/150...</td>\n",
       "      <td>{'ids': [], 'notes': None}</td>\n",
       "      <td>2</td>\n",
       "      <td>1</td>\n",
       "      <td>USD</td>\n",
       "      <td>0</td>\n",
       "    </tr>\n",
       "  </tbody>\n",
       "</table>\n",
       "</div>"
      ],
      "text/plain": [
       "               name  appid required_age  is_free  \\\n",
       "0  Rag Doll Kung Fu   1002            0        0   \n",
       "1          Darwinia   1500            0        0   \n",
       "\n",
       "                                      about_the_game  \\\n",
       "0  Featuring a wide collection of single and mult...   \n",
       "1  Combining fast-paced action with strategic bat...   \n",
       "\n",
       "                                   short_description supported_languages  \\\n",
       "0  Featuring a wide collection of single and mult...           [English]   \n",
       "1  Combining fast-paced action with strategic bat...  [English,  German]   \n",
       "\n",
       "                                        header_image  \\\n",
       "0  https://steamcdn-a.akamaihd.net/steam/apps/100...   \n",
       "1  https://steamcdn-a.akamaihd.net/steam/apps/150...   \n",
       "\n",
       "                         website             developers  \\\n",
       "0  http://www.ragdollkungfu.com/            Mark Healey   \n",
       "1     http://www.darwinia.co.uk/  Introversion Software   \n",
       "\n",
       "              publishers                                     price_overview  \\\n",
       "0            Mark Healey  {'currency': 'USD', 'initial': 999, 'final': 9...   \n",
       "1  Introversion Software  {'currency': 'USD', 'initial': 999, 'final': 9...   \n",
       "\n",
       "                  packages                                     package_groups  \\\n",
       "0                     [45]  [{'name': 'default', 'title': 'Buy Rag Doll Ku...   \n",
       "1  [54, 14324, 978, 14002]  [{'name': 'default', 'title': 'Buy Darwinia', ...   \n",
       "\n",
       "                                         platforms  \\\n",
       "0  {'windows': True, 'mac': False, 'linux': False}   \n",
       "1    {'windows': True, 'mac': True, 'linux': True}   \n",
       "\n",
       "                                          categories  \\\n",
       "0  [{'id': 2, 'description': 'Single-player'}, {'...   \n",
       "1        [{'id': 2, 'description': 'Single-player'}]   \n",
       "\n",
       "                                              genres  \\\n",
       "0             [{'id': '23', 'description': 'Indie'}]   \n",
       "1  [{'id': '23', 'description': 'Indie'}, {'id': ...   \n",
       "\n",
       "                                         screenshots  achievements  \\\n",
       "0  [{'id': 0, 'path_thumbnail': 'https://steamcdn...  {'total': 0}   \n",
       "1  [{'id': 0, 'path_thumbnail': 'https://steamcdn...  {'total': 0}   \n",
       "\n",
       "                                     release_date  \\\n",
       "0  {'coming_soon': False, 'date': 'Oct 12, 2005'}   \n",
       "1  {'coming_soon': False, 'date': 'Jul 14, 2005'}   \n",
       "\n",
       "                                          background  \\\n",
       "0  https://steamcdn-a.akamaihd.net/steam/apps/100...   \n",
       "1  https://steamcdn-a.akamaihd.net/steam/apps/150...   \n",
       "\n",
       "          content_descriptors  n_languages  has_website currency price  \n",
       "0  {'ids': [], 'notes': None}            1            1      USD     0  \n",
       "1  {'ids': [], 'notes': None}            2            1      USD     0  "
      ]
     },
     "execution_count": 280,
     "metadata": {},
     "output_type": "execute_result"
    }
   ],
   "source": [
    "data_steam = extract_price(data_steam)\n",
    "data_steam.head(2)"
   ]
  },
  {
   "cell_type": "code",
   "execution_count": 54,
   "metadata": {},
   "outputs": [
    {
     "data": {
      "text/html": [
       "<div>\n",
       "<style scoped>\n",
       "    .dataframe tbody tr th:only-of-type {\n",
       "        vertical-align: middle;\n",
       "    }\n",
       "\n",
       "    .dataframe tbody tr th {\n",
       "        vertical-align: top;\n",
       "    }\n",
       "\n",
       "    .dataframe thead th {\n",
       "        text-align: right;\n",
       "    }\n",
       "</style>\n",
       "<table border=\"1\" class=\"dataframe\">\n",
       "  <thead>\n",
       "    <tr style=\"text-align: right;\">\n",
       "      <th></th>\n",
       "      <th>name</th>\n",
       "      <th>appid</th>\n",
       "      <th>required_age</th>\n",
       "      <th>is_free</th>\n",
       "      <th>about_the_game</th>\n",
       "      <th>short_description</th>\n",
       "      <th>supported_languages</th>\n",
       "      <th>header_image</th>\n",
       "      <th>website</th>\n",
       "      <th>developers</th>\n",
       "      <th>publishers</th>\n",
       "      <th>price_overview</th>\n",
       "      <th>packages</th>\n",
       "      <th>package_groups</th>\n",
       "      <th>platforms</th>\n",
       "      <th>categories</th>\n",
       "      <th>genres</th>\n",
       "      <th>screenshots</th>\n",
       "      <th>achievements</th>\n",
       "      <th>release_date</th>\n",
       "      <th>background</th>\n",
       "      <th>content_descriptors</th>\n",
       "      <th>n_languages</th>\n",
       "      <th>has_website</th>\n",
       "      <th>currency</th>\n",
       "      <th>price</th>\n",
       "    </tr>\n",
       "  </thead>\n",
       "  <tbody>\n",
       "  </tbody>\n",
       "</table>\n",
       "</div>"
      ],
      "text/plain": [
       "Empty DataFrame\n",
       "Columns: [name, appid, required_age, is_free, about_the_game, short_description, supported_languages, header_image, website, developers, publishers, price_overview, packages, package_groups, platforms, categories, genres, screenshots, achievements, release_date, background, content_descriptors, n_languages, has_website, currency, price]\n",
       "Index: []"
      ]
     },
     "execution_count": 54,
     "metadata": {},
     "output_type": "execute_result"
    }
   ],
   "source": [
    "data_steam[data_steam['currency'] != 'USD']"
   ]
  },
  {
   "cell_type": "markdown",
   "metadata": {},
   "source": [
    "Luckily, all of the games are already in USD - this is expected, since it was part of our initial filter when collecting the data, but it's always important to double check that our assumptions are true. Since we've confirmed that every value in `currency` is the same, we can drop this column:"
   ]
  },
  {
   "cell_type": "code",
   "execution_count": 281,
   "metadata": {},
   "outputs": [],
   "source": [
    "data_steam = data_steam.drop(columns=\"currency\")"
   ]
  },
  {
   "cell_type": "code",
   "execution_count": 282,
   "metadata": {},
   "outputs": [],
   "source": [
    "data_steam = data_steam.drop(columns=\"price_overview\")"
   ]
  },
  {
   "cell_type": "code",
   "execution_count": 283,
   "metadata": {},
   "outputs": [],
   "source": [
    "data_steam['price'] = data_steam['price'].replace({-1: 0})"
   ]
  },
  {
   "cell_type": "markdown",
   "metadata": {},
   "source": [
    "### Feature 14: Packages"
   ]
  },
  {
   "cell_type": "markdown",
   "metadata": {},
   "source": [
    "The `packages` feature gives us a list of AppIDs relating to a given game, including DLC, soundtracks and more. This is definitely interesting, as it will be worth seeing if games that put more effort into media such as DLC and soundtracks are more successful over all, since they don't just put in the bare minimum for a game. However, we aren't particularly interested in knowing the AppIDs of every package for every game, since we aren't going to be cross-referencing these or doing any analysis of the extra media themselves. Instead, we will transform this column to give us information about **how many** packages each game has associated with it instead of having a list of them all. \n",
    "\n",
    "We can take a look at an example row for this feature to see the type of data we're working with initially:"
   ]
  },
  {
   "cell_type": "code",
   "execution_count": 284,
   "metadata": {},
   "outputs": [
    {
     "data": {
      "text/plain": [
       "'[54, 14324, 978, 14002]'"
      ]
     },
     "execution_count": 284,
     "metadata": {},
     "output_type": "execute_result"
    }
   ],
   "source": [
    "data_steam['packages'].iloc[1]"
   ]
  },
  {
   "cell_type": "markdown",
   "metadata": {},
   "source": [
    "Like many of the other features, we have a string composed of a list of numbers (the AppIDs). All we want is the length of these lists, and we could do this easily two different ways: either we could convert the strings into their literal values, and then call len() on each list, or we could simply count the number of commas in each string and define the number of packages as the number of commas + 1. It would be interesting to do a study of the efficiency between these two methods, but since we've been using the former method all throughout the project, let's switch things up and trying something else. A simple `str.count()` function can take care of exactly what we want, assuming we handle the missing values correctly."
   ]
  },
  {
   "cell_type": "code",
   "execution_count": 203,
   "metadata": {},
   "outputs": [
    {
     "name": "stdout",
     "output_type": "stream",
     "text": [
      "# missing values: 3615\n"
     ]
    }
   ],
   "source": [
    "print('# missing values:', data_steam['packages'].isnull().sum()) "
   ]
  },
  {
   "cell_type": "code",
   "execution_count": 285,
   "metadata": {},
   "outputs": [],
   "source": [
    "data_steam['n_packages'] = data_steam['packages'].str.count(',')"
   ]
  },
  {
   "cell_type": "code",
   "execution_count": 286,
   "metadata": {},
   "outputs": [],
   "source": [
    "def add_one_or_set_to_zero(x):\n",
    "    if not np.isnan(x): \n",
    "        return int(x+1)\n",
    "    else:\n",
    "        return int(0)"
   ]
  },
  {
   "cell_type": "code",
   "execution_count": 287,
   "metadata": {},
   "outputs": [],
   "source": [
    "data_steam['n_packages'] = data_steam['n_packages'].apply(add_one_or_set_to_zero)"
   ]
  },
  {
   "cell_type": "code",
   "execution_count": 288,
   "metadata": {},
   "outputs": [
    {
     "data": {
      "text/html": [
       "<div>\n",
       "<style scoped>\n",
       "    .dataframe tbody tr th:only-of-type {\n",
       "        vertical-align: middle;\n",
       "    }\n",
       "\n",
       "    .dataframe tbody tr th {\n",
       "        vertical-align: top;\n",
       "    }\n",
       "\n",
       "    .dataframe thead th {\n",
       "        text-align: right;\n",
       "    }\n",
       "</style>\n",
       "<table border=\"1\" class=\"dataframe\">\n",
       "  <thead>\n",
       "    <tr style=\"text-align: right;\">\n",
       "      <th></th>\n",
       "      <th>packages</th>\n",
       "      <th>n_packages</th>\n",
       "    </tr>\n",
       "  </thead>\n",
       "  <tbody>\n",
       "    <tr>\n",
       "      <th>0</th>\n",
       "      <td>[45]</td>\n",
       "      <td>1</td>\n",
       "    </tr>\n",
       "    <tr>\n",
       "      <th>1</th>\n",
       "      <td>[54, 14324, 978, 14002]</td>\n",
       "      <td>4</td>\n",
       "    </tr>\n",
       "    <tr>\n",
       "      <th>2</th>\n",
       "      <td>[112, 14002]</td>\n",
       "      <td>2</td>\n",
       "    </tr>\n",
       "    <tr>\n",
       "      <th>3</th>\n",
       "      <td>[156, 14325, 14002]</td>\n",
       "      <td>3</td>\n",
       "    </tr>\n",
       "    <tr>\n",
       "      <th>4</th>\n",
       "      <td>[1002, 978, 14002]</td>\n",
       "      <td>3</td>\n",
       "    </tr>\n",
       "  </tbody>\n",
       "</table>\n",
       "</div>"
      ],
      "text/plain": [
       "                  packages  n_packages\n",
       "0                     [45]           1\n",
       "1  [54, 14324, 978, 14002]           4\n",
       "2             [112, 14002]           2\n",
       "3      [156, 14325, 14002]           3\n",
       "4       [1002, 978, 14002]           3"
      ]
     },
     "execution_count": 288,
     "metadata": {},
     "output_type": "execute_result"
    }
   ],
   "source": [
    "data_steam[['packages', 'n_packages']].head()"
   ]
  },
  {
   "cell_type": "markdown",
   "metadata": {},
   "source": [
    "Our new column, `n_packages` now gives us the number of packages attributed to each game as an integer. In the case of missing values, it was assumed that there were no packages for that game, and a value of 0 was imputed.\n",
    "\n",
    "Before moving on, we can quickly visualize this new feature and see how many packages per game is most common."
   ]
  },
  {
   "cell_type": "code",
   "execution_count": 289,
   "metadata": {},
   "outputs": [
    {
     "data": {
      "image/png": "[encoded data removed]",
      "text/plain": [
       "<Figure size 576x288 with 1 Axes>"
      ]
     },
     "metadata": {},
     "output_type": "display_data"
    }
   ],
   "source": [
    "sns.set(font_scale=2)\n",
    "plt.style.use('fivethirtyeight')\n",
    "\n",
    "fig = plt.figure(figsize=(8,4)) \n",
    "sns.countplot(y=\"n_packages\", data=data_steam);"
   ]
  },
  {
   "cell_type": "markdown",
   "metadata": {},
   "source": [
    "It looks like there's maybe some outliers worth investigating:"
   ]
  },
  {
   "cell_type": "code",
   "execution_count": 209,
   "metadata": {},
   "outputs": [
    {
     "data": {
      "text/plain": [
       "1     16019\n",
       "0      3615\n",
       "2      1938\n",
       "3       143\n",
       "4        30\n",
       "5         6\n",
       "7         1\n",
       "18        1\n",
       "Name: n_packages, dtype: int64"
      ]
     },
     "execution_count": 209,
     "metadata": {},
     "output_type": "execute_result"
    }
   ],
   "source": [
    "data_steam['n_packages'].value_counts()"
   ]
  },
  {
   "cell_type": "code",
   "execution_count": 210,
   "metadata": {},
   "outputs": [
    {
     "data": {
      "text/plain": [
       "1097    18\n",
       "626      7\n",
       "Name: n_packages, dtype: int64"
      ]
     },
     "execution_count": 210,
     "metadata": {},
     "output_type": "execute_result"
    }
   ],
   "source": [
    "data_steam['n_packages'].sort_values(ascending=False).head(2)"
   ]
  },
  {
   "cell_type": "code",
   "execution_count": 290,
   "metadata": {},
   "outputs": [
    {
     "data": {
      "text/plain": [
       "name                                                   Influent\n",
       "packages      [37206, 40596, 56319, 56318, 56317, 56316, 518...\n",
       "n_packages                                                   18\n",
       "Name: 1097, dtype: object"
      ]
     },
     "execution_count": 290,
     "metadata": {},
     "output_type": "execute_result"
    }
   ],
   "source": [
    "data_steam[['name', 'packages', 'n_packages']].iloc[1061]"
   ]
  },
  {
   "cell_type": "markdown",
   "metadata": {},
   "source": [
    "We might want to go through all of these AppIDs individually and see what they are and why this game has so many more packages than every other! We'll assume for now it's an outlier but not a mistake, but will check closer in the next Part of the project. For now, we'll just mark the original `packages` column to be moved so we don't lose this data, and then move on to the next feature."
   ]
  },
  {
   "cell_type": "code",
   "execution_count": 291,
   "metadata": {},
   "outputs": [],
   "source": [
    "cols_to_move.append('packages')"
   ]
  },
  {
   "cell_type": "markdown",
   "metadata": {},
   "source": [
    "### Feature 15: Package Groups"
   ]
  },
  {
   "cell_type": "markdown",
   "metadata": {},
   "source": [
    "The `package groups` feature extends on `packages` to give detailed information about the different ways that the game can be bought, including with and without discounts, with DLC, soundtracks or other media, paid for by a subscription, etc. We can take a look at an example row to see what kind of information it contains and if any of it may be useful for us:"
   ]
  },
  {
   "cell_type": "code",
   "execution_count": 108,
   "metadata": {},
   "outputs": [
    {
     "data": {
      "text/plain": [
       "\"[{'name': 'default', 'title': 'Buy Darwinia', 'description': '', 'selection_text': 'Select a purchase option', 'save_text': '', 'display_type': 0, 'is_recurring_subscription': 'false', 'subs': [{'packageid': 54, 'percent_savings_text': '', 'percent_savings': 0, 'option_text': 'Darwinia - $9.99', 'option_description': '', 'can_get_free_license': '0', 'is_free_license': False, 'price_in_cents_with_discount': 999}, {'packageid': 14324, 'percent_savings_text': '', 'percent_savings': 0, 'option_text': 'Darwinia + Soundtrack - $12.99', 'option_description': '', 'can_get_free_license': '0', 'is_free_license': False, 'price_in_cents_with_discount': 1299}, {'packageid': 978, 'percent_savings_text': '', 'percent_savings': 0, 'option_text': 'Multiwinia + Darwinia - $14.99', 'option_description': '', 'can_get_free_license': '0', 'is_free_license': False, 'price_in_cents_with_discount': 1499}, {'packageid': 14002, 'percent_savings_text': '', 'percent_savings': 0, 'option_text': 'Introversion Classics Pack - $19.99', 'option_description': '', 'can_get_free_license': '0', 'is_free_license': False, 'price_in_cents_with_discount': 1999}]}]\""
      ]
     },
     "execution_count": 108,
     "metadata": {},
     "output_type": "execute_result"
    }
   ],
   "source": [
    "data_steam['package_groups'].iloc[1]"
   ]
  },
  {
   "cell_type": "markdown",
   "metadata": {},
   "source": [
    "There's definitely an argument for claiming that games that entice potential buyers with deals on packages could be effective for getting more initial purchases, but I can't think of any strong argument for why having a package deal would make the game *better* or more successful in the long run - we haven't fully defined our term \"success\" yet (see Part 4!) but in my opinion a successful game is more than just a game that tricks users into buying copies so makes a lot of money but the game itself isn't particulary good at all. Plus, if the game isn't good, over time the ratings should provide this information, which would in turn (theoretically) bring down sales. This is, essentially, a long-winded way of saying that maybe this feature isn't necessary for our analysis. We already have the number of DLC packages per game saved as the `packages` feature, and the extra information here really isn't all that helpful."
   ]
  },
  {
   "cell_type": "code",
   "execution_count": 292,
   "metadata": {},
   "outputs": [],
   "source": [
    "data_steam = data_steam.drop(columns=\"package_groups\")"
   ]
  },
  {
   "cell_type": "markdown",
   "metadata": {},
   "source": [
    "### Feature 16: Platforms"
   ]
  },
  {
   "cell_type": "markdown",
   "metadata": {},
   "source": [
    "The `platforms` feature gives us information about what types of computers are able to run the game. This is definitely important for us, since having a game available on more platforms will allow it to reach a larger audience. The current format for this feature is a dictionary-like string of Booleans for the three main platforms - Windows, Mac, and Linux. This isn't the worst way store this data, but it will be more useful to have just a list of available platforms for each game rather than the redundant Booleans (plus we don't want a feature with a full dictionary inside of it). \n",
    "\n",
    "There's a number of different ways we could convert this column to our final desired format, but we're going to take a similar approach to `price_overview` since the format is similar, create three temporary columns for Windows, Mac, and Linux, and then merge them into a list."
   ]
  },
  {
   "cell_type": "code",
   "execution_count": 293,
   "metadata": {},
   "outputs": [
    {
     "data": {
      "text/plain": [
       "\"{'windows': True, 'mac': False, 'linux': False}\""
      ]
     },
     "execution_count": 293,
     "metadata": {},
     "output_type": "execute_result"
    }
   ],
   "source": [
    "data_steam['platforms'].iloc[0]"
   ]
  },
  {
   "cell_type": "code",
   "execution_count": 294,
   "metadata": {},
   "outputs": [
    {
     "name": "stdout",
     "output_type": "stream",
     "text": [
      "# null values: 0\n",
      "# empty lists: 0\n"
     ]
    }
   ],
   "source": [
    "print('# null values:', data_steam['platforms'].isnull().sum())\n",
    "print('# empty lists:', data_steam[data_steam['platforms'] == \"[]\"].shape[0])"
   ]
  },
  {
   "cell_type": "code",
   "execution_count": 295,
   "metadata": {},
   "outputs": [],
   "source": [
    "def extract_platforms(df):\n",
    "        \n",
    "    def convert_platforms(x):\n",
    "        if x is not np.nan:\n",
    "            return literal_eval(x)\n",
    "        else:\n",
    "            return {'windows': False, 'mac': False, 'linux': False}\n",
    "    \n",
    "    df['platforms'] = df['platforms'].apply(convert_platforms) # evaluate dictionary\n",
    "    df.head()\n",
    "    # Create columns from currency and formatted price\n",
    "    df['windows'] = df['platforms'].apply(lambda x: x['windows'])\n",
    "    df['mac'] = df['platforms'].apply(lambda x: x['mac'])\n",
    "    df['linux'] = df['platforms'].apply(lambda x: x['linux'])\n",
    "     \n",
    "    df['windows'] = df['windows'].replace({True: 'Windows', False: ''}) #convert columns from Boolean to strings to then merge\n",
    "    df['mac'] = df['mac'].replace({True: 'Mac', False: ''})\n",
    "    df['linux'] = df['linux'].replace({True: 'Linux', False: ''})\n",
    "    \n",
    "    return df"
   ]
  },
  {
   "cell_type": "code",
   "execution_count": 296,
   "metadata": {},
   "outputs": [],
   "source": [
    "data_steam = extract_platforms(data_steam)"
   ]
  },
  {
   "cell_type": "code",
   "execution_count": 297,
   "metadata": {},
   "outputs": [
    {
     "data": {
      "text/html": [
       "<div>\n",
       "<style scoped>\n",
       "    .dataframe tbody tr th:only-of-type {\n",
       "        vertical-align: middle;\n",
       "    }\n",
       "\n",
       "    .dataframe tbody tr th {\n",
       "        vertical-align: top;\n",
       "    }\n",
       "\n",
       "    .dataframe thead th {\n",
       "        text-align: right;\n",
       "    }\n",
       "</style>\n",
       "<table border=\"1\" class=\"dataframe\">\n",
       "  <thead>\n",
       "    <tr style=\"text-align: right;\">\n",
       "      <th></th>\n",
       "      <th>windows</th>\n",
       "      <th>mac</th>\n",
       "      <th>linux</th>\n",
       "    </tr>\n",
       "  </thead>\n",
       "  <tbody>\n",
       "    <tr>\n",
       "      <th>0</th>\n",
       "      <td>Windows</td>\n",
       "      <td></td>\n",
       "      <td></td>\n",
       "    </tr>\n",
       "    <tr>\n",
       "      <th>1</th>\n",
       "      <td>Windows</td>\n",
       "      <td>Mac</td>\n",
       "      <td>Linux</td>\n",
       "    </tr>\n",
       "    <tr>\n",
       "      <th>2</th>\n",
       "      <td>Windows</td>\n",
       "      <td>Mac</td>\n",
       "      <td>Linux</td>\n",
       "    </tr>\n",
       "    <tr>\n",
       "      <th>3</th>\n",
       "      <td>Windows</td>\n",
       "      <td>Mac</td>\n",
       "      <td>Linux</td>\n",
       "    </tr>\n",
       "    <tr>\n",
       "      <th>4</th>\n",
       "      <td>Windows</td>\n",
       "      <td>Mac</td>\n",
       "      <td></td>\n",
       "    </tr>\n",
       "  </tbody>\n",
       "</table>\n",
       "</div>"
      ],
      "text/plain": [
       "   windows  mac  linux\n",
       "0  Windows            \n",
       "1  Windows  Mac  Linux\n",
       "2  Windows  Mac  Linux\n",
       "3  Windows  Mac  Linux\n",
       "4  Windows  Mac       "
      ]
     },
     "execution_count": 297,
     "metadata": {},
     "output_type": "execute_result"
    }
   ],
   "source": [
    "data_steam[['windows', 'mac', 'linux']].head()"
   ]
  },
  {
   "cell_type": "markdown",
   "metadata": {},
   "source": [
    "We now have 3 nicely formatted columns that we can merge with our choice of separator - either a comma or a semicolon would make the most sense. The function below takes care of exactly that - for more comments on this ETL-like process, see the `release_date` section below (I did these all out of order, but essentially these two are the same!)"
   ]
  },
  {
   "cell_type": "code",
   "execution_count": 298,
   "metadata": {},
   "outputs": [],
   "source": [
    "def merge_col(df, col1, col2, splitter):\n",
    "    '''Replaces col1 with the concatenation of col1 and col2, separated by the delimiter provided. The delimiter is \n",
    "    ignored if either col1 or col2 are empty'''\n",
    "    \n",
    "    df[col1] = df[col1].str.cat(df[col2], sep = splitter)\n",
    "    df[col1] = df[col1].replace({splitter: ''})\n",
    "    df[col1] = df[col1].apply(lambda x: x[:-len(splitter)] if x.endswith(splitter) else x)\n",
    "    df[col1] = df[col1].apply(lambda x: x[len(splitter):] if x.startswith(splitter) else x)\n",
    "    return df"
   ]
  },
  {
   "cell_type": "code",
   "execution_count": 299,
   "metadata": {},
   "outputs": [],
   "source": [
    "data_steam = merge_col(data_steam, 'windows', 'mac', '; ')"
   ]
  },
  {
   "cell_type": "code",
   "execution_count": 300,
   "metadata": {},
   "outputs": [],
   "source": [
    "data_steam = merge_col(data_steam, 'windows', 'linux', '; ')"
   ]
  },
  {
   "cell_type": "code",
   "execution_count": 301,
   "metadata": {},
   "outputs": [],
   "source": [
    "data_steam = data_steam.drop(columns=[\"mac\", \"linux\", \"platforms\"])\n",
    "data_steam.rename(columns={'windows':'platforms'},inplace=True)"
   ]
  },
  {
   "cell_type": "code",
   "execution_count": 302,
   "metadata": {},
   "outputs": [
    {
     "data": {
      "image/png": "[encoded data removed]",
      "text/plain": [
       "<Figure size 576x288 with 1 Axes>"
      ]
     },
     "metadata": {},
     "output_type": "display_data"
    }
   ],
   "source": [
    "sns.set(font_scale=2)\n",
    "plt.style.use('fivethirtyeight')\n",
    "\n",
    "fig = plt.figure(figsize=(8,4)) \n",
    "sns.countplot(y=\"platforms\", data=data_steam);"
   ]
  },
  {
   "cell_type": "markdown",
   "metadata": {},
   "source": [
    "By visualizing the frequency of each value in this feature, we see that, unexpectedly, the most common platform for indie games is Windows only. I'm surprised to see, though, that it's more common for games to be available on all three platforms than only Windows and Mac, since not nearly as many people play games on their Linux computers than on Mac or Windows. Finally, I'm not surprised to see that very few games are available on only Mac or only Linux. "
   ]
  },
  {
   "cell_type": "markdown",
   "metadata": {},
   "source": [
    "### Feature 17 & 18: Categories & Genres"
   ]
  },
  {
   "cell_type": "markdown",
   "metadata": {},
   "source": [
    "We'd like the final format for both the `categories` and `genres` features to be quite similar to `platforms`, with a list of descriptors separated by semicolons. We can see that both `categories` and `genres` have raw data in similar format - strings of lists of dictionary-like objects. They also include a lot of information that it's too useful for us, such as the IDs corresponding to each category or genre. We're only interested in the descriptions themselves, so we'll filter out this key/value pair for both columns and note that, in both cases, there are a few (but not many) missing values to deal with. Do we keep these rows? Since there's fewer than 20 missing values and the categories will likely be one of the main features we will be working with later, let's just remove these rows."
   ]
  },
  {
   "cell_type": "code",
   "execution_count": 303,
   "metadata": {},
   "outputs": [
    {
     "data": {
      "text/plain": [
       "\"[{'id': 2, 'description': 'Single-player'}, {'id': 1, 'description': 'Multi-player'}]\""
      ]
     },
     "execution_count": 303,
     "metadata": {},
     "output_type": "execute_result"
    }
   ],
   "source": [
    "data_steam['categories'].iloc[0]"
   ]
  },
  {
   "cell_type": "code",
   "execution_count": 304,
   "metadata": {},
   "outputs": [
    {
     "data": {
      "text/plain": [
       "\"[{'id': '23', 'description': 'Indie'}]\""
      ]
     },
     "execution_count": 304,
     "metadata": {},
     "output_type": "execute_result"
    }
   ],
   "source": [
    "data_steam['genres'].iloc[0]"
   ]
  },
  {
   "cell_type": "code",
   "execution_count": 305,
   "metadata": {},
   "outputs": [
    {
     "name": "stdout",
     "output_type": "stream",
     "text": [
      "# missing values: 19\n"
     ]
    }
   ],
   "source": [
    "print('# missing values:', data_steam['categories'].isnull().sum())"
   ]
  },
  {
   "cell_type": "code",
   "execution_count": 306,
   "metadata": {},
   "outputs": [
    {
     "name": "stdout",
     "output_type": "stream",
     "text": [
      "# missing values: 5\n"
     ]
    }
   ],
   "source": [
    "print('# missing values:', data_steam['genres'].isnull().sum())"
   ]
  },
  {
   "cell_type": "code",
   "execution_count": 307,
   "metadata": {},
   "outputs": [],
   "source": [
    "data_steam = data_steam[(data_steam['categories'].notnull()) & (data_steam['genres'].notnull())] #remove missing data"
   ]
  },
  {
   "cell_type": "markdown",
   "metadata": {},
   "source": [
    "These features will be cleaned in a similar manner to how we did `developers`. We will convert the column to literals, extracting the values of the keys we want, and joining them as a list separated by semicolons."
   ]
  },
  {
   "cell_type": "code",
   "execution_count": 308,
   "metadata": {},
   "outputs": [],
   "source": [
    "def extract_descriptions(df, col):\n",
    "        \n",
    "    df[col] = df[col].apply(lambda x: '; '.join(item['description'] for item in literal_eval(x)))\n",
    "    \n",
    "    return df"
   ]
  },
  {
   "cell_type": "code",
   "execution_count": 309,
   "metadata": {},
   "outputs": [],
   "source": [
    "data_steam = extract_descriptions(data_steam, 'categories')\n",
    "data_steam = extract_descriptions(data_steam, 'genres')"
   ]
  },
  {
   "cell_type": "code",
   "execution_count": 310,
   "metadata": {},
   "outputs": [
    {
     "data": {
      "text/html": [
       "<div>\n",
       "<style scoped>\n",
       "    .dataframe tbody tr th:only-of-type {\n",
       "        vertical-align: middle;\n",
       "    }\n",
       "\n",
       "    .dataframe tbody tr th {\n",
       "        vertical-align: top;\n",
       "    }\n",
       "\n",
       "    .dataframe thead th {\n",
       "        text-align: right;\n",
       "    }\n",
       "</style>\n",
       "<table border=\"1\" class=\"dataframe\">\n",
       "  <thead>\n",
       "    <tr style=\"text-align: right;\">\n",
       "      <th></th>\n",
       "      <th>categories</th>\n",
       "      <th>genres</th>\n",
       "    </tr>\n",
       "  </thead>\n",
       "  <tbody>\n",
       "    <tr>\n",
       "      <th>0</th>\n",
       "      <td>Single-player; Multi-player</td>\n",
       "      <td>Indie</td>\n",
       "    </tr>\n",
       "    <tr>\n",
       "      <th>1</th>\n",
       "      <td>Single-player</td>\n",
       "      <td>Indie; Strategy</td>\n",
       "    </tr>\n",
       "    <tr>\n",
       "      <th>2</th>\n",
       "      <td>Single-player</td>\n",
       "      <td>Indie; Strategy</td>\n",
       "    </tr>\n",
       "    <tr>\n",
       "      <th>3</th>\n",
       "      <td>Single-player; Multi-player</td>\n",
       "      <td>Indie; Strategy</td>\n",
       "    </tr>\n",
       "    <tr>\n",
       "      <th>4</th>\n",
       "      <td>Single-player; Multi-player; Steam Achievements</td>\n",
       "      <td>Indie</td>\n",
       "    </tr>\n",
       "  </tbody>\n",
       "</table>\n",
       "</div>"
      ],
      "text/plain": [
       "                                        categories           genres\n",
       "0                      Single-player; Multi-player            Indie\n",
       "1                                    Single-player  Indie; Strategy\n",
       "2                                    Single-player  Indie; Strategy\n",
       "3                      Single-player; Multi-player  Indie; Strategy\n",
       "4  Single-player; Multi-player; Steam Achievements            Indie"
      ]
     },
     "execution_count": 310,
     "metadata": {},
     "output_type": "execute_result"
    }
   ],
   "source": [
    "data_steam[['categories', 'genres']].head()"
   ]
  },
  {
   "cell_type": "markdown",
   "metadata": {},
   "source": [
    "### Feature 19: Screenshots"
   ]
  },
  {
   "cell_type": "markdown",
   "metadata": {},
   "source": [
    "`Screenshots` is a feature much like `header`, which we dealt with previously. As with `header`, all we'll do here is mark this column to be moved to the dataset for unstructured data, and then at the end of this Part of the project, we will move all of the appropriate columns. We should keep in mind, however, that `screenshots` is much messier than `header` was: it's a list (technically a string that looks like a list) of dictionary items all containing information about different screenshots taken from the game. It will take some more cleaning later."
   ]
  },
  {
   "cell_type": "code",
   "execution_count": 67,
   "metadata": {},
   "outputs": [
    {
     "data": {
      "text/plain": [
       "\"[{'id': 0, 'path_thumbnail': 'https://steamcdn-a.akamaihd.net/steam/apps/1002/0000000205.600x338.jpg?t=1447350828', 'path_full': 'https://steamcdn-a.akamaihd.net/steam/apps/1002/0000000205.1920x1080.jpg?t=1447350828'}, {'id': 1, 'path_thumbnail': 'https://steamcdn-a.akamaihd.net/steam/apps/1002/0000000206.600x338.jpg?t=1447350828', 'path_full': 'https://steamcdn-a.akamaihd.net/steam/apps/1002/0000000206.1920x1080.jpg?t=1447350828'}, {'id': 2, 'path_thumbnail': 'https://steamcdn-a.akamaihd.net/steam/apps/1002/0000000207.600x338.jpg?t=1447350828', 'path_full': 'https://steamcdn-a.akamaihd.net/steam/apps/1002/0000000207.1920x1080.jpg?t=1447350828'}, {'id': 3, 'path_thumbnail': 'https://steamcdn-a.akamaihd.net/steam/apps/1002/0000000208.600x338.jpg?t=1447350828', 'path_full': 'https://steamcdn-a.akamaihd.net/steam/apps/1002/0000000208.1920x1080.jpg?t=1447350828'}, {'id': 4, 'path_thumbnail': 'https://steamcdn-a.akamaihd.net/steam/apps/1002/0000000209.600x338.jpg?t=1447350828', 'path_full': 'https://steamcdn-a.akamaihd.net/steam/apps/1002/0000000209.1920x1080.jpg?t=1447350828'}]\""
      ]
     },
     "execution_count": 67,
     "metadata": {},
     "output_type": "execute_result"
    }
   ],
   "source": [
    "data_steam['screenshots'].iloc[0]"
   ]
  },
  {
   "cell_type": "code",
   "execution_count": 311,
   "metadata": {},
   "outputs": [],
   "source": [
    "cols_to_move.append('screenshots')"
   ]
  },
  {
   "cell_type": "markdown",
   "metadata": {},
   "source": [
    "### Feature 20: Achievements"
   ]
  },
  {
   "cell_type": "markdown",
   "metadata": {},
   "source": [
    "The `achievements` feature provides us information about the number of achievements available in each game. This feature has a lot of missing values, and where there is information, sometimes we're told that there are 0 achievements. When there are achievements, however, the values get messy and provide a lot of detail that we aren't interested in, such as specific examples of achievements. You can see an example here:"
   ]
  },
  {
   "cell_type": "code",
   "execution_count": 69,
   "metadata": {},
   "outputs": [
    {
     "data": {
      "text/plain": [
       "\"{'total': 22, 'highlighted': [{'name': 'Victory', 'path': 'https://steamcdn-a.akamaihd.net/steamcommunity/public/images/apps/1520/302ff34dc6d27d39a9095675c42b4e19b69c9ce0.jpg'}, {'name': 'Reserves', 'path': 'https://steamcdn-a.akamaihd.net/steamcommunity/public/images/apps/1520/14541a937e373e13c91c40639b7f30c2cf33e01e.jpg'}, {'name': 'Perfectly timed betrayal', 'path': 'https://steamcdn-a.akamaihd.net/steamcommunity/public/images/apps/1520/d460e13839e83e27b47cafa07237dca57c600b67.jpg'}, {'name': 'Pre-emptive striker', 'path': 'https://steamcdn-a.akamaihd.net/steamcommunity/public/images/apps/1520/8642da316fc433bbf4bf170c504dcac9a5cece9e.jpg'}, {'name': 'Kill The World', 'path': 'https://steamcdn-a.akamaihd.net/steamcommunity/public/images/apps/1520/0ac0dfd18db2d15c1f0fb46f72d0ba1c58ca1e18.jpg'}, {'name': 'Wasteful', 'path': 'https://steamcdn-a.akamaihd.net/steamcommunity/public/images/apps/1520/0dc815c1b3406b1a6c10e8bd3cce4400c6a8b632.jpg'}, {'name': 'Nice try', 'path': 'https://steamcdn-a.akamaihd.net/steamcommunity/public/images/apps/1520/607c0aca1edb2d6d5af29ea86bd7a1d09e83dd24.jpg'}, {'name': 'Hit and run', 'path': 'https://steamcdn-a.akamaihd.net/steamcommunity/public/images/apps/1520/eacd21e822b5d7e85a2fcb4a599f8f22a17bac5a.jpg'}, {'name': 'Recon expert', 'path': 'https://steamcdn-a.akamaihd.net/steamcommunity/public/images/apps/1520/598b17cdfc8923001492f5569348a8959e9af2a4.jpg'}, {'name': 'Brave sacrifice', 'path': 'https://steamcdn-a.akamaihd.net/steamcommunity/public/images/apps/1520/850005f241b4c79314cb7bfb713ea7a569bd268f.jpg'}]}\""
      ]
     },
     "execution_count": 69,
     "metadata": {},
     "output_type": "execute_result"
    }
   ],
   "source": [
    "data_steam['achievements'].iloc[3]"
   ]
  },
  {
   "cell_type": "markdown",
   "metadata": {},
   "source": [
    "And the number of missing values:"
   ]
  },
  {
   "cell_type": "code",
   "execution_count": 70,
   "metadata": {},
   "outputs": [
    {
     "name": "stdout",
     "output_type": "stream",
     "text": [
      "# missing values: 3871\n"
     ]
    }
   ],
   "source": [
    "print('# missing values:', data_steam['achievements'].isnull().sum())"
   ]
  },
  {
   "cell_type": "markdown",
   "metadata": {},
   "source": [
    "All we want for this feature is to keep track of how many achievements each game has - in the case of missing values, we will assume that the game has zero achievements and impute the value \"0\". This can be done pretty straightforwardly, where we convert the dictionary-like string into a real string using `literal_eval` and then return the value of `total`. In the case of no data, we will instead return 0."
   ]
  },
  {
   "cell_type": "code",
   "execution_count": 312,
   "metadata": {},
   "outputs": [],
   "source": [
    "def get_n_achievements(x):\n",
    "    try:\n",
    "        x = literal_eval(x)\n",
    "        return x['total']\n",
    "    except ValueError:\n",
    "        return '0'"
   ]
  },
  {
   "cell_type": "code",
   "execution_count": 313,
   "metadata": {},
   "outputs": [],
   "source": [
    "data_steam['num_achievements'] = data_steam['achievements'].apply(get_n_achievements)"
   ]
  },
  {
   "cell_type": "markdown",
   "metadata": {},
   "source": [
    "We can compare our new column with the original to ensure that our function was successful, and then go ahead and drop the original column, because it doesn't include any additional information that interests us."
   ]
  },
  {
   "cell_type": "code",
   "execution_count": 314,
   "metadata": {
    "scrolled": true
   },
   "outputs": [
    {
     "data": {
      "text/html": [
       "<div>\n",
       "<style scoped>\n",
       "    .dataframe tbody tr th:only-of-type {\n",
       "        vertical-align: middle;\n",
       "    }\n",
       "\n",
       "    .dataframe tbody tr th {\n",
       "        vertical-align: top;\n",
       "    }\n",
       "\n",
       "    .dataframe thead th {\n",
       "        text-align: right;\n",
       "    }\n",
       "</style>\n",
       "<table border=\"1\" class=\"dataframe\">\n",
       "  <thead>\n",
       "    <tr style=\"text-align: right;\">\n",
       "      <th></th>\n",
       "      <th>achievements</th>\n",
       "      <th>num_achievements</th>\n",
       "    </tr>\n",
       "  </thead>\n",
       "  <tbody>\n",
       "    <tr>\n",
       "      <th>0</th>\n",
       "      <td>{'total': 0}</td>\n",
       "      <td>0</td>\n",
       "    </tr>\n",
       "    <tr>\n",
       "      <th>1</th>\n",
       "      <td>{'total': 0}</td>\n",
       "      <td>0</td>\n",
       "    </tr>\n",
       "    <tr>\n",
       "      <th>2</th>\n",
       "      <td>{'total': 0}</td>\n",
       "      <td>0</td>\n",
       "    </tr>\n",
       "    <tr>\n",
       "      <th>3</th>\n",
       "      <td>{'total': 22, 'highlighted': [{'name': 'Victor...</td>\n",
       "      <td>22</td>\n",
       "    </tr>\n",
       "    <tr>\n",
       "      <th>4</th>\n",
       "      <td>{'total': 12, 'highlighted': [{'name': 'Domina...</td>\n",
       "      <td>12</td>\n",
       "    </tr>\n",
       "  </tbody>\n",
       "</table>\n",
       "</div>"
      ],
      "text/plain": [
       "                                        achievements num_achievements\n",
       "0                                       {'total': 0}                0\n",
       "1                                       {'total': 0}                0\n",
       "2                                       {'total': 0}                0\n",
       "3  {'total': 22, 'highlighted': [{'name': 'Victor...               22\n",
       "4  {'total': 12, 'highlighted': [{'name': 'Domina...               12"
      ]
     },
     "execution_count": 314,
     "metadata": {},
     "output_type": "execute_result"
    }
   ],
   "source": [
    "data_steam[['achievements', 'num_achievements']].head()"
   ]
  },
  {
   "cell_type": "code",
   "execution_count": 315,
   "metadata": {},
   "outputs": [],
   "source": [
    "data_steam = data_steam.drop(columns='achievements')\n",
    "data_steam.rename(columns={'num_achievements':'achievements'},inplace=True)"
   ]
  },
  {
   "cell_type": "markdown",
   "metadata": {},
   "source": [
    "Great! Before finishing, let's take a look at the distribution of number of achievements (note: I tried visualizing it, but it looked awful due to outliers, so here we are with the `describe` function)."
   ]
  },
  {
   "cell_type": "code",
   "execution_count": 75,
   "metadata": {},
   "outputs": [
    {
     "data": {
      "text/plain": [
       "count    21753.000000\n",
       "mean        38.411805\n",
       "std        311.152117\n",
       "min          0.000000\n",
       "25%          0.000000\n",
       "50%          7.000000\n",
       "75%         21.000000\n",
       "max       9821.000000\n",
       "Name: achievements, dtype: float64"
      ]
     },
     "execution_count": 75,
     "metadata": {},
     "output_type": "execute_result"
    }
   ],
   "source": [
    "data_steam['achievements'].astype('int').describe()"
   ]
  },
  {
   "cell_type": "markdown",
   "metadata": {},
   "source": [
    "So...the max value is almost 10,000, while the average is 38. Let's investigate this outlier to see if it's a typo that we can remove."
   ]
  },
  {
   "cell_type": "code",
   "execution_count": 316,
   "metadata": {},
   "outputs": [],
   "source": [
    "data_steam = data_steam.reset_index(drop=True)"
   ]
  },
  {
   "cell_type": "code",
   "execution_count": 317,
   "metadata": {},
   "outputs": [
    {
     "data": {
      "text/plain": [
       "7541"
      ]
     },
     "execution_count": 317,
     "metadata": {},
     "output_type": "execute_result"
    }
   ],
   "source": [
    "data_steam['achievements'].astype('int').idxmax() "
   ]
  },
  {
   "cell_type": "code",
   "execution_count": 318,
   "metadata": {},
   "outputs": [
    {
     "data": {
      "text/plain": [
       "name                                                     Mistwood Heroes\n",
       "appid                                                             573210\n",
       "required_age                                                           0\n",
       "is_free                                                                0\n",
       "about_the_game         Mistwood is a huge forest-state populated by a...\n",
       "short_description      Mistwood is a huge forest-state populated by a...\n",
       "supported_languages                                            [English]\n",
       "header_image           https://steamcdn-a.akamaihd.net/steam/apps/573...\n",
       "website                                                              NaN\n",
       "developers                                                      Meepower\n",
       "publishers                                                      Meepower\n",
       "packages                                                        [145818]\n",
       "categories             Single-player; Steam Achievements; Full contro...\n",
       "genres                             Action; Adventure; Casual; Indie; RPG\n",
       "screenshots            [{'id': 0, 'path_thumbnail': 'https://steamcdn...\n",
       "release_date              {'coming_soon': False, 'date': 'Dec 30, 2016'}\n",
       "background             https://steamcdn-a.akamaihd.net/steam/apps/573...\n",
       "content_descriptors                           {'ids': [], 'notes': None}\n",
       "n_languages                                                            1\n",
       "has_website                                                            0\n",
       "price                                                              $0.99\n",
       "n_packages                                                             1\n",
       "platforms                                                        Windows\n",
       "achievements                                                          22\n",
       "Name: 7545, dtype: object"
      ]
     },
     "execution_count": 318,
     "metadata": {},
     "output_type": "execute_result"
    }
   ],
   "source": [
    "data_steam.iloc[7545]"
   ]
  },
  {
   "cell_type": "markdown",
   "metadata": {},
   "source": [
    "Checking out their website...this game really does have 9821 achievements! Okay. That's crazy. We almost certainly want to bin this feature when using it, but we'll leave it as is for the dataset we're creating. The binning will happen as we explore the data in the next Part of this project."
   ]
  },
  {
   "cell_type": "markdown",
   "metadata": {},
   "source": [
    "### Feature 21: Release Date"
   ]
  },
  {
   "cell_type": "markdown",
   "metadata": {},
   "source": [
    "Like many of the other features we've dealt with so far, `release_date` is a string composed of a dictionary containing two key/value pairs: `coming_soon` and `date`. The goal for this feature is to remove all games that are \"coming soon\", because we won't have any ratings data for games that haven't been released yet. Then, we'll transform the column to just be a date in the format MM/DD/YYYY. This will be a nice excerise in data transformation (and one of the first examples I learned in a course on data engineering). "
   ]
  },
  {
   "cell_type": "code",
   "execution_count": 319,
   "metadata": {},
   "outputs": [
    {
     "data": {
      "text/plain": [
       "0    {'coming_soon': False, 'date': 'Oct 12, 2005'}\n",
       "1    {'coming_soon': False, 'date': 'Jul 14, 2005'}\n",
       "2    {'coming_soon': False, 'date': 'Aug 23, 2006'}\n",
       "3    {'coming_soon': False, 'date': 'Sep 29, 2006'}\n",
       "4    {'coming_soon': False, 'date': 'Sep 19, 2008'}\n",
       "Name: release_date, dtype: object"
      ]
     },
     "execution_count": 319,
     "metadata": {},
     "output_type": "execute_result"
    }
   ],
   "source": [
    "data_steam['release_date'].head()"
   ]
  },
  {
   "cell_type": "code",
   "execution_count": 80,
   "metadata": {},
   "outputs": [
    {
     "name": "stdout",
     "output_type": "stream",
     "text": [
      "# missing values: 0\n"
     ]
    }
   ],
   "source": [
    "print('# missing values:', data_steam['release_date'].isnull().sum())"
   ]
  },
  {
   "cell_type": "markdown",
   "metadata": {},
   "source": [
    "Luckily, there's no distinct missing data, though I'm sure there's a lot of missing information when we dig in deeper into the dictionaries.\n",
    "\n",
    "For the first step, we'll remove all the instances where `coming_soon=True`, and then create a column of dates in their original format. "
   ]
  },
  {
   "cell_type": "code",
   "execution_count": 320,
   "metadata": {},
   "outputs": [],
   "source": [
    "def remove_coming_soon(x):\n",
    "    x = literal_eval(x)\n",
    "    if x['coming_soon']:\n",
    "        return '' # return blank string so can drop missing at end\n",
    "    else:\n",
    "        return x['date']"
   ]
  },
  {
   "cell_type": "code",
   "execution_count": 321,
   "metadata": {},
   "outputs": [],
   "source": [
    "data_steam['release_date_transformed'] = data_steam['release_date'].apply(remove_coming_soon)"
   ]
  },
  {
   "cell_type": "code",
   "execution_count": 322,
   "metadata": {},
   "outputs": [
    {
     "data": {
      "text/plain": [
       "0    Oct 12, 2005\n",
       "1    Jul 14, 2005\n",
       "Name: release_date_transformed, dtype: object"
      ]
     },
     "execution_count": 322,
     "metadata": {},
     "output_type": "execute_result"
    }
   ],
   "source": [
    "data_steam['release_date_transformed'].head(2)"
   ]
  },
  {
   "cell_type": "markdown",
   "metadata": {},
   "source": [
    "To change the date from this format to `MM/DD/YYYY`, we'll perform a series of transformations by splitting the column into multiple columns, applying rules to map the months to their respective numbers, and then combining the columns back into one. The functions we'll use are below: "
   ]
  },
  {
   "cell_type": "code",
   "execution_count": 323,
   "metadata": {},
   "outputs": [],
   "source": [
    "def split_col(df, col, new_col, splitter):\n",
    "    '''Splits a column on a delimiter; replaces col with the substring before the delimiter, and makes a new col with the \n",
    "    substring after the delimiter. Assigns an empty string if the string does not contain the delimiter'''\n",
    "    \n",
    "    df[col], df[new_col] = df[col].str.split(splitter, 1).str\n",
    "    df[new_col] = df[new_col].fillna('')\n",
    "    return df\n",
    "\n",
    "def convert(df, col, new_col, fn):\n",
    "    '''Creates a new column where the a function is applied to a column'''\n",
    "    \n",
    "    df[col] = df[col].replace({'': np.nan})\n",
    "    df[new_col] = df[col].map(fn, na_action='ignore')\n",
    "    df[col] = df[col].fillna('')\n",
    "    df[new_col] = df[new_col].fillna('')\n",
    "    return df\n",
    "\n",
    "\n",
    "def merge_col(df, col1, col2, splitter):\n",
    "    '''Replaces col1 with the concatenation of col1 and col2, separated by the delimiter provided. The delimiter is \n",
    "    ignored if either col1 or col2 are empty'''\n",
    "    \n",
    "    df[col1] = df[col1].str.cat(df[col2], sep = splitter)\n",
    "    df[col1] = df[col1].replace({splitter: ''})\n",
    "    df[col1] = df[col1].apply(lambda x: x[:-len(splitter)] if x.endswith(splitter) else x)\n",
    "    df[col1] = df[col1].apply(lambda x: x[len(splitter):] if x.startswith(splitter) else x)\n",
    "    return df"
   ]
  },
  {
   "cell_type": "code",
   "execution_count": 324,
   "metadata": {},
   "outputs": [],
   "source": [
    "data_steam = split_col(data_steam, 'release_date_transformed', 'release_date_transformed2', ', ') #split between day and year on comma"
   ]
  },
  {
   "cell_type": "code",
   "execution_count": 325,
   "metadata": {},
   "outputs": [],
   "source": [
    "data_steam = split_col(data_steam, 'release_date_transformed', 'release_date_transformed3', ' ') #split between month and day on space"
   ]
  },
  {
   "cell_type": "code",
   "execution_count": 326,
   "metadata": {
    "scrolled": true
   },
   "outputs": [
    {
     "data": {
      "text/html": [
       "<div>\n",
       "<style scoped>\n",
       "    .dataframe tbody tr th:only-of-type {\n",
       "        vertical-align: middle;\n",
       "    }\n",
       "\n",
       "    .dataframe tbody tr th {\n",
       "        vertical-align: top;\n",
       "    }\n",
       "\n",
       "    .dataframe thead th {\n",
       "        text-align: right;\n",
       "    }\n",
       "</style>\n",
       "<table border=\"1\" class=\"dataframe\">\n",
       "  <thead>\n",
       "    <tr style=\"text-align: right;\">\n",
       "      <th></th>\n",
       "      <th>release_date_transformed</th>\n",
       "      <th>release_date_transformed2</th>\n",
       "      <th>release_date_transformed3</th>\n",
       "    </tr>\n",
       "  </thead>\n",
       "  <tbody>\n",
       "    <tr>\n",
       "      <th>0</th>\n",
       "      <td>Oct</td>\n",
       "      <td>2005</td>\n",
       "      <td>12</td>\n",
       "    </tr>\n",
       "    <tr>\n",
       "      <th>1</th>\n",
       "      <td>Jul</td>\n",
       "      <td>2005</td>\n",
       "      <td>14</td>\n",
       "    </tr>\n",
       "    <tr>\n",
       "      <th>2</th>\n",
       "      <td>Aug</td>\n",
       "      <td>2006</td>\n",
       "      <td>23</td>\n",
       "    </tr>\n",
       "    <tr>\n",
       "      <th>3</th>\n",
       "      <td>Sep</td>\n",
       "      <td>2006</td>\n",
       "      <td>29</td>\n",
       "    </tr>\n",
       "    <tr>\n",
       "      <th>4</th>\n",
       "      <td>Sep</td>\n",
       "      <td>2008</td>\n",
       "      <td>19</td>\n",
       "    </tr>\n",
       "  </tbody>\n",
       "</table>\n",
       "</div>"
      ],
      "text/plain": [
       "  release_date_transformed release_date_transformed2 release_date_transformed3\n",
       "0                      Oct                      2005                        12\n",
       "1                      Jul                      2005                        14\n",
       "2                      Aug                      2006                        23\n",
       "3                      Sep                      2006                        29\n",
       "4                      Sep                      2008                        19"
      ]
     },
     "execution_count": 326,
     "metadata": {},
     "output_type": "execute_result"
    }
   ],
   "source": [
    "data_steam[['release_date_transformed','release_date_transformed2','release_date_transformed3']].head()"
   ]
  },
  {
   "cell_type": "code",
   "execution_count": 327,
   "metadata": {},
   "outputs": [],
   "source": [
    "#convert months from their names to numerical equivalents, then convert the day from single digit to double-digit format\n",
    "\n",
    "months = {'Jan': '01', 'Feb': '02', 'Mar': '03', 'Apr': '04', 'May': '05', 'Jun': '06', 'Jul': '07', 'Aug': '08', \n",
    "             'Sep': '09', 'Oct': '10', 'Nov': '11', 'Dec': '12'}\n",
    "\n",
    "data_steam = convert(data_steam, 'release_date_transformed', 'release_month', lambda x: months.get(x))\n",
    "data_steam = convert(data_steam, 'release_date_transformed3', 'release_day', lambda x: str('{:02d}'.format(int(x))))"
   ]
  },
  {
   "cell_type": "code",
   "execution_count": 328,
   "metadata": {},
   "outputs": [
    {
     "data": {
      "text/html": [
       "<div>\n",
       "<style scoped>\n",
       "    .dataframe tbody tr th:only-of-type {\n",
       "        vertical-align: middle;\n",
       "    }\n",
       "\n",
       "    .dataframe tbody tr th {\n",
       "        vertical-align: top;\n",
       "    }\n",
       "\n",
       "    .dataframe thead th {\n",
       "        text-align: right;\n",
       "    }\n",
       "</style>\n",
       "<table border=\"1\" class=\"dataframe\">\n",
       "  <thead>\n",
       "    <tr style=\"text-align: right;\">\n",
       "      <th></th>\n",
       "      <th>release_date_transformed</th>\n",
       "      <th>release_date_transformed2</th>\n",
       "      <th>release_date_transformed3</th>\n",
       "      <th>release_month</th>\n",
       "    </tr>\n",
       "  </thead>\n",
       "  <tbody>\n",
       "    <tr>\n",
       "      <th>0</th>\n",
       "      <td>Oct</td>\n",
       "      <td>2005</td>\n",
       "      <td>12</td>\n",
       "      <td>10</td>\n",
       "    </tr>\n",
       "    <tr>\n",
       "      <th>1</th>\n",
       "      <td>Jul</td>\n",
       "      <td>2005</td>\n",
       "      <td>14</td>\n",
       "      <td>07</td>\n",
       "    </tr>\n",
       "    <tr>\n",
       "      <th>2</th>\n",
       "      <td>Aug</td>\n",
       "      <td>2006</td>\n",
       "      <td>23</td>\n",
       "      <td>08</td>\n",
       "    </tr>\n",
       "    <tr>\n",
       "      <th>3</th>\n",
       "      <td>Sep</td>\n",
       "      <td>2006</td>\n",
       "      <td>29</td>\n",
       "      <td>09</td>\n",
       "    </tr>\n",
       "    <tr>\n",
       "      <th>4</th>\n",
       "      <td>Sep</td>\n",
       "      <td>2008</td>\n",
       "      <td>19</td>\n",
       "      <td>09</td>\n",
       "    </tr>\n",
       "  </tbody>\n",
       "</table>\n",
       "</div>"
      ],
      "text/plain": [
       "  release_date_transformed release_date_transformed2  \\\n",
       "0                      Oct                      2005   \n",
       "1                      Jul                      2005   \n",
       "2                      Aug                      2006   \n",
       "3                      Sep                      2006   \n",
       "4                      Sep                      2008   \n",
       "\n",
       "  release_date_transformed3 release_month  \n",
       "0                        12            10  \n",
       "1                        14            07  \n",
       "2                        23            08  \n",
       "3                        29            09  \n",
       "4                        19            09  "
      ]
     },
     "execution_count": 328,
     "metadata": {},
     "output_type": "execute_result"
    }
   ],
   "source": [
    "data_steam[['release_date_transformed','release_date_transformed2','release_date_transformed3', 'release_month']].head()"
   ]
  },
  {
   "cell_type": "code",
   "execution_count": 329,
   "metadata": {},
   "outputs": [],
   "source": [
    "data_steam = merge_col(data_steam, 'release_month', 'release_day', '/')\n",
    "data_steam = merge_col(data_steam, 'release_month', 'release_date_transformed2', '/')"
   ]
  },
  {
   "cell_type": "code",
   "execution_count": 330,
   "metadata": {},
   "outputs": [],
   "source": [
    "#delete extra columns and rename the one we want to keep\n",
    "date_cols = ['release_date', 'release_date_transformed', 'release_date_transformed2', 'release_date_transformed3', 'release_day']\n",
    "data_steam = data_steam.drop(columns=date_cols)\n",
    "data_steam.rename(columns={'release_month':'release_date'},inplace=True)"
   ]
  },
  {
   "cell_type": "code",
   "execution_count": 357,
   "metadata": {},
   "outputs": [
    {
     "name": "stdout",
     "output_type": "stream",
     "text": [
      "# missing values: 0\n",
      "# empty strings: 1994\n"
     ]
    }
   ],
   "source": [
    "print('# missing values:', data_steam['release_date'].isnull().sum())\n",
    "print('# empty strings:', data_steam[data_steam['release_date'] == \"\"].shape[0])"
   ]
  },
  {
   "cell_type": "markdown",
   "metadata": {},
   "source": [
    "The last thing we'll do is change the format of the column from a string to a datetime object "
   ]
  },
  {
   "cell_type": "code",
   "execution_count": 92,
   "metadata": {},
   "outputs": [],
   "source": [
    "#data_steam['release_date_formatted'] = pd.to_datetime(data_steam['release_date'])"
   ]
  },
  {
   "cell_type": "code",
   "execution_count": 93,
   "metadata": {},
   "outputs": [],
   "source": [
    "#sns.distplot(data_steam[\"release_date\"])"
   ]
  },
  {
   "cell_type": "code",
   "execution_count": 95,
   "metadata": {},
   "outputs": [],
   "source": [
    "#data_steam = data_steam.drop(columns=\"release_date_formatted\")"
   ]
  },
  {
   "cell_type": "markdown",
   "metadata": {},
   "source": [
    "### Feature 22: Background"
   ]
  },
  {
   "cell_type": "markdown",
   "metadata": {},
   "source": [
    "`Background` is again a feature much like `header`. It's just a string containing a link to an image. As with `header` and `screenshots`, all we'll do here is mark this column to be moved to the dataset for unstructured data, and then at the end of this Part of the project, we will move all of the appropriate columns."
   ]
  },
  {
   "cell_type": "code",
   "execution_count": 96,
   "metadata": {},
   "outputs": [
    {
     "data": {
      "text/plain": [
       "'https://steamcdn-a.akamaihd.net/steam/apps/1002/page_bg_generated_v6b.jpg?t=1447350828'"
      ]
     },
     "execution_count": 96,
     "metadata": {},
     "output_type": "execute_result"
    }
   ],
   "source": [
    "data_steam['background'].iloc[0]"
   ]
  },
  {
   "cell_type": "code",
   "execution_count": 331,
   "metadata": {},
   "outputs": [],
   "source": [
    "cols_to_move.append('background')"
   ]
  },
  {
   "cell_type": "markdown",
   "metadata": {},
   "source": [
    "### Feature 23: Content Descriptors"
   ]
  },
  {
   "cell_type": "markdown",
   "metadata": {},
   "source": [
    "We're almost done! The last feature in our Steam database is `content_descriptors`, which we can see technically has zero missing values:"
   ]
  },
  {
   "cell_type": "code",
   "execution_count": 98,
   "metadata": {},
   "outputs": [
    {
     "data": {
      "text/plain": [
       "0"
      ]
     },
     "execution_count": 98,
     "metadata": {},
     "output_type": "execute_result"
    }
   ],
   "source": [
    "data_steam['content_descriptors'].isnull().sum()"
   ]
  },
  {
   "cell_type": "markdown",
   "metadata": {},
   "source": [
    "However, the missing values are actually hidden, and in fact nearly the whole column looks like an empty dictionary:"
   ]
  },
  {
   "cell_type": "code",
   "execution_count": 99,
   "metadata": {},
   "outputs": [
    {
     "data": {
      "text/plain": [
       "\"{'ids': [], 'notes': None}\""
      ]
     },
     "execution_count": 99,
     "metadata": {},
     "output_type": "execute_result"
    }
   ],
   "source": [
    "data_steam['content_descriptors'].iloc[0]"
   ]
  },
  {
   "cell_type": "markdown",
   "metadata": {},
   "source": [
    "Every once in a while, there's a \"note\" providing sensitivity information pertaining to the game. I'm honestly still not sure what the IDs relate to."
   ]
  },
  {
   "cell_type": "code",
   "execution_count": 100,
   "metadata": {},
   "outputs": [
    {
     "data": {
      "text/plain": [
       "\"{'ids': [5], 'notes': 'Story contains swearing and features mature themes - violence, criminal activity, prostitution, drug and alcohol use.'}\""
      ]
     },
     "execution_count": 100,
     "metadata": {},
     "output_type": "execute_result"
    }
   ],
   "source": [
    "data_steam['content_descriptors'].iloc[5411]"
   ]
  },
  {
   "cell_type": "code",
   "execution_count": 101,
   "metadata": {},
   "outputs": [
    {
     "data": {
      "text/plain": [
       "{'ids': [], 'notes': None}                                                                                                                                                                   19539\n",
       "{'ids': [2, 5], 'notes': None}                                                                                                                                                                 346\n",
       "{'ids': [1, 5], 'notes': None}                                                                                                                                                                 131\n",
       "{'ids': [1, 2, 5], 'notes': None}                                                                                                                                                               97\n",
       "{'ids': [5], 'notes': None}                                                                                                                                                                     91\n",
       "{'ids': [1, 3, 5], 'notes': None}                                                                                                                                                               14\n",
       "{'ids': [2, 5], 'notes': 'This Game may contain content not appropriate for all ages, or may not be appropriate for viewing at work: Frequent Violence or Gore, General Mature Content'}        13\n",
       "{'ids': [2, 5], 'notes': 'This Game may contain content not appropriate for all ages, or may not be appropriate for viewing at work: Frequent Violence or Gore, General Mature Content.'}        6\n",
       "{'ids': [2, 5], 'notes': 'Includes intense violence and blood.'}                                                                                                                                 5\n",
       "{'ids': [5], 'notes': 'Blood Effects, Violence'}                                                                                                                                                 4\n",
       "Name: content_descriptors, dtype: int64"
      ]
     },
     "execution_count": 101,
     "metadata": {},
     "output_type": "execute_result"
    }
   ],
   "source": [
    "data_steam['content_descriptors'].value_counts().head(10)"
   ]
  },
  {
   "cell_type": "code",
   "execution_count": 102,
   "metadata": {},
   "outputs": [
    {
     "name": "stdout",
     "output_type": "stream",
     "text": [
      "Fraction of missing data for content descriptors:  0.9294350204569485\n"
     ]
    }
   ],
   "source": [
    "print('Fraction of missing data for content descriptors: ', (19539+346+131+97+91+14)/len(data_steam))"
   ]
  },
  {
   "cell_type": "markdown",
   "metadata": {},
   "source": [
    "Although I was hoping to keep this information to investigate how games with mature content compared to games without, with 93% of this column missing, it doesn't really make sense to keep it. We'll just drop this column."
   ]
  },
  {
   "cell_type": "code",
   "execution_count": 332,
   "metadata": {},
   "outputs": [],
   "source": [
    "data_steam = data_steam.drop(columns=\"content_descriptors\")"
   ]
  },
  {
   "cell_type": "markdown",
   "metadata": {},
   "source": [
    "### Final Dataset Cleanup"
   ]
  },
  {
   "cell_type": "markdown",
   "metadata": {},
   "source": [
    "Wow! We made it to the end of that massive list of featuers! The last thing we'll do here is move all of the columns we marked to a different dataset for unstructured data and other information that we don't want immediately but don't want to delete permanently. We'll leave that dataset in raw format until we decide to use it. Then, we'll re-order the columns into something that makes the most sense (in my opinion, of course there are many right answers here). "
   ]
  },
  {
   "cell_type": "code",
   "execution_count": 334,
   "metadata": {},
   "outputs": [
    {
     "data": {
      "text/plain": [
       "['about_the_game',\n",
       " 'short_description',\n",
       " 'supported_languages',\n",
       " 'header_image',\n",
       " 'website',\n",
       " 'packages',\n",
       " 'screenshots',\n",
       " 'background']"
      ]
     },
     "execution_count": 334,
     "metadata": {},
     "output_type": "execute_result"
    }
   ],
   "source": [
    "cols_to_move"
   ]
  },
  {
   "cell_type": "code",
   "execution_count": 342,
   "metadata": {},
   "outputs": [],
   "source": [
    "def move_unstructured_data(df, cols_to_move):\n",
    "    df_new = df[['name', 'appid']]\n",
    "    for i, col in enumerate(cols_to_move):\n",
    "        df_new[col] = df[col]\n",
    "    return df_new"
   ]
  },
  {
   "cell_type": "code",
   "execution_count": 343,
   "metadata": {},
   "outputs": [
    {
     "name": "stderr",
     "output_type": "stream",
     "text": [
      "C:\\Users\\araeg\\Anaconda3\\lib\\site-packages\\ipykernel_launcher.py:4: SettingWithCopyWarning: \n",
      "A value is trying to be set on a copy of a slice from a DataFrame.\n",
      "Try using .loc[row_indexer,col_indexer] = value instead\n",
      "\n",
      "See the caveats in the documentation: http://pandas.pydata.org/pandas-docs/stable/indexing.html#indexing-view-versus-copy\n",
      "  after removing the cwd from sys.path.\n"
     ]
    }
   ],
   "source": [
    "unstructured_data_steam_raw = move_unstructured_data(data_steam, cols_to_move)"
   ]
  },
  {
   "cell_type": "code",
   "execution_count": 345,
   "metadata": {},
   "outputs": [
    {
     "data": {
      "text/html": [
       "<div>\n",
       "<style scoped>\n",
       "    .dataframe tbody tr th:only-of-type {\n",
       "        vertical-align: middle;\n",
       "    }\n",
       "\n",
       "    .dataframe tbody tr th {\n",
       "        vertical-align: top;\n",
       "    }\n",
       "\n",
       "    .dataframe thead th {\n",
       "        text-align: right;\n",
       "    }\n",
       "</style>\n",
       "<table border=\"1\" class=\"dataframe\">\n",
       "  <thead>\n",
       "    <tr style=\"text-align: right;\">\n",
       "      <th></th>\n",
       "      <th>name</th>\n",
       "      <th>appid</th>\n",
       "      <th>about_the_game</th>\n",
       "      <th>short_description</th>\n",
       "      <th>supported_languages</th>\n",
       "      <th>header_image</th>\n",
       "      <th>website</th>\n",
       "      <th>packages</th>\n",
       "      <th>screenshots</th>\n",
       "      <th>background</th>\n",
       "    </tr>\n",
       "  </thead>\n",
       "  <tbody>\n",
       "    <tr>\n",
       "      <th>0</th>\n",
       "      <td>Rag Doll Kung Fu</td>\n",
       "      <td>1002</td>\n",
       "      <td>Featuring a wide collection of single and mult...</td>\n",
       "      <td>Featuring a wide collection of single and mult...</td>\n",
       "      <td>[English]</td>\n",
       "      <td>https://steamcdn-a.akamaihd.net/steam/apps/100...</td>\n",
       "      <td>http://www.ragdollkungfu.com/</td>\n",
       "      <td>[45]</td>\n",
       "      <td>[{'id': 0, 'path_thumbnail': 'https://steamcdn...</td>\n",
       "      <td>https://steamcdn-a.akamaihd.net/steam/apps/100...</td>\n",
       "    </tr>\n",
       "    <tr>\n",
       "      <th>1</th>\n",
       "      <td>Darwinia</td>\n",
       "      <td>1500</td>\n",
       "      <td>Combining fast-paced action with strategic bat...</td>\n",
       "      <td>Combining fast-paced action with strategic bat...</td>\n",
       "      <td>[English,  German]</td>\n",
       "      <td>https://steamcdn-a.akamaihd.net/steam/apps/150...</td>\n",
       "      <td>http://www.darwinia.co.uk/</td>\n",
       "      <td>[54, 14324, 978, 14002]</td>\n",
       "      <td>[{'id': 0, 'path_thumbnail': 'https://steamcdn...</td>\n",
       "      <td>https://steamcdn-a.akamaihd.net/steam/apps/150...</td>\n",
       "    </tr>\n",
       "  </tbody>\n",
       "</table>\n",
       "</div>"
      ],
      "text/plain": [
       "               name  appid                                     about_the_game  \\\n",
       "0  Rag Doll Kung Fu   1002  Featuring a wide collection of single and mult...   \n",
       "1          Darwinia   1500  Combining fast-paced action with strategic bat...   \n",
       "\n",
       "                                   short_description supported_languages  \\\n",
       "0  Featuring a wide collection of single and mult...           [English]   \n",
       "1  Combining fast-paced action with strategic bat...  [English,  German]   \n",
       "\n",
       "                                        header_image  \\\n",
       "0  https://steamcdn-a.akamaihd.net/steam/apps/100...   \n",
       "1  https://steamcdn-a.akamaihd.net/steam/apps/150...   \n",
       "\n",
       "                         website                 packages  \\\n",
       "0  http://www.ragdollkungfu.com/                     [45]   \n",
       "1     http://www.darwinia.co.uk/  [54, 14324, 978, 14002]   \n",
       "\n",
       "                                         screenshots  \\\n",
       "0  [{'id': 0, 'path_thumbnail': 'https://steamcdn...   \n",
       "1  [{'id': 0, 'path_thumbnail': 'https://steamcdn...   \n",
       "\n",
       "                                          background  \n",
       "0  https://steamcdn-a.akamaihd.net/steam/apps/100...  \n",
       "1  https://steamcdn-a.akamaihd.net/steam/apps/150...  "
      ]
     },
     "execution_count": 345,
     "metadata": {},
     "output_type": "execute_result"
    }
   ],
   "source": [
    "unstructured_data_steam_raw.head(2)"
   ]
  },
  {
   "cell_type": "code",
   "execution_count": 346,
   "metadata": {},
   "outputs": [],
   "source": [
    "data_steam = data_steam.drop(columns=cols_to_move)"
   ]
  },
  {
   "cell_type": "code",
   "execution_count": 351,
   "metadata": {},
   "outputs": [],
   "source": [
    "col_order = ['name', 'appid', 'developers', 'publishers', 'price', 'is_free', 'platforms', 'release_date', 'required_age', 'n_languages', 'n_packages', 'has_website', 'achievements', 'categories', 'genres' ]"
   ]
  },
  {
   "cell_type": "code",
   "execution_count": 352,
   "metadata": {},
   "outputs": [],
   "source": [
    "data_steam = data_steam[col_order]"
   ]
  },
  {
   "cell_type": "code",
   "execution_count": 353,
   "metadata": {},
   "outputs": [
    {
     "data": {
      "text/html": [
       "<div>\n",
       "<style scoped>\n",
       "    .dataframe tbody tr th:only-of-type {\n",
       "        vertical-align: middle;\n",
       "    }\n",
       "\n",
       "    .dataframe tbody tr th {\n",
       "        vertical-align: top;\n",
       "    }\n",
       "\n",
       "    .dataframe thead th {\n",
       "        text-align: right;\n",
       "    }\n",
       "</style>\n",
       "<table border=\"1\" class=\"dataframe\">\n",
       "  <thead>\n",
       "    <tr style=\"text-align: right;\">\n",
       "      <th></th>\n",
       "      <th>name</th>\n",
       "      <th>appid</th>\n",
       "      <th>developers</th>\n",
       "      <th>publishers</th>\n",
       "      <th>price</th>\n",
       "      <th>is_free</th>\n",
       "      <th>platforms</th>\n",
       "      <th>release_date</th>\n",
       "      <th>required_age</th>\n",
       "      <th>n_languages</th>\n",
       "      <th>n_packages</th>\n",
       "      <th>has_website</th>\n",
       "      <th>achievements</th>\n",
       "      <th>categories</th>\n",
       "      <th>genres</th>\n",
       "    </tr>\n",
       "  </thead>\n",
       "  <tbody>\n",
       "    <tr>\n",
       "      <th>0</th>\n",
       "      <td>Rag Doll Kung Fu</td>\n",
       "      <td>1002</td>\n",
       "      <td>Mark Healey</td>\n",
       "      <td>Mark Healey</td>\n",
       "      <td>0</td>\n",
       "      <td>0</td>\n",
       "      <td>Windows</td>\n",
       "      <td>10/12/2005</td>\n",
       "      <td>0</td>\n",
       "      <td>1</td>\n",
       "      <td>1</td>\n",
       "      <td>1</td>\n",
       "      <td>0</td>\n",
       "      <td>Single-player; Multi-player</td>\n",
       "      <td>Indie</td>\n",
       "    </tr>\n",
       "    <tr>\n",
       "      <th>1</th>\n",
       "      <td>Darwinia</td>\n",
       "      <td>1500</td>\n",
       "      <td>Introversion Software</td>\n",
       "      <td>Introversion Software</td>\n",
       "      <td>0</td>\n",
       "      <td>0</td>\n",
       "      <td>Windows; Mac; Linux</td>\n",
       "      <td>07/14/2005</td>\n",
       "      <td>0</td>\n",
       "      <td>2</td>\n",
       "      <td>4</td>\n",
       "      <td>1</td>\n",
       "      <td>0</td>\n",
       "      <td>Single-player</td>\n",
       "      <td>Indie; Strategy</td>\n",
       "    </tr>\n",
       "    <tr>\n",
       "      <th>2</th>\n",
       "      <td>Uplink</td>\n",
       "      <td>1510</td>\n",
       "      <td>Introversion Software</td>\n",
       "      <td>Introversion Software</td>\n",
       "      <td>$9.99</td>\n",
       "      <td>0</td>\n",
       "      <td>Windows; Mac; Linux</td>\n",
       "      <td>08/23/2006</td>\n",
       "      <td>0</td>\n",
       "      <td>1</td>\n",
       "      <td>2</td>\n",
       "      <td>1</td>\n",
       "      <td>0</td>\n",
       "      <td>Single-player</td>\n",
       "      <td>Indie; Strategy</td>\n",
       "    </tr>\n",
       "    <tr>\n",
       "      <th>3</th>\n",
       "      <td>DEFCON</td>\n",
       "      <td>1520</td>\n",
       "      <td>Introversion Software</td>\n",
       "      <td>Introversion Software</td>\n",
       "      <td>$9.99</td>\n",
       "      <td>0</td>\n",
       "      <td>Windows; Mac; Linux</td>\n",
       "      <td>09/29/2006</td>\n",
       "      <td>0</td>\n",
       "      <td>5</td>\n",
       "      <td>3</td>\n",
       "      <td>1</td>\n",
       "      <td>22</td>\n",
       "      <td>Single-player; Multi-player</td>\n",
       "      <td>Indie; Strategy</td>\n",
       "    </tr>\n",
       "    <tr>\n",
       "      <th>4</th>\n",
       "      <td>Multiwinia</td>\n",
       "      <td>1530</td>\n",
       "      <td>Introversion Software</td>\n",
       "      <td>Introversion Software</td>\n",
       "      <td>$9.99</td>\n",
       "      <td>0</td>\n",
       "      <td>Windows; Mac</td>\n",
       "      <td>09/19/2008</td>\n",
       "      <td>0</td>\n",
       "      <td>5</td>\n",
       "      <td>3</td>\n",
       "      <td>1</td>\n",
       "      <td>12</td>\n",
       "      <td>Single-player; Multi-player; Steam Achievements</td>\n",
       "      <td>Indie</td>\n",
       "    </tr>\n",
       "  </tbody>\n",
       "</table>\n",
       "</div>"
      ],
      "text/plain": [
       "               name  appid             developers             publishers  \\\n",
       "0  Rag Doll Kung Fu   1002            Mark Healey            Mark Healey   \n",
       "1          Darwinia   1500  Introversion Software  Introversion Software   \n",
       "2            Uplink   1510  Introversion Software  Introversion Software   \n",
       "3            DEFCON   1520  Introversion Software  Introversion Software   \n",
       "4        Multiwinia   1530  Introversion Software  Introversion Software   \n",
       "\n",
       "   price  is_free            platforms release_date required_age  n_languages  \\\n",
       "0      0        0              Windows   10/12/2005            0            1   \n",
       "1      0        0  Windows; Mac; Linux   07/14/2005            0            2   \n",
       "2  $9.99        0  Windows; Mac; Linux   08/23/2006            0            1   \n",
       "3  $9.99        0  Windows; Mac; Linux   09/29/2006            0            5   \n",
       "4  $9.99        0         Windows; Mac   09/19/2008            0            5   \n",
       "\n",
       "   n_packages  has_website achievements  \\\n",
       "0           1            1            0   \n",
       "1           4            1            0   \n",
       "2           2            1            0   \n",
       "3           3            1           22   \n",
       "4           3            1           12   \n",
       "\n",
       "                                        categories           genres  \n",
       "0                      Single-player; Multi-player            Indie  \n",
       "1                                    Single-player  Indie; Strategy  \n",
       "2                                    Single-player  Indie; Strategy  \n",
       "3                      Single-player; Multi-player  Indie; Strategy  \n",
       "4  Single-player; Multi-player; Steam Achievements            Indie  "
      ]
     },
     "execution_count": 353,
     "metadata": {},
     "output_type": "execute_result"
    }
   ],
   "source": [
    "data_steam.head()"
   ]
  },
  {
   "cell_type": "markdown",
   "metadata": {},
   "source": [
    "That took ages, but, we're done, right? Ah, for the first dataset, that is. Luckily, we've gotten quite good at fast feature cleaning, and the second dataset has far fewer features for us to clean."
   ]
  },
  {
   "cell_type": "markdown",
   "metadata": {},
   "source": [
    "Now that we're finished creating our Steam database as well as the unstructured one, let's write these to csv files (of course, if they were on the order of millions of rows of data rather than ~22k rows, we would want to keep them in SQL databases rather than csv files!). "
   ]
  },
  {
   "cell_type": "code",
   "execution_count": 354,
   "metadata": {},
   "outputs": [],
   "source": [
    "data_steam.to_csv('./data/steam_data_cleaned.csv')\n",
    "unstructured_data_steam_raw.to_csv('./data/unstructured_data_raw.csv')"
   ]
  },
  {
   "cell_type": "markdown",
   "metadata": {},
   "source": [
    "### 2.3 SteamSpy Dataset: Feature Cleaning"
   ]
  },
  {
   "cell_type": "markdown",
   "metadata": {},
   "source": [
    "*Deep breath* We're almost there. We'll be going through each feature in the SteamSpy dataset as well, with the expectation that this part will be much simpler - most of the features are already in usable condition, many of them are redundant with what we have in our Steam dataset, and there's fewer features overall. Let's dig in - "
   ]
  },
  {
   "cell_type": "code",
   "execution_count": 359,
   "metadata": {},
   "outputs": [
    {
     "data": {
      "text/html": [
       "<div>\n",
       "<style scoped>\n",
       "    .dataframe tbody tr th:only-of-type {\n",
       "        vertical-align: middle;\n",
       "    }\n",
       "\n",
       "    .dataframe tbody tr th {\n",
       "        vertical-align: top;\n",
       "    }\n",
       "\n",
       "    .dataframe thead th {\n",
       "        text-align: right;\n",
       "    }\n",
       "</style>\n",
       "<table border=\"1\" class=\"dataframe\">\n",
       "  <thead>\n",
       "    <tr style=\"text-align: right;\">\n",
       "      <th></th>\n",
       "      <th>appid</th>\n",
       "      <th>name</th>\n",
       "      <th>developer</th>\n",
       "      <th>publisher</th>\n",
       "      <th>score_rank</th>\n",
       "      <th>positive</th>\n",
       "      <th>negative</th>\n",
       "      <th>userscore</th>\n",
       "      <th>owners</th>\n",
       "      <th>average_forever</th>\n",
       "      <th>average_2weeks</th>\n",
       "      <th>median_forever</th>\n",
       "      <th>median_2weeks</th>\n",
       "      <th>price</th>\n",
       "      <th>initialprice</th>\n",
       "      <th>discount</th>\n",
       "      <th>languages</th>\n",
       "      <th>genre</th>\n",
       "      <th>ccu</th>\n",
       "      <th>tags</th>\n",
       "    </tr>\n",
       "  </thead>\n",
       "  <tbody>\n",
       "    <tr>\n",
       "      <th>0</th>\n",
       "      <td>1034230</td>\n",
       "      <td>***</td>\n",
       "      <td>Kenshin Game Studio</td>\n",
       "      <td>Kenshin Game Studio</td>\n",
       "      <td>NaN</td>\n",
       "      <td>3</td>\n",
       "      <td>2</td>\n",
       "      <td>0</td>\n",
       "      <td>0 .. 20,000</td>\n",
       "      <td>0</td>\n",
       "      <td>0</td>\n",
       "      <td>0</td>\n",
       "      <td>0</td>\n",
       "      <td>99.0</td>\n",
       "      <td>99.0</td>\n",
       "      <td>0.0</td>\n",
       "      <td>English, French, Italian, German, Spanish - Sp...</td>\n",
       "      <td>Casual, Indie</td>\n",
       "      <td>0</td>\n",
       "      <td>{'Indie': 21, 'Casual': 21, 'Puzzle': 12}</td>\n",
       "    </tr>\n",
       "    <tr>\n",
       "      <th>1</th>\n",
       "      <td>603750</td>\n",
       "      <td>- Arcane Raise -</td>\n",
       "      <td>Arcane Raise</td>\n",
       "      <td>WAX Publishing</td>\n",
       "      <td>NaN</td>\n",
       "      <td>54</td>\n",
       "      <td>91</td>\n",
       "      <td>0</td>\n",
       "      <td>20,000 .. 50,000</td>\n",
       "      <td>225</td>\n",
       "      <td>0</td>\n",
       "      <td>233</td>\n",
       "      <td>0</td>\n",
       "      <td>299.0</td>\n",
       "      <td>299.0</td>\n",
       "      <td>0.0</td>\n",
       "      <td>English</td>\n",
       "      <td>Adventure, Casual, Indie, RPG, Strategy</td>\n",
       "      <td>0</td>\n",
       "      <td>{'Adventure': 66, 'RPG': 48, 'Strategy': 40, '...</td>\n",
       "    </tr>\n",
       "  </tbody>\n",
       "</table>\n",
       "</div>"
      ],
      "text/plain": [
       "     appid              name            developer            publisher  \\\n",
       "0  1034230               ***  Kenshin Game Studio  Kenshin Game Studio   \n",
       "1   603750  - Arcane Raise -         Arcane Raise       WAX Publishing   \n",
       "\n",
       "   score_rank  positive  negative  userscore            owners  \\\n",
       "0         NaN         3         2          0       0 .. 20,000   \n",
       "1         NaN        54        91          0  20,000 .. 50,000   \n",
       "\n",
       "   average_forever  average_2weeks  median_forever  median_2weeks  price  \\\n",
       "0                0               0               0              0   99.0   \n",
       "1              225               0             233              0  299.0   \n",
       "\n",
       "   initialprice  discount                                          languages  \\\n",
       "0          99.0       0.0  English, French, Italian, German, Spanish - Sp...   \n",
       "1         299.0       0.0                                            English   \n",
       "\n",
       "                                     genre  ccu  \\\n",
       "0                            Casual, Indie    0   \n",
       "1  Adventure, Casual, Indie, RPG, Strategy    0   \n",
       "\n",
       "                                                tags  \n",
       "0          {'Indie': 21, 'Casual': 21, 'Puzzle': 12}  \n",
       "1  {'Adventure': 66, 'RPG': 48, 'Strategy': 40, '...  "
      ]
     },
     "execution_count": 359,
     "metadata": {},
     "output_type": "execute_result"
    }
   ],
   "source": [
    "data_steamspy_raw.head(2)"
   ]
  },
  {
   "cell_type": "markdown",
   "metadata": {},
   "source": [
    "### Merging Steam and SteamSpy Datasets"
   ]
  },
  {
   "cell_type": "markdown",
   "metadata": {},
   "source": [
    "Before we clean up the SteamSpy features we will first merge the Steam and SteamSpy datasets using a Left Join on the Appid - this will allow us to ensure we keep only the rows/AppIDs we decided on in the previous step (not reintroducing rows we removed before). Furthermore, this will create an easy way for us to quickly compare the values for columns that have been duplicated since they appear in both datasets - we'll use a clear suffix to separate them, and then check if there are anomalies where for a given AppID, two supposedly idential columns don't match. Then, we'll remove the SteamSpy columns that are redundant, and finally quickly clean up the remaining features before saving our final dataset.  "
   ]
  },
  {
   "cell_type": "code",
   "execution_count": 361,
   "metadata": {},
   "outputs": [],
   "source": [
    "data_steamspy = data_steamspy_raw.copy() #make a copy of the raw data so we don't alter it"
   ]
  },
  {
   "cell_type": "markdown",
   "metadata": {},
   "source": [
    "Before we merge the two datasets, we can also take a look at how much missing data we'll be dealing with this time:"
   ]
  },
  {
   "cell_type": "code",
   "execution_count": 393,
   "metadata": {},
   "outputs": [
    {
     "data": {
      "text/plain": [
       "<matplotlib.axes._subplots.AxesSubplot at 0x221c9670048>"
      ]
     },
     "execution_count": 393,
     "metadata": {},
     "output_type": "execute_result"
    },
    {
     "data": {
      "image/png": "[encoded data removed]",
      "text/plain": [
       "<Figure size 2160x360 with 2 Axes>"
      ]
     },
     "metadata": {},
     "output_type": "display_data"
    }
   ],
   "source": [
    "missingno.matrix(data_steamspy, figsize = (30,5))"
   ]
  },
  {
   "cell_type": "markdown",
   "metadata": {},
   "source": [
    "Oh. Not entirely sure what `score_rank` is, but probably we don't want to keep it if it's almost entirely empty...anyway, on to merging:"
   ]
  },
  {
   "cell_type": "code",
   "execution_count": 380,
   "metadata": {},
   "outputs": [],
   "source": [
    "data_full = pd.merge(data_steam, data_steamspy, on='appid', how='left', suffixes=('', '_steamspy')) #left join on appid"
   ]
  },
  {
   "cell_type": "code",
   "execution_count": 388,
   "metadata": {},
   "outputs": [
    {
     "data": {
      "text/html": [
       "<div>\n",
       "<style scoped>\n",
       "    .dataframe tbody tr th:only-of-type {\n",
       "        vertical-align: middle;\n",
       "    }\n",
       "\n",
       "    .dataframe tbody tr th {\n",
       "        vertical-align: top;\n",
       "    }\n",
       "\n",
       "    .dataframe thead th {\n",
       "        text-align: right;\n",
       "    }\n",
       "</style>\n",
       "<table border=\"1\" class=\"dataframe\">\n",
       "  <thead>\n",
       "    <tr style=\"text-align: right;\">\n",
       "      <th></th>\n",
       "      <th>name</th>\n",
       "      <th>appid</th>\n",
       "      <th>developers</th>\n",
       "      <th>publishers</th>\n",
       "      <th>price</th>\n",
       "      <th>is_free</th>\n",
       "      <th>platforms</th>\n",
       "      <th>release_date</th>\n",
       "      <th>required_age</th>\n",
       "      <th>n_languages</th>\n",
       "      <th>n_packages</th>\n",
       "      <th>has_website</th>\n",
       "      <th>achievements</th>\n",
       "      <th>categories</th>\n",
       "      <th>genres</th>\n",
       "      <th>name_steamspy</th>\n",
       "      <th>developer</th>\n",
       "      <th>publisher</th>\n",
       "      <th>score_rank</th>\n",
       "      <th>positive</th>\n",
       "      <th>negative</th>\n",
       "      <th>userscore</th>\n",
       "      <th>owners</th>\n",
       "      <th>average_forever</th>\n",
       "      <th>average_2weeks</th>\n",
       "      <th>median_forever</th>\n",
       "      <th>median_2weeks</th>\n",
       "      <th>price_steamspy</th>\n",
       "      <th>initialprice</th>\n",
       "      <th>discount</th>\n",
       "      <th>languages</th>\n",
       "      <th>genre</th>\n",
       "      <th>ccu</th>\n",
       "      <th>tags</th>\n",
       "    </tr>\n",
       "  </thead>\n",
       "  <tbody>\n",
       "    <tr>\n",
       "      <th>0</th>\n",
       "      <td>Rag Doll Kung Fu</td>\n",
       "      <td>1002</td>\n",
       "      <td>Mark Healey</td>\n",
       "      <td>Mark Healey</td>\n",
       "      <td>0</td>\n",
       "      <td>0</td>\n",
       "      <td>Windows</td>\n",
       "      <td>10/12/2005</td>\n",
       "      <td>0</td>\n",
       "      <td>1</td>\n",
       "      <td>1</td>\n",
       "      <td>1</td>\n",
       "      <td>0</td>\n",
       "      <td>Single-player; Multi-player</td>\n",
       "      <td>Indie</td>\n",
       "      <td>Rag Doll Kung Fu</td>\n",
       "      <td>Mark Healey</td>\n",
       "      <td>Mark Healey</td>\n",
       "      <td>NaN</td>\n",
       "      <td>44</td>\n",
       "      <td>18</td>\n",
       "      <td>0</td>\n",
       "      <td>0 .. 20,000</td>\n",
       "      <td>0</td>\n",
       "      <td>0</td>\n",
       "      <td>0</td>\n",
       "      <td>0</td>\n",
       "      <td>999.0</td>\n",
       "      <td>999.0</td>\n",
       "      <td>0.0</td>\n",
       "      <td>English</td>\n",
       "      <td>Indie</td>\n",
       "      <td>0</td>\n",
       "      <td>{'2D Fighter': 45, 'Martial Arts': 39, 'Multip...</td>\n",
       "    </tr>\n",
       "    <tr>\n",
       "      <th>1</th>\n",
       "      <td>Darwinia</td>\n",
       "      <td>1500</td>\n",
       "      <td>Introversion Software</td>\n",
       "      <td>Introversion Software</td>\n",
       "      <td>0</td>\n",
       "      <td>0</td>\n",
       "      <td>Windows; Mac; Linux</td>\n",
       "      <td>07/14/2005</td>\n",
       "      <td>0</td>\n",
       "      <td>2</td>\n",
       "      <td>4</td>\n",
       "      <td>1</td>\n",
       "      <td>0</td>\n",
       "      <td>Single-player</td>\n",
       "      <td>Indie; Strategy</td>\n",
       "      <td>Darwinia</td>\n",
       "      <td>Introversion Software</td>\n",
       "      <td>Introversion Software</td>\n",
       "      <td>NaN</td>\n",
       "      <td>508</td>\n",
       "      <td>168</td>\n",
       "      <td>0</td>\n",
       "      <td>500,000 .. 1,000,000</td>\n",
       "      <td>9</td>\n",
       "      <td>0</td>\n",
       "      <td>13</td>\n",
       "      <td>0</td>\n",
       "      <td>999.0</td>\n",
       "      <td>999.0</td>\n",
       "      <td>0.0</td>\n",
       "      <td>English, German</td>\n",
       "      <td>Indie, Strategy</td>\n",
       "      <td>5</td>\n",
       "      <td>{'Strategy': 109, 'Indie': 90, 'RTS': 62, 'Sin...</td>\n",
       "    </tr>\n",
       "  </tbody>\n",
       "</table>\n",
       "</div>"
      ],
      "text/plain": [
       "               name  appid             developers             publishers  \\\n",
       "0  Rag Doll Kung Fu   1002            Mark Healey            Mark Healey   \n",
       "1          Darwinia   1500  Introversion Software  Introversion Software   \n",
       "\n",
       "  price  is_free            platforms release_date required_age  n_languages  \\\n",
       "0     0        0              Windows   10/12/2005            0            1   \n",
       "1     0        0  Windows; Mac; Linux   07/14/2005            0            2   \n",
       "\n",
       "   n_packages  has_website achievements                   categories  \\\n",
       "0           1            1            0  Single-player; Multi-player   \n",
       "1           4            1            0                Single-player   \n",
       "\n",
       "            genres     name_steamspy              developer  \\\n",
       "0            Indie  Rag Doll Kung Fu            Mark Healey   \n",
       "1  Indie; Strategy          Darwinia  Introversion Software   \n",
       "\n",
       "               publisher  score_rank  positive  negative  userscore  \\\n",
       "0            Mark Healey         NaN        44        18          0   \n",
       "1  Introversion Software         NaN       508       168          0   \n",
       "\n",
       "                 owners  average_forever  average_2weeks  median_forever  \\\n",
       "0           0 .. 20,000                0               0               0   \n",
       "1  500,000 .. 1,000,000                9               0              13   \n",
       "\n",
       "   median_2weeks  price_steamspy  initialprice  discount        languages  \\\n",
       "0              0           999.0         999.0       0.0          English   \n",
       "1              0           999.0         999.0       0.0  English, German   \n",
       "\n",
       "             genre  ccu                                               tags  \n",
       "0            Indie    0  {'2D Fighter': 45, 'Martial Arts': 39, 'Multip...  \n",
       "1  Indie, Strategy    5  {'Strategy': 109, 'Indie': 90, 'RTS': 62, 'Sin...  "
      ]
     },
     "execution_count": 388,
     "metadata": {},
     "output_type": "execute_result"
    }
   ],
   "source": [
    "data_full.head(2)"
   ]
  },
  {
   "cell_type": "markdown",
   "metadata": {},
   "source": [
    "First, let's check if there are cases where the `name` provided by Steam doesn't match the `name` provided by SteamSpy."
   ]
  },
  {
   "cell_type": "code",
   "execution_count": 383,
   "metadata": {},
   "outputs": [
    {
     "data": {
      "text/plain": [
       "name    123\n",
       "dtype: int64"
      ]
     },
     "execution_count": 383,
     "metadata": {},
     "output_type": "execute_result"
    }
   ],
   "source": [
    "data_full.loc[data_full['name'] != data_full['name_steamspy']].count().head(1)"
   ]
  },
  {
   "cell_type": "markdown",
   "metadata": {},
   "source": [
    "Oof, there's actually a lot of these! Let's peep under the hood to figure out why:"
   ]
  },
  {
   "cell_type": "code",
   "execution_count": 384,
   "metadata": {},
   "outputs": [],
   "source": [
    "name_check = data_full.loc[data_full['name'] != data_full['name_steamspy']]"
   ]
  },
  {
   "cell_type": "code",
   "execution_count": 387,
   "metadata": {},
   "outputs": [
    {
     "data": {
      "text/html": [
       "<div>\n",
       "<style scoped>\n",
       "    .dataframe tbody tr th:only-of-type {\n",
       "        vertical-align: middle;\n",
       "    }\n",
       "\n",
       "    .dataframe tbody tr th {\n",
       "        vertical-align: top;\n",
       "    }\n",
       "\n",
       "    .dataframe thead th {\n",
       "        text-align: right;\n",
       "    }\n",
       "</style>\n",
       "<table border=\"1\" class=\"dataframe\">\n",
       "  <thead>\n",
       "    <tr style=\"text-align: right;\">\n",
       "      <th></th>\n",
       "      <th>name</th>\n",
       "      <th>name_steamspy</th>\n",
       "    </tr>\n",
       "  </thead>\n",
       "  <tbody>\n",
       "    <tr>\n",
       "      <th>7</th>\n",
       "      <td>Gumboy - Crazy Adventures™</td>\n",
       "      <td>Gumboy - Crazy Adventures</td>\n",
       "    </tr>\n",
       "    <tr>\n",
       "      <th>73</th>\n",
       "      <td>Dangerous High School Girls in Trouble!™</td>\n",
       "      <td>Dangerous High School Girls in Trouble!</td>\n",
       "    </tr>\n",
       "    <tr>\n",
       "      <th>85</th>\n",
       "      <td>Lucidity™</td>\n",
       "      <td>Lucidity</td>\n",
       "    </tr>\n",
       "    <tr>\n",
       "      <th>239</th>\n",
       "      <td>PixelJunk™ Eden</td>\n",
       "      <td>PixelJunk Eden</td>\n",
       "    </tr>\n",
       "    <tr>\n",
       "      <th>264</th>\n",
       "      <td>Sideway™ New York</td>\n",
       "      <td>Sideway New York</td>\n",
       "    </tr>\n",
       "  </tbody>\n",
       "</table>\n",
       "</div>"
      ],
      "text/plain": [
       "                                         name  \\\n",
       "7                  Gumboy - Crazy Adventures™   \n",
       "73   Dangerous High School Girls in Trouble!™   \n",
       "85                                  Lucidity™   \n",
       "239                           PixelJunk™ Eden   \n",
       "264                         Sideway™ New York   \n",
       "\n",
       "                               name_steamspy  \n",
       "7                  Gumboy - Crazy Adventures  \n",
       "73   Dangerous High School Girls in Trouble!  \n",
       "85                                  Lucidity  \n",
       "239                           PixelJunk Eden  \n",
       "264                         Sideway New York  "
      ]
     },
     "execution_count": 387,
     "metadata": {},
     "output_type": "execute_result"
    }
   ],
   "source": [
    "name_check[['name', 'name_steamspy']].head()"
   ]
  },
  {
   "cell_type": "markdown",
   "metadata": {},
   "source": [
    "It looks like these are nearly all formatted changes due to special characters or characters in different languages. We'll keep the originals rather than what SteamSpy filtered out. We can check the same for `developers` and `publishers` and see that the only differences are due to formatting. Let's remove the redundant columns:"
   ]
  },
  {
   "cell_type": "code",
   "execution_count": 390,
   "metadata": {},
   "outputs": [],
   "source": [
    "duplicate_cols = ['name_steamspy', 'developer', 'publisher', 'price_steamspy', 'languages']"
   ]
  },
  {
   "cell_type": "code",
   "execution_count": 391,
   "metadata": {},
   "outputs": [],
   "source": [
    "data_full = data_full.drop(columns=duplicate_cols)"
   ]
  },
  {
   "cell_type": "markdown",
   "metadata": {},
   "source": [
    "### SteamSpy Feature 1: Score Rank"
   ]
  },
  {
   "cell_type": "markdown",
   "metadata": {},
   "source": [
    "I alluded to this feature a bit above, when we looked at the missing data for the SteamSpy dataset. It's almost entirely blank, so we certainly don't want to try to fill in the missing data!"
   ]
  },
  {
   "cell_type": "code",
   "execution_count": 396,
   "metadata": {},
   "outputs": [
    {
     "name": "stdout",
     "output_type": "stream",
     "text": [
      "Fraction of missing data:  1.0\n"
     ]
    }
   ],
   "source": [
    "print('Fraction of missing data: ', data_full['score_rank'].isnull().sum()/len(data_full))"
   ]
  },
  {
   "cell_type": "markdown",
   "metadata": {},
   "source": [
    "Actually, it's entirely empty! "
   ]
  },
  {
   "cell_type": "code",
   "execution_count": 398,
   "metadata": {},
   "outputs": [],
   "source": [
    "data_full = data_full.drop(columns='score_rank')"
   ]
  },
  {
   "cell_type": "markdown",
   "metadata": {},
   "source": [
    "### SteamSpy Feature 2 & 3: Positive & Negative"
   ]
  },
  {
   "cell_type": "markdown",
   "metadata": {},
   "source": [
    "`Positive` and `negative` are the first features that could give us information about how well a game is perceived by it's audience! Thus, these will be some of our core features to be used in the Part 3 and 4 of this project. We ideally want to use them as ratio as well, probably binned in some way, which will be a feature we engineer later."
   ]
  },
  {
   "cell_type": "code",
   "execution_count": 400,
   "metadata": {},
   "outputs": [
    {
     "data": {
      "text/plain": [
       "0"
      ]
     },
     "execution_count": 400,
     "metadata": {},
     "output_type": "execute_result"
    }
   ],
   "source": [
    "data_full['positive'].isnull().sum()"
   ]
  },
  {
   "cell_type": "code",
   "execution_count": 401,
   "metadata": {},
   "outputs": [
    {
     "data": {
      "text/plain": [
       "0"
      ]
     },
     "execution_count": 401,
     "metadata": {},
     "output_type": "execute_result"
    }
   ],
   "source": [
    "data_full['negative'].isnull().sum()"
   ]
  },
  {
   "cell_type": "markdown",
   "metadata": {},
   "source": [
    "Cool, these features are actually already in the format we want! We can rename them though, so that they're a bit more obvious."
   ]
  },
  {
   "cell_type": "code",
   "execution_count": 406,
   "metadata": {},
   "outputs": [],
   "source": [
    "data_full.rename(columns={'positive':'positive_ratings', 'negative':'negative_ratings'},inplace=True)"
   ]
  },
  {
   "cell_type": "markdown",
   "metadata": {},
   "source": [
    "### SteamSpy Feature 4: User Score"
   ]
  },
  {
   "cell_type": "markdown",
   "metadata": {},
   "source": [
    "User Score is another measure of how well received a game is by its audience, but as it turns out, this is information that is most commonly provided for AAA games - although there are no missing values in the column, we can see quickly that every value is zero and thus, not very useful for us."
   ]
  },
  {
   "cell_type": "code",
   "execution_count": 403,
   "metadata": {},
   "outputs": [
    {
     "data": {
      "text/plain": [
       "0"
      ]
     },
     "execution_count": 403,
     "metadata": {},
     "output_type": "execute_result"
    }
   ],
   "source": [
    "data_full['userscore'].isnull().sum()"
   ]
  },
  {
   "cell_type": "code",
   "execution_count": 404,
   "metadata": {},
   "outputs": [
    {
     "data": {
      "text/plain": [
       "0    21729\n",
       "Name: userscore, dtype: int64"
      ]
     },
     "execution_count": 404,
     "metadata": {},
     "output_type": "execute_result"
    }
   ],
   "source": [
    "data_full['userscore'].value_counts()"
   ]
  },
  {
   "cell_type": "code",
   "execution_count": 405,
   "metadata": {},
   "outputs": [],
   "source": [
    "data_full = data_full.drop(columns='userscore')"
   ]
  },
  {
   "cell_type": "markdown",
   "metadata": {},
   "source": [
    "### SteamSpy Feature 5: Owners"
   ]
  },
  {
   "cell_type": "markdown",
   "metadata": {},
   "source": [
    "The number of `owners` is arguably just as important as the ratings for a game, since \"success\" for a game should be some sort of combination of how many copies are purchased, how much the games are liked, how frequently the games are played, how long they're played (do you still play it 5 years later? 10 years later? I definitely still whip out Roller Coaster Tycoon every once in a while after what, 20 years?) \n",
    "\n",
    "Unfortunately, especially for small games, the `owners` feature has a bit of a caveat: it has massive ranges displayed from the max number to minimum number of owners, so we'll have to be careful with how much stock we place on this information and we definitely want to keep both the min and max values. The current format, however, is a little silly as the two extremes are separated with ellipses rather than a dash or something more common. Let's fix this and take a look at what \"size\" of ownership is most common:"
   ]
  },
  {
   "cell_type": "code",
   "execution_count": 408,
   "metadata": {},
   "outputs": [
    {
     "data": {
      "text/html": [
       "<div>\n",
       "<style scoped>\n",
       "    .dataframe tbody tr th:only-of-type {\n",
       "        vertical-align: middle;\n",
       "    }\n",
       "\n",
       "    .dataframe tbody tr th {\n",
       "        vertical-align: top;\n",
       "    }\n",
       "\n",
       "    .dataframe thead th {\n",
       "        text-align: right;\n",
       "    }\n",
       "</style>\n",
       "<table border=\"1\" class=\"dataframe\">\n",
       "  <thead>\n",
       "    <tr style=\"text-align: right;\">\n",
       "      <th></th>\n",
       "      <th>owners</th>\n",
       "    </tr>\n",
       "  </thead>\n",
       "  <tbody>\n",
       "    <tr>\n",
       "      <th>0</th>\n",
       "      <td>0 .. 20,000</td>\n",
       "    </tr>\n",
       "    <tr>\n",
       "      <th>1</th>\n",
       "      <td>500,000 .. 1,000,000</td>\n",
       "    </tr>\n",
       "    <tr>\n",
       "      <th>2</th>\n",
       "      <td>500,000 .. 1,000,000</td>\n",
       "    </tr>\n",
       "    <tr>\n",
       "      <th>3</th>\n",
       "      <td>500,000 .. 1,000,000</td>\n",
       "    </tr>\n",
       "    <tr>\n",
       "      <th>4</th>\n",
       "      <td>500,000 .. 1,000,000</td>\n",
       "    </tr>\n",
       "  </tbody>\n",
       "</table>\n",
       "</div>"
      ],
      "text/plain": [
       "                 owners\n",
       "0           0 .. 20,000\n",
       "1  500,000 .. 1,000,000\n",
       "2  500,000 .. 1,000,000\n",
       "3  500,000 .. 1,000,000\n",
       "4  500,000 .. 1,000,000"
      ]
     },
     "execution_count": 408,
     "metadata": {},
     "output_type": "execute_result"
    }
   ],
   "source": [
    "data_full[['owners']].head()"
   ]
  },
  {
   "cell_type": "code",
   "execution_count": 411,
   "metadata": {
    "scrolled": true
   },
   "outputs": [
    {
     "data": {
      "image/png": "[encoded data removed]",
      "text/plain": [
       "<Figure size 576x360 with 1 Axes>"
      ]
     },
     "metadata": {},
     "output_type": "display_data"
    }
   ],
   "source": [
    "sns.set(font_scale=2)\n",
    "plt.style.use('fivethirtyeight')\n",
    "\n",
    "fig = plt.figure(figsize=(8,5)) \n",
    "sns.countplot(y=\"owners\", data=data_full);"
   ]
  },
  {
   "cell_type": "markdown",
   "metadata": {},
   "source": [
    "### SteamSpy Features 6 & 7: Average and Median Playtimes"
   ]
  },
  {
   "cell_type": "markdown",
   "metadata": {},
   "source": [
    "The next four columns, `average_forever`, `average_2weeks`, `median_forever`, and `median_2weeks` are somewhat poorly named, but they give us information about how often a game is played. The `2weeks` versions give the amount the games have been played in the past 2 weeks, but since our data is stagnant and we have no plans to update this dataset every two weeks, this is much less useful than the overall average and median playtimes. We'll drop the `2weeks` versions and take a look at the lifetime versions. Note that the values provided are in units of `minutes`."
   ]
  },
  {
   "cell_type": "markdown",
   "metadata": {},
   "source": [
    "### SteamSpy Feature 8 & 9: Initial Price & Discount"
   ]
  },
  {
   "cell_type": "markdown",
   "metadata": {},
   "source": [
    "### SteamSpy Feature 10: Genre"
   ]
  },
  {
   "cell_type": "markdown",
   "metadata": {},
   "source": [
    "### SteamSpy Feature 11: CCU"
   ]
  },
  {
   "cell_type": "markdown",
   "metadata": {},
   "source": [
    "### SteamSpy Feature 12: Tags"
   ]
  },
  {
   "cell_type": "code",
   "execution_count": null,
   "metadata": {},
   "outputs": [],
   "source": []
  },
  {
   "cell_type": "code",
   "execution_count": 407,
   "metadata": {},
   "outputs": [
    {
     "data": {
      "text/html": [
       "<div>\n",
       "<style scoped>\n",
       "    .dataframe tbody tr th:only-of-type {\n",
       "        vertical-align: middle;\n",
       "    }\n",
       "\n",
       "    .dataframe tbody tr th {\n",
       "        vertical-align: top;\n",
       "    }\n",
       "\n",
       "    .dataframe thead th {\n",
       "        text-align: right;\n",
       "    }\n",
       "</style>\n",
       "<table border=\"1\" class=\"dataframe\">\n",
       "  <thead>\n",
       "    <tr style=\"text-align: right;\">\n",
       "      <th></th>\n",
       "      <th>name</th>\n",
       "      <th>appid</th>\n",
       "      <th>developers</th>\n",
       "      <th>publishers</th>\n",
       "      <th>price</th>\n",
       "      <th>is_free</th>\n",
       "      <th>platforms</th>\n",
       "      <th>release_date</th>\n",
       "      <th>required_age</th>\n",
       "      <th>n_languages</th>\n",
       "      <th>n_packages</th>\n",
       "      <th>has_website</th>\n",
       "      <th>achievements</th>\n",
       "      <th>categories</th>\n",
       "      <th>genres</th>\n",
       "      <th>positive_ratings</th>\n",
       "      <th>negative_ratings</th>\n",
       "      <th>owners</th>\n",
       "      <th>average_forever</th>\n",
       "      <th>average_2weeks</th>\n",
       "      <th>median_forever</th>\n",
       "      <th>median_2weeks</th>\n",
       "      <th>initialprice</th>\n",
       "      <th>discount</th>\n",
       "      <th>genre</th>\n",
       "      <th>ccu</th>\n",
       "      <th>tags</th>\n",
       "    </tr>\n",
       "  </thead>\n",
       "  <tbody>\n",
       "    <tr>\n",
       "      <th>0</th>\n",
       "      <td>Rag Doll Kung Fu</td>\n",
       "      <td>1002</td>\n",
       "      <td>Mark Healey</td>\n",
       "      <td>Mark Healey</td>\n",
       "      <td>0</td>\n",
       "      <td>0</td>\n",
       "      <td>Windows</td>\n",
       "      <td>10/12/2005</td>\n",
       "      <td>0</td>\n",
       "      <td>1</td>\n",
       "      <td>1</td>\n",
       "      <td>1</td>\n",
       "      <td>0</td>\n",
       "      <td>Single-player; Multi-player</td>\n",
       "      <td>Indie</td>\n",
       "      <td>44</td>\n",
       "      <td>18</td>\n",
       "      <td>0 .. 20,000</td>\n",
       "      <td>0</td>\n",
       "      <td>0</td>\n",
       "      <td>0</td>\n",
       "      <td>0</td>\n",
       "      <td>999.0</td>\n",
       "      <td>0.0</td>\n",
       "      <td>Indie</td>\n",
       "      <td>0</td>\n",
       "      <td>{'2D Fighter': 45, 'Martial Arts': 39, 'Multip...</td>\n",
       "    </tr>\n",
       "    <tr>\n",
       "      <th>1</th>\n",
       "      <td>Darwinia</td>\n",
       "      <td>1500</td>\n",
       "      <td>Introversion Software</td>\n",
       "      <td>Introversion Software</td>\n",
       "      <td>0</td>\n",
       "      <td>0</td>\n",
       "      <td>Windows; Mac; Linux</td>\n",
       "      <td>07/14/2005</td>\n",
       "      <td>0</td>\n",
       "      <td>2</td>\n",
       "      <td>4</td>\n",
       "      <td>1</td>\n",
       "      <td>0</td>\n",
       "      <td>Single-player</td>\n",
       "      <td>Indie; Strategy</td>\n",
       "      <td>508</td>\n",
       "      <td>168</td>\n",
       "      <td>500,000 .. 1,000,000</td>\n",
       "      <td>9</td>\n",
       "      <td>0</td>\n",
       "      <td>13</td>\n",
       "      <td>0</td>\n",
       "      <td>999.0</td>\n",
       "      <td>0.0</td>\n",
       "      <td>Indie, Strategy</td>\n",
       "      <td>5</td>\n",
       "      <td>{'Strategy': 109, 'Indie': 90, 'RTS': 62, 'Sin...</td>\n",
       "    </tr>\n",
       "    <tr>\n",
       "      <th>2</th>\n",
       "      <td>Uplink</td>\n",
       "      <td>1510</td>\n",
       "      <td>Introversion Software</td>\n",
       "      <td>Introversion Software</td>\n",
       "      <td>$9.99</td>\n",
       "      <td>0</td>\n",
       "      <td>Windows; Mac; Linux</td>\n",
       "      <td>08/23/2006</td>\n",
       "      <td>0</td>\n",
       "      <td>1</td>\n",
       "      <td>2</td>\n",
       "      <td>1</td>\n",
       "      <td>0</td>\n",
       "      <td>Single-player</td>\n",
       "      <td>Indie; Strategy</td>\n",
       "      <td>1725</td>\n",
       "      <td>162</td>\n",
       "      <td>500,000 .. 1,000,000</td>\n",
       "      <td>280</td>\n",
       "      <td>0</td>\n",
       "      <td>119</td>\n",
       "      <td>0</td>\n",
       "      <td>999.0</td>\n",
       "      <td>0.0</td>\n",
       "      <td>Indie, Strategy</td>\n",
       "      <td>12</td>\n",
       "      <td>{'Hacking': 209, 'Indie': 145, 'Strategy': 132...</td>\n",
       "    </tr>\n",
       "    <tr>\n",
       "      <th>3</th>\n",
       "      <td>DEFCON</td>\n",
       "      <td>1520</td>\n",
       "      <td>Introversion Software</td>\n",
       "      <td>Introversion Software</td>\n",
       "      <td>$9.99</td>\n",
       "      <td>0</td>\n",
       "      <td>Windows; Mac; Linux</td>\n",
       "      <td>09/29/2006</td>\n",
       "      <td>0</td>\n",
       "      <td>5</td>\n",
       "      <td>3</td>\n",
       "      <td>1</td>\n",
       "      <td>22</td>\n",
       "      <td>Single-player; Multi-player</td>\n",
       "      <td>Indie; Strategy</td>\n",
       "      <td>2277</td>\n",
       "      <td>378</td>\n",
       "      <td>500,000 .. 1,000,000</td>\n",
       "      <td>177</td>\n",
       "      <td>140</td>\n",
       "      <td>124</td>\n",
       "      <td>140</td>\n",
       "      <td>999.0</td>\n",
       "      <td>0.0</td>\n",
       "      <td>Indie, Strategy</td>\n",
       "      <td>23</td>\n",
       "      <td>{'Strategy': 241, 'Indie': 150, 'Wargame': 107...</td>\n",
       "    </tr>\n",
       "    <tr>\n",
       "      <th>4</th>\n",
       "      <td>Multiwinia</td>\n",
       "      <td>1530</td>\n",
       "      <td>Introversion Software</td>\n",
       "      <td>Introversion Software</td>\n",
       "      <td>$9.99</td>\n",
       "      <td>0</td>\n",
       "      <td>Windows; Mac</td>\n",
       "      <td>09/19/2008</td>\n",
       "      <td>0</td>\n",
       "      <td>5</td>\n",
       "      <td>3</td>\n",
       "      <td>1</td>\n",
       "      <td>12</td>\n",
       "      <td>Single-player; Multi-player; Steam Achievements</td>\n",
       "      <td>Indie</td>\n",
       "      <td>394</td>\n",
       "      <td>80</td>\n",
       "      <td>500,000 .. 1,000,000</td>\n",
       "      <td>15</td>\n",
       "      <td>0</td>\n",
       "      <td>17</td>\n",
       "      <td>0</td>\n",
       "      <td>999.0</td>\n",
       "      <td>0.0</td>\n",
       "      <td>Indie</td>\n",
       "      <td>1</td>\n",
       "      <td>{'Indie': 56, 'RTS': 34, 'Strategy': 32, 'Mult...</td>\n",
       "    </tr>\n",
       "    <tr>\n",
       "      <th>5</th>\n",
       "      <td>The Ship: Murder Party</td>\n",
       "      <td>2400</td>\n",
       "      <td>Outerlight Ltd.</td>\n",
       "      <td>Blazing Griffin Ltd.</td>\n",
       "      <td>$9.99</td>\n",
       "      <td>1</td>\n",
       "      <td>Windows</td>\n",
       "      <td>07/11/2006</td>\n",
       "      <td>0</td>\n",
       "      <td>8</td>\n",
       "      <td>2</td>\n",
       "      <td>1</td>\n",
       "      <td>0</td>\n",
       "      <td>Single-player; Multi-player; Steam Trading Car...</td>\n",
       "      <td>Action; Indie; RPG</td>\n",
       "      <td>4916</td>\n",
       "      <td>811</td>\n",
       "      <td>1,000,000 .. 2,000,000</td>\n",
       "      <td>228</td>\n",
       "      <td>0</td>\n",
       "      <td>246</td>\n",
       "      <td>0</td>\n",
       "      <td>999.0</td>\n",
       "      <td>0.0</td>\n",
       "      <td>Action, Indie, RPG</td>\n",
       "      <td>15</td>\n",
       "      <td>{'Multiplayer': 370, 'Indie': 171, 'First-Pers...</td>\n",
       "    </tr>\n",
       "    <tr>\n",
       "      <th>6</th>\n",
       "      <td>The Ship: Single Player</td>\n",
       "      <td>2420</td>\n",
       "      <td>Outerlight Ltd.</td>\n",
       "      <td>Blazing Griffin Ltd.</td>\n",
       "      <td>0</td>\n",
       "      <td>0</td>\n",
       "      <td>Windows</td>\n",
       "      <td>11/20/2006</td>\n",
       "      <td>0</td>\n",
       "      <td>8</td>\n",
       "      <td>1</td>\n",
       "      <td>1</td>\n",
       "      <td>0</td>\n",
       "      <td>Single-player</td>\n",
       "      <td>Action; Indie; RPG</td>\n",
       "      <td>610</td>\n",
       "      <td>257</td>\n",
       "      <td>100,000 .. 200,000</td>\n",
       "      <td>82</td>\n",
       "      <td>0</td>\n",
       "      <td>51</td>\n",
       "      <td>0</td>\n",
       "      <td>999.0</td>\n",
       "      <td>0.0</td>\n",
       "      <td>Action, Indie, RPG</td>\n",
       "      <td>2</td>\n",
       "      <td>{'Action': 338, 'Indie': 49, 'RPG': 39, 'Singl...</td>\n",
       "    </tr>\n",
       "    <tr>\n",
       "      <th>7</th>\n",
       "      <td>Gumboy - Crazy Adventures™</td>\n",
       "      <td>2520</td>\n",
       "      <td>CINEMAX, s.r.o.</td>\n",
       "      <td>CINEMAX, s.r.o.</td>\n",
       "      <td>$4.99</td>\n",
       "      <td>1</td>\n",
       "      <td>Windows</td>\n",
       "      <td>12/19/2006</td>\n",
       "      <td>0</td>\n",
       "      <td>3</td>\n",
       "      <td>1</td>\n",
       "      <td>1</td>\n",
       "      <td>0</td>\n",
       "      <td>Single-player</td>\n",
       "      <td>Casual; Indie</td>\n",
       "      <td>54</td>\n",
       "      <td>51</td>\n",
       "      <td>50,000 .. 100,000</td>\n",
       "      <td>0</td>\n",
       "      <td>0</td>\n",
       "      <td>0</td>\n",
       "      <td>0</td>\n",
       "      <td>499.0</td>\n",
       "      <td>0.0</td>\n",
       "      <td>Casual, Indie</td>\n",
       "      <td>0</td>\n",
       "      <td>{'Casual': 36, 'Indie': 32, 'Physics': 28, 'Ac...</td>\n",
       "    </tr>\n",
       "    <tr>\n",
       "      <th>8</th>\n",
       "      <td>ThreadSpace: Hyperbol</td>\n",
       "      <td>2720</td>\n",
       "      <td>Iocaine Studios</td>\n",
       "      <td>Atari</td>\n",
       "      <td>$4.99</td>\n",
       "      <td>0</td>\n",
       "      <td>Windows</td>\n",
       "      <td>07/12/2007</td>\n",
       "      <td>0</td>\n",
       "      <td>1</td>\n",
       "      <td>3</td>\n",
       "      <td>1</td>\n",
       "      <td>0</td>\n",
       "      <td>Single-player; Multi-player; Includes level ed...</td>\n",
       "      <td>Action; Indie; Strategy</td>\n",
       "      <td>32</td>\n",
       "      <td>10</td>\n",
       "      <td>0 .. 20,000</td>\n",
       "      <td>0</td>\n",
       "      <td>0</td>\n",
       "      <td>0</td>\n",
       "      <td>0</td>\n",
       "      <td>499.0</td>\n",
       "      <td>0.0</td>\n",
       "      <td>Action, Indie, Strategy</td>\n",
       "      <td>1</td>\n",
       "      <td>{'Multiplayer': 29, 'Action': 26, 'Strategy': ...</td>\n",
       "    </tr>\n",
       "    <tr>\n",
       "      <th>9</th>\n",
       "      <td>Plants vs. Zombies GOTY Edition</td>\n",
       "      <td>3590</td>\n",
       "      <td>PopCap Games, Inc.</td>\n",
       "      <td>PopCap Games, Inc.</td>\n",
       "      <td>$4.99</td>\n",
       "      <td>0</td>\n",
       "      <td>Windows; Mac</td>\n",
       "      <td>05/05/2009</td>\n",
       "      <td>0</td>\n",
       "      <td>1</td>\n",
       "      <td>1</td>\n",
       "      <td>0</td>\n",
       "      <td>21</td>\n",
       "      <td>Single-player; Steam Achievements; Remote Play...</td>\n",
       "      <td>Strategy</td>\n",
       "      <td>23334</td>\n",
       "      <td>820</td>\n",
       "      <td>2,000,000 .. 5,000,000</td>\n",
       "      <td>1055</td>\n",
       "      <td>184</td>\n",
       "      <td>515</td>\n",
       "      <td>267</td>\n",
       "      <td>499.0</td>\n",
       "      <td>0.0</td>\n",
       "      <td>Strategy</td>\n",
       "      <td>9093</td>\n",
       "      <td>{'Tower Defense': 1024, 'Zombies': 900, 'Strat...</td>\n",
       "    </tr>\n",
       "    <tr>\n",
       "      <th>10</th>\n",
       "      <td>Poker Superstars II</td>\n",
       "      <td>4100</td>\n",
       "      <td>Funkitron</td>\n",
       "      <td>Funkitron</td>\n",
       "      <td>$9.99</td>\n",
       "      <td>0</td>\n",
       "      <td>Windows</td>\n",
       "      <td>10/05/2006</td>\n",
       "      <td>0</td>\n",
       "      <td>1</td>\n",
       "      <td>1</td>\n",
       "      <td>0</td>\n",
       "      <td>0</td>\n",
       "      <td>Single-player</td>\n",
       "      <td>Casual; Strategy; Indie</td>\n",
       "      <td>5</td>\n",
       "      <td>5</td>\n",
       "      <td>0 .. 20,000</td>\n",
       "      <td>0</td>\n",
       "      <td>0</td>\n",
       "      <td>0</td>\n",
       "      <td>0</td>\n",
       "      <td>999.0</td>\n",
       "      <td>0.0</td>\n",
       "      <td>Casual, Strategy, Indie</td>\n",
       "      <td>1</td>\n",
       "      <td>{'Strategy': 20, 'Indie': 20, 'Casual': 20, 'C...</td>\n",
       "    </tr>\n",
       "    <tr>\n",
       "      <th>11</th>\n",
       "      <td>RoboBlitz</td>\n",
       "      <td>4300</td>\n",
       "      <td>Naked Sky Entertainment</td>\n",
       "      <td>Naked Sky Entertainment</td>\n",
       "      <td>$9.99</td>\n",
       "      <td>0</td>\n",
       "      <td>Windows</td>\n",
       "      <td>11/07/2006</td>\n",
       "      <td>0</td>\n",
       "      <td>9</td>\n",
       "      <td>1</td>\n",
       "      <td>1</td>\n",
       "      <td>0</td>\n",
       "      <td>Single-player; Partial Controller Support; Inc...</td>\n",
       "      <td>Action; Indie</td>\n",
       "      <td>44</td>\n",
       "      <td>14</td>\n",
       "      <td>20,000 .. 50,000</td>\n",
       "      <td>0</td>\n",
       "      <td>0</td>\n",
       "      <td>0</td>\n",
       "      <td>0</td>\n",
       "      <td>999.0</td>\n",
       "      <td>0.0</td>\n",
       "      <td>Action, Indie</td>\n",
       "      <td>0</td>\n",
       "      <td>{'Action': 29, 'Indie': 29, 'Puzzle': 9, 'Phys...</td>\n",
       "    </tr>\n",
       "    <tr>\n",
       "      <th>12</th>\n",
       "      <td>Zen of Sudoku</td>\n",
       "      <td>4900</td>\n",
       "      <td>Unknown Worlds Entertainment</td>\n",
       "      <td>Unknown Worlds Entertainment</td>\n",
       "      <td>0</td>\n",
       "      <td>1</td>\n",
       "      <td>Windows</td>\n",
       "      <td>12/14/2006</td>\n",
       "      <td>0</td>\n",
       "      <td>1</td>\n",
       "      <td>0</td>\n",
       "      <td>1</td>\n",
       "      <td>0</td>\n",
       "      <td>Single-player</td>\n",
       "      <td>Casual; Indie</td>\n",
       "      <td>150</td>\n",
       "      <td>19</td>\n",
       "      <td>0 .. 20,000</td>\n",
       "      <td>193</td>\n",
       "      <td>0</td>\n",
       "      <td>381</td>\n",
       "      <td>0</td>\n",
       "      <td>0.0</td>\n",
       "      <td>0.0</td>\n",
       "      <td>Casual, Indie</td>\n",
       "      <td>11</td>\n",
       "      <td>{'Casual': 30, 'Indie': 25, 'Puzzle': 13, 'Fre...</td>\n",
       "    </tr>\n",
       "    <tr>\n",
       "      <th>13</th>\n",
       "      <td>Natural Selection 2</td>\n",
       "      <td>4920</td>\n",
       "      <td>Unknown Worlds Entertainment</td>\n",
       "      <td>Unknown Worlds Entertainment</td>\n",
       "      <td>$9.99</td>\n",
       "      <td>0</td>\n",
       "      <td>Windows</td>\n",
       "      <td>10/30/2012</td>\n",
       "      <td>0</td>\n",
       "      <td>10</td>\n",
       "      <td>5</td>\n",
       "      <td>1</td>\n",
       "      <td>66</td>\n",
       "      <td>Multi-player; PvP; Online PvP; Steam Achieveme...</td>\n",
       "      <td>Action; Indie; Strategy</td>\n",
       "      <td>9328</td>\n",
       "      <td>1618</td>\n",
       "      <td>1,000,000 .. 2,000,000</td>\n",
       "      <td>2801</td>\n",
       "      <td>1</td>\n",
       "      <td>176</td>\n",
       "      <td>1</td>\n",
       "      <td>999.0</td>\n",
       "      <td>0.0</td>\n",
       "      <td>Action, Indie, Strategy</td>\n",
       "      <td>236</td>\n",
       "      <td>{'Multiplayer': 609, 'Strategy': 579, 'FPS': 5...</td>\n",
       "    </tr>\n",
       "    <tr>\n",
       "      <th>14</th>\n",
       "      <td>Shank</td>\n",
       "      <td>6120</td>\n",
       "      <td>Klei Entertainment</td>\n",
       "      <td>Klei Entertainment</td>\n",
       "      <td>$9.99</td>\n",
       "      <td>0</td>\n",
       "      <td>Windows; Mac; Linux</td>\n",
       "      <td>10/25/2010</td>\n",
       "      <td>17</td>\n",
       "      <td>1</td>\n",
       "      <td>1</td>\n",
       "      <td>1</td>\n",
       "      <td>12</td>\n",
       "      <td>Single-player; Multi-player; Shared/Split Scre...</td>\n",
       "      <td>Action; Indie</td>\n",
       "      <td>1976</td>\n",
       "      <td>247</td>\n",
       "      <td>200,000 .. 500,000</td>\n",
       "      <td>358</td>\n",
       "      <td>0</td>\n",
       "      <td>363</td>\n",
       "      <td>0</td>\n",
       "      <td>999.0</td>\n",
       "      <td>0.0</td>\n",
       "      <td>Action, Indie</td>\n",
       "      <td>5</td>\n",
       "      <td>{'Action': 128, 'Indie': 95, \"Beat 'em up\": 95...</td>\n",
       "    </tr>\n",
       "    <tr>\n",
       "      <th>15</th>\n",
       "      <td>Nexus - The Jupiter Incident</td>\n",
       "      <td>6420</td>\n",
       "      <td>Mithis Games; THQ Nordic</td>\n",
       "      <td>HandyGames</td>\n",
       "      <td>$9.99</td>\n",
       "      <td>0</td>\n",
       "      <td>Windows</td>\n",
       "      <td>07/03/2007</td>\n",
       "      <td>0</td>\n",
       "      <td>6</td>\n",
       "      <td>2</td>\n",
       "      <td>0</td>\n",
       "      <td>0</td>\n",
       "      <td>Single-player; Multi-player; Includes level ed...</td>\n",
       "      <td>Indie; Simulation; Strategy</td>\n",
       "      <td>533</td>\n",
       "      <td>106</td>\n",
       "      <td>50,000 .. 100,000</td>\n",
       "      <td>41</td>\n",
       "      <td>0</td>\n",
       "      <td>41</td>\n",
       "      <td>0</td>\n",
       "      <td>999.0</td>\n",
       "      <td>0.0</td>\n",
       "      <td>Indie, Simulation, Strategy</td>\n",
       "      <td>10</td>\n",
       "      <td>{'Strategy': 67, 'Space': 56, 'Sci-fi': 45, 'S...</td>\n",
       "    </tr>\n",
       "    <tr>\n",
       "      <th>16</th>\n",
       "      <td>Geometry Wars: Retro Evolved</td>\n",
       "      <td>8400</td>\n",
       "      <td>Bizarre Creations</td>\n",
       "      <td>Activision</td>\n",
       "      <td>$3.99</td>\n",
       "      <td>0</td>\n",
       "      <td>Windows</td>\n",
       "      <td>06/18/2007</td>\n",
       "      <td>0</td>\n",
       "      <td>1</td>\n",
       "      <td>1</td>\n",
       "      <td>1</td>\n",
       "      <td>0</td>\n",
       "      <td>Single-player; Full controller support; Remote...</td>\n",
       "      <td>Casual</td>\n",
       "      <td>641</td>\n",
       "      <td>64</td>\n",
       "      <td>100,000 .. 200,000</td>\n",
       "      <td>81</td>\n",
       "      <td>0</td>\n",
       "      <td>82</td>\n",
       "      <td>0</td>\n",
       "      <td>399.0</td>\n",
       "      <td>0.0</td>\n",
       "      <td>Casual</td>\n",
       "      <td>2</td>\n",
       "      <td>{'Arcade': 64, 'Twin Stick Shooter': 53, 'Casu...</td>\n",
       "    </tr>\n",
       "    <tr>\n",
       "      <th>17</th>\n",
       "      <td>Gish</td>\n",
       "      <td>9500</td>\n",
       "      <td>Cryptic Sea; Edmund McMillen</td>\n",
       "      <td>Chronic Logic</td>\n",
       "      <td>$9.99</td>\n",
       "      <td>0</td>\n",
       "      <td>Windows; Mac</td>\n",
       "      <td>07/20/2007</td>\n",
       "      <td>0</td>\n",
       "      <td>1</td>\n",
       "      <td>1</td>\n",
       "      <td>1</td>\n",
       "      <td>11</td>\n",
       "      <td>Single-player; Multi-player; Shared/Split Scre...</td>\n",
       "      <td>Action; Adventure; Indie</td>\n",
       "      <td>191</td>\n",
       "      <td>119</td>\n",
       "      <td>100,000 .. 200,000</td>\n",
       "      <td>2</td>\n",
       "      <td>0</td>\n",
       "      <td>2</td>\n",
       "      <td>0</td>\n",
       "      <td>999.0</td>\n",
       "      <td>0.0</td>\n",
       "      <td>Action, Adventure, Indie</td>\n",
       "      <td>2</td>\n",
       "      <td>{'Indie': 175, 'Action': 67, 'Adventure': 66, ...</td>\n",
       "    </tr>\n",
       "    <tr>\n",
       "      <th>18</th>\n",
       "      <td>Gumboy Tournament</td>\n",
       "      <td>11230</td>\n",
       "      <td>CINEMAX, s.r.o.</td>\n",
       "      <td>CINEMAX, s.r.o.</td>\n",
       "      <td>$2.99</td>\n",
       "      <td>0</td>\n",
       "      <td>Windows</td>\n",
       "      <td>05/19/2008</td>\n",
       "      <td>0</td>\n",
       "      <td>4</td>\n",
       "      <td>1</td>\n",
       "      <td>1</td>\n",
       "      <td>0</td>\n",
       "      <td>Single-player; Multi-player</td>\n",
       "      <td>Casual; Indie; Racing</td>\n",
       "      <td>344</td>\n",
       "      <td>142</td>\n",
       "      <td>50,000 .. 100,000</td>\n",
       "      <td>0</td>\n",
       "      <td>0</td>\n",
       "      <td>0</td>\n",
       "      <td>0</td>\n",
       "      <td>299.0</td>\n",
       "      <td>0.0</td>\n",
       "      <td>Casual, Indie, Racing</td>\n",
       "      <td>0</td>\n",
       "      <td>{'Indie': 43, 'Casual': 38, 'Racing': 33, 'Mul...</td>\n",
       "    </tr>\n",
       "    <tr>\n",
       "      <th>19</th>\n",
       "      <td>Space Trader: Merchant Marine</td>\n",
       "      <td>11240</td>\n",
       "      <td>Meridian4</td>\n",
       "      <td>Meridian4</td>\n",
       "      <td>$4.99</td>\n",
       "      <td>0</td>\n",
       "      <td>Windows</td>\n",
       "      <td>10/23/2008</td>\n",
       "      <td>0</td>\n",
       "      <td>1</td>\n",
       "      <td>1</td>\n",
       "      <td>1</td>\n",
       "      <td>40</td>\n",
       "      <td>Single-player; Multi-player; Co-op; Steam Achi...</td>\n",
       "      <td>Action; Indie; Strategy</td>\n",
       "      <td>307</td>\n",
       "      <td>316</td>\n",
       "      <td>100,000 .. 200,000</td>\n",
       "      <td>42</td>\n",
       "      <td>0</td>\n",
       "      <td>63</td>\n",
       "      <td>0</td>\n",
       "      <td>499.0</td>\n",
       "      <td>0.0</td>\n",
       "      <td>Action, Indie, Strategy</td>\n",
       "      <td>0</td>\n",
       "      <td>{'Action': 72, 'Indie': 50, 'Space': 49, 'Stra...</td>\n",
       "    </tr>\n",
       "    <tr>\n",
       "      <th>20</th>\n",
       "      <td>Penguins Arena: Sedna's World</td>\n",
       "      <td>11280</td>\n",
       "      <td>Frogames</td>\n",
       "      <td>Frogames</td>\n",
       "      <td>$5.99</td>\n",
       "      <td>0</td>\n",
       "      <td>Windows; Mac</td>\n",
       "      <td>12/18/2008</td>\n",
       "      <td>0</td>\n",
       "      <td>1</td>\n",
       "      <td>2</td>\n",
       "      <td>1</td>\n",
       "      <td>10</td>\n",
       "      <td>Single-player; Multi-player; PvP; Online PvP; ...</td>\n",
       "      <td>Action; Casual; Indie</td>\n",
       "      <td>944</td>\n",
       "      <td>134</td>\n",
       "      <td>100,000 .. 200,000</td>\n",
       "      <td>161</td>\n",
       "      <td>0</td>\n",
       "      <td>193</td>\n",
       "      <td>0</td>\n",
       "      <td>599.0</td>\n",
       "      <td>0.0</td>\n",
       "      <td>Action, Casual, Indie</td>\n",
       "      <td>2</td>\n",
       "      <td>{'Action': 42, 'Casual': 40, 'Indie': 39, 'Mul...</td>\n",
       "    </tr>\n",
       "    <tr>\n",
       "      <th>21</th>\n",
       "      <td>Obulis</td>\n",
       "      <td>11330</td>\n",
       "      <td>IonFX</td>\n",
       "      <td>Meridian4</td>\n",
       "      <td>$4.99</td>\n",
       "      <td>0</td>\n",
       "      <td>Windows</td>\n",
       "      <td>03/19/2009</td>\n",
       "      <td>0</td>\n",
       "      <td>1</td>\n",
       "      <td>1</td>\n",
       "      <td>0</td>\n",
       "      <td>17</td>\n",
       "      <td>Single-player; Steam Achievements</td>\n",
       "      <td>Casual; Indie</td>\n",
       "      <td>607</td>\n",
       "      <td>137</td>\n",
       "      <td>100,000 .. 200,000</td>\n",
       "      <td>167</td>\n",
       "      <td>0</td>\n",
       "      <td>174</td>\n",
       "      <td>0</td>\n",
       "      <td>499.0</td>\n",
       "      <td>0.0</td>\n",
       "      <td>Casual, Indie</td>\n",
       "      <td>0</td>\n",
       "      <td>{'Puzzle': 77, 'Casual': 62, 'Indie': 50, 'Phy...</td>\n",
       "    </tr>\n",
       "    <tr>\n",
       "      <th>22</th>\n",
       "      <td>Larva Mortus</td>\n",
       "      <td>11340</td>\n",
       "      <td>Meridian4</td>\n",
       "      <td>Meridian4</td>\n",
       "      <td>$4.99</td>\n",
       "      <td>0</td>\n",
       "      <td>Windows</td>\n",
       "      <td>03/19/2009</td>\n",
       "      <td>0</td>\n",
       "      <td>1</td>\n",
       "      <td>1</td>\n",
       "      <td>1</td>\n",
       "      <td>25</td>\n",
       "      <td>Single-player; Steam Achievements</td>\n",
       "      <td>Action; Indie</td>\n",
       "      <td>536</td>\n",
       "      <td>163</td>\n",
       "      <td>100,000 .. 200,000</td>\n",
       "      <td>232</td>\n",
       "      <td>0</td>\n",
       "      <td>232</td>\n",
       "      <td>0</td>\n",
       "      <td>499.0</td>\n",
       "      <td>0.0</td>\n",
       "      <td>Action, Indie</td>\n",
       "      <td>1</td>\n",
       "      <td>{'Action': 71, 'Indie': 63, 'Top-Down': 31, 'H...</td>\n",
       "    </tr>\n",
       "    <tr>\n",
       "      <th>23</th>\n",
       "      <td>PuzzleQuest: Challenge of the Warlords</td>\n",
       "      <td>12500</td>\n",
       "      <td>Infinite Interactive</td>\n",
       "      <td>D3Publisher of America, Inc.</td>\n",
       "      <td>$9.99</td>\n",
       "      <td>0</td>\n",
       "      <td>Windows</td>\n",
       "      <td>01/29/2008</td>\n",
       "      <td>0</td>\n",
       "      <td>1</td>\n",
       "      <td>1</td>\n",
       "      <td>0</td>\n",
       "      <td>0</td>\n",
       "      <td>Single-player; Multi-player; Steam Cloud</td>\n",
       "      <td>Casual</td>\n",
       "      <td>609</td>\n",
       "      <td>89</td>\n",
       "      <td>50,000 .. 100,000</td>\n",
       "      <td>154</td>\n",
       "      <td>0</td>\n",
       "      <td>242</td>\n",
       "      <td>0</td>\n",
       "      <td>999.0</td>\n",
       "      <td>0.0</td>\n",
       "      <td>Casual</td>\n",
       "      <td>26</td>\n",
       "      <td>{'Puzzle': 111, 'Match 3': 96, 'Casual': 90, '...</td>\n",
       "    </tr>\n",
       "    <tr>\n",
       "      <th>24</th>\n",
       "      <td>Ninja Reflex: Steamworks Edition</td>\n",
       "      <td>13000</td>\n",
       "      <td>Sanzaru Games</td>\n",
       "      <td>Nunchuck Games</td>\n",
       "      <td>$4.99</td>\n",
       "      <td>0</td>\n",
       "      <td>Windows</td>\n",
       "      <td>03/21/2008</td>\n",
       "      <td>0</td>\n",
       "      <td>6</td>\n",
       "      <td>1</td>\n",
       "      <td>1</td>\n",
       "      <td>52</td>\n",
       "      <td>Single-player; Multi-player; Steam Achievements</td>\n",
       "      <td>Casual; Indie</td>\n",
       "      <td>53</td>\n",
       "      <td>4</td>\n",
       "      <td>0 .. 20,000</td>\n",
       "      <td>0</td>\n",
       "      <td>0</td>\n",
       "      <td>0</td>\n",
       "      <td>0</td>\n",
       "      <td>499.0</td>\n",
       "      <td>0.0</td>\n",
       "      <td>Casual, Indie</td>\n",
       "      <td>0</td>\n",
       "      <td>{'Indie': 20, 'Casual': 20, 'Ninja': 5}</td>\n",
       "    </tr>\n",
       "    <tr>\n",
       "      <th>25</th>\n",
       "      <td>Harvest: Massive Encounter</td>\n",
       "      <td>15400</td>\n",
       "      <td>Oxeye Game Studio</td>\n",
       "      <td>Oxeye Game Studio</td>\n",
       "      <td>$7.99</td>\n",
       "      <td>0</td>\n",
       "      <td>Windows; Mac; Linux</td>\n",
       "      <td>01/23/2009</td>\n",
       "      <td>0</td>\n",
       "      <td>1</td>\n",
       "      <td>1</td>\n",
       "      <td>1</td>\n",
       "      <td>25</td>\n",
       "      <td>Single-player; Steam Achievements</td>\n",
       "      <td>Strategy; Indie</td>\n",
       "      <td>96</td>\n",
       "      <td>22</td>\n",
       "      <td>20,000 .. 50,000</td>\n",
       "      <td>0</td>\n",
       "      <td>0</td>\n",
       "      <td>0</td>\n",
       "      <td>0</td>\n",
       "      <td>799.0</td>\n",
       "      <td>0.0</td>\n",
       "      <td>Strategy, Indie</td>\n",
       "      <td>1</td>\n",
       "      <td>{'Strategy': 37, 'Indie': 34, 'Tower Defense':...</td>\n",
       "    </tr>\n",
       "    <tr>\n",
       "      <th>26</th>\n",
       "      <td>The Wonderful End of the World</td>\n",
       "      <td>15500</td>\n",
       "      <td>Dejobaan Games, LLC</td>\n",
       "      <td>Dejobaan Games, LLC</td>\n",
       "      <td>$9.99</td>\n",
       "      <td>0</td>\n",
       "      <td>Windows</td>\n",
       "      <td>07/17/2008</td>\n",
       "      <td>0</td>\n",
       "      <td>1</td>\n",
       "      <td>2</td>\n",
       "      <td>1</td>\n",
       "      <td>11</td>\n",
       "      <td>Single-player; Steam Achievements; Partial Con...</td>\n",
       "      <td>Casual; Indie</td>\n",
       "      <td>414</td>\n",
       "      <td>140</td>\n",
       "      <td>100,000 .. 200,000</td>\n",
       "      <td>125</td>\n",
       "      <td>0</td>\n",
       "      <td>149</td>\n",
       "      <td>0</td>\n",
       "      <td>999.0</td>\n",
       "      <td>0.0</td>\n",
       "      <td>Casual, Indie</td>\n",
       "      <td>1</td>\n",
       "      <td>{'Indie': 74, 'Casual': 63, 'Action': 39, 'Sin...</td>\n",
       "    </tr>\n",
       "    <tr>\n",
       "      <th>27</th>\n",
       "      <td>AaAaAA!!! - A Reckless Disregard for Gravity</td>\n",
       "      <td>15520</td>\n",
       "      <td>Dejobaan Games, LLC</td>\n",
       "      <td>Dejobaan Games, LLC</td>\n",
       "      <td>$9.99</td>\n",
       "      <td>0</td>\n",
       "      <td>Windows</td>\n",
       "      <td>09/03/2009</td>\n",
       "      <td>0</td>\n",
       "      <td>1</td>\n",
       "      <td>2</td>\n",
       "      <td>1</td>\n",
       "      <td>7</td>\n",
       "      <td>Single-player; Steam Achievements; Steam Leade...</td>\n",
       "      <td>Action; Indie; Sports</td>\n",
       "      <td>562</td>\n",
       "      <td>106</td>\n",
       "      <td>100,000 .. 200,000</td>\n",
       "      <td>9</td>\n",
       "      <td>0</td>\n",
       "      <td>10</td>\n",
       "      <td>0</td>\n",
       "      <td>999.0</td>\n",
       "      <td>0.0</td>\n",
       "      <td>Action, Indie, Sports</td>\n",
       "      <td>0</td>\n",
       "      <td>{'Action': 65, 'Indie': 63, 'First-Person': 49...</td>\n",
       "    </tr>\n",
       "    <tr>\n",
       "      <th>28</th>\n",
       "      <td>1... 2... 3... KICK IT! (Drop That Beat Like a...</td>\n",
       "      <td>15540</td>\n",
       "      <td>Dejobaan Games, LLC</td>\n",
       "      <td>Dejobaan Games, LLC</td>\n",
       "      <td>$9.99</td>\n",
       "      <td>0</td>\n",
       "      <td>Windows</td>\n",
       "      <td></td>\n",
       "      <td>0</td>\n",
       "      <td>1</td>\n",
       "      <td>2</td>\n",
       "      <td>1</td>\n",
       "      <td>1</td>\n",
       "      <td>Single-player; Steam Achievements; Steam Tradi...</td>\n",
       "      <td>Action; Indie; Early Access</td>\n",
       "      <td>148</td>\n",
       "      <td>355</td>\n",
       "      <td>0 .. 20,000</td>\n",
       "      <td>21</td>\n",
       "      <td>0</td>\n",
       "      <td>21</td>\n",
       "      <td>0</td>\n",
       "      <td>999.0</td>\n",
       "      <td>0.0</td>\n",
       "      <td>Action, Indie, Early Access</td>\n",
       "      <td>0</td>\n",
       "      <td>{'Indie': 58, 'Music': 50, 'Action': 39, 'Earl...</td>\n",
       "    </tr>\n",
       "    <tr>\n",
       "      <th>29</th>\n",
       "      <td>AaaaaAAaaaAAAaaAAAAaAAAAA!!! for the Awesome</td>\n",
       "      <td>15560</td>\n",
       "      <td>Dejobaan Games, LLC; Owlchemy Labs</td>\n",
       "      <td>Dejobaan Games, LLC</td>\n",
       "      <td>$9.99</td>\n",
       "      <td>0</td>\n",
       "      <td>Windows; Linux</td>\n",
       "      <td>11/23/2011</td>\n",
       "      <td>0</td>\n",
       "      <td>1</td>\n",
       "      <td>1</td>\n",
       "      <td>1</td>\n",
       "      <td>10</td>\n",
       "      <td>Single-player; Steam Achievements; Full contro...</td>\n",
       "      <td>Action; Indie; Sports</td>\n",
       "      <td>758</td>\n",
       "      <td>257</td>\n",
       "      <td>200,000 .. 500,000</td>\n",
       "      <td>21</td>\n",
       "      <td>0</td>\n",
       "      <td>32</td>\n",
       "      <td>0</td>\n",
       "      <td>999.0</td>\n",
       "      <td>0.0</td>\n",
       "      <td>Action, Indie, Sports</td>\n",
       "      <td>2</td>\n",
       "      <td>{'Indie': 110, 'Action': 90, 'First-Person': 7...</td>\n",
       "    </tr>\n",
       "    <tr>\n",
       "      <th>...</th>\n",
       "      <td>...</td>\n",
       "      <td>...</td>\n",
       "      <td>...</td>\n",
       "      <td>...</td>\n",
       "      <td>...</td>\n",
       "      <td>...</td>\n",
       "      <td>...</td>\n",
       "      <td>...</td>\n",
       "      <td>...</td>\n",
       "      <td>...</td>\n",
       "      <td>...</td>\n",
       "      <td>...</td>\n",
       "      <td>...</td>\n",
       "      <td>...</td>\n",
       "      <td>...</td>\n",
       "      <td>...</td>\n",
       "      <td>...</td>\n",
       "      <td>...</td>\n",
       "      <td>...</td>\n",
       "      <td>...</td>\n",
       "      <td>...</td>\n",
       "      <td>...</td>\n",
       "      <td>...</td>\n",
       "      <td>...</td>\n",
       "      <td>...</td>\n",
       "      <td>...</td>\n",
       "      <td>...</td>\n",
       "    </tr>\n",
       "    <tr>\n",
       "      <th>21699</th>\n",
       "      <td>Pumpkin Breaker</td>\n",
       "      <td>1177550</td>\n",
       "      <td>Rumly</td>\n",
       "      <td>Rumly</td>\n",
       "      <td>0</td>\n",
       "      <td>0</td>\n",
       "      <td>Windows</td>\n",
       "      <td></td>\n",
       "      <td>0</td>\n",
       "      <td>1</td>\n",
       "      <td>0</td>\n",
       "      <td>0</td>\n",
       "      <td>0</td>\n",
       "      <td>Single-player</td>\n",
       "      <td>Casual; Indie</td>\n",
       "      <td>0</td>\n",
       "      <td>0</td>\n",
       "      <td>0 .. 20,000</td>\n",
       "      <td>0</td>\n",
       "      <td>0</td>\n",
       "      <td>0</td>\n",
       "      <td>0</td>\n",
       "      <td>0.0</td>\n",
       "      <td>0.0</td>\n",
       "      <td>Casual, Indie</td>\n",
       "      <td>0</td>\n",
       "      <td>[]</td>\n",
       "    </tr>\n",
       "    <tr>\n",
       "      <th>21700</th>\n",
       "      <td>Evolution Battle Simulator: Prehistoric Times</td>\n",
       "      <td>1177710</td>\n",
       "      <td>Universal Game Studio</td>\n",
       "      <td>Universal Game Studio</td>\n",
       "      <td>$1.99</td>\n",
       "      <td>0</td>\n",
       "      <td>Windows</td>\n",
       "      <td>01/13/2020</td>\n",
       "      <td>0</td>\n",
       "      <td>1</td>\n",
       "      <td>1</td>\n",
       "      <td>1</td>\n",
       "      <td>0</td>\n",
       "      <td>Single-player</td>\n",
       "      <td>Action; Adventure; Casual; Indie; RPG; Simulat...</td>\n",
       "      <td>2</td>\n",
       "      <td>4</td>\n",
       "      <td>0 .. 20,000</td>\n",
       "      <td>0</td>\n",
       "      <td>0</td>\n",
       "      <td>0</td>\n",
       "      <td>0</td>\n",
       "      <td>199.0</td>\n",
       "      <td>0.0</td>\n",
       "      <td>Action, Adventure, Casual, Indie, RPG, Simulat...</td>\n",
       "      <td>0</td>\n",
       "      <td>{'Action': 31, 'Indie': 31, 'Casual': 31, 'Sim...</td>\n",
       "    </tr>\n",
       "    <tr>\n",
       "      <th>21701</th>\n",
       "      <td>Stream Fighters</td>\n",
       "      <td>1177810</td>\n",
       "      <td>Cringe Engine Studio</td>\n",
       "      <td>Cringe Engine Studio</td>\n",
       "      <td>$0.99</td>\n",
       "      <td>0</td>\n",
       "      <td>Windows</td>\n",
       "      <td>01/07/2020</td>\n",
       "      <td>0</td>\n",
       "      <td>25</td>\n",
       "      <td>1</td>\n",
       "      <td>0</td>\n",
       "      <td>16</td>\n",
       "      <td>Single-player; Multi-player; Steam Achievements</td>\n",
       "      <td>Action; Casual; Indie</td>\n",
       "      <td>15</td>\n",
       "      <td>3</td>\n",
       "      <td>0 .. 20,000</td>\n",
       "      <td>0</td>\n",
       "      <td>0</td>\n",
       "      <td>0</td>\n",
       "      <td>0</td>\n",
       "      <td>99.0</td>\n",
       "      <td>0.0</td>\n",
       "      <td>Action, Casual, Indie</td>\n",
       "      <td>0</td>\n",
       "      <td>{'Indie': 36, 'Violent': 33, 'Action': 32, 'Ca...</td>\n",
       "    </tr>\n",
       "    <tr>\n",
       "      <th>21702</th>\n",
       "      <td>Shape Cascade</td>\n",
       "      <td>1177820</td>\n",
       "      <td>CarloC</td>\n",
       "      <td>CarloC</td>\n",
       "      <td>$1.99</td>\n",
       "      <td>0</td>\n",
       "      <td>Windows; Mac</td>\n",
       "      <td>12/05/2019</td>\n",
       "      <td>0</td>\n",
       "      <td>8</td>\n",
       "      <td>1</td>\n",
       "      <td>0</td>\n",
       "      <td>11</td>\n",
       "      <td>Single-player; Steam Achievements; Partial Con...</td>\n",
       "      <td>Casual; Indie</td>\n",
       "      <td>4</td>\n",
       "      <td>0</td>\n",
       "      <td>0 .. 20,000</td>\n",
       "      <td>0</td>\n",
       "      <td>0</td>\n",
       "      <td>0</td>\n",
       "      <td>0</td>\n",
       "      <td>199.0</td>\n",
       "      <td>0.0</td>\n",
       "      <td>Casual, Indie</td>\n",
       "      <td>0</td>\n",
       "      <td>{'Casual': 32, 'Indie': 31, 'Arcade': 12, '2D'...</td>\n",
       "    </tr>\n",
       "    <tr>\n",
       "      <th>21703</th>\n",
       "      <td>Mass Plus</td>\n",
       "      <td>1177940</td>\n",
       "      <td>Gray Sage</td>\n",
       "      <td>Gray Sage</td>\n",
       "      <td>$4.99</td>\n",
       "      <td>0</td>\n",
       "      <td>Windows</td>\n",
       "      <td>11/15/2019</td>\n",
       "      <td>0</td>\n",
       "      <td>1</td>\n",
       "      <td>1</td>\n",
       "      <td>0</td>\n",
       "      <td>0</td>\n",
       "      <td>Single-player; Steam Leaderboards</td>\n",
       "      <td>Casual; Indie</td>\n",
       "      <td>0</td>\n",
       "      <td>0</td>\n",
       "      <td>0 .. 20,000</td>\n",
       "      <td>0</td>\n",
       "      <td>0</td>\n",
       "      <td>0</td>\n",
       "      <td>0</td>\n",
       "      <td>499.0</td>\n",
       "      <td>0.0</td>\n",
       "      <td>Casual, Indie</td>\n",
       "      <td>0</td>\n",
       "      <td>[]</td>\n",
       "    </tr>\n",
       "    <tr>\n",
       "      <th>21704</th>\n",
       "      <td>Get Me Outta Here - Deluxe/Remastered Edition</td>\n",
       "      <td>1177960</td>\n",
       "      <td>Rossman Bros Games</td>\n",
       "      <td>Rossman Bros Games</td>\n",
       "      <td>$4.99</td>\n",
       "      <td>0</td>\n",
       "      <td>Windows</td>\n",
       "      <td>11/29/2019</td>\n",
       "      <td>0</td>\n",
       "      <td>1</td>\n",
       "      <td>1</td>\n",
       "      <td>1</td>\n",
       "      <td>0</td>\n",
       "      <td>Single-player; Multi-player; Co-op; Shared/Spl...</td>\n",
       "      <td>Action; Adventure; Indie</td>\n",
       "      <td>4</td>\n",
       "      <td>0</td>\n",
       "      <td>0 .. 20,000</td>\n",
       "      <td>0</td>\n",
       "      <td>0</td>\n",
       "      <td>0</td>\n",
       "      <td>0</td>\n",
       "      <td>499.0</td>\n",
       "      <td>0.0</td>\n",
       "      <td>Action, Adventure, Indie</td>\n",
       "      <td>0</td>\n",
       "      <td>{'Action': 21, 'Indie': 21, 'Adventure': 20}</td>\n",
       "    </tr>\n",
       "    <tr>\n",
       "      <th>21705</th>\n",
       "      <td>Ghost Dimension</td>\n",
       "      <td>1178000</td>\n",
       "      <td>Saulo Rosart</td>\n",
       "      <td>Saulo Rosart</td>\n",
       "      <td>$1.99</td>\n",
       "      <td>0</td>\n",
       "      <td>Windows</td>\n",
       "      <td>01/17/2020</td>\n",
       "      <td>0</td>\n",
       "      <td>1</td>\n",
       "      <td>1</td>\n",
       "      <td>0</td>\n",
       "      <td>10</td>\n",
       "      <td>Single-player; Steam Achievements; Full contro...</td>\n",
       "      <td>Action; Adventure; Casual; Indie; Racing</td>\n",
       "      <td>2</td>\n",
       "      <td>0</td>\n",
       "      <td>0 .. 20,000</td>\n",
       "      <td>0</td>\n",
       "      <td>0</td>\n",
       "      <td>0</td>\n",
       "      <td>0</td>\n",
       "      <td>199.0</td>\n",
       "      <td>0.0</td>\n",
       "      <td>Action, Adventure, Casual, Indie, Racing</td>\n",
       "      <td>1</td>\n",
       "      <td>{'Action': 56, 'Indie': 56, 'Casual': 56, 'Adv...</td>\n",
       "    </tr>\n",
       "    <tr>\n",
       "      <th>21706</th>\n",
       "      <td>Star Fetchers</td>\n",
       "      <td>1178030</td>\n",
       "      <td>Svavelstickan</td>\n",
       "      <td>Svavelstickan</td>\n",
       "      <td>0</td>\n",
       "      <td>1</td>\n",
       "      <td>Windows</td>\n",
       "      <td>01/17/2020</td>\n",
       "      <td>0</td>\n",
       "      <td>1</td>\n",
       "      <td>0</td>\n",
       "      <td>0</td>\n",
       "      <td>0</td>\n",
       "      <td>Single-player</td>\n",
       "      <td>Action; Adventure; Free to Play; Indie</td>\n",
       "      <td>1899</td>\n",
       "      <td>58</td>\n",
       "      <td>100,000 .. 200,000</td>\n",
       "      <td>0</td>\n",
       "      <td>0</td>\n",
       "      <td>0</td>\n",
       "      <td>0</td>\n",
       "      <td>0.0</td>\n",
       "      <td>0.0</td>\n",
       "      <td>Action, Adventure, Free to Play, Indie</td>\n",
       "      <td>21</td>\n",
       "      <td>{'Indie': 124, 'Action': 119, 'Adventure': 111...</td>\n",
       "    </tr>\n",
       "    <tr>\n",
       "      <th>21707</th>\n",
       "      <td>Picross.io</td>\n",
       "      <td>1178310</td>\n",
       "      <td>Alexander Mirgorod</td>\n",
       "      <td>Alexander Kudryavy</td>\n",
       "      <td>$1.99</td>\n",
       "      <td>0</td>\n",
       "      <td>Windows</td>\n",
       "      <td>11/10/2019</td>\n",
       "      <td>0</td>\n",
       "      <td>6</td>\n",
       "      <td>2</td>\n",
       "      <td>0</td>\n",
       "      <td>0</td>\n",
       "      <td>Single-player</td>\n",
       "      <td>Indie</td>\n",
       "      <td>1</td>\n",
       "      <td>0</td>\n",
       "      <td>0 .. 20,000</td>\n",
       "      <td>0</td>\n",
       "      <td>0</td>\n",
       "      <td>0</td>\n",
       "      <td>0</td>\n",
       "      <td>199.0</td>\n",
       "      <td>0.0</td>\n",
       "      <td>Indie</td>\n",
       "      <td>2</td>\n",
       "      <td>{'Indie': 31, 'Puzzle': 12, 'Casual': 11, 'Sin...</td>\n",
       "    </tr>\n",
       "    <tr>\n",
       "      <th>21708</th>\n",
       "      <td>Resurrector</td>\n",
       "      <td>1178380</td>\n",
       "      <td>GSGame</td>\n",
       "      <td>Bitlock Studio</td>\n",
       "      <td>$0.99</td>\n",
       "      <td>0</td>\n",
       "      <td>Windows</td>\n",
       "      <td>11/25/2019</td>\n",
       "      <td>0</td>\n",
       "      <td>1</td>\n",
       "      <td>1</td>\n",
       "      <td>0</td>\n",
       "      <td>8</td>\n",
       "      <td>Single-player; Steam Achievements</td>\n",
       "      <td>Action; Indie</td>\n",
       "      <td>5</td>\n",
       "      <td>2</td>\n",
       "      <td>0 .. 20,000</td>\n",
       "      <td>0</td>\n",
       "      <td>0</td>\n",
       "      <td>0</td>\n",
       "      <td>0</td>\n",
       "      <td>99.0</td>\n",
       "      <td>0.0</td>\n",
       "      <td>Action, Indie</td>\n",
       "      <td>0</td>\n",
       "      <td>{'Action': 24, 'Indie': 24}</td>\n",
       "    </tr>\n",
       "    <tr>\n",
       "      <th>21709</th>\n",
       "      <td>The Source of the Nightmare Storms</td>\n",
       "      <td>1178390</td>\n",
       "      <td>Torvelt</td>\n",
       "      <td>Torvelt</td>\n",
       "      <td>$2.99</td>\n",
       "      <td>0</td>\n",
       "      <td>Windows</td>\n",
       "      <td>10/31/2019</td>\n",
       "      <td>0</td>\n",
       "      <td>1</td>\n",
       "      <td>1</td>\n",
       "      <td>0</td>\n",
       "      <td>0</td>\n",
       "      <td>Single-player</td>\n",
       "      <td>Adventure; Indie</td>\n",
       "      <td>0</td>\n",
       "      <td>0</td>\n",
       "      <td>0 .. 20,000</td>\n",
       "      <td>0</td>\n",
       "      <td>0</td>\n",
       "      <td>0</td>\n",
       "      <td>0</td>\n",
       "      <td>299.0</td>\n",
       "      <td>0.0</td>\n",
       "      <td>Adventure, Indie</td>\n",
       "      <td>0</td>\n",
       "      <td>[]</td>\n",
       "    </tr>\n",
       "    <tr>\n",
       "      <th>21710</th>\n",
       "      <td>Oppaidius Tropical Cruise!</td>\n",
       "      <td>1179100</td>\n",
       "      <td>Vittorio Giorgi (SbargiSoft)</td>\n",
       "      <td>Vittorio Giorgi (SbargiSoft)</td>\n",
       "      <td>0</td>\n",
       "      <td>1</td>\n",
       "      <td>Windows; Mac; Linux</td>\n",
       "      <td>01/16/2020</td>\n",
       "      <td>0</td>\n",
       "      <td>2</td>\n",
       "      <td>0</td>\n",
       "      <td>0</td>\n",
       "      <td>16</td>\n",
       "      <td>Single-player; Steam Achievements</td>\n",
       "      <td>Adventure; Casual; Indie; Simulation</td>\n",
       "      <td>0</td>\n",
       "      <td>0</td>\n",
       "      <td>0 .. 20,000</td>\n",
       "      <td>0</td>\n",
       "      <td>0</td>\n",
       "      <td>0</td>\n",
       "      <td>0</td>\n",
       "      <td>0.0</td>\n",
       "      <td>0.0</td>\n",
       "      <td>Adventure, Casual, Indie, Simulation</td>\n",
       "      <td>1</td>\n",
       "      <td>[]</td>\n",
       "    </tr>\n",
       "    <tr>\n",
       "      <th>21711</th>\n",
       "      <td>Gaijin Troubles</td>\n",
       "      <td>1179220</td>\n",
       "      <td>Grim's Studio</td>\n",
       "      <td>Grim's Studio</td>\n",
       "      <td>$9.99</td>\n",
       "      <td>0</td>\n",
       "      <td>Windows</td>\n",
       "      <td>02/03/2020</td>\n",
       "      <td>0</td>\n",
       "      <td>1</td>\n",
       "      <td>1</td>\n",
       "      <td>0</td>\n",
       "      <td>0</td>\n",
       "      <td>Single-player; Partial Controller Support</td>\n",
       "      <td>Action; Indie; Early Access</td>\n",
       "      <td>13</td>\n",
       "      <td>1</td>\n",
       "      <td>0 .. 20,000</td>\n",
       "      <td>0</td>\n",
       "      <td>0</td>\n",
       "      <td>0</td>\n",
       "      <td>0</td>\n",
       "      <td>999.0</td>\n",
       "      <td>0.0</td>\n",
       "      <td>Action, Indie, Early Access</td>\n",
       "      <td>0</td>\n",
       "      <td>{'Sexual Content': 34, 'Action': 32, 'Indie': ...</td>\n",
       "    </tr>\n",
       "    <tr>\n",
       "      <th>21712</th>\n",
       "      <td>PROJECT D : Human Risen</td>\n",
       "      <td>1179280</td>\n",
       "      <td>catgames</td>\n",
       "      <td>catgames</td>\n",
       "      <td>0</td>\n",
       "      <td>0</td>\n",
       "      <td>Windows</td>\n",
       "      <td></td>\n",
       "      <td>0</td>\n",
       "      <td>1</td>\n",
       "      <td>0</td>\n",
       "      <td>1</td>\n",
       "      <td>0</td>\n",
       "      <td>Single-player; Multi-player; Co-op; Online Co-...</td>\n",
       "      <td>Action; Adventure; Indie; Simulation; Early Ac...</td>\n",
       "      <td>0</td>\n",
       "      <td>0</td>\n",
       "      <td>0 .. 20,000</td>\n",
       "      <td>0</td>\n",
       "      <td>0</td>\n",
       "      <td>0</td>\n",
       "      <td>0</td>\n",
       "      <td>0.0</td>\n",
       "      <td>0.0</td>\n",
       "      <td>Action, Adventure, Indie, Simulation, Early Ac...</td>\n",
       "      <td>0</td>\n",
       "      <td>[]</td>\n",
       "    </tr>\n",
       "    <tr>\n",
       "      <th>21713</th>\n",
       "      <td>Drift Alone</td>\n",
       "      <td>1179310</td>\n",
       "      <td>DiESELmoottori</td>\n",
       "      <td>DiESELmoottori</td>\n",
       "      <td>0</td>\n",
       "      <td>0</td>\n",
       "      <td>Windows</td>\n",
       "      <td></td>\n",
       "      <td>0</td>\n",
       "      <td>1</td>\n",
       "      <td>0</td>\n",
       "      <td>1</td>\n",
       "      <td>0</td>\n",
       "      <td>Single-player; Partial Controller Support</td>\n",
       "      <td>Indie; Racing; Simulation</td>\n",
       "      <td>0</td>\n",
       "      <td>0</td>\n",
       "      <td>0 .. 20,000</td>\n",
       "      <td>0</td>\n",
       "      <td>0</td>\n",
       "      <td>0</td>\n",
       "      <td>0</td>\n",
       "      <td>0.0</td>\n",
       "      <td>0.0</td>\n",
       "      <td>Indie, Racing, Simulation</td>\n",
       "      <td>0</td>\n",
       "      <td>[]</td>\n",
       "    </tr>\n",
       "    <tr>\n",
       "      <th>21714</th>\n",
       "      <td>HAM-MASTER</td>\n",
       "      <td>1179460</td>\n",
       "      <td>STUDIOS MAGMA</td>\n",
       "      <td>STUDIOS MAGMA</td>\n",
       "      <td>$0.84</td>\n",
       "      <td>0</td>\n",
       "      <td>Windows</td>\n",
       "      <td>11/08/2019</td>\n",
       "      <td>0</td>\n",
       "      <td>1</td>\n",
       "      <td>1</td>\n",
       "      <td>0</td>\n",
       "      <td>0</td>\n",
       "      <td>Single-player; Full controller support</td>\n",
       "      <td>Adventure; Casual; Indie</td>\n",
       "      <td>1</td>\n",
       "      <td>0</td>\n",
       "      <td>0 .. 20,000</td>\n",
       "      <td>0</td>\n",
       "      <td>0</td>\n",
       "      <td>0</td>\n",
       "      <td>0</td>\n",
       "      <td>99.0</td>\n",
       "      <td>15.0</td>\n",
       "      <td>Adventure, Casual, Indie</td>\n",
       "      <td>0</td>\n",
       "      <td>{'Indie': 31, 'Casual': 31, 'Adventure': 30, '...</td>\n",
       "    </tr>\n",
       "    <tr>\n",
       "      <th>21715</th>\n",
       "      <td>Jazz Lightning : Castle Dungeons</td>\n",
       "      <td>1179570</td>\n",
       "      <td>Kappa Bits</td>\n",
       "      <td>Kappa Bits</td>\n",
       "      <td>0</td>\n",
       "      <td>0</td>\n",
       "      <td>Windows</td>\n",
       "      <td></td>\n",
       "      <td>0</td>\n",
       "      <td>1</td>\n",
       "      <td>0</td>\n",
       "      <td>1</td>\n",
       "      <td>0</td>\n",
       "      <td>Single-player; Partial Controller Support</td>\n",
       "      <td>Action; Indie</td>\n",
       "      <td>0</td>\n",
       "      <td>0</td>\n",
       "      <td>0 .. 20,000</td>\n",
       "      <td>0</td>\n",
       "      <td>0</td>\n",
       "      <td>0</td>\n",
       "      <td>0</td>\n",
       "      <td>0.0</td>\n",
       "      <td>0.0</td>\n",
       "      <td>Action, Indie</td>\n",
       "      <td>0</td>\n",
       "      <td>[]</td>\n",
       "    </tr>\n",
       "    <tr>\n",
       "      <th>21716</th>\n",
       "      <td>Metrail</td>\n",
       "      <td>1179750</td>\n",
       "      <td>2-Volt Games</td>\n",
       "      <td>2-Volt Games</td>\n",
       "      <td>0</td>\n",
       "      <td>1</td>\n",
       "      <td>Windows</td>\n",
       "      <td>11/02/2019</td>\n",
       "      <td>0</td>\n",
       "      <td>1</td>\n",
       "      <td>0</td>\n",
       "      <td>1</td>\n",
       "      <td>0</td>\n",
       "      <td>Single-player</td>\n",
       "      <td>Indie</td>\n",
       "      <td>4</td>\n",
       "      <td>1</td>\n",
       "      <td>0 .. 20,000</td>\n",
       "      <td>0</td>\n",
       "      <td>0</td>\n",
       "      <td>0</td>\n",
       "      <td>0</td>\n",
       "      <td>0.0</td>\n",
       "      <td>0.0</td>\n",
       "      <td>Indie</td>\n",
       "      <td>0</td>\n",
       "      <td>{'Indie': 31}</td>\n",
       "    </tr>\n",
       "    <tr>\n",
       "      <th>21717</th>\n",
       "      <td>DeadShotZ</td>\n",
       "      <td>1180110</td>\n",
       "      <td>Indigo Arts</td>\n",
       "      <td>Indigo Arts; Ezero Studios</td>\n",
       "      <td>$0.84</td>\n",
       "      <td>0</td>\n",
       "      <td>Windows</td>\n",
       "      <td>11/05/2019</td>\n",
       "      <td>0</td>\n",
       "      <td>3</td>\n",
       "      <td>1</td>\n",
       "      <td>1</td>\n",
       "      <td>28</td>\n",
       "      <td>Single-player; Steam Achievements; Full contro...</td>\n",
       "      <td>Action; Casual; Indie</td>\n",
       "      <td>4</td>\n",
       "      <td>0</td>\n",
       "      <td>0 .. 20,000</td>\n",
       "      <td>0</td>\n",
       "      <td>0</td>\n",
       "      <td>0</td>\n",
       "      <td>0</td>\n",
       "      <td>99.0</td>\n",
       "      <td>0.0</td>\n",
       "      <td>Action, Casual, Indie</td>\n",
       "      <td>0</td>\n",
       "      <td>{'Action': 41, 'Indie': 41, 'Casual': 41, '2D'...</td>\n",
       "    </tr>\n",
       "    <tr>\n",
       "      <th>21718</th>\n",
       "      <td>Windmill Kings</td>\n",
       "      <td>1180420</td>\n",
       "      <td>Bigosaur</td>\n",
       "      <td>Bigosaur</td>\n",
       "      <td>$4.99</td>\n",
       "      <td>0</td>\n",
       "      <td>Windows</td>\n",
       "      <td>01/29/2020</td>\n",
       "      <td>0</td>\n",
       "      <td>6</td>\n",
       "      <td>1</td>\n",
       "      <td>0</td>\n",
       "      <td>8</td>\n",
       "      <td>Single-player; Multi-player; PvP; Shared/Split...</td>\n",
       "      <td>Casual; Indie; Strategy</td>\n",
       "      <td>6</td>\n",
       "      <td>5</td>\n",
       "      <td>0 .. 20,000</td>\n",
       "      <td>0</td>\n",
       "      <td>0</td>\n",
       "      <td>0</td>\n",
       "      <td>0</td>\n",
       "      <td>499.0</td>\n",
       "      <td>0.0</td>\n",
       "      <td>Casual, Indie, Strategy</td>\n",
       "      <td>1</td>\n",
       "      <td>{'Casual': 32, 'Strategy': 32, 'Indie': 31, 'G...</td>\n",
       "    </tr>\n",
       "    <tr>\n",
       "      <th>21719</th>\n",
       "      <td>Spaceman</td>\n",
       "      <td>1180690</td>\n",
       "      <td>Conmtrast</td>\n",
       "      <td>Conmtrast</td>\n",
       "      <td>$0.49</td>\n",
       "      <td>0</td>\n",
       "      <td>Windows</td>\n",
       "      <td>12/31/2019</td>\n",
       "      <td>0</td>\n",
       "      <td>1</td>\n",
       "      <td>1</td>\n",
       "      <td>0</td>\n",
       "      <td>0</td>\n",
       "      <td>Single-player; Partial Controller Support</td>\n",
       "      <td>Action; Adventure; Indie</td>\n",
       "      <td>3</td>\n",
       "      <td>0</td>\n",
       "      <td>0 .. 20,000</td>\n",
       "      <td>0</td>\n",
       "      <td>0</td>\n",
       "      <td>0</td>\n",
       "      <td>0</td>\n",
       "      <td>99.0</td>\n",
       "      <td>51.0</td>\n",
       "      <td>Action, Adventure, Indie</td>\n",
       "      <td>0</td>\n",
       "      <td>{'Action': 106, 'Indie': 106, 'Adventure': 105...</td>\n",
       "    </tr>\n",
       "    <tr>\n",
       "      <th>21720</th>\n",
       "      <td>Shooting Star</td>\n",
       "      <td>1180700</td>\n",
       "      <td>Studio Inward</td>\n",
       "      <td>Studio Inward</td>\n",
       "      <td>$0.49</td>\n",
       "      <td>0</td>\n",
       "      <td>Windows</td>\n",
       "      <td>02/08/2020</td>\n",
       "      <td>0</td>\n",
       "      <td>1</td>\n",
       "      <td>1</td>\n",
       "      <td>0</td>\n",
       "      <td>0</td>\n",
       "      <td>Single-player</td>\n",
       "      <td>Casual; Indie</td>\n",
       "      <td>2</td>\n",
       "      <td>0</td>\n",
       "      <td>0 .. 20,000</td>\n",
       "      <td>0</td>\n",
       "      <td>0</td>\n",
       "      <td>0</td>\n",
       "      <td>0</td>\n",
       "      <td>99.0</td>\n",
       "      <td>51.0</td>\n",
       "      <td>Casual, Indie</td>\n",
       "      <td>0</td>\n",
       "      <td>{'Casual': 31, 'Indie': 31, 'Runner': 12, 'Add...</td>\n",
       "    </tr>\n",
       "    <tr>\n",
       "      <th>21721</th>\n",
       "      <td>ImageStriker</td>\n",
       "      <td>1180790</td>\n",
       "      <td>TERARIN GAMES</td>\n",
       "      <td>TERARIN GAMES</td>\n",
       "      <td>0</td>\n",
       "      <td>1</td>\n",
       "      <td>Windows</td>\n",
       "      <td>11/06/2019</td>\n",
       "      <td>0</td>\n",
       "      <td>1</td>\n",
       "      <td>0</td>\n",
       "      <td>1</td>\n",
       "      <td>8</td>\n",
       "      <td>Single-player; Steam Achievements; Full contro...</td>\n",
       "      <td>Action; Casual; Free to Play; Indie</td>\n",
       "      <td>25</td>\n",
       "      <td>2</td>\n",
       "      <td>0 .. 20,000</td>\n",
       "      <td>0</td>\n",
       "      <td>0</td>\n",
       "      <td>0</td>\n",
       "      <td>0</td>\n",
       "      <td>0.0</td>\n",
       "      <td>0.0</td>\n",
       "      <td>Action, Casual, Free to Play, Indie</td>\n",
       "      <td>1</td>\n",
       "      <td>{'Action': 24, 'Free to Play': 24, 'Indie': 21...</td>\n",
       "    </tr>\n",
       "    <tr>\n",
       "      <th>21722</th>\n",
       "      <td>Don't Kill the Cow</td>\n",
       "      <td>1180800</td>\n",
       "      <td>James Earl Cox III</td>\n",
       "      <td>James Earl Cox III</td>\n",
       "      <td>0</td>\n",
       "      <td>1</td>\n",
       "      <td>Windows</td>\n",
       "      <td>11/07/2019</td>\n",
       "      <td>0</td>\n",
       "      <td>1</td>\n",
       "      <td>0</td>\n",
       "      <td>1</td>\n",
       "      <td>0</td>\n",
       "      <td>Single-player</td>\n",
       "      <td>Indie</td>\n",
       "      <td>15</td>\n",
       "      <td>4</td>\n",
       "      <td>0 .. 20,000</td>\n",
       "      <td>0</td>\n",
       "      <td>0</td>\n",
       "      <td>0</td>\n",
       "      <td>0</td>\n",
       "      <td>0.0</td>\n",
       "      <td>0.0</td>\n",
       "      <td>Indie</td>\n",
       "      <td>0</td>\n",
       "      <td>{'Indie': 32, 'Free to Play': 12, 'Short': 11,...</td>\n",
       "    </tr>\n",
       "    <tr>\n",
       "      <th>21723</th>\n",
       "      <td>Phantom Path</td>\n",
       "      <td>1180970</td>\n",
       "      <td>KEYREAL</td>\n",
       "      <td>KEYREAL</td>\n",
       "      <td>0</td>\n",
       "      <td>0</td>\n",
       "      <td>Windows</td>\n",
       "      <td></td>\n",
       "      <td>0</td>\n",
       "      <td>1</td>\n",
       "      <td>0</td>\n",
       "      <td>1</td>\n",
       "      <td>0</td>\n",
       "      <td>Single-player; Full controller support</td>\n",
       "      <td>Adventure; Casual; Indie</td>\n",
       "      <td>0</td>\n",
       "      <td>0</td>\n",
       "      <td>0 .. 20,000</td>\n",
       "      <td>0</td>\n",
       "      <td>0</td>\n",
       "      <td>0</td>\n",
       "      <td>0</td>\n",
       "      <td>0.0</td>\n",
       "      <td>0.0</td>\n",
       "      <td>Adventure, Casual, Indie</td>\n",
       "      <td>0</td>\n",
       "      <td>[]</td>\n",
       "    </tr>\n",
       "    <tr>\n",
       "      <th>21724</th>\n",
       "      <td>UBERMOSH:OMEGA</td>\n",
       "      <td>1181000</td>\n",
       "      <td>Walter Machado</td>\n",
       "      <td>Walter Machado</td>\n",
       "      <td>$3.49</td>\n",
       "      <td>0</td>\n",
       "      <td>Windows</td>\n",
       "      <td>11/08/2019</td>\n",
       "      <td>0</td>\n",
       "      <td>1</td>\n",
       "      <td>2</td>\n",
       "      <td>1</td>\n",
       "      <td>6</td>\n",
       "      <td>Single-player; Steam Achievements; Full contro...</td>\n",
       "      <td>Action; Indie</td>\n",
       "      <td>77</td>\n",
       "      <td>0</td>\n",
       "      <td>0 .. 20,000</td>\n",
       "      <td>0</td>\n",
       "      <td>0</td>\n",
       "      <td>0</td>\n",
       "      <td>0</td>\n",
       "      <td>499.0</td>\n",
       "      <td>30.0</td>\n",
       "      <td>Action, Indie</td>\n",
       "      <td>0</td>\n",
       "      <td>{'Action': 32, 'Indie': 32, 'Pixel Graphics': ...</td>\n",
       "    </tr>\n",
       "    <tr>\n",
       "      <th>21725</th>\n",
       "      <td>D3D INSIDE</td>\n",
       "      <td>1181330</td>\n",
       "      <td>Oblom studio</td>\n",
       "      <td>BekkerDev Studio</td>\n",
       "      <td>$1.99</td>\n",
       "      <td>0</td>\n",
       "      <td>Windows</td>\n",
       "      <td>11/06/2019</td>\n",
       "      <td>0</td>\n",
       "      <td>2</td>\n",
       "      <td>1</td>\n",
       "      <td>0</td>\n",
       "      <td>0</td>\n",
       "      <td>Single-player</td>\n",
       "      <td>Action; Adventure; Indie</td>\n",
       "      <td>30</td>\n",
       "      <td>4</td>\n",
       "      <td>0 .. 20,000</td>\n",
       "      <td>0</td>\n",
       "      <td>0</td>\n",
       "      <td>0</td>\n",
       "      <td>0</td>\n",
       "      <td>199.0</td>\n",
       "      <td>0.0</td>\n",
       "      <td>Action, Adventure, Indie</td>\n",
       "      <td>0</td>\n",
       "      <td>{'Action': 22, 'Adventure': 22, 'Indie': 22, '...</td>\n",
       "    </tr>\n",
       "    <tr>\n",
       "      <th>21726</th>\n",
       "      <td>My Haunted Doll</td>\n",
       "      <td>1181470</td>\n",
       "      <td>Anamik Majumdar</td>\n",
       "      <td>Anamik Majumdar</td>\n",
       "      <td>$0.99</td>\n",
       "      <td>0</td>\n",
       "      <td>Windows; Linux</td>\n",
       "      <td>11/22/2019</td>\n",
       "      <td>0</td>\n",
       "      <td>1</td>\n",
       "      <td>1</td>\n",
       "      <td>1</td>\n",
       "      <td>8</td>\n",
       "      <td>Single-player; Steam Achievements; Full contro...</td>\n",
       "      <td>Adventure; Casual; Indie</td>\n",
       "      <td>2</td>\n",
       "      <td>1</td>\n",
       "      <td>0 .. 20,000</td>\n",
       "      <td>0</td>\n",
       "      <td>0</td>\n",
       "      <td>0</td>\n",
       "      <td>0</td>\n",
       "      <td>99.0</td>\n",
       "      <td>0.0</td>\n",
       "      <td>Adventure, Casual, Indie</td>\n",
       "      <td>0</td>\n",
       "      <td>{'Indie': 21, 'Casual': 21, 'Adventure': 21, '...</td>\n",
       "    </tr>\n",
       "    <tr>\n",
       "      <th>21727</th>\n",
       "      <td>Mr. Hopp's Playhouse</td>\n",
       "      <td>1182370</td>\n",
       "      <td>Moonbit Studios</td>\n",
       "      <td>Moonbit Studios</td>\n",
       "      <td>0</td>\n",
       "      <td>1</td>\n",
       "      <td>Windows</td>\n",
       "      <td>11/15/2019</td>\n",
       "      <td>0</td>\n",
       "      <td>1</td>\n",
       "      <td>1</td>\n",
       "      <td>0</td>\n",
       "      <td>0</td>\n",
       "      <td>Single-player; Partial Controller Support</td>\n",
       "      <td>Free to Play; Indie; Strategy</td>\n",
       "      <td>209</td>\n",
       "      <td>15</td>\n",
       "      <td>20,000 .. 50,000</td>\n",
       "      <td>0</td>\n",
       "      <td>0</td>\n",
       "      <td>0</td>\n",
       "      <td>0</td>\n",
       "      <td>0.0</td>\n",
       "      <td>0.0</td>\n",
       "      <td>Free to Play, Indie, Strategy</td>\n",
       "      <td>8</td>\n",
       "      <td>{'Free to Play': 27, 'Indie': 25, 'Horror': 23...</td>\n",
       "    </tr>\n",
       "    <tr>\n",
       "      <th>21728</th>\n",
       "      <td>Planet Lander</td>\n",
       "      <td>1183140</td>\n",
       "      <td>Tuwi Michael Nannings</td>\n",
       "      <td>NanningsGames</td>\n",
       "      <td>$0.99</td>\n",
       "      <td>0</td>\n",
       "      <td>Windows; Linux</td>\n",
       "      <td>11/08/2019</td>\n",
       "      <td>0</td>\n",
       "      <td>1</td>\n",
       "      <td>1</td>\n",
       "      <td>1</td>\n",
       "      <td>21</td>\n",
       "      <td>Single-player; Steam Achievements; Full contro...</td>\n",
       "      <td>Action; Casual; Indie; Racing</td>\n",
       "      <td>2</td>\n",
       "      <td>0</td>\n",
       "      <td>0 .. 20,000</td>\n",
       "      <td>0</td>\n",
       "      <td>0</td>\n",
       "      <td>0</td>\n",
       "      <td>0</td>\n",
       "      <td>99.0</td>\n",
       "      <td>0.0</td>\n",
       "      <td>Action, Casual, Indie, Racing</td>\n",
       "      <td>1</td>\n",
       "      <td>{'Indie': 31, 'Casual': 21, 'Racing': 21, 'Act...</td>\n",
       "    </tr>\n",
       "  </tbody>\n",
       "</table>\n",
       "<p>21729 rows × 27 columns</p>\n",
       "</div>"
      ],
      "text/plain": [
       "                                                    name    appid  \\\n",
       "0                                       Rag Doll Kung Fu     1002   \n",
       "1                                               Darwinia     1500   \n",
       "2                                                 Uplink     1510   \n",
       "3                                                 DEFCON     1520   \n",
       "4                                             Multiwinia     1530   \n",
       "5                                 The Ship: Murder Party     2400   \n",
       "6                                The Ship: Single Player     2420   \n",
       "7                             Gumboy - Crazy Adventures™     2520   \n",
       "8                                  ThreadSpace: Hyperbol     2720   \n",
       "9                        Plants vs. Zombies GOTY Edition     3590   \n",
       "10                                   Poker Superstars II     4100   \n",
       "11                                             RoboBlitz     4300   \n",
       "12                                         Zen of Sudoku     4900   \n",
       "13                                   Natural Selection 2     4920   \n",
       "14                                                 Shank     6120   \n",
       "15                          Nexus - The Jupiter Incident     6420   \n",
       "16                          Geometry Wars: Retro Evolved     8400   \n",
       "17                                                  Gish     9500   \n",
       "18                                     Gumboy Tournament    11230   \n",
       "19                         Space Trader: Merchant Marine    11240   \n",
       "20                         Penguins Arena: Sedna's World    11280   \n",
       "21                                                Obulis    11330   \n",
       "22                                          Larva Mortus    11340   \n",
       "23                PuzzleQuest: Challenge of the Warlords    12500   \n",
       "24                      Ninja Reflex: Steamworks Edition    13000   \n",
       "25                            Harvest: Massive Encounter    15400   \n",
       "26                        The Wonderful End of the World    15500   \n",
       "27          AaAaAA!!! - A Reckless Disregard for Gravity    15520   \n",
       "28     1... 2... 3... KICK IT! (Drop That Beat Like a...    15540   \n",
       "29          AaaaaAAaaaAAAaaAAAAaAAAAA!!! for the Awesome    15560   \n",
       "...                                                  ...      ...   \n",
       "21699                                    Pumpkin Breaker  1177550   \n",
       "21700      Evolution Battle Simulator: Prehistoric Times  1177710   \n",
       "21701                                    Stream Fighters  1177810   \n",
       "21702                                      Shape Cascade  1177820   \n",
       "21703                                          Mass Plus  1177940   \n",
       "21704      Get Me Outta Here - Deluxe/Remastered Edition  1177960   \n",
       "21705                                    Ghost Dimension  1178000   \n",
       "21706                                      Star Fetchers  1178030   \n",
       "21707                                         Picross.io  1178310   \n",
       "21708                                        Resurrector  1178380   \n",
       "21709                 The Source of the Nightmare Storms  1178390   \n",
       "21710                         Oppaidius Tropical Cruise!  1179100   \n",
       "21711                                    Gaijin Troubles  1179220   \n",
       "21712                            PROJECT D : Human Risen  1179280   \n",
       "21713                                        Drift Alone  1179310   \n",
       "21714                                         HAM-MASTER  1179460   \n",
       "21715                   Jazz Lightning : Castle Dungeons  1179570   \n",
       "21716                                            Metrail  1179750   \n",
       "21717                                          DeadShotZ  1180110   \n",
       "21718                                     Windmill Kings  1180420   \n",
       "21719                                           Spaceman  1180690   \n",
       "21720                                      Shooting Star  1180700   \n",
       "21721                                       ImageStriker  1180790   \n",
       "21722                                 Don't Kill the Cow  1180800   \n",
       "21723                                       Phantom Path  1180970   \n",
       "21724                                     UBERMOSH:OMEGA  1181000   \n",
       "21725                                         D3D INSIDE  1181330   \n",
       "21726                                    My Haunted Doll  1181470   \n",
       "21727                               Mr. Hopp's Playhouse  1182370   \n",
       "21728                                      Planet Lander  1183140   \n",
       "\n",
       "                               developers                    publishers  \\\n",
       "0                             Mark Healey                   Mark Healey   \n",
       "1                   Introversion Software         Introversion Software   \n",
       "2                   Introversion Software         Introversion Software   \n",
       "3                   Introversion Software         Introversion Software   \n",
       "4                   Introversion Software         Introversion Software   \n",
       "5                         Outerlight Ltd.          Blazing Griffin Ltd.   \n",
       "6                         Outerlight Ltd.          Blazing Griffin Ltd.   \n",
       "7                         CINEMAX, s.r.o.               CINEMAX, s.r.o.   \n",
       "8                         Iocaine Studios                         Atari   \n",
       "9                      PopCap Games, Inc.            PopCap Games, Inc.   \n",
       "10                              Funkitron                     Funkitron   \n",
       "11                Naked Sky Entertainment       Naked Sky Entertainment   \n",
       "12           Unknown Worlds Entertainment  Unknown Worlds Entertainment   \n",
       "13           Unknown Worlds Entertainment  Unknown Worlds Entertainment   \n",
       "14                     Klei Entertainment            Klei Entertainment   \n",
       "15               Mithis Games; THQ Nordic                    HandyGames   \n",
       "16                      Bizarre Creations                    Activision   \n",
       "17           Cryptic Sea; Edmund McMillen                 Chronic Logic   \n",
       "18                        CINEMAX, s.r.o.               CINEMAX, s.r.o.   \n",
       "19                              Meridian4                     Meridian4   \n",
       "20                               Frogames                      Frogames   \n",
       "21                                  IonFX                     Meridian4   \n",
       "22                              Meridian4                     Meridian4   \n",
       "23                   Infinite Interactive  D3Publisher of America, Inc.   \n",
       "24                          Sanzaru Games                Nunchuck Games   \n",
       "25                      Oxeye Game Studio             Oxeye Game Studio   \n",
       "26                    Dejobaan Games, LLC           Dejobaan Games, LLC   \n",
       "27                    Dejobaan Games, LLC           Dejobaan Games, LLC   \n",
       "28                    Dejobaan Games, LLC           Dejobaan Games, LLC   \n",
       "29     Dejobaan Games, LLC; Owlchemy Labs           Dejobaan Games, LLC   \n",
       "...                                   ...                           ...   \n",
       "21699                               Rumly                         Rumly   \n",
       "21700               Universal Game Studio         Universal Game Studio   \n",
       "21701                Cringe Engine Studio          Cringe Engine Studio   \n",
       "21702                              CarloC                        CarloC   \n",
       "21703                           Gray Sage                     Gray Sage   \n",
       "21704                  Rossman Bros Games            Rossman Bros Games   \n",
       "21705                        Saulo Rosart                  Saulo Rosart   \n",
       "21706                       Svavelstickan                 Svavelstickan   \n",
       "21707                  Alexander Mirgorod            Alexander Kudryavy   \n",
       "21708                              GSGame                Bitlock Studio   \n",
       "21709                             Torvelt                       Torvelt   \n",
       "21710        Vittorio Giorgi (SbargiSoft)  Vittorio Giorgi (SbargiSoft)   \n",
       "21711                       Grim's Studio                 Grim's Studio   \n",
       "21712                            catgames                      catgames   \n",
       "21713                      DiESELmoottori                DiESELmoottori   \n",
       "21714                       STUDIOS MAGMA                 STUDIOS MAGMA   \n",
       "21715                          Kappa Bits                    Kappa Bits   \n",
       "21716                        2-Volt Games                  2-Volt Games   \n",
       "21717                         Indigo Arts    Indigo Arts; Ezero Studios   \n",
       "21718                            Bigosaur                      Bigosaur   \n",
       "21719                           Conmtrast                     Conmtrast   \n",
       "21720                       Studio Inward                 Studio Inward   \n",
       "21721                       TERARIN GAMES                 TERARIN GAMES   \n",
       "21722                  James Earl Cox III            James Earl Cox III   \n",
       "21723                             KEYREAL                       KEYREAL   \n",
       "21724                      Walter Machado                Walter Machado   \n",
       "21725                        Oblom studio              BekkerDev Studio   \n",
       "21726                     Anamik Majumdar               Anamik Majumdar   \n",
       "21727                     Moonbit Studios               Moonbit Studios   \n",
       "21728               Tuwi Michael Nannings                 NanningsGames   \n",
       "\n",
       "       price  is_free            platforms release_date required_age  \\\n",
       "0          0        0              Windows   10/12/2005            0   \n",
       "1          0        0  Windows; Mac; Linux   07/14/2005            0   \n",
       "2      $9.99        0  Windows; Mac; Linux   08/23/2006            0   \n",
       "3      $9.99        0  Windows; Mac; Linux   09/29/2006            0   \n",
       "4      $9.99        0         Windows; Mac   09/19/2008            0   \n",
       "5      $9.99        1              Windows   07/11/2006            0   \n",
       "6          0        0              Windows   11/20/2006            0   \n",
       "7      $4.99        1              Windows   12/19/2006            0   \n",
       "8      $4.99        0              Windows   07/12/2007            0   \n",
       "9      $4.99        0         Windows; Mac   05/05/2009            0   \n",
       "10     $9.99        0              Windows   10/05/2006            0   \n",
       "11     $9.99        0              Windows   11/07/2006            0   \n",
       "12         0        1              Windows   12/14/2006            0   \n",
       "13     $9.99        0              Windows   10/30/2012            0   \n",
       "14     $9.99        0  Windows; Mac; Linux   10/25/2010           17   \n",
       "15     $9.99        0              Windows   07/03/2007            0   \n",
       "16     $3.99        0              Windows   06/18/2007            0   \n",
       "17     $9.99        0         Windows; Mac   07/20/2007            0   \n",
       "18     $2.99        0              Windows   05/19/2008            0   \n",
       "19     $4.99        0              Windows   10/23/2008            0   \n",
       "20     $5.99        0         Windows; Mac   12/18/2008            0   \n",
       "21     $4.99        0              Windows   03/19/2009            0   \n",
       "22     $4.99        0              Windows   03/19/2009            0   \n",
       "23     $9.99        0              Windows   01/29/2008            0   \n",
       "24     $4.99        0              Windows   03/21/2008            0   \n",
       "25     $7.99        0  Windows; Mac; Linux   01/23/2009            0   \n",
       "26     $9.99        0              Windows   07/17/2008            0   \n",
       "27     $9.99        0              Windows   09/03/2009            0   \n",
       "28     $9.99        0              Windows                         0   \n",
       "29     $9.99        0       Windows; Linux   11/23/2011            0   \n",
       "...      ...      ...                  ...          ...          ...   \n",
       "21699      0        0              Windows                         0   \n",
       "21700  $1.99        0              Windows   01/13/2020            0   \n",
       "21701  $0.99        0              Windows   01/07/2020            0   \n",
       "21702  $1.99        0         Windows; Mac   12/05/2019            0   \n",
       "21703  $4.99        0              Windows   11/15/2019            0   \n",
       "21704  $4.99        0              Windows   11/29/2019            0   \n",
       "21705  $1.99        0              Windows   01/17/2020            0   \n",
       "21706      0        1              Windows   01/17/2020            0   \n",
       "21707  $1.99        0              Windows   11/10/2019            0   \n",
       "21708  $0.99        0              Windows   11/25/2019            0   \n",
       "21709  $2.99        0              Windows   10/31/2019            0   \n",
       "21710      0        1  Windows; Mac; Linux   01/16/2020            0   \n",
       "21711  $9.99        0              Windows   02/03/2020            0   \n",
       "21712      0        0              Windows                         0   \n",
       "21713      0        0              Windows                         0   \n",
       "21714  $0.84        0              Windows   11/08/2019            0   \n",
       "21715      0        0              Windows                         0   \n",
       "21716      0        1              Windows   11/02/2019            0   \n",
       "21717  $0.84        0              Windows   11/05/2019            0   \n",
       "21718  $4.99        0              Windows   01/29/2020            0   \n",
       "21719  $0.49        0              Windows   12/31/2019            0   \n",
       "21720  $0.49        0              Windows   02/08/2020            0   \n",
       "21721      0        1              Windows   11/06/2019            0   \n",
       "21722      0        1              Windows   11/07/2019            0   \n",
       "21723      0        0              Windows                         0   \n",
       "21724  $3.49        0              Windows   11/08/2019            0   \n",
       "21725  $1.99        0              Windows   11/06/2019            0   \n",
       "21726  $0.99        0       Windows; Linux   11/22/2019            0   \n",
       "21727      0        1              Windows   11/15/2019            0   \n",
       "21728  $0.99        0       Windows; Linux   11/08/2019            0   \n",
       "\n",
       "       n_languages  n_packages  has_website achievements  \\\n",
       "0                1           1            1            0   \n",
       "1                2           4            1            0   \n",
       "2                1           2            1            0   \n",
       "3                5           3            1           22   \n",
       "4                5           3            1           12   \n",
       "5                8           2            1            0   \n",
       "6                8           1            1            0   \n",
       "7                3           1            1            0   \n",
       "8                1           3            1            0   \n",
       "9                1           1            0           21   \n",
       "10               1           1            0            0   \n",
       "11               9           1            1            0   \n",
       "12               1           0            1            0   \n",
       "13              10           5            1           66   \n",
       "14               1           1            1           12   \n",
       "15               6           2            0            0   \n",
       "16               1           1            1            0   \n",
       "17               1           1            1           11   \n",
       "18               4           1            1            0   \n",
       "19               1           1            1           40   \n",
       "20               1           2            1           10   \n",
       "21               1           1            0           17   \n",
       "22               1           1            1           25   \n",
       "23               1           1            0            0   \n",
       "24               6           1            1           52   \n",
       "25               1           1            1           25   \n",
       "26               1           2            1           11   \n",
       "27               1           2            1            7   \n",
       "28               1           2            1            1   \n",
       "29               1           1            1           10   \n",
       "...            ...         ...          ...          ...   \n",
       "21699            1           0            0            0   \n",
       "21700            1           1            1            0   \n",
       "21701           25           1            0           16   \n",
       "21702            8           1            0           11   \n",
       "21703            1           1            0            0   \n",
       "21704            1           1            1            0   \n",
       "21705            1           1            0           10   \n",
       "21706            1           0            0            0   \n",
       "21707            6           2            0            0   \n",
       "21708            1           1            0            8   \n",
       "21709            1           1            0            0   \n",
       "21710            2           0            0           16   \n",
       "21711            1           1            0            0   \n",
       "21712            1           0            1            0   \n",
       "21713            1           0            1            0   \n",
       "21714            1           1            0            0   \n",
       "21715            1           0            1            0   \n",
       "21716            1           0            1            0   \n",
       "21717            3           1            1           28   \n",
       "21718            6           1            0            8   \n",
       "21719            1           1            0            0   \n",
       "21720            1           1            0            0   \n",
       "21721            1           0            1            8   \n",
       "21722            1           0            1            0   \n",
       "21723            1           0            1            0   \n",
       "21724            1           2            1            6   \n",
       "21725            2           1            0            0   \n",
       "21726            1           1            1            8   \n",
       "21727            1           1            0            0   \n",
       "21728            1           1            1           21   \n",
       "\n",
       "                                              categories  \\\n",
       "0                            Single-player; Multi-player   \n",
       "1                                          Single-player   \n",
       "2                                          Single-player   \n",
       "3                            Single-player; Multi-player   \n",
       "4        Single-player; Multi-player; Steam Achievements   \n",
       "5      Single-player; Multi-player; Steam Trading Car...   \n",
       "6                                          Single-player   \n",
       "7                                          Single-player   \n",
       "8      Single-player; Multi-player; Includes level ed...   \n",
       "9      Single-player; Steam Achievements; Remote Play...   \n",
       "10                                         Single-player   \n",
       "11     Single-player; Partial Controller Support; Inc...   \n",
       "12                                         Single-player   \n",
       "13     Multi-player; PvP; Online PvP; Steam Achieveme...   \n",
       "14     Single-player; Multi-player; Shared/Split Scre...   \n",
       "15     Single-player; Multi-player; Includes level ed...   \n",
       "16     Single-player; Full controller support; Remote...   \n",
       "17     Single-player; Multi-player; Shared/Split Scre...   \n",
       "18                           Single-player; Multi-player   \n",
       "19     Single-player; Multi-player; Co-op; Steam Achi...   \n",
       "20     Single-player; Multi-player; PvP; Online PvP; ...   \n",
       "21                     Single-player; Steam Achievements   \n",
       "22                     Single-player; Steam Achievements   \n",
       "23              Single-player; Multi-player; Steam Cloud   \n",
       "24       Single-player; Multi-player; Steam Achievements   \n",
       "25                     Single-player; Steam Achievements   \n",
       "26     Single-player; Steam Achievements; Partial Con...   \n",
       "27     Single-player; Steam Achievements; Steam Leade...   \n",
       "28     Single-player; Steam Achievements; Steam Tradi...   \n",
       "29     Single-player; Steam Achievements; Full contro...   \n",
       "...                                                  ...   \n",
       "21699                                      Single-player   \n",
       "21700                                      Single-player   \n",
       "21701    Single-player; Multi-player; Steam Achievements   \n",
       "21702  Single-player; Steam Achievements; Partial Con...   \n",
       "21703                  Single-player; Steam Leaderboards   \n",
       "21704  Single-player; Multi-player; Co-op; Shared/Spl...   \n",
       "21705  Single-player; Steam Achievements; Full contro...   \n",
       "21706                                      Single-player   \n",
       "21707                                      Single-player   \n",
       "21708                  Single-player; Steam Achievements   \n",
       "21709                                      Single-player   \n",
       "21710                  Single-player; Steam Achievements   \n",
       "21711          Single-player; Partial Controller Support   \n",
       "21712  Single-player; Multi-player; Co-op; Online Co-...   \n",
       "21713          Single-player; Partial Controller Support   \n",
       "21714             Single-player; Full controller support   \n",
       "21715          Single-player; Partial Controller Support   \n",
       "21716                                      Single-player   \n",
       "21717  Single-player; Steam Achievements; Full contro...   \n",
       "21718  Single-player; Multi-player; PvP; Shared/Split...   \n",
       "21719          Single-player; Partial Controller Support   \n",
       "21720                                      Single-player   \n",
       "21721  Single-player; Steam Achievements; Full contro...   \n",
       "21722                                      Single-player   \n",
       "21723             Single-player; Full controller support   \n",
       "21724  Single-player; Steam Achievements; Full contro...   \n",
       "21725                                      Single-player   \n",
       "21726  Single-player; Steam Achievements; Full contro...   \n",
       "21727          Single-player; Partial Controller Support   \n",
       "21728  Single-player; Steam Achievements; Full contro...   \n",
       "\n",
       "                                                  genres  positive_ratings  \\\n",
       "0                                                  Indie                44   \n",
       "1                                        Indie; Strategy               508   \n",
       "2                                        Indie; Strategy              1725   \n",
       "3                                        Indie; Strategy              2277   \n",
       "4                                                  Indie               394   \n",
       "5                                     Action; Indie; RPG              4916   \n",
       "6                                     Action; Indie; RPG               610   \n",
       "7                                          Casual; Indie                54   \n",
       "8                                Action; Indie; Strategy                32   \n",
       "9                                               Strategy             23334   \n",
       "10                               Casual; Strategy; Indie                 5   \n",
       "11                                         Action; Indie                44   \n",
       "12                                         Casual; Indie               150   \n",
       "13                               Action; Indie; Strategy              9328   \n",
       "14                                         Action; Indie              1976   \n",
       "15                           Indie; Simulation; Strategy               533   \n",
       "16                                                Casual               641   \n",
       "17                              Action; Adventure; Indie               191   \n",
       "18                                 Casual; Indie; Racing               344   \n",
       "19                               Action; Indie; Strategy               307   \n",
       "20                                 Action; Casual; Indie               944   \n",
       "21                                         Casual; Indie               607   \n",
       "22                                         Action; Indie               536   \n",
       "23                                                Casual               609   \n",
       "24                                         Casual; Indie                53   \n",
       "25                                       Strategy; Indie                96   \n",
       "26                                         Casual; Indie               414   \n",
       "27                                 Action; Indie; Sports               562   \n",
       "28                           Action; Indie; Early Access               148   \n",
       "29                                 Action; Indie; Sports               758   \n",
       "...                                                  ...               ...   \n",
       "21699                                      Casual; Indie                 0   \n",
       "21700  Action; Adventure; Casual; Indie; RPG; Simulat...                 2   \n",
       "21701                              Action; Casual; Indie                15   \n",
       "21702                                      Casual; Indie                 4   \n",
       "21703                                      Casual; Indie                 0   \n",
       "21704                           Action; Adventure; Indie                 4   \n",
       "21705           Action; Adventure; Casual; Indie; Racing                 2   \n",
       "21706             Action; Adventure; Free to Play; Indie              1899   \n",
       "21707                                              Indie                 1   \n",
       "21708                                      Action; Indie                 5   \n",
       "21709                                   Adventure; Indie                 0   \n",
       "21710               Adventure; Casual; Indie; Simulation                 0   \n",
       "21711                        Action; Indie; Early Access                13   \n",
       "21712  Action; Adventure; Indie; Simulation; Early Ac...                 0   \n",
       "21713                          Indie; Racing; Simulation                 0   \n",
       "21714                           Adventure; Casual; Indie                 1   \n",
       "21715                                      Action; Indie                 0   \n",
       "21716                                              Indie                 4   \n",
       "21717                              Action; Casual; Indie                 4   \n",
       "21718                            Casual; Indie; Strategy                 6   \n",
       "21719                           Action; Adventure; Indie                 3   \n",
       "21720                                      Casual; Indie                 2   \n",
       "21721                Action; Casual; Free to Play; Indie                25   \n",
       "21722                                              Indie                15   \n",
       "21723                           Adventure; Casual; Indie                 0   \n",
       "21724                                      Action; Indie                77   \n",
       "21725                           Action; Adventure; Indie                30   \n",
       "21726                           Adventure; Casual; Indie                 2   \n",
       "21727                      Free to Play; Indie; Strategy               209   \n",
       "21728                      Action; Casual; Indie; Racing                 2   \n",
       "\n",
       "       negative_ratings                  owners  average_forever  \\\n",
       "0                    18             0 .. 20,000                0   \n",
       "1                   168    500,000 .. 1,000,000                9   \n",
       "2                   162    500,000 .. 1,000,000              280   \n",
       "3                   378    500,000 .. 1,000,000              177   \n",
       "4                    80    500,000 .. 1,000,000               15   \n",
       "5                   811  1,000,000 .. 2,000,000              228   \n",
       "6                   257      100,000 .. 200,000               82   \n",
       "7                    51       50,000 .. 100,000                0   \n",
       "8                    10             0 .. 20,000                0   \n",
       "9                   820  2,000,000 .. 5,000,000             1055   \n",
       "10                    5             0 .. 20,000                0   \n",
       "11                   14        20,000 .. 50,000                0   \n",
       "12                   19             0 .. 20,000              193   \n",
       "13                 1618  1,000,000 .. 2,000,000             2801   \n",
       "14                  247      200,000 .. 500,000              358   \n",
       "15                  106       50,000 .. 100,000               41   \n",
       "16                   64      100,000 .. 200,000               81   \n",
       "17                  119      100,000 .. 200,000                2   \n",
       "18                  142       50,000 .. 100,000                0   \n",
       "19                  316      100,000 .. 200,000               42   \n",
       "20                  134      100,000 .. 200,000              161   \n",
       "21                  137      100,000 .. 200,000              167   \n",
       "22                  163      100,000 .. 200,000              232   \n",
       "23                   89       50,000 .. 100,000              154   \n",
       "24                    4             0 .. 20,000                0   \n",
       "25                   22        20,000 .. 50,000                0   \n",
       "26                  140      100,000 .. 200,000              125   \n",
       "27                  106      100,000 .. 200,000                9   \n",
       "28                  355             0 .. 20,000               21   \n",
       "29                  257      200,000 .. 500,000               21   \n",
       "...                 ...                     ...              ...   \n",
       "21699                 0             0 .. 20,000                0   \n",
       "21700                 4             0 .. 20,000                0   \n",
       "21701                 3             0 .. 20,000                0   \n",
       "21702                 0             0 .. 20,000                0   \n",
       "21703                 0             0 .. 20,000                0   \n",
       "21704                 0             0 .. 20,000                0   \n",
       "21705                 0             0 .. 20,000                0   \n",
       "21706                58      100,000 .. 200,000                0   \n",
       "21707                 0             0 .. 20,000                0   \n",
       "21708                 2             0 .. 20,000                0   \n",
       "21709                 0             0 .. 20,000                0   \n",
       "21710                 0             0 .. 20,000                0   \n",
       "21711                 1             0 .. 20,000                0   \n",
       "21712                 0             0 .. 20,000                0   \n",
       "21713                 0             0 .. 20,000                0   \n",
       "21714                 0             0 .. 20,000                0   \n",
       "21715                 0             0 .. 20,000                0   \n",
       "21716                 1             0 .. 20,000                0   \n",
       "21717                 0             0 .. 20,000                0   \n",
       "21718                 5             0 .. 20,000                0   \n",
       "21719                 0             0 .. 20,000                0   \n",
       "21720                 0             0 .. 20,000                0   \n",
       "21721                 2             0 .. 20,000                0   \n",
       "21722                 4             0 .. 20,000                0   \n",
       "21723                 0             0 .. 20,000                0   \n",
       "21724                 0             0 .. 20,000                0   \n",
       "21725                 4             0 .. 20,000                0   \n",
       "21726                 1             0 .. 20,000                0   \n",
       "21727                15        20,000 .. 50,000                0   \n",
       "21728                 0             0 .. 20,000                0   \n",
       "\n",
       "       average_2weeks  median_forever  median_2weeks  initialprice  discount  \\\n",
       "0                   0               0              0         999.0       0.0   \n",
       "1                   0              13              0         999.0       0.0   \n",
       "2                   0             119              0         999.0       0.0   \n",
       "3                 140             124            140         999.0       0.0   \n",
       "4                   0              17              0         999.0       0.0   \n",
       "5                   0             246              0         999.0       0.0   \n",
       "6                   0              51              0         999.0       0.0   \n",
       "7                   0               0              0         499.0       0.0   \n",
       "8                   0               0              0         499.0       0.0   \n",
       "9                 184             515            267         499.0       0.0   \n",
       "10                  0               0              0         999.0       0.0   \n",
       "11                  0               0              0         999.0       0.0   \n",
       "12                  0             381              0           0.0       0.0   \n",
       "13                  1             176              1         999.0       0.0   \n",
       "14                  0             363              0         999.0       0.0   \n",
       "15                  0              41              0         999.0       0.0   \n",
       "16                  0              82              0         399.0       0.0   \n",
       "17                  0               2              0         999.0       0.0   \n",
       "18                  0               0              0         299.0       0.0   \n",
       "19                  0              63              0         499.0       0.0   \n",
       "20                  0             193              0         599.0       0.0   \n",
       "21                  0             174              0         499.0       0.0   \n",
       "22                  0             232              0         499.0       0.0   \n",
       "23                  0             242              0         999.0       0.0   \n",
       "24                  0               0              0         499.0       0.0   \n",
       "25                  0               0              0         799.0       0.0   \n",
       "26                  0             149              0         999.0       0.0   \n",
       "27                  0              10              0         999.0       0.0   \n",
       "28                  0              21              0         999.0       0.0   \n",
       "29                  0              32              0         999.0       0.0   \n",
       "...               ...             ...            ...           ...       ...   \n",
       "21699               0               0              0           0.0       0.0   \n",
       "21700               0               0              0         199.0       0.0   \n",
       "21701               0               0              0          99.0       0.0   \n",
       "21702               0               0              0         199.0       0.0   \n",
       "21703               0               0              0         499.0       0.0   \n",
       "21704               0               0              0         499.0       0.0   \n",
       "21705               0               0              0         199.0       0.0   \n",
       "21706               0               0              0           0.0       0.0   \n",
       "21707               0               0              0         199.0       0.0   \n",
       "21708               0               0              0          99.0       0.0   \n",
       "21709               0               0              0         299.0       0.0   \n",
       "21710               0               0              0           0.0       0.0   \n",
       "21711               0               0              0         999.0       0.0   \n",
       "21712               0               0              0           0.0       0.0   \n",
       "21713               0               0              0           0.0       0.0   \n",
       "21714               0               0              0          99.0      15.0   \n",
       "21715               0               0              0           0.0       0.0   \n",
       "21716               0               0              0           0.0       0.0   \n",
       "21717               0               0              0          99.0       0.0   \n",
       "21718               0               0              0         499.0       0.0   \n",
       "21719               0               0              0          99.0      51.0   \n",
       "21720               0               0              0          99.0      51.0   \n",
       "21721               0               0              0           0.0       0.0   \n",
       "21722               0               0              0           0.0       0.0   \n",
       "21723               0               0              0           0.0       0.0   \n",
       "21724               0               0              0         499.0      30.0   \n",
       "21725               0               0              0         199.0       0.0   \n",
       "21726               0               0              0          99.0       0.0   \n",
       "21727               0               0              0           0.0       0.0   \n",
       "21728               0               0              0          99.0       0.0   \n",
       "\n",
       "                                                   genre   ccu  \\\n",
       "0                                                  Indie     0   \n",
       "1                                        Indie, Strategy     5   \n",
       "2                                        Indie, Strategy    12   \n",
       "3                                        Indie, Strategy    23   \n",
       "4                                                  Indie     1   \n",
       "5                                     Action, Indie, RPG    15   \n",
       "6                                     Action, Indie, RPG     2   \n",
       "7                                          Casual, Indie     0   \n",
       "8                                Action, Indie, Strategy     1   \n",
       "9                                               Strategy  9093   \n",
       "10                               Casual, Strategy, Indie     1   \n",
       "11                                         Action, Indie     0   \n",
       "12                                         Casual, Indie    11   \n",
       "13                               Action, Indie, Strategy   236   \n",
       "14                                         Action, Indie     5   \n",
       "15                           Indie, Simulation, Strategy    10   \n",
       "16                                                Casual     2   \n",
       "17                              Action, Adventure, Indie     2   \n",
       "18                                 Casual, Indie, Racing     0   \n",
       "19                               Action, Indie, Strategy     0   \n",
       "20                                 Action, Casual, Indie     2   \n",
       "21                                         Casual, Indie     0   \n",
       "22                                         Action, Indie     1   \n",
       "23                                                Casual    26   \n",
       "24                                         Casual, Indie     0   \n",
       "25                                       Strategy, Indie     1   \n",
       "26                                         Casual, Indie     1   \n",
       "27                                 Action, Indie, Sports     0   \n",
       "28                           Action, Indie, Early Access     0   \n",
       "29                                 Action, Indie, Sports     2   \n",
       "...                                                  ...   ...   \n",
       "21699                                      Casual, Indie     0   \n",
       "21700  Action, Adventure, Casual, Indie, RPG, Simulat...     0   \n",
       "21701                              Action, Casual, Indie     0   \n",
       "21702                                      Casual, Indie     0   \n",
       "21703                                      Casual, Indie     0   \n",
       "21704                           Action, Adventure, Indie     0   \n",
       "21705           Action, Adventure, Casual, Indie, Racing     1   \n",
       "21706             Action, Adventure, Free to Play, Indie    21   \n",
       "21707                                              Indie     2   \n",
       "21708                                      Action, Indie     0   \n",
       "21709                                   Adventure, Indie     0   \n",
       "21710               Adventure, Casual, Indie, Simulation     1   \n",
       "21711                        Action, Indie, Early Access     0   \n",
       "21712  Action, Adventure, Indie, Simulation, Early Ac...     0   \n",
       "21713                          Indie, Racing, Simulation     0   \n",
       "21714                           Adventure, Casual, Indie     0   \n",
       "21715                                      Action, Indie     0   \n",
       "21716                                              Indie     0   \n",
       "21717                              Action, Casual, Indie     0   \n",
       "21718                            Casual, Indie, Strategy     1   \n",
       "21719                           Action, Adventure, Indie     0   \n",
       "21720                                      Casual, Indie     0   \n",
       "21721                Action, Casual, Free to Play, Indie     1   \n",
       "21722                                              Indie     0   \n",
       "21723                           Adventure, Casual, Indie     0   \n",
       "21724                                      Action, Indie     0   \n",
       "21725                           Action, Adventure, Indie     0   \n",
       "21726                           Adventure, Casual, Indie     0   \n",
       "21727                      Free to Play, Indie, Strategy     8   \n",
       "21728                      Action, Casual, Indie, Racing     1   \n",
       "\n",
       "                                                    tags  \n",
       "0      {'2D Fighter': 45, 'Martial Arts': 39, 'Multip...  \n",
       "1      {'Strategy': 109, 'Indie': 90, 'RTS': 62, 'Sin...  \n",
       "2      {'Hacking': 209, 'Indie': 145, 'Strategy': 132...  \n",
       "3      {'Strategy': 241, 'Indie': 150, 'Wargame': 107...  \n",
       "4      {'Indie': 56, 'RTS': 34, 'Strategy': 32, 'Mult...  \n",
       "5      {'Multiplayer': 370, 'Indie': 171, 'First-Pers...  \n",
       "6      {'Action': 338, 'Indie': 49, 'RPG': 39, 'Singl...  \n",
       "7      {'Casual': 36, 'Indie': 32, 'Physics': 28, 'Ac...  \n",
       "8      {'Multiplayer': 29, 'Action': 26, 'Strategy': ...  \n",
       "9      {'Tower Defense': 1024, 'Zombies': 900, 'Strat...  \n",
       "10     {'Strategy': 20, 'Indie': 20, 'Casual': 20, 'C...  \n",
       "11     {'Action': 29, 'Indie': 29, 'Puzzle': 9, 'Phys...  \n",
       "12     {'Casual': 30, 'Indie': 25, 'Puzzle': 13, 'Fre...  \n",
       "13     {'Multiplayer': 609, 'Strategy': 579, 'FPS': 5...  \n",
       "14     {'Action': 128, 'Indie': 95, \"Beat 'em up\": 95...  \n",
       "15     {'Strategy': 67, 'Space': 56, 'Sci-fi': 45, 'S...  \n",
       "16     {'Arcade': 64, 'Twin Stick Shooter': 53, 'Casu...  \n",
       "17     {'Indie': 175, 'Action': 67, 'Adventure': 66, ...  \n",
       "18     {'Indie': 43, 'Casual': 38, 'Racing': 33, 'Mul...  \n",
       "19     {'Action': 72, 'Indie': 50, 'Space': 49, 'Stra...  \n",
       "20     {'Action': 42, 'Casual': 40, 'Indie': 39, 'Mul...  \n",
       "21     {'Puzzle': 77, 'Casual': 62, 'Indie': 50, 'Phy...  \n",
       "22     {'Action': 71, 'Indie': 63, 'Top-Down': 31, 'H...  \n",
       "23     {'Puzzle': 111, 'Match 3': 96, 'Casual': 90, '...  \n",
       "24               {'Indie': 20, 'Casual': 20, 'Ninja': 5}  \n",
       "25     {'Strategy': 37, 'Indie': 34, 'Tower Defense':...  \n",
       "26     {'Indie': 74, 'Casual': 63, 'Action': 39, 'Sin...  \n",
       "27     {'Action': 65, 'Indie': 63, 'First-Person': 49...  \n",
       "28     {'Indie': 58, 'Music': 50, 'Action': 39, 'Earl...  \n",
       "29     {'Indie': 110, 'Action': 90, 'First-Person': 7...  \n",
       "...                                                  ...  \n",
       "21699                                                 []  \n",
       "21700  {'Action': 31, 'Indie': 31, 'Casual': 31, 'Sim...  \n",
       "21701  {'Indie': 36, 'Violent': 33, 'Action': 32, 'Ca...  \n",
       "21702  {'Casual': 32, 'Indie': 31, 'Arcade': 12, '2D'...  \n",
       "21703                                                 []  \n",
       "21704       {'Action': 21, 'Indie': 21, 'Adventure': 20}  \n",
       "21705  {'Action': 56, 'Indie': 56, 'Casual': 56, 'Adv...  \n",
       "21706  {'Indie': 124, 'Action': 119, 'Adventure': 111...  \n",
       "21707  {'Indie': 31, 'Puzzle': 12, 'Casual': 11, 'Sin...  \n",
       "21708                        {'Action': 24, 'Indie': 24}  \n",
       "21709                                                 []  \n",
       "21710                                                 []  \n",
       "21711  {'Sexual Content': 34, 'Action': 32, 'Indie': ...  \n",
       "21712                                                 []  \n",
       "21713                                                 []  \n",
       "21714  {'Indie': 31, 'Casual': 31, 'Adventure': 30, '...  \n",
       "21715                                                 []  \n",
       "21716                                      {'Indie': 31}  \n",
       "21717  {'Action': 41, 'Indie': 41, 'Casual': 41, '2D'...  \n",
       "21718  {'Casual': 32, 'Strategy': 32, 'Indie': 31, 'G...  \n",
       "21719  {'Action': 106, 'Indie': 106, 'Adventure': 105...  \n",
       "21720  {'Casual': 31, 'Indie': 31, 'Runner': 12, 'Add...  \n",
       "21721  {'Action': 24, 'Free to Play': 24, 'Indie': 21...  \n",
       "21722  {'Indie': 32, 'Free to Play': 12, 'Short': 11,...  \n",
       "21723                                                 []  \n",
       "21724  {'Action': 32, 'Indie': 32, 'Pixel Graphics': ...  \n",
       "21725  {'Action': 22, 'Adventure': 22, 'Indie': 22, '...  \n",
       "21726  {'Indie': 21, 'Casual': 21, 'Adventure': 21, '...  \n",
       "21727  {'Free to Play': 27, 'Indie': 25, 'Horror': 23...  \n",
       "21728  {'Indie': 31, 'Casual': 21, 'Racing': 21, 'Act...  \n",
       "\n",
       "[21729 rows x 27 columns]"
      ]
     },
     "execution_count": 407,
     "metadata": {},
     "output_type": "execute_result"
    }
   ],
   "source": [
    "data_full"
   ]
  },
  {
   "cell_type": "code",
   "execution_count": null,
   "metadata": {},
   "outputs": [],
   "source": []
  },
  {
   "cell_type": "code",
   "execution_count": 58,
   "metadata": {},
   "outputs": [],
   "source": [
    "import sqlite3\n",
    "from sqlite3 import Error"
   ]
  },
  {
   "cell_type": "code",
   "execution_count": 68,
   "metadata": {},
   "outputs": [],
   "source": [
    "def create_connection(db_file):\n",
    "    \"\"\" create a database connection to a SQLite database \"\"\"\n",
    "    conn = None\n",
    "    try:\n",
    "        conn = sqlite3.connect(db_file)\n",
    "        print(sqlite3.version)\n",
    "    except Error as e:\n",
    "        print(e)\n",
    "    finally:\n",
    "        if conn:\n",
    "            conn.close()"
   ]
  },
  {
   "cell_type": "code",
   "execution_count": 67,
   "metadata": {},
   "outputs": [],
   "source": [
    "#con = sqlite3.connect(\"data/data_steam.sqlite\")\n",
    "#cursor = con.cursor()\n",
    "#data_steam.to_sql('data_steam', con=con)"
   ]
  }
 ],
 "metadata": {
  "kernelspec": {
   "display_name": "Python 3",
   "language": "python",
   "name": "python3"
  },
  "language_info": {
   "codemirror_mode": {
    "name": "ipython",
    "version": 3
   },
   "file_extension": ".py",
   "mimetype": "text/x-python",
   "name": "python",
   "nbconvert_exporter": "python",
   "pygments_lexer": "ipython3",
   "version": "3.7.1"
  }
 },
 "nbformat": 4,
 "nbformat_minor": 2
}
