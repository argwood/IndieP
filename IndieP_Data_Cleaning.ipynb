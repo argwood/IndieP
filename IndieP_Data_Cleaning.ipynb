{
 "cells": [
  {
   "cell_type": "markdown",
   "metadata": {},
   "source": [
    "# IndieP: Predicting the Success of Indie Games on Steam"
   ]
  },
  {
   "cell_type": "markdown",
   "metadata": {},
   "source": [
    "# Part 2: Data Cleaning"
   ]
  },
  {
   "cell_type": "markdown",
   "metadata": {},
   "source": [
    "<div align=\"center\"><img src=\"./data_cleaning.jpeg\", title=\"Image from becominghuman.ai\", width=\"50%\"/></div>"
   ]
  },
  {
   "cell_type": "markdown",
   "metadata": {},
   "source": [
    "In [Part 1](https://github.com/argwood/IndieP/blob/master/IndieP_Data_Collection.ipynb) of this project, we collected a dataset of roughly 22,700 Indie Games including information about the games themselves, collected using the Steam Storefront API, as well as popularity data such as ratings and number of users, collected using the SteamSpy API. The data we collected so far, however, is a bit of a mess and in no way suited for data exploration let alone any machine learning algorithms. We have columns with missing data, columns with json objects embedded inside of them, columns of long markdown text, different ways of handling missing data (0's versus NaNs), and more. Thus, the process of cleaning up our data to be usable and look presentable will be crucial to the next phases of this project. \n",
    "\n",
    "As a number of Steam game datasets exist already on [Kaggle](https://www.kaggle.com/nikdavis/steam-store-games), I tried not to be influenced by their decisions on how each clean feature should look - though of course, in many places, there's only one \"best\" way to do things."
   ]
  },
  {
   "cell_type": "markdown",
   "metadata": {},
   "source": [
    "## 2. Data Cleaning"
   ]
  },
  {
   "cell_type": "markdown",
   "metadata": {},
   "source": [
    "**The goal of the second part of this project is to take the messy datasets we created in Part 1, and transform them into one dataset that is presentable, usable, easy to read, and contains only the columns that we are interested in for the later stages of the project.** As mentioned previously, we ultimately want to discover what features have the greatest effect on the success of a game, and thus the features we will focus on include qualities of the games themselves (price, genres, game descriptions, number of achievements, etc), and metrics that may be useful for quantifying sucess, such as ratings, number of users, and number of copies purchased. \n",
    "\n",
    "We will begin this part of the project by taking a look at the data we collected, and making sure our list of AppIDs matches the AppIDs in the full dataset (ensuring we didn't miss any or make any API requests twice, when collecting the data). We will decide how to handle the AppIDs that weren't found by the API, and then investigate other missing data. From here, we will perform transformations on the columns that are messy or have mixed datatypes, and then finally combine the two datasets from the Steam API and SteamSpy API into one table. In Part 4, we will apply some final data transformations on alphanumerical features to prepare them for input to machine learning algorithms, but otherwise at the end of this section we will obtain our final dataset to be used for the remainder of this project."
   ]
  },
  {
   "cell_type": "markdown",
   "metadata": {},
   "source": [
    "In general, for data cleaning, we'll want to consider how to deal with the following types of scenarios:\n",
    "1. **Missing Values:** We can either choose to remove full columns (features) with too much missing data, remove full rows (games) with too much missing data, or fill the data in by using averages or regression. We can also transform columns with a lot of missing data into `Yes/No` columns indicating whether this feature exists (we will do this for DLC/packages, later) \n",
    "2. **Special Values:** Make sure that special characters such as infinity, NA and NaN are handled uniformly and won't be part of any future calculations upon those features. Additionally, we'll make sure all prices are formatted uniformly.\n",
    "3. **Text Formatting:** Remove messy markdown text from features that include long pieces of text. We'll also reformat columns of json objects into cleaner lists.\n",
    "4. **Outliers**: Check for outliers, and decide based on the feature, type, etc, if they should be kept or removed.\n",
    "5. **Inconsistencies**: Look for inconsistencies such as negative prices, release dates in the future but `coming_soon` listed as false, `is_free` listed as true but a price provided in `price_overview`, etc. "
   ]
  },
  {
   "cell_type": "markdown",
   "metadata": {},
   "source": [
    "### 2.0 Useful Resources for Data Cleaning"
   ]
  },
  {
   "cell_type": "markdown",
   "metadata": {},
   "source": [
    "Most of my knowledge of data cleaning comes from a class I took at the University of Chicago, but here are some additional resources I used for Part 2 of this project."
   ]
  },
  {
   "cell_type": "markdown",
   "metadata": {},
   "source": [
    "1. Intro to Data Engineering - University of Chicago, Dept. of Computer Science (2019)\n",
    "2. [The Ultimate Guide to Data Cleaning](https://towardsdatascience.com/the-ultimate-guide-to-data-cleaning-3969843991d4)\n",
    "3. [Daniel Bourke's Guide to Exploratory Data Analysis](https://towardsdatascience.com/a-gentle-introduction-to-exploratory-data-analysis-f11d843b8184)\n",
    "3. [Becoming Human: AI Article on Data Cleaning](https://becominghuman.ai/day-7-data-cleaning-all-that-you-need-to-know-about-it-23b05738abe7)\n",
    "4. [Data Science Workbook by Daniel Martinez](https://github.com/dformoso/sklearn-classification/blob/master/Data%20Science%20Workbook%20-%20Census%20Income%20Dataset.ipynb)"
   ]
  },
  {
   "cell_type": "markdown",
   "metadata": {},
   "source": [
    "### 2.1 Initial Investigation of Missing Data for Steam Dataset"
   ]
  },
  {
   "cell_type": "code",
   "execution_count": 72,
   "metadata": {},
   "outputs": [],
   "source": [
    "import csv\n",
    "import os\n",
    "\n",
    "import pandas as pd\n",
    "import numpy as np\n",
    "import matplotlib.pyplot as plt\n",
    "import seaborn as sns\n",
    "import missingno\n",
    "\n",
    "pd.set_option(\"max_columns\", 1000)"
   ]
  },
  {
   "cell_type": "markdown",
   "metadata": {},
   "source": [
    "We can start by taking a look at the first few rows of both datasets, to get a feel for what we're dealing with. Even in the first few rows, we can see missing data, messy markdown and html formatting, and json objects embedded inside columns. After seeing how much data we're missing, we'll then go column-by-column to clean up each of these issues."
   ]
  },
  {
   "cell_type": "code",
   "execution_count": 30,
   "metadata": {},
   "outputs": [],
   "source": [
    "data_steam = pd.read_csv('./data/steam_data.csv')\n",
    "data_steamspy = pd.read_csv('./data/steamspy_data.csv')"
   ]
  },
  {
   "cell_type": "code",
   "execution_count": 31,
   "metadata": {},
   "outputs": [
    {
     "data": {
      "text/html": [
       "<div>\n",
       "<style scoped>\n",
       "    .dataframe tbody tr th:only-of-type {\n",
       "        vertical-align: middle;\n",
       "    }\n",
       "\n",
       "    .dataframe tbody tr th {\n",
       "        vertical-align: top;\n",
       "    }\n",
       "\n",
       "    .dataframe thead th {\n",
       "        text-align: right;\n",
       "    }\n",
       "</style>\n",
       "<table border=\"1\" class=\"dataframe\">\n",
       "  <thead>\n",
       "    <tr style=\"text-align: right;\">\n",
       "      <th></th>\n",
       "      <th>type</th>\n",
       "      <th>name</th>\n",
       "      <th>steam_appid</th>\n",
       "      <th>required_age</th>\n",
       "      <th>is_free</th>\n",
       "      <th>about_the_game</th>\n",
       "      <th>short_description</th>\n",
       "      <th>supported_languages</th>\n",
       "      <th>header_image</th>\n",
       "      <th>website</th>\n",
       "      <th>developers</th>\n",
       "      <th>publishers</th>\n",
       "      <th>price_overview</th>\n",
       "      <th>packages</th>\n",
       "      <th>package_groups</th>\n",
       "      <th>platforms</th>\n",
       "      <th>categories</th>\n",
       "      <th>genres</th>\n",
       "      <th>screenshots</th>\n",
       "      <th>movies</th>\n",
       "      <th>achievements</th>\n",
       "      <th>release_date</th>\n",
       "      <th>background</th>\n",
       "      <th>content_descriptors</th>\n",
       "    </tr>\n",
       "  </thead>\n",
       "  <tbody>\n",
       "    <tr>\n",
       "      <th>0</th>\n",
       "      <td>game</td>\n",
       "      <td>***</td>\n",
       "      <td>1034230</td>\n",
       "      <td>0.0</td>\n",
       "      <td>False</td>\n",
       "      <td>*** is a small game.&lt;br /&gt;\\r\\nIt is easy to pl...</td>\n",
       "      <td>*** is a small game. It is easy to play,hope y...</td>\n",
       "      <td>English&lt;strong&gt;*&lt;/strong&gt;, French&lt;strong&gt;*&lt;/st...</td>\n",
       "      <td>https://steamcdn-a.akamaihd.net/steam/apps/103...</td>\n",
       "      <td>NaN</td>\n",
       "      <td>['Kenshin Game Studio']</td>\n",
       "      <td>['Kenshin Game Studio']</td>\n",
       "      <td>{'currency': 'USD', 'initial': 99, 'final': 99...</td>\n",
       "      <td>[344162]</td>\n",
       "      <td>[{'name': 'default', 'title': 'Buy ***', 'desc...</td>\n",
       "      <td>{'windows': True, 'mac': False, 'linux': False}</td>\n",
       "      <td>[{'id': 2, 'description': 'Single-player'}]</td>\n",
       "      <td>[{'id': '4', 'description': 'Casual'}, {'id': ...</td>\n",
       "      <td>[{'id': 0, 'path_thumbnail': 'https://steamcdn...</td>\n",
       "      <td>[{'id': 256744684, 'name': 'V0.3', 'thumbnail'...</td>\n",
       "      <td>NaN</td>\n",
       "      <td>{'coming_soon': False, 'date': 'Mar 17, 2019'}</td>\n",
       "      <td>https://steamcdn-a.akamaihd.net/steam/apps/103...</td>\n",
       "      <td>{'ids': [], 'notes': None}</td>\n",
       "    </tr>\n",
       "    <tr>\n",
       "      <th>1</th>\n",
       "      <td>game</td>\n",
       "      <td>- Arcane Raise -</td>\n",
       "      <td>603750</td>\n",
       "      <td>0.0</td>\n",
       "      <td>False</td>\n",
       "      <td>&lt;img src=\"https://steamcdn-a.akamaihd.net/stea...</td>\n",
       "      <td>Arcane Raise is a role-playing video game fran...</td>\n",
       "      <td>English&lt;strong&gt;*&lt;/strong&gt;&lt;br&gt;&lt;strong&gt;*&lt;/strong...</td>\n",
       "      <td>https://steamcdn-a.akamaihd.net/steam/apps/603...</td>\n",
       "      <td>NaN</td>\n",
       "      <td>['Arcane Raise']</td>\n",
       "      <td>['WAX Publishing']</td>\n",
       "      <td>{'currency': 'USD', 'initial': 299, 'final': 2...</td>\n",
       "      <td>[158866]</td>\n",
       "      <td>[{'name': 'default', 'title': 'Buy - Arcane Ra...</td>\n",
       "      <td>{'windows': True, 'mac': True, 'linux': True}</td>\n",
       "      <td>[{'id': 2, 'description': 'Single-player'}, {'...</td>\n",
       "      <td>[{'id': '25', 'description': 'Adventure'}, {'i...</td>\n",
       "      <td>[{'id': 0, 'path_thumbnail': 'https://steamcdn...</td>\n",
       "      <td>[{'id': 256680620, 'name': 'Arcane Raise - Lau...</td>\n",
       "      <td>{'total': 37, 'highlighted': [{'name': 'Letter...</td>\n",
       "      <td>{'coming_soon': False, 'date': 'Mar 10, 2017'}</td>\n",
       "      <td>https://steamcdn-a.akamaihd.net/steam/apps/603...</td>\n",
       "      <td>{'ids': [], 'notes': None}</td>\n",
       "    </tr>\n",
       "  </tbody>\n",
       "</table>\n",
       "</div>"
      ],
      "text/plain": [
       "   type              name  steam_appid  required_age is_free  \\\n",
       "0  game               ***      1034230           0.0   False   \n",
       "1  game  - Arcane Raise -       603750           0.0   False   \n",
       "\n",
       "                                      about_the_game  \\\n",
       "0  *** is a small game.<br />\\r\\nIt is easy to pl...   \n",
       "1  <img src=\"https://steamcdn-a.akamaihd.net/stea...   \n",
       "\n",
       "                                   short_description  \\\n",
       "0  *** is a small game. It is easy to play,hope y...   \n",
       "1  Arcane Raise is a role-playing video game fran...   \n",
       "\n",
       "                                 supported_languages  \\\n",
       "0  English<strong>*</strong>, French<strong>*</st...   \n",
       "1  English<strong>*</strong><br><strong>*</strong...   \n",
       "\n",
       "                                        header_image website  \\\n",
       "0  https://steamcdn-a.akamaihd.net/steam/apps/103...     NaN   \n",
       "1  https://steamcdn-a.akamaihd.net/steam/apps/603...     NaN   \n",
       "\n",
       "                developers               publishers  \\\n",
       "0  ['Kenshin Game Studio']  ['Kenshin Game Studio']   \n",
       "1         ['Arcane Raise']       ['WAX Publishing']   \n",
       "\n",
       "                                      price_overview  packages  \\\n",
       "0  {'currency': 'USD', 'initial': 99, 'final': 99...  [344162]   \n",
       "1  {'currency': 'USD', 'initial': 299, 'final': 2...  [158866]   \n",
       "\n",
       "                                      package_groups  \\\n",
       "0  [{'name': 'default', 'title': 'Buy ***', 'desc...   \n",
       "1  [{'name': 'default', 'title': 'Buy - Arcane Ra...   \n",
       "\n",
       "                                         platforms  \\\n",
       "0  {'windows': True, 'mac': False, 'linux': False}   \n",
       "1    {'windows': True, 'mac': True, 'linux': True}   \n",
       "\n",
       "                                          categories  \\\n",
       "0        [{'id': 2, 'description': 'Single-player'}]   \n",
       "1  [{'id': 2, 'description': 'Single-player'}, {'...   \n",
       "\n",
       "                                              genres  \\\n",
       "0  [{'id': '4', 'description': 'Casual'}, {'id': ...   \n",
       "1  [{'id': '25', 'description': 'Adventure'}, {'i...   \n",
       "\n",
       "                                         screenshots  \\\n",
       "0  [{'id': 0, 'path_thumbnail': 'https://steamcdn...   \n",
       "1  [{'id': 0, 'path_thumbnail': 'https://steamcdn...   \n",
       "\n",
       "                                              movies  \\\n",
       "0  [{'id': 256744684, 'name': 'V0.3', 'thumbnail'...   \n",
       "1  [{'id': 256680620, 'name': 'Arcane Raise - Lau...   \n",
       "\n",
       "                                        achievements  \\\n",
       "0                                                NaN   \n",
       "1  {'total': 37, 'highlighted': [{'name': 'Letter...   \n",
       "\n",
       "                                     release_date  \\\n",
       "0  {'coming_soon': False, 'date': 'Mar 17, 2019'}   \n",
       "1  {'coming_soon': False, 'date': 'Mar 10, 2017'}   \n",
       "\n",
       "                                          background  \\\n",
       "0  https://steamcdn-a.akamaihd.net/steam/apps/103...   \n",
       "1  https://steamcdn-a.akamaihd.net/steam/apps/603...   \n",
       "\n",
       "          content_descriptors  \n",
       "0  {'ids': [], 'notes': None}  \n",
       "1  {'ids': [], 'notes': None}  "
      ]
     },
     "execution_count": 31,
     "metadata": {},
     "output_type": "execute_result"
    }
   ],
   "source": [
    "data_steam.head(2)"
   ]
  },
  {
   "cell_type": "markdown",
   "metadata": {},
   "source": [
    "As the first step to dealing with missing data, the's a really nice python package called Missingno that lets you visualize how many missing data points are in each column of data:"
   ]
  },
  {
   "cell_type": "code",
   "execution_count": 33,
   "metadata": {
    "scrolled": true
   },
   "outputs": [
    {
     "data": {
      "text/plain": [
       "<matplotlib.axes._subplots.AxesSubplot at 0x1269a4bf198>"
      ]
     },
     "execution_count": 33,
     "metadata": {},
     "output_type": "execute_result"
    },
    {
     "data": {
      "image/png": "[encoded data removed]",
      "text/plain": [
       "<Figure size 2160x360 with 2 Axes>"
      ]
     },
     "metadata": {
      "needs_background": "light"
     },
     "output_type": "display_data"
    }
   ],
   "source": [
    "missingno.matrix(data_steam, figsize = (30,5))"
   ]
  },
  {
   "cell_type": "markdown",
   "metadata": {},
   "source": [
    "The black areas represent existing data, while the white is data that is missing. We can see right off the bat the the columns `website`, `price_overview`, `packages`, and `achievements` have the most missing values.`Movies` has some data missing as well. On the contrary, `steam_appid` has no missing values, since we guaranteed this column to be filled in during our data collection. The full rows with missing data (apart from `steam_appid`) are likely Steam API requests that came back with no result, and thus only the `steam_appid` was entered.\n",
    "\n",
    "**We need to decide whether or not to keep the sparse columns and rows:** at first glance, `website` might not influence the success of a game, although one could argue that having better marketing and internet presence would make a game better-known. `Price_overview` is likely sparse due to the fact that free games have this column blank - we definitely want to keep this column, but will need to transform it to take into account the free games. `Packages` provides AppIDs for any DLC or additional media, if present, and is blank if there is none - we want to keep this as well, although it's less important than the pricing, because perhaps games with more content are more popular. However, we aren't interested in the exact AppIDs for the packages, so we'll transform this column later into a simple \"Yes/No\" column. We'll do something similar for `achievements`, which specifies the number of achievements each game has, and fill in the missing values with 0's (i.e., no achievements).  \n",
    "\n",
    "For now, let's keep all of the columns except for `movies`, which probably isn't too useful, and we aren't planning to do in-depth image analysis with movies (we may for the still images, though)."
   ]
  },
  {
   "cell_type": "code",
   "execution_count": 34,
   "metadata": {},
   "outputs": [],
   "source": [
    "cols_to_delete = ['movies']\n",
    "data_steam.drop(columns=cols_to_delete, inplace=True)"
   ]
  },
  {
   "cell_type": "markdown",
   "metadata": {},
   "source": [
    "Next, we want to remove all of the rows of AppIDs that were not found by the Steam API - since this is only a small portion of our dataset, it shouldn't be a problem to just get rid of them rather than try to find out why they failed the API requests. We can keep a list of the AppIDs we're deleting, in case we want to investigate later to get more data. \n",
    "\n",
    "The easiest way to take care of this is to remove all rows where `type` is blank. While we're at it, we want to remove any \"non-game\" apps that accidentally slipped through our filters (turns out, there's one soundtrack and two DLCs that we don't want)."
   ]
  },
  {
   "cell_type": "code",
   "execution_count": 35,
   "metadata": {},
   "outputs": [
    {
     "data": {
      "text/plain": [
       "game     21967\n",
       "NaN        725\n",
       "dlc          2\n",
       "music        1\n",
       "Name: type, dtype: int64"
      ]
     },
     "execution_count": 35,
     "metadata": {},
     "output_type": "execute_result"
    }
   ],
   "source": [
    "data_steam['type'].value_counts(dropna=False)"
   ]
  },
  {
   "cell_type": "code",
   "execution_count": 36,
   "metadata": {},
   "outputs": [
    {
     "name": "stdout",
     "output_type": "stream",
     "text": [
      "Number of blank rows to remove: 725\n"
     ]
    },
    {
     "data": {
      "text/plain": [
       "36    628340\n",
       "58    951090\n",
       "81    841860\n",
       "Name: steam_appid, dtype: int64"
      ]
     },
     "execution_count": 36,
     "metadata": {},
     "output_type": "execute_result"
    }
   ],
   "source": [
    "print('Number of blank rows to remove:', data_steam[data_steam['type'].isnull()].shape[0])\n",
    "data_steam_noAPIresponse = data_steam[data_steam['type'].isnull()]['steam_appid'] #save the deleted appids to a new list just in case\n",
    "data_steam_noAPIresponse.head(3)"
   ]
  },
  {
   "cell_type": "code",
   "execution_count": 37,
   "metadata": {
    "scrolled": true
   },
   "outputs": [],
   "source": [
    "data_steam = data_steam[data_steam.type == 'game'] #only keep rows where type='game'"
   ]
  },
  {
   "cell_type": "code",
   "execution_count": 38,
   "metadata": {},
   "outputs": [
    {
     "data": {
      "text/plain": [
       "game    21967\n",
       "Name: type, dtype: int64"
      ]
     },
     "execution_count": 38,
     "metadata": {},
     "output_type": "execute_result"
    }
   ],
   "source": [
    "data_steam['type'].value_counts(dropna=False)"
   ]
  },
  {
   "cell_type": "markdown",
   "metadata": {},
   "source": [
    "Now that we've removed some of the rows we don't want, we can take a look at our Missingno matrix again before we tackle the rest of the cleaning column-by-column:"
   ]
  },
  {
   "cell_type": "code",
   "execution_count": 40,
   "metadata": {},
   "outputs": [
    {
     "data": {
      "text/plain": [
       "<matplotlib.axes._subplots.AxesSubplot at 0x1269cabaef0>"
      ]
     },
     "execution_count": 40,
     "metadata": {},
     "output_type": "execute_result"
    },
    {
     "data": {
      "image/png": "[encoded data removed]",
      "text/plain": [
       "<Figure size 2160x360 with 2 Axes>"
      ]
     },
     "metadata": {
      "needs_background": "light"
     },
     "output_type": "display_data"
    }
   ],
   "source": [
    "missingno.matrix(data_steam, figsize = (30,5))"
   ]
  },
  {
   "cell_type": "markdown",
   "metadata": {},
   "source": [
    "It looks much better already! There's something going on with `categories`, though, that we'll deal with later."
   ]
  },
  {
   "cell_type": "markdown",
   "metadata": {},
   "source": [
    "Finally, before we move on, we want to check for duplicate rows, as we did at the beginning of Part 1."
   ]
  },
  {
   "cell_type": "code",
   "execution_count": 42,
   "metadata": {},
   "outputs": [
    {
     "data": {
      "text/html": [
       "<div>\n",
       "<style scoped>\n",
       "    .dataframe tbody tr th:only-of-type {\n",
       "        vertical-align: middle;\n",
       "    }\n",
       "\n",
       "    .dataframe tbody tr th {\n",
       "        vertical-align: top;\n",
       "    }\n",
       "\n",
       "    .dataframe thead th {\n",
       "        text-align: right;\n",
       "    }\n",
       "</style>\n",
       "<table border=\"1\" class=\"dataframe\">\n",
       "  <thead>\n",
       "    <tr style=\"text-align: right;\">\n",
       "      <th></th>\n",
       "      <th>type</th>\n",
       "      <th>name</th>\n",
       "      <th>steam_appid</th>\n",
       "      <th>required_age</th>\n",
       "      <th>is_free</th>\n",
       "      <th>about_the_game</th>\n",
       "      <th>short_description</th>\n",
       "      <th>supported_languages</th>\n",
       "      <th>header_image</th>\n",
       "      <th>website</th>\n",
       "      <th>developers</th>\n",
       "      <th>publishers</th>\n",
       "      <th>price_overview</th>\n",
       "      <th>packages</th>\n",
       "      <th>package_groups</th>\n",
       "      <th>platforms</th>\n",
       "      <th>categories</th>\n",
       "      <th>genres</th>\n",
       "      <th>screenshots</th>\n",
       "      <th>achievements</th>\n",
       "      <th>release_date</th>\n",
       "      <th>background</th>\n",
       "      <th>content_descriptors</th>\n",
       "    </tr>\n",
       "  </thead>\n",
       "  <tbody>\n",
       "  </tbody>\n",
       "</table>\n",
       "</div>"
      ],
      "text/plain": [
       "Empty DataFrame\n",
       "Columns: [type, name, steam_appid, required_age, is_free, about_the_game, short_description, supported_languages, header_image, website, developers, publishers, price_overview, packages, package_groups, platforms, categories, genres, screenshots, achievements, release_date, background, content_descriptors]\n",
       "Index: []"
      ]
     },
     "execution_count": 42,
     "metadata": {},
     "output_type": "execute_result"
    }
   ],
   "source": [
    "data_steam[data_steam.duplicated(subset='steam_appid')]"
   ]
  },
  {
   "cell_type": "markdown",
   "metadata": {},
   "source": [
    "Awesome, no duplicates!"
   ]
  },
  {
   "cell_type": "markdown",
   "metadata": {},
   "source": [
    "### 2.2 Steam Dataset: Feature Cleaning"
   ]
  },
  {
   "cell_type": "markdown",
   "metadata": {},
   "source": [
    "Now that we've removed the rows and columns we're sure we don't want (though of course, we may change our minds later), we'll go through the columns of the dataset one-by-one and clean up the data as well as improve the readability of their labels in some cases."
   ]
  },
  {
   "cell_type": "markdown",
   "metadata": {},
   "source": [
    "### Feature 1: Type"
   ]
  },
  {
   "cell_type": "markdown",
   "metadata": {},
   "source": [
    "Since we've already removed all the rows that have a `type` other than \"game\", this column is now entirely unneccessary. We can just remove it."
   ]
  },
  {
   "cell_type": "code",
   "execution_count": 43,
   "metadata": {},
   "outputs": [],
   "source": [
    "data_steam.drop('type', axis=1, inplace=True)"
   ]
  },
  {
   "cell_type": "code",
   "execution_count": 55,
   "metadata": {},
   "outputs": [
    {
     "data": {
      "text/html": [
       "<div>\n",
       "<style scoped>\n",
       "    .dataframe tbody tr th:only-of-type {\n",
       "        vertical-align: middle;\n",
       "    }\n",
       "\n",
       "    .dataframe tbody tr th {\n",
       "        vertical-align: top;\n",
       "    }\n",
       "\n",
       "    .dataframe thead th {\n",
       "        text-align: right;\n",
       "    }\n",
       "</style>\n",
       "<table border=\"1\" class=\"dataframe\">\n",
       "  <thead>\n",
       "    <tr style=\"text-align: right;\">\n",
       "      <th></th>\n",
       "      <th>name</th>\n",
       "      <th>appid</th>\n",
       "      <th>required_age</th>\n",
       "      <th>is_free</th>\n",
       "      <th>about_the_game</th>\n",
       "      <th>short_description</th>\n",
       "      <th>supported_languages</th>\n",
       "      <th>header_image</th>\n",
       "      <th>website</th>\n",
       "      <th>developers</th>\n",
       "      <th>publishers</th>\n",
       "      <th>price_overview</th>\n",
       "      <th>packages</th>\n",
       "      <th>package_groups</th>\n",
       "      <th>platforms</th>\n",
       "      <th>categories</th>\n",
       "      <th>genres</th>\n",
       "      <th>screenshots</th>\n",
       "      <th>achievements</th>\n",
       "      <th>release_date</th>\n",
       "      <th>background</th>\n",
       "      <th>content_descriptors</th>\n",
       "    </tr>\n",
       "  </thead>\n",
       "  <tbody>\n",
       "    <tr>\n",
       "      <th>0</th>\n",
       "      <td>***</td>\n",
       "      <td>1034230</td>\n",
       "      <td>0.0</td>\n",
       "      <td>False</td>\n",
       "      <td>*** is a small game.&lt;br /&gt;\\r\\nIt is easy to pl...</td>\n",
       "      <td>*** is a small game. It is easy to play,hope y...</td>\n",
       "      <td>English&lt;strong&gt;*&lt;/strong&gt;, French&lt;strong&gt;*&lt;/st...</td>\n",
       "      <td>https://steamcdn-a.akamaihd.net/steam/apps/103...</td>\n",
       "      <td>NaN</td>\n",
       "      <td>['Kenshin Game Studio']</td>\n",
       "      <td>['Kenshin Game Studio']</td>\n",
       "      <td>{'currency': 'USD', 'initial': 99, 'final': 99...</td>\n",
       "      <td>[344162]</td>\n",
       "      <td>[{'name': 'default', 'title': 'Buy ***', 'desc...</td>\n",
       "      <td>{'windows': True, 'mac': False, 'linux': False}</td>\n",
       "      <td>[{'id': 2, 'description': 'Single-player'}]</td>\n",
       "      <td>[{'id': '4', 'description': 'Casual'}, {'id': ...</td>\n",
       "      <td>[{'id': 0, 'path_thumbnail': 'https://steamcdn...</td>\n",
       "      <td>NaN</td>\n",
       "      <td>{'coming_soon': False, 'date': 'Mar 17, 2019'}</td>\n",
       "      <td>https://steamcdn-a.akamaihd.net/steam/apps/103...</td>\n",
       "      <td>{'ids': [], 'notes': None}</td>\n",
       "    </tr>\n",
       "  </tbody>\n",
       "</table>\n",
       "</div>"
      ],
      "text/plain": [
       "  name    appid  required_age is_free  \\\n",
       "0  ***  1034230           0.0   False   \n",
       "\n",
       "                                      about_the_game  \\\n",
       "0  *** is a small game.<br />\\r\\nIt is easy to pl...   \n",
       "\n",
       "                                   short_description  \\\n",
       "0  *** is a small game. It is easy to play,hope y...   \n",
       "\n",
       "                                 supported_languages  \\\n",
       "0  English<strong>*</strong>, French<strong>*</st...   \n",
       "\n",
       "                                        header_image website  \\\n",
       "0  https://steamcdn-a.akamaihd.net/steam/apps/103...     NaN   \n",
       "\n",
       "                developers               publishers  \\\n",
       "0  ['Kenshin Game Studio']  ['Kenshin Game Studio']   \n",
       "\n",
       "                                      price_overview  packages  \\\n",
       "0  {'currency': 'USD', 'initial': 99, 'final': 99...  [344162]   \n",
       "\n",
       "                                      package_groups  \\\n",
       "0  [{'name': 'default', 'title': 'Buy ***', 'desc...   \n",
       "\n",
       "                                         platforms  \\\n",
       "0  {'windows': True, 'mac': False, 'linux': False}   \n",
       "\n",
       "                                    categories  \\\n",
       "0  [{'id': 2, 'description': 'Single-player'}]   \n",
       "\n",
       "                                              genres  \\\n",
       "0  [{'id': '4', 'description': 'Casual'}, {'id': ...   \n",
       "\n",
       "                                         screenshots achievements  \\\n",
       "0  [{'id': 0, 'path_thumbnail': 'https://steamcdn...          NaN   \n",
       "\n",
       "                                     release_date  \\\n",
       "0  {'coming_soon': False, 'date': 'Mar 17, 2019'}   \n",
       "\n",
       "                                          background  \\\n",
       "0  https://steamcdn-a.akamaihd.net/steam/apps/103...   \n",
       "\n",
       "          content_descriptors  \n",
       "0  {'ids': [], 'notes': None}  "
      ]
     },
     "execution_count": 55,
     "metadata": {},
     "output_type": "execute_result"
    }
   ],
   "source": [
    "data_steam.head(1)"
   ]
  },
  {
   "cell_type": "markdown",
   "metadata": {},
   "source": [
    "### Feature 2: Name"
   ]
  },
  {
   "cell_type": "markdown",
   "metadata": {},
   "source": [
    "There's not a whole lot to be done for the `name` feature, as it sort of is what it is - a name. There's no guarantee that all of the names are unique, or that they are all in English (though we filtered to only include games that are playable in English, the titles aren't required to be). For example, there are three games named \"Fireflies\", and only one out of the first 7 games in our dataset has a title that is entirely alphanumeric:"
   ]
  },
  {
   "cell_type": "code",
   "execution_count": 52,
   "metadata": {},
   "outputs": [
    {
     "data": {
      "text/plain": [
       "Fireflies      3\n",
       "Exodus         3\n",
       "The Tower      3\n",
       "Surge          3\n",
       "Dark Matter    3\n",
       "Lost           3\n",
       "Squares        2\n",
       "Name: name, dtype: int64"
      ]
     },
     "execution_count": 52,
     "metadata": {},
     "output_type": "execute_result"
    }
   ],
   "source": [
    "data_steam['name'].value_counts(dropna=False).head(7)"
   ]
  },
  {
   "cell_type": "code",
   "execution_count": 51,
   "metadata": {},
   "outputs": [
    {
     "data": {
      "text/plain": [
       "0    False\n",
       "1    False\n",
       "2    False\n",
       "3     True\n",
       "4    False\n",
       "5    False\n",
       "6    False\n",
       "Name: name, dtype: bool"
      ]
     },
     "execution_count": 51,
     "metadata": {},
     "output_type": "execute_result"
    }
   ],
   "source": [
    "data_steam['name'].str.isalnum().head(7)"
   ]
  },
  {
   "cell_type": "markdown",
   "metadata": {},
   "source": [
    "### Feature 3: AppID "
   ]
  },
  {
   "cell_type": "markdown",
   "metadata": {},
   "source": [
    "Like `name`, the `steam_appid` is pretty standardized, and we've already filtered out the duplicates. One thing we'll do is rename the column to `appid` since \"steam\" is redundant."
   ]
  },
  {
   "cell_type": "code",
   "execution_count": 53,
   "metadata": {},
   "outputs": [],
   "source": [
    "data_steam.rename(columns={'steam_appid':'appid'},inplace=True)"
   ]
  },
  {
   "cell_type": "code",
   "execution_count": 56,
   "metadata": {},
   "outputs": [
    {
     "data": {
      "text/html": [
       "<div>\n",
       "<style scoped>\n",
       "    .dataframe tbody tr th:only-of-type {\n",
       "        vertical-align: middle;\n",
       "    }\n",
       "\n",
       "    .dataframe tbody tr th {\n",
       "        vertical-align: top;\n",
       "    }\n",
       "\n",
       "    .dataframe thead th {\n",
       "        text-align: right;\n",
       "    }\n",
       "</style>\n",
       "<table border=\"1\" class=\"dataframe\">\n",
       "  <thead>\n",
       "    <tr style=\"text-align: right;\">\n",
       "      <th></th>\n",
       "      <th>name</th>\n",
       "      <th>appid</th>\n",
       "      <th>required_age</th>\n",
       "      <th>is_free</th>\n",
       "      <th>about_the_game</th>\n",
       "      <th>short_description</th>\n",
       "      <th>supported_languages</th>\n",
       "      <th>header_image</th>\n",
       "      <th>website</th>\n",
       "      <th>developers</th>\n",
       "      <th>publishers</th>\n",
       "      <th>price_overview</th>\n",
       "      <th>packages</th>\n",
       "      <th>package_groups</th>\n",
       "      <th>platforms</th>\n",
       "      <th>categories</th>\n",
       "      <th>genres</th>\n",
       "      <th>screenshots</th>\n",
       "      <th>achievements</th>\n",
       "      <th>release_date</th>\n",
       "      <th>background</th>\n",
       "      <th>content_descriptors</th>\n",
       "    </tr>\n",
       "  </thead>\n",
       "  <tbody>\n",
       "    <tr>\n",
       "      <th>0</th>\n",
       "      <td>***</td>\n",
       "      <td>1034230</td>\n",
       "      <td>0.0</td>\n",
       "      <td>False</td>\n",
       "      <td>*** is a small game.&lt;br /&gt;\\r\\nIt is easy to pl...</td>\n",
       "      <td>*** is a small game. It is easy to play,hope y...</td>\n",
       "      <td>English&lt;strong&gt;*&lt;/strong&gt;, French&lt;strong&gt;*&lt;/st...</td>\n",
       "      <td>https://steamcdn-a.akamaihd.net/steam/apps/103...</td>\n",
       "      <td>NaN</td>\n",
       "      <td>['Kenshin Game Studio']</td>\n",
       "      <td>['Kenshin Game Studio']</td>\n",
       "      <td>{'currency': 'USD', 'initial': 99, 'final': 99...</td>\n",
       "      <td>[344162]</td>\n",
       "      <td>[{'name': 'default', 'title': 'Buy ***', 'desc...</td>\n",
       "      <td>{'windows': True, 'mac': False, 'linux': False}</td>\n",
       "      <td>[{'id': 2, 'description': 'Single-player'}]</td>\n",
       "      <td>[{'id': '4', 'description': 'Casual'}, {'id': ...</td>\n",
       "      <td>[{'id': 0, 'path_thumbnail': 'https://steamcdn...</td>\n",
       "      <td>NaN</td>\n",
       "      <td>{'coming_soon': False, 'date': 'Mar 17, 2019'}</td>\n",
       "      <td>https://steamcdn-a.akamaihd.net/steam/apps/103...</td>\n",
       "      <td>{'ids': [], 'notes': None}</td>\n",
       "    </tr>\n",
       "  </tbody>\n",
       "</table>\n",
       "</div>"
      ],
      "text/plain": [
       "  name    appid  required_age is_free  \\\n",
       "0  ***  1034230           0.0   False   \n",
       "\n",
       "                                      about_the_game  \\\n",
       "0  *** is a small game.<br />\\r\\nIt is easy to pl...   \n",
       "\n",
       "                                   short_description  \\\n",
       "0  *** is a small game. It is easy to play,hope y...   \n",
       "\n",
       "                                 supported_languages  \\\n",
       "0  English<strong>*</strong>, French<strong>*</st...   \n",
       "\n",
       "                                        header_image website  \\\n",
       "0  https://steamcdn-a.akamaihd.net/steam/apps/103...     NaN   \n",
       "\n",
       "                developers               publishers  \\\n",
       "0  ['Kenshin Game Studio']  ['Kenshin Game Studio']   \n",
       "\n",
       "                                      price_overview  packages  \\\n",
       "0  {'currency': 'USD', 'initial': 99, 'final': 99...  [344162]   \n",
       "\n",
       "                                      package_groups  \\\n",
       "0  [{'name': 'default', 'title': 'Buy ***', 'desc...   \n",
       "\n",
       "                                         platforms  \\\n",
       "0  {'windows': True, 'mac': False, 'linux': False}   \n",
       "\n",
       "                                    categories  \\\n",
       "0  [{'id': 2, 'description': 'Single-player'}]   \n",
       "\n",
       "                                              genres  \\\n",
       "0  [{'id': '4', 'description': 'Casual'}, {'id': ...   \n",
       "\n",
       "                                         screenshots achievements  \\\n",
       "0  [{'id': 0, 'path_thumbnail': 'https://steamcdn...          NaN   \n",
       "\n",
       "                                     release_date  \\\n",
       "0  {'coming_soon': False, 'date': 'Mar 17, 2019'}   \n",
       "\n",
       "                                          background  \\\n",
       "0  https://steamcdn-a.akamaihd.net/steam/apps/103...   \n",
       "\n",
       "          content_descriptors  \n",
       "0  {'ids': [], 'notes': None}  "
      ]
     },
     "execution_count": 56,
     "metadata": {},
     "output_type": "execute_result"
    }
   ],
   "source": [
    "data_steam.head(1)"
   ]
  },
  {
   "cell_type": "markdown",
   "metadata": {},
   "source": [
    "While we're at it, let's also sort the dataframe by AppID - this will help us combine this dataset with the SteamSpy dataset later on, and also improves readability overall."
   ]
  },
  {
   "cell_type": "code",
   "execution_count": 59,
   "metadata": {},
   "outputs": [],
   "source": [
    "data_steam.sort_values(by=['appid'], inplace=True)\n",
    "data_steam = data_steam.reset_index(drop=True)"
   ]
  },
  {
   "cell_type": "code",
   "execution_count": 61,
   "metadata": {},
   "outputs": [
    {
     "data": {
      "text/html": [
       "<div>\n",
       "<style scoped>\n",
       "    .dataframe tbody tr th:only-of-type {\n",
       "        vertical-align: middle;\n",
       "    }\n",
       "\n",
       "    .dataframe tbody tr th {\n",
       "        vertical-align: top;\n",
       "    }\n",
       "\n",
       "    .dataframe thead th {\n",
       "        text-align: right;\n",
       "    }\n",
       "</style>\n",
       "<table border=\"1\" class=\"dataframe\">\n",
       "  <thead>\n",
       "    <tr style=\"text-align: right;\">\n",
       "      <th></th>\n",
       "      <th>name</th>\n",
       "      <th>appid</th>\n",
       "      <th>required_age</th>\n",
       "      <th>is_free</th>\n",
       "      <th>about_the_game</th>\n",
       "      <th>short_description</th>\n",
       "      <th>supported_languages</th>\n",
       "      <th>header_image</th>\n",
       "      <th>website</th>\n",
       "      <th>developers</th>\n",
       "      <th>publishers</th>\n",
       "      <th>price_overview</th>\n",
       "      <th>packages</th>\n",
       "      <th>package_groups</th>\n",
       "      <th>platforms</th>\n",
       "      <th>categories</th>\n",
       "      <th>genres</th>\n",
       "      <th>screenshots</th>\n",
       "      <th>achievements</th>\n",
       "      <th>release_date</th>\n",
       "      <th>background</th>\n",
       "      <th>content_descriptors</th>\n",
       "    </tr>\n",
       "  </thead>\n",
       "  <tbody>\n",
       "    <tr>\n",
       "      <th>0</th>\n",
       "      <td>Rag Doll Kung Fu</td>\n",
       "      <td>1002</td>\n",
       "      <td>0.0</td>\n",
       "      <td>False</td>\n",
       "      <td>Featuring a wide collection of single and mult...</td>\n",
       "      <td>Featuring a wide collection of single and mult...</td>\n",
       "      <td>English</td>\n",
       "      <td>https://steamcdn-a.akamaihd.net/steam/apps/100...</td>\n",
       "      <td>http://www.ragdollkungfu.com/</td>\n",
       "      <td>['Mark Healey']</td>\n",
       "      <td>['Mark Healey']</td>\n",
       "      <td>{'currency': 'USD', 'initial': 999, 'final': 9...</td>\n",
       "      <td>[45]</td>\n",
       "      <td>[{'name': 'default', 'title': 'Buy Rag Doll Ku...</td>\n",
       "      <td>{'windows': True, 'mac': False, 'linux': False}</td>\n",
       "      <td>[{'id': 2, 'description': 'Single-player'}, {'...</td>\n",
       "      <td>[{'id': '23', 'description': 'Indie'}]</td>\n",
       "      <td>[{'id': 0, 'path_thumbnail': 'https://steamcdn...</td>\n",
       "      <td>{'total': 0}</td>\n",
       "      <td>{'coming_soon': False, 'date': 'Oct 12, 2005'}</td>\n",
       "      <td>https://steamcdn-a.akamaihd.net/steam/apps/100...</td>\n",
       "      <td>{'ids': [], 'notes': None}</td>\n",
       "    </tr>\n",
       "    <tr>\n",
       "      <th>1</th>\n",
       "      <td>Darwinia</td>\n",
       "      <td>1500</td>\n",
       "      <td>0.0</td>\n",
       "      <td>False</td>\n",
       "      <td>Combining fast-paced action with strategic bat...</td>\n",
       "      <td>Combining fast-paced action with strategic bat...</td>\n",
       "      <td>English, German</td>\n",
       "      <td>https://steamcdn-a.akamaihd.net/steam/apps/150...</td>\n",
       "      <td>http://www.darwinia.co.uk/</td>\n",
       "      <td>['Introversion Software']</td>\n",
       "      <td>['Introversion Software']</td>\n",
       "      <td>{'currency': 'USD', 'initial': 999, 'final': 9...</td>\n",
       "      <td>[54, 14324, 978, 14002]</td>\n",
       "      <td>[{'name': 'default', 'title': 'Buy Darwinia', ...</td>\n",
       "      <td>{'windows': True, 'mac': True, 'linux': True}</td>\n",
       "      <td>[{'id': 2, 'description': 'Single-player'}]</td>\n",
       "      <td>[{'id': '23', 'description': 'Indie'}, {'id': ...</td>\n",
       "      <td>[{'id': 0, 'path_thumbnail': 'https://steamcdn...</td>\n",
       "      <td>{'total': 0}</td>\n",
       "      <td>{'coming_soon': False, 'date': 'Jul 14, 2005'}</td>\n",
       "      <td>https://steamcdn-a.akamaihd.net/steam/apps/150...</td>\n",
       "      <td>{'ids': [], 'notes': None}</td>\n",
       "    </tr>\n",
       "    <tr>\n",
       "      <th>2</th>\n",
       "      <td>Uplink</td>\n",
       "      <td>1510</td>\n",
       "      <td>0.0</td>\n",
       "      <td>False</td>\n",
       "      <td>You play an Uplink Agent who makes a living by...</td>\n",
       "      <td>You play an Uplink Agent who makes a living by...</td>\n",
       "      <td>English</td>\n",
       "      <td>https://steamcdn-a.akamaihd.net/steam/apps/151...</td>\n",
       "      <td>http://www.uplink.co.uk/</td>\n",
       "      <td>['Introversion Software']</td>\n",
       "      <td>['Introversion Software']</td>\n",
       "      <td>{'currency': 'USD', 'initial': 999, 'final': 9...</td>\n",
       "      <td>[112, 14002]</td>\n",
       "      <td>[{'name': 'default', 'title': 'Buy Uplink', 'd...</td>\n",
       "      <td>{'windows': True, 'mac': True, 'linux': True}</td>\n",
       "      <td>[{'id': 2, 'description': 'Single-player'}]</td>\n",
       "      <td>[{'id': '23', 'description': 'Indie'}, {'id': ...</td>\n",
       "      <td>[{'id': 0, 'path_thumbnail': 'https://steamcdn...</td>\n",
       "      <td>{'total': 0}</td>\n",
       "      <td>{'coming_soon': False, 'date': 'Aug 23, 2006'}</td>\n",
       "      <td>https://steamcdn-a.akamaihd.net/steam/apps/151...</td>\n",
       "      <td>{'ids': [], 'notes': None}</td>\n",
       "    </tr>\n",
       "    <tr>\n",
       "      <th>3</th>\n",
       "      <td>DEFCON</td>\n",
       "      <td>1520</td>\n",
       "      <td>0.0</td>\n",
       "      <td>False</td>\n",
       "      <td>Inspired by the 1983 cult classic film, Wargam...</td>\n",
       "      <td>Inspired by the 1983 cult classic film, Wargam...</td>\n",
       "      <td>English, French, German, Italian, Spanish - Spain</td>\n",
       "      <td>https://steamcdn-a.akamaihd.net/steam/apps/152...</td>\n",
       "      <td>http://www.everybody-dies.com/</td>\n",
       "      <td>['Introversion Software']</td>\n",
       "      <td>['Introversion Software']</td>\n",
       "      <td>{'currency': 'USD', 'initial': 999, 'final': 9...</td>\n",
       "      <td>[156, 14325, 14002]</td>\n",
       "      <td>[{'name': 'default', 'title': 'Buy DEFCON', 'd...</td>\n",
       "      <td>{'windows': True, 'mac': True, 'linux': True}</td>\n",
       "      <td>[{'id': 2, 'description': 'Single-player'}, {'...</td>\n",
       "      <td>[{'id': '23', 'description': 'Indie'}, {'id': ...</td>\n",
       "      <td>[{'id': 0, 'path_thumbnail': 'https://steamcdn...</td>\n",
       "      <td>{'total': 22, 'highlighted': [{'name': 'Victor...</td>\n",
       "      <td>{'coming_soon': False, 'date': 'Sep 29, 2006'}</td>\n",
       "      <td>https://steamcdn-a.akamaihd.net/steam/apps/152...</td>\n",
       "      <td>{'ids': [], 'notes': None}</td>\n",
       "    </tr>\n",
       "    <tr>\n",
       "      <th>4</th>\n",
       "      <td>Multiwinia</td>\n",
       "      <td>1530</td>\n",
       "      <td>0.0</td>\n",
       "      <td>False</td>\n",
       "      <td>&amp;quot;Long ago a computer scientist called Dr ...</td>\n",
       "      <td>&amp;quot;Long ago a computer scientist called Dr ...</td>\n",
       "      <td>English, French, Italian, German, Spanish - Spain</td>\n",
       "      <td>https://steamcdn-a.akamaihd.net/steam/apps/153...</td>\n",
       "      <td>http://www.introversion.co.uk/multiwinia/</td>\n",
       "      <td>['Introversion Software']</td>\n",
       "      <td>['Introversion Software']</td>\n",
       "      <td>{'currency': 'USD', 'initial': 999, 'final': 9...</td>\n",
       "      <td>[1002, 978, 14002]</td>\n",
       "      <td>[{'name': 'default', 'title': 'Buy Multiwinia'...</td>\n",
       "      <td>{'windows': True, 'mac': True, 'linux': False}</td>\n",
       "      <td>[{'id': 2, 'description': 'Single-player'}, {'...</td>\n",
       "      <td>[{'id': '23', 'description': 'Indie'}]</td>\n",
       "      <td>[{'id': 0, 'path_thumbnail': 'https://steamcdn...</td>\n",
       "      <td>{'total': 12, 'highlighted': [{'name': 'Domina...</td>\n",
       "      <td>{'coming_soon': False, 'date': 'Sep 19, 2008'}</td>\n",
       "      <td>https://steamcdn-a.akamaihd.net/steam/apps/153...</td>\n",
       "      <td>{'ids': [], 'notes': None}</td>\n",
       "    </tr>\n",
       "  </tbody>\n",
       "</table>\n",
       "</div>"
      ],
      "text/plain": [
       "               name  appid  required_age is_free  \\\n",
       "0  Rag Doll Kung Fu   1002           0.0   False   \n",
       "1          Darwinia   1500           0.0   False   \n",
       "2            Uplink   1510           0.0   False   \n",
       "3            DEFCON   1520           0.0   False   \n",
       "4        Multiwinia   1530           0.0   False   \n",
       "\n",
       "                                      about_the_game  \\\n",
       "0  Featuring a wide collection of single and mult...   \n",
       "1  Combining fast-paced action with strategic bat...   \n",
       "2  You play an Uplink Agent who makes a living by...   \n",
       "3  Inspired by the 1983 cult classic film, Wargam...   \n",
       "4  &quot;Long ago a computer scientist called Dr ...   \n",
       "\n",
       "                                   short_description  \\\n",
       "0  Featuring a wide collection of single and mult...   \n",
       "1  Combining fast-paced action with strategic bat...   \n",
       "2  You play an Uplink Agent who makes a living by...   \n",
       "3  Inspired by the 1983 cult classic film, Wargam...   \n",
       "4  &quot;Long ago a computer scientist called Dr ...   \n",
       "\n",
       "                                 supported_languages  \\\n",
       "0                                            English   \n",
       "1                                    English, German   \n",
       "2                                            English   \n",
       "3  English, French, German, Italian, Spanish - Spain   \n",
       "4  English, French, Italian, German, Spanish - Spain   \n",
       "\n",
       "                                        header_image  \\\n",
       "0  https://steamcdn-a.akamaihd.net/steam/apps/100...   \n",
       "1  https://steamcdn-a.akamaihd.net/steam/apps/150...   \n",
       "2  https://steamcdn-a.akamaihd.net/steam/apps/151...   \n",
       "3  https://steamcdn-a.akamaihd.net/steam/apps/152...   \n",
       "4  https://steamcdn-a.akamaihd.net/steam/apps/153...   \n",
       "\n",
       "                                     website                 developers  \\\n",
       "0              http://www.ragdollkungfu.com/            ['Mark Healey']   \n",
       "1                 http://www.darwinia.co.uk/  ['Introversion Software']   \n",
       "2                   http://www.uplink.co.uk/  ['Introversion Software']   \n",
       "3             http://www.everybody-dies.com/  ['Introversion Software']   \n",
       "4  http://www.introversion.co.uk/multiwinia/  ['Introversion Software']   \n",
       "\n",
       "                  publishers  \\\n",
       "0            ['Mark Healey']   \n",
       "1  ['Introversion Software']   \n",
       "2  ['Introversion Software']   \n",
       "3  ['Introversion Software']   \n",
       "4  ['Introversion Software']   \n",
       "\n",
       "                                      price_overview                 packages  \\\n",
       "0  {'currency': 'USD', 'initial': 999, 'final': 9...                     [45]   \n",
       "1  {'currency': 'USD', 'initial': 999, 'final': 9...  [54, 14324, 978, 14002]   \n",
       "2  {'currency': 'USD', 'initial': 999, 'final': 9...             [112, 14002]   \n",
       "3  {'currency': 'USD', 'initial': 999, 'final': 9...      [156, 14325, 14002]   \n",
       "4  {'currency': 'USD', 'initial': 999, 'final': 9...       [1002, 978, 14002]   \n",
       "\n",
       "                                      package_groups  \\\n",
       "0  [{'name': 'default', 'title': 'Buy Rag Doll Ku...   \n",
       "1  [{'name': 'default', 'title': 'Buy Darwinia', ...   \n",
       "2  [{'name': 'default', 'title': 'Buy Uplink', 'd...   \n",
       "3  [{'name': 'default', 'title': 'Buy DEFCON', 'd...   \n",
       "4  [{'name': 'default', 'title': 'Buy Multiwinia'...   \n",
       "\n",
       "                                         platforms  \\\n",
       "0  {'windows': True, 'mac': False, 'linux': False}   \n",
       "1    {'windows': True, 'mac': True, 'linux': True}   \n",
       "2    {'windows': True, 'mac': True, 'linux': True}   \n",
       "3    {'windows': True, 'mac': True, 'linux': True}   \n",
       "4   {'windows': True, 'mac': True, 'linux': False}   \n",
       "\n",
       "                                          categories  \\\n",
       "0  [{'id': 2, 'description': 'Single-player'}, {'...   \n",
       "1        [{'id': 2, 'description': 'Single-player'}]   \n",
       "2        [{'id': 2, 'description': 'Single-player'}]   \n",
       "3  [{'id': 2, 'description': 'Single-player'}, {'...   \n",
       "4  [{'id': 2, 'description': 'Single-player'}, {'...   \n",
       "\n",
       "                                              genres  \\\n",
       "0             [{'id': '23', 'description': 'Indie'}]   \n",
       "1  [{'id': '23', 'description': 'Indie'}, {'id': ...   \n",
       "2  [{'id': '23', 'description': 'Indie'}, {'id': ...   \n",
       "3  [{'id': '23', 'description': 'Indie'}, {'id': ...   \n",
       "4             [{'id': '23', 'description': 'Indie'}]   \n",
       "\n",
       "                                         screenshots  \\\n",
       "0  [{'id': 0, 'path_thumbnail': 'https://steamcdn...   \n",
       "1  [{'id': 0, 'path_thumbnail': 'https://steamcdn...   \n",
       "2  [{'id': 0, 'path_thumbnail': 'https://steamcdn...   \n",
       "3  [{'id': 0, 'path_thumbnail': 'https://steamcdn...   \n",
       "4  [{'id': 0, 'path_thumbnail': 'https://steamcdn...   \n",
       "\n",
       "                                        achievements  \\\n",
       "0                                       {'total': 0}   \n",
       "1                                       {'total': 0}   \n",
       "2                                       {'total': 0}   \n",
       "3  {'total': 22, 'highlighted': [{'name': 'Victor...   \n",
       "4  {'total': 12, 'highlighted': [{'name': 'Domina...   \n",
       "\n",
       "                                     release_date  \\\n",
       "0  {'coming_soon': False, 'date': 'Oct 12, 2005'}   \n",
       "1  {'coming_soon': False, 'date': 'Jul 14, 2005'}   \n",
       "2  {'coming_soon': False, 'date': 'Aug 23, 2006'}   \n",
       "3  {'coming_soon': False, 'date': 'Sep 29, 2006'}   \n",
       "4  {'coming_soon': False, 'date': 'Sep 19, 2008'}   \n",
       "\n",
       "                                          background  \\\n",
       "0  https://steamcdn-a.akamaihd.net/steam/apps/100...   \n",
       "1  https://steamcdn-a.akamaihd.net/steam/apps/150...   \n",
       "2  https://steamcdn-a.akamaihd.net/steam/apps/151...   \n",
       "3  https://steamcdn-a.akamaihd.net/steam/apps/152...   \n",
       "4  https://steamcdn-a.akamaihd.net/steam/apps/153...   \n",
       "\n",
       "          content_descriptors  \n",
       "0  {'ids': [], 'notes': None}  \n",
       "1  {'ids': [], 'notes': None}  \n",
       "2  {'ids': [], 'notes': None}  \n",
       "3  {'ids': [], 'notes': None}  \n",
       "4  {'ids': [], 'notes': None}  "
      ]
     },
     "execution_count": 61,
     "metadata": {},
     "output_type": "execute_result"
    }
   ],
   "source": [
    "data_steam.head(5)"
   ]
  },
  {
   "cell_type": "markdown",
   "metadata": {},
   "source": [
    "### Feature 4: Required Age"
   ]
  },
  {
   "cell_type": "markdown",
   "metadata": {},
   "source": [
    "Like the previous features we've looked at so far, the `age` column doesn't require too much work. There's no missing values, but we can see that a large majority of the data is `0` - there's no real way to tell if the developers meant that there really is no age restriction, or that they didn't supply this info and just put 0. Regardless, we can get a sense that this category might not be particularly useful, since only 1.5% of the data in this column is non-zero."
   ]
  },
  {
   "cell_type": "code",
   "execution_count": 62,
   "metadata": {},
   "outputs": [
    {
     "data": {
      "text/plain": [
       "count    21967.000000\n",
       "mean         0.221514\n",
       "std          1.887051\n",
       "min          0.000000\n",
       "25%          0.000000\n",
       "50%          0.000000\n",
       "75%          0.000000\n",
       "max         20.000000\n",
       "Name: required_age, dtype: float64"
      ]
     },
     "execution_count": 62,
     "metadata": {},
     "output_type": "execute_result"
    }
   ],
   "source": [
    "data_steam['required_age'].describe()"
   ]
  },
  {
   "cell_type": "code",
   "execution_count": 66,
   "metadata": {},
   "outputs": [
    {
     "data": {
      "text/plain": [
       "0.0     21659\n",
       "3.0         4\n",
       "6.0         1\n",
       "7.0         2\n",
       "10.0       12\n",
       "11.0        1\n",
       "12.0       14\n",
       "13.0       41\n",
       "14.0        2\n",
       "15.0        2\n",
       "16.0       24\n",
       "17.0      132\n",
       "18.0       72\n",
       "20.0        1\n",
       "Name: required_age, dtype: int64"
      ]
     },
     "execution_count": 66,
     "metadata": {},
     "output_type": "execute_result"
    }
   ],
   "source": [
    "data_steam['required_age'].value_counts(dropna=False).sort_index()"
   ]
  },
  {
   "cell_type": "markdown",
   "metadata": {},
   "source": [
    "One thing that we can do to clean up this feature is apply some binning, so that there are fewer categories with only 1 or 2 items in them. Following the suggestion of Nik Davis, we can use a video game rating system to bin the ages into rating categories. Although video game rating systems vary widely throughout the world, In the United States the common rating system is the [ESRB](https://www.esrb.org/ratings-guide/) ratings, for example the commonly-seen \"rated E for everyone.\" Following the description of each rating categories, we can break up our data into the following bins:\n",
    "\n",
    "* **Everyone:** Ages 0+\n",
    "* **Everyone 10+:** Ages 10+\n",
    "* **Teen:** Ages 13+\n",
    "* **Mature:** Ages 17+\n",
    "* **Adults:** Ages 18+"
   ]
  },
  {
   "cell_type": "code",
   "execution_count": 96,
   "metadata": {},
   "outputs": [],
   "source": [
    "def bin_age(df):\n",
    "    'Bin the age requirements to fit into 5 categories consistent with ESRB rating system'\n",
    "    \n",
    "    bins = [-1, 0, 10, 13, 17, 30]\n",
    "    labels = [0, 10, 13, 17, 18]\n",
    "    df['required_age']=pd.cut(df['required_age'], bins = bins, labels = labels)\n",
    "    return df"
   ]
  },
  {
   "cell_type": "code",
   "execution_count": 99,
   "metadata": {},
   "outputs": [],
   "source": [
    "data_steam = bin_age(data_steam)"
   ]
  },
  {
   "cell_type": "markdown",
   "metadata": {},
   "source": [
    "We can use the Python plotting package Seaborn to nicely visualize our bins. This is something we'll do throughout this project as we go through our remaining features. In doing so, we find that the large majority of data in this column is still 0, but with fewer bins the data becomes a lot more useful and nicer to visualize."
   ]
  },
  {
   "cell_type": "code",
   "execution_count": 100,
   "metadata": {},
   "outputs": [
    {
     "data": {
      "image/png": "[encoded data removed]",
      "text/plain": [
       "<Figure size 1440x360 with 1 Axes>"
      ]
     },
     "metadata": {},
     "output_type": "display_data"
    }
   ],
   "source": [
    "sns.set(font_scale=2)\n",
    "plt.style.use('fivethirtyeight')\n",
    "\n",
    "fig = plt.figure(figsize=(20,5)) \n",
    "sns.countplot(y=\"required_age\", data=data_steam);"
   ]
  },
  {
   "cell_type": "markdown",
   "metadata": {},
   "source": [
    "### Feature 5: Is_Free"
   ]
  },
  {
   "cell_type": "markdown",
   "metadata": {},
   "source": [
    "The `is_free` category is somewhat redundant, as we also have a category that specifically gives the price (with free games listed as 0). However, it may prove useful to keep a binary feature of whether or not a game is free - especially with Indie games, free games could be of very different quality than games that have pricetags (and especially considering Indie games are cheaper overall compared to games from more established companies that can be upwards of $100). \n",
    "\n",
    "For this category, the first thing we'll do is take a look at how many games are free versus paid:"
   ]
  },
  {
   "cell_type": "code",
   "execution_count": 102,
   "metadata": {},
   "outputs": [
    {
     "data": {
      "image/png": "[encoded data removed]",
      "text/plain": [
       "<Figure size 1440x216 with 1 Axes>"
      ]
     },
     "metadata": {},
     "output_type": "display_data"
    }
   ],
   "source": [
    "sns.set(font_scale=2)\n",
    "plt.style.use('fivethirtyeight')\n",
    "\n",
    "fig = plt.figure(figsize=(20,3)) \n",
    "sns.countplot(y=\"is_free\", data=data_steam);"
   ]
  },
  {
   "cell_type": "code",
   "execution_count": null,
   "metadata": {},
   "outputs": [],
   "source": []
  }
 ],
 "metadata": {
  "kernelspec": {
   "display_name": "Python 3",
   "language": "python",
   "name": "python3"
  },
  "language_info": {
   "codemirror_mode": {
    "name": "ipython",
    "version": 3
   },
   "file_extension": ".py",
   "mimetype": "text/x-python",
   "name": "python",
   "nbconvert_exporter": "python",
   "pygments_lexer": "ipython3",
   "version": "3.7.1"
  }
 },
 "nbformat": 4,
 "nbformat_minor": 2
}
