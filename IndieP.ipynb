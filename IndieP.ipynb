{
 "cells": [
  {
   "cell_type": "markdown",
   "metadata": {},
   "source": [
    "# IndieP: Predicting the Success of Indie Games on Steam"
   ]
  },
  {
   "cell_type": "markdown",
   "metadata": {},
   "source": [
    "If you haven't been to a video game convention such as PAX before, let me paint a picture for you... indie mega booth, with 10 games chosen as the PAX 10, the indie games of the year that have been designated the \"best\" of the year by some committee. But what is \"best\"? What factors go into determining which of the thousand games released each year will succeed, which will be remembered for years to come and which will fade away?"
   ]
  },
  {
   "cell_type": "markdown",
   "metadata": {},
   "source": [
    "In this project, I will create a dataset of all of the games in the \"Indie\" genre of the Steam store, and investigate the factors (or features) that lead to a successful indie game."
   ]
  },
  {
   "cell_type": "markdown",
   "metadata": {},
   "source": [
    "# 1. Data Collection"
   ]
  },
  {
   "cell_type": "markdown",
   "metadata": {},
   "source": [
    "The goal is to create a data set that includes details for every indie game available on Steam. I'm interested in gaining insight into what features have the greatest effect on the success of a game, and using this information to predict what new games will be successful.  \n",
    "\n",
    "...API, etc ... steamfront python wrapper\n",
    "\n",
    "While the genre tags of each Steam game are accessible through Steamfront, the Steam API only provides a list of *all* available apps and no way to filter through them efficiently. Alternative user-made APIs such as SteamSpy offer a wider variety of API features, but as they are user-maintained and not always online, I chose to avoid these alternatives. Rather than make an API request for every single app (~70,000 requests) and check if it fits our genre, it will be more efficient to scrape a list of Indie games from Steam's online store: \n",
    "\n",
    "https://store.steampowered.com/search/?sort_by=Name_ASC&tags=492&category1=998\n",
    "\n",
    "Here, I've filtered Steam's full game list to include only apps with the tag \"indie,\" further narrowed the list down to include only games (excluding other software, downloadable content, demos, and soundtracks), and sorted the list alphabetically. There's a total of 27,271 results at the time of writing this.\n",
    "\n",
    "I've learned to love (and hate) [BeautifulSoup](https://pypi.org/project/beautifulsoup4/) for all my prior web scraping projects, but for this project I've chosen to use the simpler and elegant [Scrapy](https://scrapy.org/) which will have a much easier time crawling through the 1,085 pages of results while also providing more flexibility since Steam updates their store frequently (plus, I've never used it and I like trying new things!). The ability to easily control a rate limiter for Scrapy is also a plus, since I want to ensure that the scraper remains well-behaved.\n",
    "\n",
    "For the initial data collection, I scraped the following features for each game, as they are universal, easy to understand, and all accessible without needing to follow additional links (thus increasing the number of requests):\n",
    "* AppID: \n",
    "* Url:\n",
    "* Title:\n",
    "* Release Date:\n",
    "* Price:\n",
    "\n",
    "When I initially gathered this data, I only collected the Title, Release Date, and Price - but quickly discovered that there's no guarantee that these three features would be unique and there could easily be multiple games with the same title. The AppID, however, is a unique identifier and will be used to distinguish between data points throughout."
   ]
  },
  {
   "cell_type": "code",
   "execution_count": 1,
   "metadata": {},
   "outputs": [],
   "source": [
    "import csv\n",
    "import json\n",
    "\n",
    "import pandas as pd\n",
    "import requests\n",
    "\n",
    "pd.set_option(\"max_columns\", 100)"
   ]
  },
  {
   "cell_type": "code",
   "execution_count": 2,
   "metadata": {},
   "outputs": [],
   "source": [
    "def get_request(url, parameters=None):\n",
    "    \"\"\"Return json-formatted response of a get request using optional parameters.\n",
    "    \n",
    "    Parameters\n",
    "    ----------\n",
    "    url : string\n",
    "    parameters : {'parameter': 'value'}\n",
    "        parameters to pass as part of get request\n",
    "    \n",
    "    Returns\n",
    "    -------\n",
    "    json data\n",
    "        json-formatted response (dict-like)\n",
    "    \"\"\"\n",
    "    try:\n",
    "        response = requests.get(url=url, params=parameters)\n",
    "    except SSLError as s:\n",
    "        print('SSL Error:', s)\n",
    "        \n",
    "        for i in range(5, 0, -1):\n",
    "            print('\\rWaiting... ({})'.format(i), end='')\n",
    "            time.sleep(1)\n",
    "        print('\\rRetrying.' + ' '*10)\n",
    "        \n",
    "        # recusively try again\n",
    "        return get_request(url, parameters)\n",
    "    \n",
    "    if response:\n",
    "        return response.json()\n",
    "    else:\n",
    "        # response is none usually means too many requests. Wait and try again \n",
    "        print('No response, waiting 10 seconds...')\n",
    "        time.sleep(10)\n",
    "        print('Retrying.')\n",
    "        return get_request(url, parameters)"
   ]
  },
  {
   "cell_type": "markdown",
   "metadata": {},
   "source": [
    "To start, let's load in the basic data we gathered into a Pandas dataframe - it's possible that all we really need here is the appIDs, but we'll load in everything to begin."
   ]
  },
  {
   "cell_type": "code",
   "execution_count": 23,
   "metadata": {},
   "outputs": [],
   "source": [
    "def get_scrape_data(f):\n",
    "    \"\"\" Load in json data that we previously collected to extract a list of appIDs for all Indie games \"\"\"\n",
    "    data = pd.read_json(f)\n",
    "    return data"
   ]
  },
  {
   "cell_type": "code",
   "execution_count": 24,
   "metadata": {},
   "outputs": [],
   "source": [
    "data = get_scrape_data('./steam-scrapy/steam_scrape/output/indie_all_final.json')"
   ]
  },
  {
   "cell_type": "code",
   "execution_count": 25,
   "metadata": {},
   "outputs": [
    {
     "data": {
      "text/html": [
       "<div>\n",
       "<style scoped>\n",
       "    .dataframe tbody tr th:only-of-type {\n",
       "        vertical-align: middle;\n",
       "    }\n",
       "\n",
       "    .dataframe tbody tr th {\n",
       "        vertical-align: top;\n",
       "    }\n",
       "\n",
       "    .dataframe thead th {\n",
       "        text-align: right;\n",
       "    }\n",
       "</style>\n",
       "<table border=\"1\" class=\"dataframe\">\n",
       "  <thead>\n",
       "    <tr style=\"text-align: right;\">\n",
       "      <th></th>\n",
       "      <th>appid</th>\n",
       "      <th>price</th>\n",
       "      <th>release_date</th>\n",
       "      <th>title</th>\n",
       "      <th>url</th>\n",
       "    </tr>\n",
       "  </thead>\n",
       "  <tbody>\n",
       "    <tr>\n",
       "      <th>0</th>\n",
       "      <td>1034230</td>\n",
       "      <td></td>\n",
       "      <td>Mar 17, 2019</td>\n",
       "      <td>***</td>\n",
       "      <td>https://store.steampowered.com/app/1034230/_/?...</td>\n",
       "    </tr>\n",
       "    <tr>\n",
       "      <th>1</th>\n",
       "      <td>603750</td>\n",
       "      <td>$2.99</td>\n",
       "      <td>Mar 10, 2017</td>\n",
       "      <td>- Arcane Raise -</td>\n",
       "      <td>https://store.steampowered.com/app/603750/_Arc...</td>\n",
       "    </tr>\n",
       "    <tr>\n",
       "      <th>2</th>\n",
       "      <td>729370</td>\n",
       "      <td>$14.99</td>\n",
       "      <td>Jan 23, 2019</td>\n",
       "      <td>-KLAUS-</td>\n",
       "      <td>https://store.steampowered.com/app/729370/KLAU...</td>\n",
       "    </tr>\n",
       "    <tr>\n",
       "      <th>3</th>\n",
       "      <td>638510</td>\n",
       "      <td></td>\n",
       "      <td>2019</td>\n",
       "      <td>.Age</td>\n",
       "      <td>https://store.steampowered.com/app/638510/Age/...</td>\n",
       "    </tr>\n",
       "    <tr>\n",
       "      <th>4</th>\n",
       "      <td>1091520</td>\n",
       "      <td>$0.99</td>\n",
       "      <td>Sep 9, 2019</td>\n",
       "      <td>鸿门一宴(Malicious Dinner)</td>\n",
       "      <td>https://store.steampowered.com/app/1091520/Mal...</td>\n",
       "    </tr>\n",
       "  </tbody>\n",
       "</table>\n",
       "</div>"
      ],
      "text/plain": [
       "     appid   price  release_date                   title  \\\n",
       "0  1034230          Mar 17, 2019                     ***   \n",
       "1   603750   $2.99  Mar 10, 2017        - Arcane Raise -   \n",
       "2   729370  $14.99  Jan 23, 2019                 -KLAUS-   \n",
       "3   638510                  2019                    .Age   \n",
       "4  1091520   $0.99   Sep 9, 2019  鸿门一宴(Malicious Dinner)   \n",
       "\n",
       "                                                 url  \n",
       "0  https://store.steampowered.com/app/1034230/_/?...  \n",
       "1  https://store.steampowered.com/app/603750/_Arc...  \n",
       "2  https://store.steampowered.com/app/729370/KLAU...  \n",
       "3  https://store.steampowered.com/app/638510/Age/...  \n",
       "4  https://store.steampowered.com/app/1091520/Mal...  "
      ]
     },
     "execution_count": 25,
     "metadata": {},
     "output_type": "execute_result"
    }
   ],
   "source": [
    "data.head()"
   ]
  },
  {
   "cell_type": "markdown",
   "metadata": {},
   "source": [
    "Right off the bat, we can see that some of the titles are questionable, so we'll need to later dig in to the data to ensure that everything we include in our dataset would be considered a game (no demos/soundtracks/videos/etc). We can also see that not all of the release dates have the full day, month, and year, and that not all games have prices (of course some are free to play). We'll keep everything as is until we have all of the data collected, and then later work on cleaning it up into a nice dataset."
   ]
  },
  {
   "cell_type": "code",
   "execution_count": 26,
   "metadata": {},
   "outputs": [],
   "source": [
    "applist=data['appid']"
   ]
  },
  {
   "cell_type": "code",
   "execution_count": 27,
   "metadata": {},
   "outputs": [
    {
     "data": {
      "text/plain": [
       "0    1034230\n",
       "1     603750\n",
       "2     729370\n",
       "3     638510\n",
       "4    1091520\n",
       "Name: appid, dtype: object"
      ]
     },
     "execution_count": 27,
     "metadata": {},
     "output_type": "execute_result"
    }
   ],
   "source": [
    "applist.head()"
   ]
  },
  {
   "cell_type": "code",
   "execution_count": 28,
   "metadata": {},
   "outputs": [
    {
     "data": {
      "text/plain": [
       "count      22758\n",
       "unique     22753\n",
       "top       230820\n",
       "freq           2\n",
       "Name: appid, dtype: object"
      ]
     },
     "execution_count": 28,
     "metadata": {},
     "output_type": "execute_result"
    }
   ],
   "source": [
    "applist.describe()"
   ]
  },
  {
   "cell_type": "markdown",
   "metadata": {},
   "source": [
    "For some reason, it looks likes there are a few duplicates in the applist, which is suprising because the AppID should be a unique identifier. Let's look under the hood to see if we can figure out why:"
   ]
  },
  {
   "cell_type": "code",
   "execution_count": 46,
   "metadata": {},
   "outputs": [
    {
     "data": {
      "text/html": [
       "<div>\n",
       "<style scoped>\n",
       "    .dataframe tbody tr th:only-of-type {\n",
       "        vertical-align: middle;\n",
       "    }\n",
       "\n",
       "    .dataframe tbody tr th {\n",
       "        vertical-align: top;\n",
       "    }\n",
       "\n",
       "    .dataframe thead th {\n",
       "        text-align: right;\n",
       "    }\n",
       "</style>\n",
       "<table border=\"1\" class=\"dataframe\">\n",
       "  <thead>\n",
       "    <tr style=\"text-align: right;\">\n",
       "      <th></th>\n",
       "      <th>appid</th>\n",
       "      <th>price</th>\n",
       "      <th>release_date</th>\n",
       "      <th>title</th>\n",
       "      <th>url</th>\n",
       "    </tr>\n",
       "  </thead>\n",
       "  <tbody>\n",
       "    <tr>\n",
       "      <th>4612</th>\n",
       "      <td>230820</td>\n",
       "      <td>$24.99</td>\n",
       "      <td>May 28, 2013</td>\n",
       "      <td>The Night of the Rabbit Premium Edition</td>\n",
       "      <td>https://store.steampowered.com/sub/28005/?snr=...</td>\n",
       "    </tr>\n",
       "    <tr>\n",
       "      <th>12707</th>\n",
       "      <td>430280</td>\n",
       "      <td>$4.99</td>\n",
       "      <td>Dec 21, 2015</td>\n",
       "      <td>Nature Defenders</td>\n",
       "      <td>https://store.steampowered.com/app/430280/Natu...</td>\n",
       "    </tr>\n",
       "    <tr>\n",
       "      <th>12782</th>\n",
       "      <td>1155470</td>\n",
       "      <td>Free</td>\n",
       "      <td>Oct 7, 2019</td>\n",
       "      <td>Mythic Ocean: Prologue</td>\n",
       "      <td>https://store.steampowered.com/app/1155470/Myt...</td>\n",
       "    </tr>\n",
       "    <tr>\n",
       "      <th>12833</th>\n",
       "      <td>434260</td>\n",
       "      <td>$0.99</td>\n",
       "      <td>Feb 15, 2016</td>\n",
       "      <td>My Name is Mayo</td>\n",
       "      <td>https://store.steampowered.com/app/434260/My_N...</td>\n",
       "    </tr>\n",
       "    <tr>\n",
       "      <th>15982</th>\n",
       "      <td>557260</td>\n",
       "      <td>Free to Play</td>\n",
       "      <td>Jan 16, 2017</td>\n",
       "      <td>iREC</td>\n",
       "      <td>https://store.steampowered.com/app/557260/iREC...</td>\n",
       "    </tr>\n",
       "  </tbody>\n",
       "</table>\n",
       "</div>"
      ],
      "text/plain": [
       "         appid         price  release_date  \\\n",
       "4612    230820        $24.99  May 28, 2013   \n",
       "12707   430280         $4.99  Dec 21, 2015   \n",
       "12782  1155470          Free   Oct 7, 2019   \n",
       "12833   434260         $0.99  Feb 15, 2016   \n",
       "15982   557260  Free to Play  Jan 16, 2017   \n",
       "\n",
       "                                         title  \\\n",
       "4612   The Night of the Rabbit Premium Edition   \n",
       "12707                         Nature Defenders   \n",
       "12782                   Mythic Ocean: Prologue   \n",
       "12833                          My Name is Mayo   \n",
       "15982                                     iREC   \n",
       "\n",
       "                                                     url  \n",
       "4612   https://store.steampowered.com/sub/28005/?snr=...  \n",
       "12707  https://store.steampowered.com/app/430280/Natu...  \n",
       "12782  https://store.steampowered.com/app/1155470/Myt...  \n",
       "12833  https://store.steampowered.com/app/434260/My_N...  \n",
       "15982  https://store.steampowered.com/app/557260/iREC...  "
      ]
     },
     "execution_count": 46,
     "metadata": {},
     "output_type": "execute_result"
    }
   ],
   "source": [
    "data[data.duplicated(subset='appid')]"
   ]
  },
  {
   "cell_type": "markdown",
   "metadata": {},
   "source": [
    "We can see that, for some reason, these 5 AppIDs have been included more than once. Before just deleting the duplicates, we want to make sure that the full rows are duplicated, not just the AppID:"
   ]
  },
  {
   "cell_type": "code",
   "execution_count": 38,
   "metadata": {},
   "outputs": [
    {
     "data": {
      "text/html": [
       "<div>\n",
       "<style scoped>\n",
       "    .dataframe tbody tr th:only-of-type {\n",
       "        vertical-align: middle;\n",
       "    }\n",
       "\n",
       "    .dataframe tbody tr th {\n",
       "        vertical-align: top;\n",
       "    }\n",
       "\n",
       "    .dataframe thead th {\n",
       "        text-align: right;\n",
       "    }\n",
       "</style>\n",
       "<table border=\"1\" class=\"dataframe\">\n",
       "  <thead>\n",
       "    <tr style=\"text-align: right;\">\n",
       "      <th></th>\n",
       "      <th>appid</th>\n",
       "      <th>price</th>\n",
       "      <th>release_date</th>\n",
       "      <th>title</th>\n",
       "      <th>url</th>\n",
       "    </tr>\n",
       "  </thead>\n",
       "  <tbody>\n",
       "    <tr>\n",
       "      <th>4611</th>\n",
       "      <td>230820</td>\n",
       "      <td></td>\n",
       "      <td>May 28, 2013</td>\n",
       "      <td>The Night of the Rabbit</td>\n",
       "      <td>https://store.steampowered.com/app/230820/The_...</td>\n",
       "    </tr>\n",
       "    <tr>\n",
       "      <th>4612</th>\n",
       "      <td>230820</td>\n",
       "      <td>$24.99</td>\n",
       "      <td>May 28, 2013</td>\n",
       "      <td>The Night of the Rabbit Premium Edition</td>\n",
       "      <td>https://store.steampowered.com/sub/28005/?snr=...</td>\n",
       "    </tr>\n",
       "  </tbody>\n",
       "</table>\n",
       "</div>"
      ],
      "text/plain": [
       "       appid   price  release_date                                    title  \\\n",
       "4611  230820          May 28, 2013                  The Night of the Rabbit   \n",
       "4612  230820  $24.99  May 28, 2013  The Night of the Rabbit Premium Edition   \n",
       "\n",
       "                                                    url  \n",
       "4611  https://store.steampowered.com/app/230820/The_...  \n",
       "4612  https://store.steampowered.com/sub/28005/?snr=...  "
      ]
     },
     "execution_count": 38,
     "metadata": {},
     "output_type": "execute_result"
    }
   ],
   "source": [
    "data.loc[data['appid'] == '230820']"
   ]
  },
  {
   "cell_type": "code",
   "execution_count": 39,
   "metadata": {},
   "outputs": [
    {
     "data": {
      "text/html": [
       "<div>\n",
       "<style scoped>\n",
       "    .dataframe tbody tr th:only-of-type {\n",
       "        vertical-align: middle;\n",
       "    }\n",
       "\n",
       "    .dataframe tbody tr th {\n",
       "        vertical-align: top;\n",
       "    }\n",
       "\n",
       "    .dataframe thead th {\n",
       "        text-align: right;\n",
       "    }\n",
       "</style>\n",
       "<table border=\"1\" class=\"dataframe\">\n",
       "  <thead>\n",
       "    <tr style=\"text-align: right;\">\n",
       "      <th></th>\n",
       "      <th>appid</th>\n",
       "      <th>price</th>\n",
       "      <th>release_date</th>\n",
       "      <th>title</th>\n",
       "      <th>url</th>\n",
       "    </tr>\n",
       "  </thead>\n",
       "  <tbody>\n",
       "    <tr>\n",
       "      <th>12658</th>\n",
       "      <td>430280</td>\n",
       "      <td>$4.99</td>\n",
       "      <td>Dec 21, 2015</td>\n",
       "      <td>Nature Defenders</td>\n",
       "      <td>https://store.steampowered.com/app/430280/Natu...</td>\n",
       "    </tr>\n",
       "    <tr>\n",
       "      <th>12707</th>\n",
       "      <td>430280</td>\n",
       "      <td>$4.99</td>\n",
       "      <td>Dec 21, 2015</td>\n",
       "      <td>Nature Defenders</td>\n",
       "      <td>https://store.steampowered.com/app/430280/Natu...</td>\n",
       "    </tr>\n",
       "  </tbody>\n",
       "</table>\n",
       "</div>"
      ],
      "text/plain": [
       "        appid  price  release_date             title  \\\n",
       "12658  430280  $4.99  Dec 21, 2015  Nature Defenders   \n",
       "12707  430280  $4.99  Dec 21, 2015  Nature Defenders   \n",
       "\n",
       "                                                     url  \n",
       "12658  https://store.steampowered.com/app/430280/Natu...  \n",
       "12707  https://store.steampowered.com/app/430280/Natu...  "
      ]
     },
     "execution_count": 39,
     "metadata": {},
     "output_type": "execute_result"
    }
   ],
   "source": [
    "data.loc[data['appid'] == '430280']"
   ]
  },
  {
   "cell_type": "code",
   "execution_count": 40,
   "metadata": {},
   "outputs": [
    {
     "data": {
      "text/html": [
       "<div>\n",
       "<style scoped>\n",
       "    .dataframe tbody tr th:only-of-type {\n",
       "        vertical-align: middle;\n",
       "    }\n",
       "\n",
       "    .dataframe tbody tr th {\n",
       "        vertical-align: top;\n",
       "    }\n",
       "\n",
       "    .dataframe thead th {\n",
       "        text-align: right;\n",
       "    }\n",
       "</style>\n",
       "<table border=\"1\" class=\"dataframe\">\n",
       "  <thead>\n",
       "    <tr style=\"text-align: right;\">\n",
       "      <th></th>\n",
       "      <th>appid</th>\n",
       "      <th>price</th>\n",
       "      <th>release_date</th>\n",
       "      <th>title</th>\n",
       "      <th>url</th>\n",
       "    </tr>\n",
       "  </thead>\n",
       "  <tbody>\n",
       "    <tr>\n",
       "      <th>12727</th>\n",
       "      <td>1155470</td>\n",
       "      <td>Free</td>\n",
       "      <td>Oct 7, 2019</td>\n",
       "      <td>Mythic Ocean: Prologue</td>\n",
       "      <td>https://store.steampowered.com/app/1155470/Myt...</td>\n",
       "    </tr>\n",
       "    <tr>\n",
       "      <th>12782</th>\n",
       "      <td>1155470</td>\n",
       "      <td>Free</td>\n",
       "      <td>Oct 7, 2019</td>\n",
       "      <td>Mythic Ocean: Prologue</td>\n",
       "      <td>https://store.steampowered.com/app/1155470/Myt...</td>\n",
       "    </tr>\n",
       "  </tbody>\n",
       "</table>\n",
       "</div>"
      ],
      "text/plain": [
       "         appid price release_date                   title  \\\n",
       "12727  1155470  Free  Oct 7, 2019  Mythic Ocean: Prologue   \n",
       "12782  1155470  Free  Oct 7, 2019  Mythic Ocean: Prologue   \n",
       "\n",
       "                                                     url  \n",
       "12727  https://store.steampowered.com/app/1155470/Myt...  \n",
       "12782  https://store.steampowered.com/app/1155470/Myt...  "
      ]
     },
     "execution_count": 40,
     "metadata": {},
     "output_type": "execute_result"
    }
   ],
   "source": [
    "data.loc[data['appid'] == '1155470']"
   ]
  },
  {
   "cell_type": "code",
   "execution_count": 41,
   "metadata": {},
   "outputs": [
    {
     "data": {
      "text/html": [
       "<div>\n",
       "<style scoped>\n",
       "    .dataframe tbody tr th:only-of-type {\n",
       "        vertical-align: middle;\n",
       "    }\n",
       "\n",
       "    .dataframe tbody tr th {\n",
       "        vertical-align: top;\n",
       "    }\n",
       "\n",
       "    .dataframe thead th {\n",
       "        text-align: right;\n",
       "    }\n",
       "</style>\n",
       "<table border=\"1\" class=\"dataframe\">\n",
       "  <thead>\n",
       "    <tr style=\"text-align: right;\">\n",
       "      <th></th>\n",
       "      <th>appid</th>\n",
       "      <th>price</th>\n",
       "      <th>release_date</th>\n",
       "      <th>title</th>\n",
       "      <th>url</th>\n",
       "    </tr>\n",
       "  </thead>\n",
       "  <tbody>\n",
       "    <tr>\n",
       "      <th>12783</th>\n",
       "      <td>434260</td>\n",
       "      <td>$0.99</td>\n",
       "      <td>Feb 15, 2016</td>\n",
       "      <td>My Name is Mayo</td>\n",
       "      <td>https://store.steampowered.com/app/434260/My_N...</td>\n",
       "    </tr>\n",
       "    <tr>\n",
       "      <th>12833</th>\n",
       "      <td>434260</td>\n",
       "      <td>$0.99</td>\n",
       "      <td>Feb 15, 2016</td>\n",
       "      <td>My Name is Mayo</td>\n",
       "      <td>https://store.steampowered.com/app/434260/My_N...</td>\n",
       "    </tr>\n",
       "  </tbody>\n",
       "</table>\n",
       "</div>"
      ],
      "text/plain": [
       "        appid  price  release_date            title  \\\n",
       "12783  434260  $0.99  Feb 15, 2016  My Name is Mayo   \n",
       "12833  434260  $0.99  Feb 15, 2016  My Name is Mayo   \n",
       "\n",
       "                                                     url  \n",
       "12783  https://store.steampowered.com/app/434260/My_N...  \n",
       "12833  https://store.steampowered.com/app/434260/My_N...  "
      ]
     },
     "execution_count": 41,
     "metadata": {},
     "output_type": "execute_result"
    }
   ],
   "source": [
    "data.loc[data['appid'] == '434260']"
   ]
  },
  {
   "cell_type": "code",
   "execution_count": 43,
   "metadata": {},
   "outputs": [
    {
     "data": {
      "text/html": [
       "<div>\n",
       "<style scoped>\n",
       "    .dataframe tbody tr th:only-of-type {\n",
       "        vertical-align: middle;\n",
       "    }\n",
       "\n",
       "    .dataframe tbody tr th {\n",
       "        vertical-align: top;\n",
       "    }\n",
       "\n",
       "    .dataframe thead th {\n",
       "        text-align: right;\n",
       "    }\n",
       "</style>\n",
       "<table border=\"1\" class=\"dataframe\">\n",
       "  <thead>\n",
       "    <tr style=\"text-align: right;\">\n",
       "      <th></th>\n",
       "      <th>appid</th>\n",
       "      <th>price</th>\n",
       "      <th>release_date</th>\n",
       "      <th>title</th>\n",
       "      <th>url</th>\n",
       "    </tr>\n",
       "  </thead>\n",
       "  <tbody>\n",
       "    <tr>\n",
       "      <th>15933</th>\n",
       "      <td>557260</td>\n",
       "      <td>Free to Play</td>\n",
       "      <td>Jan 16, 2017</td>\n",
       "      <td>iREC</td>\n",
       "      <td>https://store.steampowered.com/app/557260/iREC...</td>\n",
       "    </tr>\n",
       "    <tr>\n",
       "      <th>15982</th>\n",
       "      <td>557260</td>\n",
       "      <td>Free to Play</td>\n",
       "      <td>Jan 16, 2017</td>\n",
       "      <td>iREC</td>\n",
       "      <td>https://store.steampowered.com/app/557260/iREC...</td>\n",
       "    </tr>\n",
       "  </tbody>\n",
       "</table>\n",
       "</div>"
      ],
      "text/plain": [
       "        appid         price  release_date title  \\\n",
       "15933  557260  Free to Play  Jan 16, 2017  iREC   \n",
       "15982  557260  Free to Play  Jan 16, 2017  iREC   \n",
       "\n",
       "                                                     url  \n",
       "15933  https://store.steampowered.com/app/557260/iREC...  \n",
       "15982  https://store.steampowered.com/app/557260/iREC...  "
      ]
     },
     "execution_count": 43,
     "metadata": {},
     "output_type": "execute_result"
    }
   ],
   "source": [
    "data.loc[data['appid'] == '557260']"
   ]
  },
  {
   "cell_type": "markdown",
   "metadata": {},
   "source": [
    "So, it looks like in the first case, both the original and premium versions of the game are given the same AppID - this could be something important to keep in mind for later. However, the remaining four duplicates seem to just have printed twice, so we can go ahead and delete the duplicates for the latter four. We'll keep both the original and premium versions of AppID 230820, at least for now. We can exclude the first duplicated app from our to-delete list by requiring that both the AppID and the price (or any other column, really) be the same:"
   ]
  },
  {
   "cell_type": "code",
   "execution_count": 50,
   "metadata": {},
   "outputs": [],
   "source": [
    "data = data.drop_duplicates(subset=['appid', 'price'])"
   ]
  },
  {
   "cell_type": "code",
   "execution_count": null,
   "metadata": {},
   "outputs": [],
   "source": []
  }
 ],
 "metadata": {
  "kernelspec": {
   "display_name": "Python 3",
   "language": "python",
   "name": "python3"
  },
  "language_info": {
   "codemirror_mode": {
    "name": "ipython",
    "version": 3
   },
   "file_extension": ".py",
   "mimetype": "text/x-python",
   "name": "python",
   "nbconvert_exporter": "python",
   "pygments_lexer": "ipython3",
   "version": "3.7.1"
  }
 },
 "nbformat": 4,
 "nbformat_minor": 2
}
